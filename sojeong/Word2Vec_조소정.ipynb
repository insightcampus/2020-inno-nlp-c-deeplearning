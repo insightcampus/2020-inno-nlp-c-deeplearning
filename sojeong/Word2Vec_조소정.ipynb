{
  "nbformat": 4,
  "nbformat_minor": 0,
  "metadata": {
    "colab": {
      "name": "Word2Vec_조소정",
      "provenance": [],
      "collapsed_sections": [],
      "authorship_tag": "ABX9TyO2owFO2IzlwrRsVN0qb+BE",
      "include_colab_link": true
    },
    "kernelspec": {
      "name": "python3",
      "display_name": "Python 3"
    }
  },
  "cells": [
    {
      "cell_type": "markdown",
      "metadata": {
        "id": "view-in-github",
        "colab_type": "text"
      },
      "source": [
        "<a href=\"https://colab.research.google.com/github/2020-nlp-c/nlp-deeplearning/blob/master/sojeong/Word2Vec_%EC%A1%B0%EC%86%8C%EC%A0%95.ipynb\" target=\"_parent\"><img src=\"https://colab.research.google.com/assets/colab-badge.svg\" alt=\"Open In Colab\"/></a>"
      ]
    },
    {
      "cell_type": "markdown",
      "metadata": {
        "id": "QBekUIqVgj7y",
        "colab_type": "text"
      },
      "source": [
        "#Word2Vec - CBow"
      ]
    },
    {
      "cell_type": "code",
      "metadata": {
        "id": "zS5__ZvlqQta",
        "colab_type": "code",
        "colab": {}
      },
      "source": [
        "from collections import defaultdict\n",
        "import numpy as np\n",
        "import matplotlib.pyplot as plt\n",
        "import numpy as np\n",
        "from numpy import dot\n",
        "from numpy.linalg import norm\n",
        "import matplotlib.pyplot as plt\n",
        "import seaborn as sns\n",
        "import pandas as pd"
      ],
      "execution_count": 14,
      "outputs": []
    },
    {
      "cell_type": "markdown",
      "metadata": {
        "id": "SDj7IiKcgwpR",
        "colab_type": "text"
      },
      "source": [
        "### 원핫인코딩"
      ]
    },
    {
      "cell_type": "code",
      "metadata": {
        "id": "xauYN6X6p6bt",
        "colab_type": "code",
        "colab": {
          "base_uri": "https://localhost:8080/",
          "height": 139
        },
        "outputId": "46a1e0a1-08ed-4a9c-f82c-ee816cdab724"
      },
      "source": [
        "doc = \"you will never know until you try\"\n",
        "\n",
        "doc_tokens = doc.split(\" \")\n",
        "tokens = np.unique(doc_tokens)\n",
        "\n",
        "def one_hot_encode(doc_tokens):\n",
        "    # 고유 단어와 인덱스를 매칭시켜주는 사전 생성\n",
        "    word2id_dic = defaultdict(lambda: len(word2id_dic))\n",
        "\n",
        "    # {단어 : 인덱스} 사전 구축\n",
        "    for word in doc_tokens:\n",
        "        word2id_dic[word]\n",
        "\n",
        "    n_unique_words = len(word2id_dic) # 고유한 단어의 갯수\n",
        "    one_hot_vectors = np.zeros((len(doc_tokens), n_unique_words)) # 원핫-벡터를 만들기 위해 비어있는 벡터 생성\n",
        "\n",
        "    for i, word in enumerate(doc_tokens):\n",
        "        index = word2id_dic[word] # 해당 단어의 고유 인덱스\n",
        "        one_hot_vectors[i, index] = 1 # 해당 단어의 고유 인덱스에만 1을 더해줌\n",
        "\n",
        "    return one_hot_vectors\n",
        "\n",
        "one_hot_vectors = one_hot_encode(doc_tokens)\n",
        "one_hot_vectors"
      ],
      "execution_count": 15,
      "outputs": [
        {
          "output_type": "execute_result",
          "data": {
            "text/plain": [
              "array([[1., 0., 0., 0., 0., 0.],\n",
              "       [0., 1., 0., 0., 0., 0.],\n",
              "       [0., 0., 1., 0., 0., 0.],\n",
              "       [0., 0., 0., 1., 0., 0.],\n",
              "       [0., 0., 0., 0., 1., 0.],\n",
              "       [1., 0., 0., 0., 0., 0.],\n",
              "       [0., 0., 0., 0., 0., 1.]])"
            ]
          },
          "metadata": {
            "tags": []
          },
          "execution_count": 15
        }
      ]
    },
    {
      "cell_type": "markdown",
      "metadata": {
        "id": "wZZ_UDBOhPHZ",
        "colab_type": "text"
      },
      "source": [
        "### 학습"
      ]
    },
    {
      "cell_type": "code",
      "metadata": {
        "id": "HbZgbon8W7b_",
        "colab_type": "code",
        "colab": {}
      },
      "source": [
        "num_epoch = 10000\n",
        "Window = 2\n",
        "H = 4\n",
        "alpha = 0.03\n",
        "loss_epoch = []\n",
        "\n",
        "# Weight\n",
        "W1 = np.random.rand(len(tokens), H)\n",
        "W2 = np.random.rand(H, len(tokens))\n",
        "\n",
        "# 소프트맥스 함수\n",
        "def softmax(a) :\n",
        "    exp_a = np.exp(a)\n",
        "    sum_exp_a = np.sum(exp_a)\n",
        "    y = exp_a / sum_exp_a\n",
        "\n",
        "    return y\n",
        "\n",
        "for epoch in range(num_epoch):\n",
        "    loss = []\n",
        "    for i, word in enumerate(doc_tokens):\n",
        "        input_vec = []\n",
        "        for j in range(1, Window+1):\n",
        "            if i-j >= 0:\n",
        "                input_vec.append(one_hot_vectors[i-j])\n",
        "            try : input_vec.append(one_hot_vectors[i+j])\n",
        "            except : pass\n",
        "\n",
        "        Hidden = []\n",
        "        for j in range(len(input_vec)):\n",
        "            Hidden.append(np.dot(input_vec[j], W1))\n",
        "        Hidden = np.sum(Hidden, axis=0) / len(input_vec)\n",
        "\n",
        "        Predict = softmax(np.dot(Hidden, W2))\n",
        "\n",
        "        for a in one_hot_vectors:\n",
        "            L = -np.dot(a, np.log(Predict).reshape(len(Predict), 1))\n",
        "            loss.extend(L)\n",
        "\n",
        "        for i in one_hot_vectors:\n",
        "            gradient_W2 = np.dot(Hidden.reshape(len(Hidden), 1), (Predict-i).reshape(1, len(Predict)))\n",
        "            gradient_W1 = np.dot(input_vec[j].reshape(len(input_vec[j]), 1), np.dot(W2, (Predict-i)).reshape(1, len(W2)))\n",
        "\n",
        "        W2 -= alpha * gradient_W2\n",
        "        W1 -= alpha * gradient_W1\n",
        "\n",
        "    loss_epoch.append(np.sum(L))"
      ],
      "execution_count": 16,
      "outputs": []
    },
    {
      "cell_type": "markdown",
      "metadata": {
        "id": "FkvhZuV7hSlm",
        "colab_type": "text"
      },
      "source": [
        "### Loss 시각화"
      ]
    },
    {
      "cell_type": "code",
      "metadata": {
        "id": "YJkSOTrvSwX3",
        "colab_type": "code",
        "colab": {
          "base_uri": "https://localhost:8080/",
          "height": 406
        },
        "outputId": "471a7f12-b4fd-4370-f2fc-10de9149d3d7"
      },
      "source": [
        "plt.plot(np.arange(num_epoch), loss_epoch)\n",
        "plt.title(\"Loss of CBoW\", size=15)\n",
        "plt.xlabel(\"epoch\")\n",
        "plt.ylabel(\"Loss\")\n",
        "plt.show()"
      ],
      "execution_count": 17,
      "outputs": [
        {
          "output_type": "display_data",
          "data": {
            "image/png": "[encoded data removed]",
            "text/plain": [
              "<Figure size 576x432 with 1 Axes>"
            ]
          },
          "metadata": {
            "tags": [],
            "needs_background": "light"
          }
        }
      ]
    },
    {
      "cell_type": "markdown",
      "metadata": {
        "id": "u-zsreiihd_A",
        "colab_type": "text"
      },
      "source": [
        "### W1 벡터간 유사도 측정"
      ]
    },
    {
      "cell_type": "code",
      "metadata": {
        "id": "tWrvI9lthXEJ",
        "colab_type": "code",
        "colab": {
          "base_uri": "https://localhost:8080/",
          "height": 226
        },
        "outputId": "2795d38a-002e-429b-fe8d-fd5d670e83a3"
      },
      "source": [
        "pd.DataFrame(W1, index=tokens)"
      ],
      "execution_count": 22,
      "outputs": [
        {
          "output_type": "execute_result",
          "data": {
            "text/html": [
              "<div>\n",
              "<style scoped>\n",
              "    .dataframe tbody tr th:only-of-type {\n",
              "        vertical-align: middle;\n",
              "    }\n",
              "\n",
              "    .dataframe tbody tr th {\n",
              "        vertical-align: top;\n",
              "    }\n",
              "\n",
              "    .dataframe thead th {\n",
              "        text-align: right;\n",
              "    }\n",
              "</style>\n",
              "<table border=\"1\" class=\"dataframe\">\n",
              "  <thead>\n",
              "    <tr style=\"text-align: right;\">\n",
              "      <th></th>\n",
              "      <th>0</th>\n",
              "      <th>1</th>\n",
              "      <th>2</th>\n",
              "      <th>3</th>\n",
              "    </tr>\n",
              "  </thead>\n",
              "  <tbody>\n",
              "    <tr>\n",
              "      <th>know</th>\n",
              "      <td>1.278283</td>\n",
              "      <td>0.645312</td>\n",
              "      <td>1.465047</td>\n",
              "      <td>0.649609</td>\n",
              "    </tr>\n",
              "    <tr>\n",
              "      <th>never</th>\n",
              "      <td>0.496458</td>\n",
              "      <td>0.562817</td>\n",
              "      <td>0.391225</td>\n",
              "      <td>0.046761</td>\n",
              "    </tr>\n",
              "    <tr>\n",
              "      <th>try</th>\n",
              "      <td>2.412251</td>\n",
              "      <td>1.258120</td>\n",
              "      <td>1.564445</td>\n",
              "      <td>0.589443</td>\n",
              "    </tr>\n",
              "    <tr>\n",
              "      <th>until</th>\n",
              "      <td>1.429174</td>\n",
              "      <td>1.105640</td>\n",
              "      <td>1.108145</td>\n",
              "      <td>0.101146</td>\n",
              "    </tr>\n",
              "    <tr>\n",
              "      <th>will</th>\n",
              "      <td>1.928989</td>\n",
              "      <td>1.073007</td>\n",
              "      <td>1.980010</td>\n",
              "      <td>0.113780</td>\n",
              "    </tr>\n",
              "    <tr>\n",
              "      <th>you</th>\n",
              "      <td>1.161150</td>\n",
              "      <td>1.000643</td>\n",
              "      <td>1.272965</td>\n",
              "      <td>0.184532</td>\n",
              "    </tr>\n",
              "  </tbody>\n",
              "</table>\n",
              "</div>"
            ],
            "text/plain": [
              "              0         1         2         3\n",
              "know   1.278283  0.645312  1.465047  0.649609\n",
              "never  0.496458  0.562817  0.391225  0.046761\n",
              "try    2.412251  1.258120  1.564445  0.589443\n",
              "until  1.429174  1.105640  1.108145  0.101146\n",
              "will   1.928989  1.073007  1.980010  0.113780\n",
              "you    1.161150  1.000643  1.272965  0.184532"
            ]
          },
          "metadata": {
            "tags": []
          },
          "execution_count": 22
        }
      ]
    },
    {
      "cell_type": "code",
      "metadata": {
        "id": "2B4pNJYdiNbY",
        "colab_type": "code",
        "colab": {}
      },
      "source": [
        "simmilarity_minus = {} \n",
        "for i in range(len(tokens)):\n",
        "    tmp = []\n",
        "    for j in range(len(tokens)):\n",
        "        simmilarity = np.dot(W1[i], W1[j]) / np.linalg.norm(W1[i]) * np.linalg.norm(W1[j])\n",
        "        tmp.append(-simmilarity)\n",
        "    simmilarity_minus[tokens[i]] = tmp\n",
        "\n",
        "N_simmilar = 3\n",
        "simmilarity_df = {}\n",
        "for i, t in enumerate(tokens):\n",
        "    tmp = np.argsort(simmilarity_minus[t])\n",
        "    simmilarity_df[t] = tokens[np.delete(tmp, np.where(tmp == i))][:N_simmilar]"
      ],
      "execution_count": 27,
      "outputs": []
    },
    {
      "cell_type": "code",
      "metadata": {
        "id": "j9JFv6VAjp8v",
        "colab_type": "code",
        "colab": {
          "base_uri": "https://localhost:8080/",
          "height": 137
        },
        "outputId": "60e183c2-72c9-405e-cff6-933e29c70f00"
      },
      "source": [
        "pd.DataFrame(simmilarity_df)"
      ],
      "execution_count": 28,
      "outputs": [
        {
          "output_type": "execute_result",
          "data": {
            "text/html": [
              "<div>\n",
              "<style scoped>\n",
              "    .dataframe tbody tr th:only-of-type {\n",
              "        vertical-align: middle;\n",
              "    }\n",
              "\n",
              "    .dataframe tbody tr th {\n",
              "        vertical-align: top;\n",
              "    }\n",
              "\n",
              "    .dataframe thead th {\n",
              "        text-align: right;\n",
              "    }\n",
              "</style>\n",
              "<table border=\"1\" class=\"dataframe\">\n",
              "  <thead>\n",
              "    <tr style=\"text-align: right;\">\n",
              "      <th></th>\n",
              "      <th>know</th>\n",
              "      <th>never</th>\n",
              "      <th>try</th>\n",
              "      <th>until</th>\n",
              "      <th>will</th>\n",
              "      <th>you</th>\n",
              "    </tr>\n",
              "  </thead>\n",
              "  <tbody>\n",
              "    <tr>\n",
              "      <th>0</th>\n",
              "      <td>try</td>\n",
              "      <td>try</td>\n",
              "      <td>will</td>\n",
              "      <td>try</td>\n",
              "      <td>try</td>\n",
              "      <td>try</td>\n",
              "    </tr>\n",
              "    <tr>\n",
              "      <th>1</th>\n",
              "      <td>will</td>\n",
              "      <td>will</td>\n",
              "      <td>know</td>\n",
              "      <td>will</td>\n",
              "      <td>know</td>\n",
              "      <td>will</td>\n",
              "    </tr>\n",
              "    <tr>\n",
              "      <th>2</th>\n",
              "      <td>until</td>\n",
              "      <td>until</td>\n",
              "      <td>until</td>\n",
              "      <td>know</td>\n",
              "      <td>until</td>\n",
              "      <td>until</td>\n",
              "    </tr>\n",
              "  </tbody>\n",
              "</table>\n",
              "</div>"
            ],
            "text/plain": [
              "    know  never    try until   will    you\n",
              "0    try    try   will   try    try    try\n",
              "1   will   will   know  will   know   will\n",
              "2  until  until  until  know  until  until"
            ]
          },
          "metadata": {
            "tags": []
          },
          "execution_count": 28
        }
      ]
    },
    {
      "cell_type": "code",
      "metadata": {
        "id": "Kmfq-53Xeg_N",
        "colab_type": "code",
        "colab": {}
      },
      "source": [
        "def calc_similarity_matrix(vectors) :\n",
        "  def cosine_similarity(a, b) : \n",
        "    return dot(a, b)/(norm(a)*norm(b))\n",
        "\n",
        "  n_word = len(vectors)\n",
        "  similarity_matrix = np.zeros((n_word, n_word))\n",
        "\n",
        "  for i in range(n_word) :\n",
        "    for j in range(i, n_word) :\n",
        "      similarity_matrix[j, i] = cosine_similarity(vectors[i], vectors[j]).round(4)  \n",
        "\n",
        "  return similarity_matrix"
      ],
      "execution_count": 18,
      "outputs": []
    },
    {
      "cell_type": "code",
      "metadata": {
        "id": "2ybeD7vges5N",
        "colab_type": "code",
        "colab": {
          "base_uri": "https://localhost:8080/",
          "height": 121
        },
        "outputId": "9da7fc3d-1514-43ef-aeef-8acad01fc659"
      },
      "source": [
        "similarity_matrix = calc_similarity_matrix(W1)\n",
        "similarity_matrix"
      ],
      "execution_count": 19,
      "outputs": [
        {
          "output_type": "execute_result",
          "data": {
            "text/plain": [
              "array([[1.    , 0.    , 0.    , 0.    , 0.    , 0.    ],\n",
              "       [0.8791, 1.    , 0.    , 0.    , 0.    , 0.    ],\n",
              "       [0.9574, 0.9404, 1.    , 0.    , 0.    , 0.    ],\n",
              "       [0.9274, 0.9841, 0.9787, 1.    , 0.    , 0.    ],\n",
              "       [0.9617, 0.9309, 0.9675, 0.9765, 1.    , 0.    ],\n",
              "       [0.9568, 0.9706, 0.9641, 0.988 , 0.986 , 1.    ]])"
            ]
          },
          "metadata": {
            "tags": []
          },
          "execution_count": 19
        }
      ]
    },
    {
      "cell_type": "code",
      "metadata": {
        "id": "ZBC0TPR4ehCJ",
        "colab_type": "code",
        "colab": {}
      },
      "source": [
        "def visualize_similarity(similarity_matrix) :\n",
        "  uniform_data = similarity_matrix\n",
        "  mask = np.triu(np.ones_like(similarity_matrix, dtype=np.bool))\n",
        "  plt.rcParams['figure.figsize'] = [8, 6]\n",
        "  ax = sns.heatmap(uniform_data, mask=mask, #xticklabels=features, yticklabels=features, \n",
        "                  annot=True, fmt=\".2f\",annot_kws={'size':8}, cmap='coolwarm')"
      ],
      "execution_count": 20,
      "outputs": []
    },
    {
      "cell_type": "code",
      "metadata": {
        "id": "RVIrzvF-fAfv",
        "colab_type": "code",
        "colab": {
          "base_uri": "https://localhost:8080/",
          "height": 374
        },
        "outputId": "97ef873c-0e12-46dc-b0b1-a0dbc75419c8"
      },
      "source": [
        "visualize_similarity(similarity_matrix)"
      ],
      "execution_count": 21,
      "outputs": [
        {
          "output_type": "display_data",
          "data": {
            "image/png": "[encoded data removed]",
            "text/plain": [
              "<Figure size 576x432 with 2 Axes>"
            ]
          },
          "metadata": {
            "tags": [],
            "needs_background": "light"
          }
        }
      ]
    }
  ]
}