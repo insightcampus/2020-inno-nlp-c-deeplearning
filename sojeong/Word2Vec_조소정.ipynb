{
  "nbformat": 4,
  "nbformat_minor": 0,
  "metadata": {
    "colab": {
      "name": "Word2Vec_조소정",
      "provenance": [],
      "authorship_tag": "ABX9TyPE+A9dAgDlFZLXXfXTlnkc",
      "include_colab_link": true
    },
    "kernelspec": {
      "name": "python3",
      "display_name": "Python 3"
    }
  },
  "cells": [
    {
      "cell_type": "markdown",
      "metadata": {
        "id": "view-in-github",
        "colab_type": "text"
      },
      "source": [
        "<a href=\"https://colab.research.google.com/github/2020-nlp-c/nlp-deeplearning/blob/master/sojeong/Word2Vec_%EC%A1%B0%EC%86%8C%EC%A0%95.ipynb\" target=\"_parent\"><img src=\"https://colab.research.google.com/assets/colab-badge.svg\" alt=\"Open In Colab\"/></a>"
      ]
    },
    {
      "cell_type": "code",
      "metadata": {
        "id": "zS5__ZvlqQta",
        "colab_type": "code",
        "colab": {}
      },
      "source": [
        "from collections import defaultdict\n",
        "import numpy as np\n",
        "import matplotlib.pyplot as plt"
      ],
      "execution_count": 1,
      "outputs": []
    },
    {
      "cell_type": "code",
      "metadata": {
        "id": "xauYN6X6p6bt",
        "colab_type": "code",
        "colab": {}
      },
      "source": [
        "doc = \"you will never know until you try\""
      ],
      "execution_count": 2,
      "outputs": []
    },
    {
      "cell_type": "code",
      "metadata": {
        "id": "4oHJMSyXrkqV",
        "colab_type": "code",
        "colab": {
          "base_uri": "https://localhost:8080/",
          "height": 34
        },
        "outputId": "2e360953-0625-4b31-af2f-9ad6cfa2d5f0"
      },
      "source": [
        "doc_tokens = doc.split(\" \")\n",
        "doc_tokens"
      ],
      "execution_count": 3,
      "outputs": [
        {
          "output_type": "execute_result",
          "data": {
            "text/plain": [
              "['you', 'will', 'never', 'know', 'until', 'you', 'try']"
            ]
          },
          "metadata": {
            "tags": []
          },
          "execution_count": 3
        }
      ]
    },
    {
      "cell_type": "code",
      "metadata": {
        "id": "4STeqyX0IvdZ",
        "colab_type": "code",
        "colab": {
          "base_uri": "https://localhost:8080/",
          "height": 34
        },
        "outputId": "a902b737-04f1-4a06-f623-d9c31aaf56a4"
      },
      "source": [
        "tokens = np.unique(doc_tokens)\n",
        "tokens"
      ],
      "execution_count": 4,
      "outputs": [
        {
          "output_type": "execute_result",
          "data": {
            "text/plain": [
              "array(['know', 'never', 'try', 'until', 'will', 'you'], dtype='<U5')"
            ]
          },
          "metadata": {
            "tags": []
          },
          "execution_count": 4
        }
      ]
    },
    {
      "cell_type": "code",
      "metadata": {
        "id": "j1nEa0ouJHLL",
        "colab_type": "code",
        "colab": {
          "base_uri": "https://localhost:8080/",
          "height": 34
        },
        "outputId": "994d0632-647c-4ae1-8524-9a9f6b8fb9b5"
      },
      "source": [
        "len(tokens)"
      ],
      "execution_count": 5,
      "outputs": [
        {
          "output_type": "execute_result",
          "data": {
            "text/plain": [
              "6"
            ]
          },
          "metadata": {
            "tags": []
          },
          "execution_count": 5
        }
      ]
    },
    {
      "cell_type": "code",
      "metadata": {
        "id": "GW0jur28qQx_",
        "colab_type": "code",
        "colab": {}
      },
      "source": [
        "def one_hot_encode(doc_tokens):\n",
        "    # 고유 단어와 인덱스를 매칭시켜주는 사전 생성\n",
        "    word2id_dic = defaultdict(lambda: len(word2id_dic))\n",
        "\n",
        "    # {단어 : 인덱스} 사전 구축\n",
        "    for word in doc_tokens:\n",
        "        word2id_dic[word]\n",
        "\n",
        "    n_unique_words = len(word2id_dic) # 고유한 단어의 갯수\n",
        "    one_hot_vectors = np.zeros((len(doc_tokens), n_unique_words)) # 원핫-벡터를 만들기 위해 비어있는 벡터 생성\n",
        "\n",
        "    for i, word in enumerate(doc_tokens):\n",
        "        index = word2id_dic[word] # 해당 단어의 고유 인덱스\n",
        "        one_hot_vectors[i, index] = 1 # 해당 단어의 고유 인덱스에만 1을 더해줌\n",
        "\n",
        "    return one_hot_vectors"
      ],
      "execution_count": 6,
      "outputs": []
    },
    {
      "cell_type": "code",
      "metadata": {
        "id": "lNyhm62EqQ24",
        "colab_type": "code",
        "colab": {
          "base_uri": "https://localhost:8080/",
          "height": 140
        },
        "outputId": "0c819bd5-f483-409d-ffd4-e8c603ac0693"
      },
      "source": [
        "one_hot_vectors = one_hot_encode(doc_tokens)\n",
        "one_hot_vectors"
      ],
      "execution_count": 7,
      "outputs": [
        {
          "output_type": "execute_result",
          "data": {
            "text/plain": [
              "array([[1., 0., 0., 0., 0., 0.],\n",
              "       [0., 1., 0., 0., 0., 0.],\n",
              "       [0., 0., 1., 0., 0., 0.],\n",
              "       [0., 0., 0., 1., 0., 0.],\n",
              "       [0., 0., 0., 0., 1., 0.],\n",
              "       [1., 0., 0., 0., 0., 0.],\n",
              "       [0., 0., 0., 0., 0., 1.]])"
            ]
          },
          "metadata": {
            "tags": []
          },
          "execution_count": 7
        }
      ]
    },
    {
      "cell_type": "code",
      "metadata": {
        "id": "HbZgbon8W7b_",
        "colab_type": "code",
        "colab": {}
      },
      "source": [
        "num_epoch = 10000\n",
        "Window = 2\n",
        "H = 4\n",
        "alpha = 0.03\n",
        "loss_epoch = []\n",
        "\n",
        "# Weight\n",
        "W1 = np.random.rand(len(tokens), H)\n",
        "W2 = np.random.rand(H, len(tokens))\n",
        "\n",
        "# 소프트맥스 함수\n",
        "def softmax(a) :\n",
        "    exp_a = np.exp(a)\n",
        "    sum_exp_a = np.sum(exp_a)\n",
        "    y = exp_a / sum_exp_a\n",
        "\n",
        "    return y\n",
        "\n",
        "for epoch in range(num_epoch):\n",
        "    loss = []\n",
        "    for i, word in enumerate(doc_tokens):\n",
        "        input_vec = []\n",
        "        for j in range(1, Window+1):\n",
        "            if i-j >= 0:\n",
        "                input_vec.append(one_hot_vectors[i-j])\n",
        "            try : input_vec.append(one_hot_vectors[i+j])\n",
        "            except : pass\n",
        "\n",
        "        Hidden = []\n",
        "        for j in range(len(input_vec)):\n",
        "            Hidden.append(np.dot(input_vec[j], W1))\n",
        "        Hidden = np.sum(Hidden, axis=0) / len(input_vec)\n",
        "\n",
        "        Predict = softmax(np.dot(Hidden, W2))\n",
        "\n",
        "        for a in one_hot_vectors:\n",
        "            L = -np.dot(a, np.log(Predict).reshape(len(Predict), 1))\n",
        "            loss.extend(L)\n",
        "\n",
        "        for i in one_hot_vectors:\n",
        "            gradient_W2 = np.dot(Hidden.reshape(len(Hidden), 1), (Predict-i).reshape(1, len(Predict)))\n",
        "            gradient_W1 = np.dot(input_vec[j].reshape(len(input_vec[j]), 1), np.dot(W2, (Predict-i)).reshape(1, len(W2)))\n",
        "\n",
        "        W2 -= alpha * gradient_W2\n",
        "        W1 -= alpha * gradient_W1\n",
        "\n",
        "    loss_epoch.append(np.sum(L))"
      ],
      "execution_count": 8,
      "outputs": []
    },
    {
      "cell_type": "code",
      "metadata": {
        "id": "YJkSOTrvSwX3",
        "colab_type": "code",
        "colab": {
          "base_uri": "https://localhost:8080/",
          "height": 297
        },
        "outputId": "ded45a58-6d2a-426d-c84b-d560edaea281"
      },
      "source": [
        "plt.plot(np.arange(num_epoch), loss_epoch)\n",
        "plt.title(\"Loss of CBoW\", size=15)\n",
        "plt.xlabel(\"epoch\")\n",
        "plt.ylabel(\"Loss\")\n",
        "plt.show()"
      ],
      "execution_count": 9,
      "outputs": [
        {
          "output_type": "display_data",
          "data": {
            "image/png": "[encoded data removed]",
            "text/plain": [
              "<Figure size 432x288 with 1 Axes>"
            ]
          },
          "metadata": {
            "tags": [],
            "needs_background": "light"
          }
        }
      ]
    },
    {
      "cell_type": "code",
      "metadata": {
        "id": "K5nnQUzO0N0m",
        "colab_type": "code",
        "colab": {}
      },
      "source": [
        ""
      ],
      "execution_count": null,
      "outputs": []
    },
    {
      "cell_type": "code",
      "metadata": {
        "id": "n4b6_wtXzD7U",
        "colab_type": "code",
        "colab": {}
      },
      "source": [
        ""
      ],
      "execution_count": null,
      "outputs": []
    },
    {
      "cell_type": "code",
      "metadata": {
        "id": "MQ-GX8AByvOX",
        "colab_type": "code",
        "colab": {}
      },
      "source": [
        ""
      ],
      "execution_count": null,
      "outputs": []
    },
    {
      "cell_type": "code",
      "metadata": {
        "id": "2QsPSjDlu_ck",
        "colab_type": "code",
        "colab": {}
      },
      "source": [
        ""
      ],
      "execution_count": null,
      "outputs": []
    },
    {
      "cell_type": "code",
      "metadata": {
        "id": "cecUOz9nYn6E",
        "colab_type": "code",
        "colab": {}
      },
      "source": [
        ""
      ],
      "execution_count": null,
      "outputs": []
    },
    {
      "cell_type": "code",
      "metadata": {
        "id": "fSWUifc2qQ1G",
        "colab_type": "code",
        "colab": {}
      },
      "source": [
        ""
      ],
      "execution_count": null,
      "outputs": []
    },
    {
      "cell_type": "code",
      "metadata": {
        "id": "aDUWrCl9qQwQ",
        "colab_type": "code",
        "colab": {}
      },
      "source": [
        ""
      ],
      "execution_count": null,
      "outputs": []
    }
  ]
}