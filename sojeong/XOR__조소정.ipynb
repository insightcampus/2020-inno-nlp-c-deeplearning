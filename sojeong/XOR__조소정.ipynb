{
  "nbformat": 4,
  "nbformat_minor": 0,
  "metadata": {
    "colab": {
      "name": "XOR _조소정",
      "provenance": [],
      "collapsed_sections": [],
      "authorship_tag": "ABX9TyONFQBodqF7ktiHx5gHbDU0",
      "include_colab_link": true
    },
    "kernelspec": {
      "name": "python3",
      "display_name": "Python 3"
    }
  },
  "cells": [
    {
      "cell_type": "markdown",
      "metadata": {
        "id": "view-in-github",
        "colab_type": "text"
      },
      "source": [
        "<a href=\"https://colab.research.google.com/github/2020-nlp-c/nlp-deeplearning/blob/master/sojeong/XOR__%EC%A1%B0%EC%86%8C%EC%A0%95.ipynb\" target=\"_parent\"><img src=\"https://colab.research.google.com/assets/colab-badge.svg\" alt=\"Open In Colab\"/></a>"
      ]
    },
    {
      "cell_type": "code",
      "metadata": {
        "id": "9j-858zEUHNb",
        "colab_type": "code",
        "colab": {}
      },
      "source": [
        "import numpy as np"
      ],
      "execution_count": 1,
      "outputs": []
    },
    {
      "cell_type": "code",
      "metadata": {
        "id": "5IMwhWJNUliM",
        "colab_type": "code",
        "colab": {}
      },
      "source": [
        "X = np.array([[0, 0, 1, 1], [0, 1, 0, 1]])\n",
        "Y = np.array([[0, 1, 1, 0]])"
      ],
      "execution_count": 2,
      "outputs": []
    },
    {
      "cell_type": "code",
      "metadata": {
        "id": "x8rvjmJd9dBv",
        "colab_type": "code",
        "colab": {}
      },
      "source": [
        "X_1 = X.shape[1]\n",
        "Y_1 = Y.shape[1]"
      ],
      "execution_count": 3,
      "outputs": []
    },
    {
      "cell_type": "code",
      "metadata": {
        "id": "YuRJ82aSUldh",
        "colab_type": "code",
        "colab": {}
      },
      "source": [
        "W_1=np.random.rand(2, 3)\n",
        "B_1=np.random.rand(3, 1)\n",
        "W_2=np.random.rand(3, 1)\n",
        "B_2=np.random.rand(1, 1)"
      ],
      "execution_count": 4,
      "outputs": []
    },
    {
      "cell_type": "code",
      "metadata": {
        "id": "eTARw9MPY9e3",
        "colab_type": "code",
        "colab": {
          "base_uri": "https://localhost:8080/",
          "height": 70
        },
        "outputId": "8c4fa646-26d4-42a9-a1bd-7522ba40eff6"
      },
      "source": [
        "num_epoch = 10000\n",
        "L_R = 0.03\n",
        "\n",
        "# 시그모이드 함수 선언\n",
        "def sigmoid(a):\n",
        "    b = 1./(1+np.exp(- a))\n",
        "    return b\n",
        "\n",
        "# XX_1=np.column_stack((np.ones(len(X.T)),X.T))\n",
        "\n",
        "for epoch in range(num_epoch):\n",
        "\n",
        "    # 히든 노드\n",
        "    H = np.dot(W_1.T, X) + B_1\n",
        "    H = sigmoid(H)\n",
        "\n",
        "    # output(Y_hat)\n",
        "    H2 = np.dot(W_2.T, H) + B_2\n",
        "    Y_hat = sigmoid(H2)\n",
        "\n",
        "    # 로스 계산\n",
        "    L =  -1 / X_1 * np.sum(Y[0] * np.log(Y_hat) + (1-Y[0]) * np.log(1-Y_hat))\n",
        "\n",
        "    # Back-propagation 히든 레이어\n",
        "    dW2 = np.dot(H, (Y_hat-Y).T)\n",
        "    dB2 = 1. / Y_1 * np.sum(Y_hat-Y, axis=1, keepdims=True)\n",
        "    dH  = np.dot(W_2, Y_hat-Y)\n",
        "\n",
        "    # Back-propagation input layer\n",
        "    dZ1 = dH * H * (1-H)\n",
        "    dW1 = np.dot(X, dZ1.T)\n",
        "    dB1 = 1. / Y_1 * np.sum(dZ1, axis=1, keepdims=True)\n",
        "    \n",
        "    # w\n",
        "    W_2 += -L_R * dW2\n",
        "    B_2 += -L_R * dB2\n",
        "    W_1 += -L_R * dW1\n",
        "    B_1 += -L_R * dB1\n",
        "\n",
        "\n",
        "    pre = []\n",
        "\n",
        "    for i in range(len(Y_hat[0])):\n",
        "        if Y_hat[0][i] > 0.5:\n",
        "            pre.append(1)\n",
        "        else:\n",
        "            pre.append(0)\n",
        "\n",
        "    accuracy=(pre==Y).mean()\n",
        "    \n",
        "    # if (accuracy > 0.8) & (L < 0.06):\n",
        "    #     print('현재 step :', epock+1)\n",
        "    # break\n",
        "\n",
        "    # if accuracy==1.0:\n",
        "    #     break\n",
        "\n",
        "    # if epoch%1000==0:\n",
        "    #     print(f\"epoch : {epoch} loss : {L} accuracy : {accuracy}\")\n",
        "\n",
        "print(\"loss: \", L)\n",
        "print(\"예측: \", pre)\n",
        "print(\"정확도: \", accuracy)"
      ],
      "execution_count": 5,
      "outputs": [
        {
          "output_type": "stream",
          "text": [
            "loss:  0.020409469808190462\n",
            "예측:  [0, 1, 1, 0]\n",
            "정확도:  1.0\n"
          ],
          "name": "stdout"
        }
      ]
    }
  ]
}