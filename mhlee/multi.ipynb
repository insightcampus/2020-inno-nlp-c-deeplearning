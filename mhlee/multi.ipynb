{
 "metadata": {
  "language_info": {
   "codemirror_mode": {
    "name": "ipython",
    "version": 3
   },
   "file_extension": ".py",
   "mimetype": "text/x-python",
   "name": "python",
   "nbconvert_exporter": "python",
   "pygments_lexer": "ipython3",
   "version": "3.7.4-final"
  },
  "orig_nbformat": 2,
  "kernelspec": {
   "name": "python3",
   "display_name": "Python 3"
  }
 },
 "nbformat": 4,
 "nbformat_minor": 2,
 "cells": [
  {
   "cell_type": "code",
   "execution_count": null,
   "metadata": {},
   "outputs": [],
   "source": [
    "import multiprocessing\n",
    "import time\n",
    "\n",
    "#시작시간\n",
    "start_time = time.time()\n",
    "\n",
    "multiprocessing.set_start_method('forkserver')\n",
    "#multiprocessing.set_start_method('spawn')\n",
    "\n",
    "#멀티쓰레드 사용 하는 경우 (20만 카운트)\n",
    "#Pool 사용해서 함수 실행을 병렬\n",
    "def count(name):\n",
    "    for i in range(1,50001):\n",
    "        print(name,\" : \",i)\n",
    "\n",
    "num_list = ['p1', 'p2', 'p3', 'p4']\n",
    "\n",
    "if __name__ == '__main__':\n",
    "    #멀티 쓰레딩 Pool 사용\n",
    "    pool = multiprocessing.Pool(processes=2) # 현재 시스템에서 사용 할 프로세스 개수\n",
    "    pool.map(count, num_list)\n",
    "    pool.close()\n",
    "    pool.join()\n",
    "\n",
    "print(\"--- %s seconds ---\" % (time.time() - start_time))\n"
   ]
  },
  {
   "cell_type": "code",
   "execution_count": null,
   "metadata": {},
   "outputs": [],
   "source": []
  }
 ]
}