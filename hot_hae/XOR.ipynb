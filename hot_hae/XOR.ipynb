{
  "nbformat": 4,
  "nbformat_minor": 0,
  "metadata": {
    "colab": {
      "name": "XOR.ipynb",
      "provenance": [],
      "collapsed_sections": [],
      "authorship_tag": "ABX9TyPXHbjhP8BXnw/qspWptdBL",
      "include_colab_link": true
    },
    "kernelspec": {
      "name": "python3",
      "display_name": "Python 3"
    }
  },
  "cells": [
    {
      "cell_type": "markdown",
      "metadata": {
        "id": "view-in-github",
        "colab_type": "text"
      },
      "source": [
        "<a href=\"https://colab.research.google.com/github/2020-nlp-c/nlp-deeplearning/blob/master/hot_hae/XOR.ipynb\" target=\"_parent\"><img src=\"https://colab.research.google.com/assets/colab-badge.svg\" alt=\"Open In Colab\"/></a>"
      ]
    },
    {
      "cell_type": "code",
      "metadata": {
        "id": "P6Wwy1Q-Hu6G",
        "colab_type": "code",
        "colab": {}
      },
      "source": [
        "\n",
        "class XOR() :\n",
        "    def _init_weights(self, i, h = 2):\n",
        "        pass\n",
        "\n",
        "    def _affine (self, W, X, B):\n",
        "        pass\n",
        "\n",
        "    def _sigmoid (self, o):\n",
        "        pass\n",
        "\n",
        "    def _feedforward(self, X, Y, weights) :\n",
        "        pass\n",
        "\n",
        "    def _loss (self, Y, Y_hat):\n",
        "        pass\n",
        "\n",
        "    def _gradients (self, X, Y, weights, Z1, H, Z2, Y_hat ):    \n",
        "        pass\n",
        "    \n",
        "    def _step_func(self, y) :\n",
        "        pass\n",
        "\n",
        "    def _accuracy(self, Y, Y_hat) :\n",
        "        pass\n",
        "\n",
        "\n",
        "    def optimize (self, X, Y, h = 2, learning_rate = 0.1, epoch = 1000):\n",
        "        pass\n",
        "\n"
      ],
      "execution_count": 2,
      "outputs": []
    },
    {
      "cell_type": "code",
      "metadata": {
        "id": "1rNIokxgJ-lR",
        "colab_type": "code",
        "colab": {}
      },
      "source": [
        "# import\n",
        "import numpy as np\n",
        "import pandas as pd"
      ],
      "execution_count": 7,
      "outputs": []
    },
    {
      "cell_type": "code",
      "metadata": {
        "id": "lcUl5nNxIqOZ",
        "colab_type": "code",
        "colab": {}
      },
      "source": [
        "\n",
        "# xor algorithm\n",
        "class XOR:\n",
        "\n",
        "    def __init__(self):\n",
        "        self.layers = []\n",
        "        self.bias = []\n",
        "\n",
        "        self.middle_cal = []\n",
        "\n",
        "    def layer(self, row, col):\n",
        "        self.layers.append(np.random.rand(row, col))\n",
        "        self.bias.append(np.random.rand(1, col))\n",
        "\n",
        "    # train 함수\n",
        "    def optimize(self, x, y, alpha=0.1, epoch=1):\n",
        "\n",
        "        # 중간과정 저장\n",
        "        self.middle_cal.append(x.tolist())\n",
        "        \n",
        "        # 반복횟수 epoch\n",
        "        for epo in range(epoch):\n",
        "                \n",
        "            # x 데이터 input 을 위한 행렬변형\n",
        "            input_list = list(map(list, zip(*x)))\n",
        "\n",
        "            for layer, bias in zip(self.layers, self.bias):\n",
        "                # first try\n",
        "                _input_list = []\n",
        "\n",
        "                # input [[0, 0], [0, 1], [1, 0], [1, 1]]\n",
        "                for list_data in input_list:\n",
        "                    data = np.asarray(list_data)\n",
        "                    \n",
        "                    hypo = np.dot(data, layer) + bias\n",
        "                    hypo = self._sigmoid(hypo)\n",
        "                    _input_list.append(list(hypo[0]))\n",
        "\n",
        "                # 중간과정 저장(for grdient update)\n",
        "                self.middle_cal.append(np.asarray(_input_list).T.tolist())\n",
        "                input_list = _input_list\n",
        "                \n",
        "            # loss 계산 및 weight update\n",
        "            loss = self._loss(input_list, y)\n",
        "            print(loss)\n",
        "            self._gradient(loss, alpha)\n",
        "    \n",
        "    # predict 함수\n",
        "    def predict(self, X_test):\n",
        "        input_list = list(map(list, zip(*X_test)))\n",
        "\n",
        "        for layer, bias in zip(self.layers, self.bias):\n",
        "            _input_list = []\n",
        "\n",
        "            for list_data in input_list:\n",
        "                data = np.asarray(list_data)\n",
        "                hypo = np.dot(data, layer) + bias\n",
        "                hypo = self._sigmoid(hypo)\n",
        "                _input_list.append(list(hypo[0]))\n",
        "            input_list = _input_list\n",
        "\n",
        "        return input_list\n",
        "\n",
        "    def _sigmoid(self, hypo):\n",
        "        return 1.0/(1+np.exp(-hypo))\n",
        "\n",
        "    def _loss(self, hypo, y):\n",
        "        np_hypo = np.asarray(hypo)\n",
        "        y = y.T\n",
        "        loss = y*np.log(np_hypo) + (1-y)*np.log(1-np_hypo)\n",
        "        return -np.sum(loss)\n",
        "    \n",
        "    def _gradient(self, loss, alpha):\n",
        "        pass"
      ],
      "execution_count": 383,
      "outputs": []
    },
    {
      "cell_type": "code",
      "metadata": {
        "id": "Jei1hACvIqha",
        "colab_type": "code",
        "colab": {}
      },
      "source": [
        "# 데이터 선언\n",
        "X = np.array([[0, 0, 1, 1], [0, 1, 0, 1]])\n",
        "Y = np.array([[0, 1, 1, 0]])"
      ],
      "execution_count": 384,
      "outputs": []
    },
    {
      "cell_type": "code",
      "metadata": {
        "id": "h3sX4zSoIqjk",
        "colab_type": "code",
        "colab": {}
      },
      "source": [
        "xor = XOR()"
      ],
      "execution_count": 385,
      "outputs": []
    },
    {
      "cell_type": "code",
      "metadata": {
        "id": "gLZZxgbwRCYD",
        "colab_type": "code",
        "colab": {}
      },
      "source": [
        "# layer 정의\n",
        "xor.layer(2,2)\n",
        "xor.layer(2,1)"
      ],
      "execution_count": 386,
      "outputs": []
    },
    {
      "cell_type": "code",
      "metadata": {
        "id": "2QDpwC5VRFbx",
        "colab_type": "code",
        "colab": {
          "base_uri": "https://localhost:8080/",
          "height": 70
        },
        "outputId": "d6867c63-79ce-4b2c-d792-3a6dd521825b"
      },
      "source": [
        "xor.layers"
      ],
      "execution_count": 387,
      "outputs": [
        {
          "output_type": "execute_result",
          "data": {
            "text/plain": [
              "[array([[0.46343948, 0.06170099],\n",
              "        [0.99611289, 0.83107922]]), array([[0.83498033],\n",
              "        [0.80171344]])]"
            ]
          },
          "metadata": {
            "tags": []
          },
          "execution_count": 387
        }
      ]
    },
    {
      "cell_type": "code",
      "metadata": {
        "id": "yqbFDuYPKO46",
        "colab_type": "code",
        "colab": {
          "base_uri": "https://localhost:8080/",
          "height": 35
        },
        "outputId": "6d623617-8fba-4a30-ee7a-122346f0a8df"
      },
      "source": [
        "# training\n",
        "xor.optimize(X, Y)"
      ],
      "execution_count": 388,
      "outputs": [
        {
          "output_type": "stream",
          "text": [
            "3.773400080652686\n"
          ],
          "name": "stdout"
        }
      ]
    },
    {
      "cell_type": "code",
      "metadata": {
        "id": "Kd-jMdALKSh2",
        "colab_type": "code",
        "colab": {
          "base_uri": "https://localhost:8080/",
          "height": 245
        },
        "outputId": "5d53ce33-a120-4f57-dc32-4250dc6856fc"
      },
      "source": [
        "xor.middle_cal\n",
        "# len(xor.middle_cal)"
      ],
      "execution_count": 389,
      "outputs": [
        {
          "output_type": "execute_result",
          "data": {
            "text/plain": [
              "[[[0, 0, 1, 1], [0, 1, 0, 1]],\n",
              " [[0.7247285070832014,\n",
              "   0.8769816078094328,\n",
              "   0.8071316152326833,\n",
              "   0.9189072497023325],\n",
              "  [0.5071976744697954,\n",
              "   0.7026338917512542,\n",
              "   0.5226079934316008,\n",
              "   0.7153624865774638]],\n",
              " [[0.7876375575761109,\n",
              "   0.8312561028364667,\n",
              "   0.8008959070847043,\n",
              "   0.8375033042581448]]]"
            ]
          },
          "metadata": {
            "tags": []
          },
          "execution_count": 389
        }
      ]
    },
    {
      "cell_type": "code",
      "metadata": {
        "id": "ijwI0rv0KSjt",
        "colab_type": "code",
        "colab": {
          "base_uri": "https://localhost:8080/",
          "height": 87
        },
        "outputId": "2f410d77-e4ac-4d9c-b1d9-777522df414b"
      },
      "source": [
        "xor.predict(X)"
      ],
      "execution_count": 390,
      "outputs": [
        {
          "output_type": "execute_result",
          "data": {
            "text/plain": [
              "[[0.7876375575761109],\n",
              " [0.8312561028364667],\n",
              " [0.8008959070847043],\n",
              " [0.8375033042581448]]"
            ]
          },
          "metadata": {
            "tags": []
          },
          "execution_count": 390
        }
      ]
    },
    {
      "cell_type": "code",
      "metadata": {
        "id": "4cWQ3OQwoZS8",
        "colab_type": "code",
        "colab": {}
      },
      "source": [
        ""
      ],
      "execution_count": 390,
      "outputs": []
    }
  ]
}