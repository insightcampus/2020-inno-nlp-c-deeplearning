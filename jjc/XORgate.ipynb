{
  "nbformat": 4,
  "nbformat_minor": 0,
  "metadata": {
    "colab": {
      "name": "XORgate.ipynb",
      "provenance": [],
      "collapsed_sections": []
    },
    "kernelspec": {
      "name": "python3",
      "display_name": "Python 3"
    }
  },
  "cells": [
    {
      "cell_type": "markdown",
      "metadata": {},
      "source": [
        "# XOR Gate"
      ]
    },
    {
      "cell_type": "code",
      "metadata": {
        "id": "Hgfe0ms3KKfy",
        "colab_type": "code",
        "colab": {}
      },
      "source": [
        "import numpy as np\n",
        "import pandas as pd"
      ],
      "execution_count": null,
      "outputs": []
    },
    {
      "cell_type": "code",
      "metadata": {
        "id": "N_H1nuiXfxlu",
        "colab_type": "code",
        "colab": {}
      },
      "source": [
        "X = np.array([[0, 0, 1, 1], [0, 1, 0, 1]])\n",
        "y = np.array([0, 1, 1, 0])"
      ],
      "execution_count": null,
      "outputs": []
    },
    {
      "cell_type": "code",
      "metadata": {
        "id": "rcyTnPO_O5Sw",
        "colab_type": "code",
        "colab": {}
      },
      "source": [
        "class DeepLearning():\n",
        "    def __init__(self):\n",
        "        return\n",
        "\n",
        "    def fit(self, x_datas, y_datas):\n",
        "        x_datas = np.vstack((x_datas, np.array([1,1,1,1])))\n",
        "        weight = np.random.random((len(x_datas[:,0]), 2)) # Hidden Node 2개\n",
        "\n",
        "        hidden = np.asarray(list(map(sigmoid, x_datas.T.dot(weight))))\n",
        "        hidden = np.hstack((hidden, np.array([1,1,1,1]).reshape(-1,1)))\n",
        "\n",
        "        h_weight = np.random.random(len(hidden[0,:]))\n",
        "        output = np.asarray(list(map(sigmoid, hidden.dot(h_weight))))\n",
        "\n",
        "        r = 0.03 # Learning Rate\n",
        "        epocks = 100000\n",
        "        loss = -np.mean(y_datas*np.log(output) + (1-y_datas)*np.log(1-output))\n",
        "\n",
        "        # Epock 만큼 Weight Update\n",
        "        for epock in range(epocks):\n",
        "            hidden = np.asarray(list(map(sigmoid, x_datas.T.dot(weight))))\n",
        "            hidden = np.hstack((hidden, np.array([1,1,1,1]).reshape(-1,1)))\n",
        "            output = np.asarray(list(map(sigmoid, hidden.dot(h_weight))))\n",
        "\n",
        "            # Weight Update (Input Weight)\n",
        "            dldh = np.multiply(h_weight[:2], (output-y_datas).reshape(-1,1))\n",
        "            xw_grad = np.dot(x_datas, np.multiply(dldh, (1 - hidden[:,:2]) * hidden[:,:2]))\n",
        "            weight -= r * xw_grad\n",
        "\n",
        "            # Weight Update (Hidden Weight)\n",
        "            hw_grad = np.dot(hidden.T, (output-y_datas))\n",
        "            h_weight -= r * hw_grad\n",
        "\n",
        "            pred = list(map(step_function,output))\n",
        "            accuracy = (pred == y_datas.T).mean()\n",
        "            loss = -np.mean(y_datas*np.log(output) + (1-y_datas)*np.log(1-output))\n",
        "\n",
        "            # 정확도, loss 기반 확인\n",
        "            if (accuracy > 0.8) & (loss < 0.01):\n",
        "                print('현재 step :', epock+1)\n",
        "                break\n",
        "\n",
        "        self.weight = weight\n",
        "        self.h_weight = h_weight\n",
        "        return pred, weight, h_weight, loss\n",
        "\n",
        "    def predict(self, datas):\n",
        "        x_datas = np.vstack((datas, np.array([1,1,1,1])))\n",
        "        hidden = np.asarray(list(map(sigmoid, x_datas.T.dot(self.weight))))\n",
        "        hidden = np.hstack((hidden, np.array([1,1,1,1]).reshape(-1,1)))\n",
        "        output = np.asarray(list(map(sigmoid, hidden.dot(self.h_weight))))\n",
        "        pred = list(map(step_function, output))\n",
        "\n",
        "        return pred\n",
        "\n",
        "def sigmoid(x):\n",
        "    return 1 / (1 + np.exp(-x))\n",
        "\n",
        "def step_function(x):\n",
        "    return np.array(x >= 0.5, dtype=np.int)"
      ],
      "execution_count": null,
      "outputs": []
    },
    {
      "cell_type": "code",
      "metadata": {
        "id": "cBE80zlSEFuI",
        "colab_type": "code",
        "colab": {
          "base_uri": "https://localhost:8080/",
          "height": 87
        },
        "outputId": "ecb4a5ad-bd9a-47bf-b34d-69ab28f8bfc8"
      },
      "source": [
        "dl = DeepLearning()\n",
        "dl.fit(X, y)"
      ],
      "execution_count": null,
      "outputs": [
        {
          "output_type": "stream",
          "text": [
            "현재 step : 32396\n"
          ],
          "name": "stdout"
        },
        {
          "output_type": "execute_result",
          "data": {
            "text/plain": [
              "([array(0), array(1), array(1), array(0)], array([[ 4.79241343,  8.75580096],\n",
              "        [ 4.79241038,  8.75568793],\n",
              "        [-7.22087644, -3.12187639]]), array([-10.88459633,  10.7813035 ,  -5.21220306]), 0.009999488301744141)"
            ]
          },
          "metadata": {
            "tags": []
          },
          "execution_count": 24
        }
      ]
    },
    {
      "cell_type": "code",
      "metadata": {
        "id": "0hEhPLwlf5di",
        "colab_type": "code",
        "colab": {}
      },
      "source": [
        "X = np.array([[1, 0, 1, 1], [0, 1, 0, 1]])"
      ],
      "execution_count": null,
      "outputs": []
    },
    {
      "cell_type": "code",
      "metadata": {
        "id": "Jn_QA4ayerA3",
        "colab_type": "code",
        "colab": {
          "base_uri": "https://localhost:8080/",
          "height": 34
        },
        "outputId": "828ca5fd-b231-4654-920a-c7b81e49b046"
      },
      "source": [
        "dl.predict(X)"
      ],
      "execution_count": null,
      "outputs": [
        {
          "output_type": "execute_result",
          "data": {
            "text/plain": [
              "[array(1), array(1), array(1), array(0)]"
            ]
          },
          "metadata": {
            "tags": []
          },
          "execution_count": 26
        }
      ]
    },
    {
      "cell_type": "code",
      "metadata": {
        "id": "5HdVWnNff8IO",
        "colab_type": "code",
        "colab": {}
      },
      "source": [
        ""
      ],
      "execution_count": null,
      "outputs": []
    }
  ]
}