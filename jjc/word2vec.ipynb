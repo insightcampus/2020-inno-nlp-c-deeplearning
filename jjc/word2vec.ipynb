{
  "nbformat": 4,
  "nbformat_minor": 0,
  "metadata": {
    "colab": {
      "name": "word2vec.ipynb",
      "provenance": [],
      "collapsed_sections": []
    },
    "kernelspec": {
      "name": "python3",
      "display_name": "Python 3"
    }
  },
  "cells": [
    {
      "cell_type": "markdown",
      "metadata": {},
      "source": [
        "# Word2Vec"
      ]
    },
    {
      "cell_type": "code",
      "metadata": {
        "id": "6BULr2obgH_y",
        "colab_type": "code",
        "colab": {}
      },
      "source": [
        "text = 'you will never know until you try'"
      ],
      "execution_count": 1,
      "outputs": []
    },
    {
      "cell_type": "code",
      "metadata": {
        "id": "sP7FCRkdhBDs",
        "colab_type": "code",
        "colab": {}
      },
      "source": [
        "tokens = text.split()"
      ],
      "execution_count": 2,
      "outputs": []
    },
    {
      "cell_type": "code",
      "metadata": {
        "id": "dROCwCTjj485",
        "colab_type": "code",
        "colab": {
          "base_uri": "https://localhost:8080/",
          "height": 35
        },
        "outputId": "69d82afc-a554-40fa-9ae9-9c61f5988849"
      },
      "source": [
        "tokens"
      ],
      "execution_count": 3,
      "outputs": [
        {
          "output_type": "execute_result",
          "data": {
            "text/plain": [
              "['you', 'will', 'never', 'know', 'until', 'you', 'try']"
            ]
          },
          "metadata": {
            "tags": []
          },
          "execution_count": 3
        }
      ]
    },
    {
      "cell_type": "code",
      "metadata": {
        "id": "FbP0a-nCtj8_",
        "colab_type": "code",
        "colab": {}
      },
      "source": [
        "# 순서 유지 Unique_Token\n",
        "from collections import OrderedDict\n",
        "categories = list(OrderedDict((element, None) for element in tokens))"
      ],
      "execution_count": 87,
      "outputs": []
    },
    {
      "cell_type": "code",
      "metadata": {
        "id": "QvK1mTLYkpl4",
        "colab_type": "code",
        "colab": {}
      },
      "source": [
        "X = np.array(tokens).reshape(-1,1)"
      ],
      "execution_count": 13,
      "outputs": []
    },
    {
      "cell_type": "code",
      "metadata": {
        "id": "2tj3kkWDso3i",
        "colab_type": "code",
        "colab": {
          "base_uri": "https://localhost:8080/",
          "height": 143
        },
        "outputId": "531b7b1c-a5e6-425c-e849-0ce10262ff92"
      },
      "source": [
        "X"
      ],
      "execution_count": 132,
      "outputs": [
        {
          "output_type": "execute_result",
          "data": {
            "text/plain": [
              "array([['you'],\n",
              "       ['will'],\n",
              "       ['never'],\n",
              "       ['know'],\n",
              "       ['until'],\n",
              "       ['you'],\n",
              "       ['try']], dtype='<U5')"
            ]
          },
          "metadata": {
            "tags": []
          },
          "execution_count": 132
        }
      ]
    },
    {
      "cell_type": "code",
      "metadata": {
        "id": "rPVOUkW1j5W8",
        "colab_type": "code",
        "colab": {}
      },
      "source": [
        "from sklearn.preprocessing import OneHotEncoder\n",
        "enc = OneHotEncoder(handle_unknown='ignore') # handle_unknown='ignore'"
      ],
      "execution_count": 138,
      "outputs": []
    },
    {
      "cell_type": "code",
      "metadata": {
        "id": "xTbwDIN8kNIW",
        "colab_type": "code",
        "colab": {
          "base_uri": "https://localhost:8080/",
          "height": 35
        },
        "outputId": "5aa96ff7-dc9f-458a-ece8-69b35a46896f"
      },
      "source": [
        "enc.categories_\n",
        "word_vec = enc.transform(X).toarray().T\n",
        "word_vec\n",
        "data = pd.DataFrame(word_vec, index = enc.categories_)\n",
        "final_vec = np.matrix(data.T[categories])\n",
        "final_vec"
      ],
      "execution_count": 140,
      "outputs": [
        {
          "output_type": "execute_result",
          "data": {
            "text/plain": [
              "[array(['know', 'never', 'try', 'until', 'will', 'you'], dtype='<U5')]"
            ]
          },
          "metadata": {
            "tags": []
          },
          "execution_count": 140
        }
      ]
    },
    {
      "cell_type": "code",
      "metadata": {
        "id": "fyPI6C7LyKZ1",
        "colab_type": "code",
        "colab": {
          "base_uri": "https://localhost:8080/",
          "height": 143
        },
        "outputId": "ee189622-8568-44aa-a00a-f63c7c8311c9"
      },
      "source": [
        ""
      ],
      "execution_count": 152,
      "outputs": [
        {
          "output_type": "execute_result",
          "data": {
            "text/plain": [
              "matrix([[1., 0., 0., 0., 0., 0.],\n",
              "        [0., 1., 0., 0., 0., 0.],\n",
              "        [0., 0., 1., 0., 0., 0.],\n",
              "        [0., 0., 0., 1., 0., 0.],\n",
              "        [0., 0., 0., 0., 1., 0.],\n",
              "        [1., 0., 0., 0., 0., 0.],\n",
              "        [0., 0., 0., 0., 0., 1.]])"
            ]
          },
          "metadata": {
            "tags": []
          },
          "execution_count": 152
        }
      ]
    },
    {
      "cell_type": "code",
      "metadata": {
        "id": "sK-StIyQ4MSh",
        "colab_type": "code",
        "colab": {}
      },
      "source": [
        "# Window 사이즈에 따른 Train Data 생성\n",
        "\n",
        "# t = window size\n",
        "def mktraindata(x, t):\n",
        "    X_data = []\n",
        "    y_data = []\n",
        "    for i in range(len(x)):\n",
        "        for j in range(i-t, i+t+1):\n",
        "            if j < 0 :\n",
        "                j = -1\n",
        "                continue\n",
        "            if j >= len(x):\n",
        "                break\n",
        "            if j != i:\n",
        "                X_data.append(x[j].getA1())\n",
        "                y_data.append(x[i].getA1())\n",
        "\n",
        "    return np.matrix(X_data), np.matrix(y_data)\n",
        "\n",
        "X_data, y_data = mktraindata(final_vec, 2)"
      ],
      "execution_count": 222,
      "outputs": []
    },
    {
      "cell_type": "code",
      "metadata": {
        "id": "k-Po7jLslXol",
        "colab_type": "code",
        "colab": {}
      },
      "source": [
        "# Hidden Node 수 (차원 수)\n",
        "H = 4\n",
        "\n",
        "# Weight (단어벡터)\n",
        "weight = np.random.random(size = (len(categories), H))\n",
        "\n",
        "hidden = np.dot(X_data, weight)"
      ],
      "execution_count": 228,
      "outputs": []
    },
    {
      "cell_type": "code",
      "metadata": {
        "id": "k4DwWMxclz2S",
        "colab_type": "code",
        "colab": {
          "base_uri": "https://localhost:8080/",
          "height": 125
        },
        "outputId": "4c2d5c1a-3250-4563-8cfb-3037bdd8bacb"
      },
      "source": [
        "weight"
      ],
      "execution_count": 229,
      "outputs": [
        {
          "output_type": "execute_result",
          "data": {
            "text/plain": [
              "array([[0.02211893, 0.42630455, 0.4209864 , 0.61867277],\n",
              "       [0.54875014, 0.42546305, 0.14392968, 0.58884411],\n",
              "       [0.07324909, 0.6236108 , 0.17339457, 0.69177113],\n",
              "       [0.0609407 , 0.6476459 , 0.46624978, 0.6952509 ],\n",
              "       [0.22956236, 0.95915625, 0.15054935, 0.90198759],\n",
              "       [0.61908603, 0.0761448 , 0.62405448, 0.30307234]])"
            ]
          },
          "metadata": {
            "tags": []
          },
          "execution_count": 229
        }
      ]
    },
    {
      "cell_type": "code",
      "metadata": {
        "id": "q2IprCFZld9Y",
        "colab_type": "code",
        "colab": {
          "base_uri": "https://localhost:8080/",
          "height": 413
        },
        "outputId": "973c7035-5a11-49d2-f0d9-ce21fedb48e8"
      },
      "source": [
        "hidden"
      ],
      "execution_count": 230,
      "outputs": [
        {
          "output_type": "execute_result",
          "data": {
            "text/plain": [
              "matrix([[0.54875014, 0.42546305, 0.14392968, 0.58884411],\n",
              "        [0.07324909, 0.6236108 , 0.17339457, 0.69177113],\n",
              "        [0.02211893, 0.42630455, 0.4209864 , 0.61867277],\n",
              "        [0.07324909, 0.6236108 , 0.17339457, 0.69177113],\n",
              "        [0.0609407 , 0.6476459 , 0.46624978, 0.6952509 ],\n",
              "        [0.02211893, 0.42630455, 0.4209864 , 0.61867277],\n",
              "        [0.54875014, 0.42546305, 0.14392968, 0.58884411],\n",
              "        [0.0609407 , 0.6476459 , 0.46624978, 0.6952509 ],\n",
              "        [0.22956236, 0.95915625, 0.15054935, 0.90198759],\n",
              "        [0.54875014, 0.42546305, 0.14392968, 0.58884411],\n",
              "        [0.07324909, 0.6236108 , 0.17339457, 0.69177113],\n",
              "        [0.22956236, 0.95915625, 0.15054935, 0.90198759],\n",
              "        [0.02211893, 0.42630455, 0.4209864 , 0.61867277],\n",
              "        [0.07324909, 0.6236108 , 0.17339457, 0.69177113],\n",
              "        [0.0609407 , 0.6476459 , 0.46624978, 0.6952509 ],\n",
              "        [0.02211893, 0.42630455, 0.4209864 , 0.61867277],\n",
              "        [0.61908603, 0.0761448 , 0.62405448, 0.30307234],\n",
              "        [0.0609407 , 0.6476459 , 0.46624978, 0.6952509 ],\n",
              "        [0.22956236, 0.95915625, 0.15054935, 0.90198759],\n",
              "        [0.61908603, 0.0761448 , 0.62405448, 0.30307234],\n",
              "        [0.22956236, 0.95915625, 0.15054935, 0.90198759],\n",
              "        [0.02211893, 0.42630455, 0.4209864 , 0.61867277]])"
            ]
          },
          "metadata": {
            "tags": []
          },
          "execution_count": 230
        }
      ]
    },
    {
      "cell_type": "code",
      "metadata": {
        "id": "-l7zvgl3khKY",
        "colab_type": "code",
        "colab": {}
      },
      "source": [
        "h_weight = np.random.random(size = (H, len(categories)))"
      ],
      "execution_count": 231,
      "outputs": []
    },
    {
      "cell_type": "code",
      "metadata": {
        "id": "7HFR3yPfmeWm",
        "colab_type": "code",
        "colab": {
          "base_uri": "https://localhost:8080/",
          "height": 161
        },
        "outputId": "431387db-d02c-415b-89d4-cf5ddc0943b5"
      },
      "source": [
        "h_weight"
      ],
      "execution_count": 232,
      "outputs": [
        {
          "output_type": "execute_result",
          "data": {
            "text/plain": [
              "array([[0.06612453, 0.8997787 , 0.08803106, 0.82032854, 0.46234574,\n",
              "        0.04382569],\n",
              "       [0.01938367, 0.68271673, 0.22233605, 0.39805634, 0.45472812,\n",
              "        0.4567216 ],\n",
              "       [0.28349581, 0.23045068, 0.93611008, 0.31076321, 0.48861083,\n",
              "        0.35222468],\n",
              "       [0.60177987, 0.52063727, 0.98086305, 0.02832953, 0.52906135,\n",
              "        0.64855825]])"
            ]
          },
          "metadata": {
            "tags": []
          },
          "execution_count": 232
        }
      ]
    },
    {
      "cell_type": "code",
      "metadata": {
        "id": "ZtP18wM5me_X",
        "colab_type": "code",
        "colab": {}
      },
      "source": [
        "output = np.dot(hidden, h_weight)"
      ],
      "execution_count": 233,
      "outputs": []
    },
    {
      "cell_type": "code",
      "metadata": {
        "id": "tWbHw-VFm0Aj",
        "colab_type": "code",
        "colab": {
          "base_uri": "https://localhost:8080/",
          "height": 809
        },
        "outputId": "cffc7269-f4c4-401f-dd63-51133d8fe661"
      },
      "source": [
        "output"
      ],
      "execution_count": 234,
      "outputs": [
        {
          "output_type": "execute_result",
          "data": {
            "text/plain": [
              "matrix([[0.43969087, 1.12396731, 0.85521228, 0.6809234 , 0.82904256,\n",
              "         0.6509628 ],\n",
              "        [0.48238199, 0.89177822, 0.9859485 , 0.38180275, 0.7681516 ,\n",
              "         0.79775443],\n",
              "        [0.50137865, 0.73006809, 1.09765289, 0.33619181, 0.73709362,\n",
              "         0.745199  ],\n",
              "        [0.48238199, 0.89177822, 0.9859485 , 0.38180275, 0.7681516 ,\n",
              "         0.79775443],\n",
              "        [0.56715128, 0.96641294, 1.26776674, 0.47238036, 0.91832354,\n",
              "         0.91360002],\n",
              "        [0.50137865, 0.73006809, 1.09765289, 0.33619181, 0.73709362,\n",
              "         0.745199  ],\n",
              "        [0.43969087, 1.12396731, 0.85521228, 0.6809234 , 0.82904256,\n",
              "         0.6509628 ],\n",
              "        [0.56715128, 0.96641294, 1.26776674, 0.47238036, 0.91832354,\n",
              "         0.91360002],\n",
              "        [0.61924975, 1.36568989, 1.25912069, 0.64245287, 1.09305931,\n",
              "         1.08614679],\n",
              "        [0.43969087, 1.12396731, 0.85521228, 0.6809234 , 0.82904256,\n",
              "         0.6509628 ],\n",
              "        [0.48238199, 0.89177822, 0.9859485 , 0.38180275, 0.7681516 ,\n",
              "         0.79775443],\n",
              "        [0.61924975, 1.36568989, 1.25912069, 0.64245287, 1.09305931,\n",
              "         1.08614679],\n",
              "        [0.50137865, 0.73006809, 1.09765289, 0.33619181, 0.73709362,\n",
              "         0.745199  ],\n",
              "        [0.48238199, 0.89177822, 0.9859485 , 0.38180275, 0.7681516 ,\n",
              "         0.79775443],\n",
              "        [0.56715128, 0.96641294, 1.26776674, 0.47238036, 0.91832354,\n",
              "         0.91360002],\n",
              "        [0.50137865, 0.73006809, 1.09765289, 0.33619181, 0.73709362,\n",
              "         0.745199  ],\n",
              "        [0.4017124 , 0.91063029, 0.95288469, 0.74068293, 0.78612061,\n",
              "         0.4782763 ],\n",
              "        [0.56715128, 0.96641294, 1.26776674, 0.47238036, 0.91832354,\n",
              "         0.91360002],\n",
              "        [0.61924975, 1.36568989, 1.25912069, 0.64245287, 1.09305931,\n",
              "         1.08614679],\n",
              "        [0.4017124 , 0.91063029, 0.95288469, 0.74068293, 0.78612061,\n",
              "         0.4782763 ],\n",
              "        [0.61924975, 1.36568989, 1.25912069, 0.64245287, 1.09305931,\n",
              "         1.08614679],\n",
              "        [0.50137865, 0.73006809, 1.09765289, 0.33619181, 0.73709362,\n",
              "         0.745199  ]])"
            ]
          },
          "metadata": {
            "tags": []
          },
          "execution_count": 234
        }
      ]
    },
    {
      "cell_type": "code",
      "metadata": {
        "id": "U_A5JpG0m0em",
        "colab_type": "code",
        "colab": {}
      },
      "source": [
        "def softmax(a) :\n",
        "    return np.exp(a) / np.sum(np.exp(a))"
      ],
      "execution_count": 235,
      "outputs": []
    },
    {
      "cell_type": "code",
      "metadata": {
        "id": "_T7dFDRQntIk",
        "colab_type": "code",
        "colab": {}
      },
      "source": [
        "result = np.matrix(list(map(softmax, output[:,].getA())))"
      ],
      "execution_count": 253,
      "outputs": []
    },
    {
      "cell_type": "code",
      "metadata": {
        "id": "H-lKCA-SnUt0",
        "colab_type": "code",
        "colab": {
          "base_uri": "https://localhost:8080/",
          "height": 809
        },
        "outputId": "a9161c9e-7005-4808-a677-11665b6cd978"
      },
      "source": [
        "result"
      ],
      "execution_count": 255,
      "outputs": [
        {
          "output_type": "execute_result",
          "data": {
            "text/plain": [
              "matrix([[0.11790247, 0.23372243, 0.17864118, 0.15006827, 0.17402683,\n",
              "         0.14563882],\n",
              "        [0.12875996, 0.1939007 , 0.21304777, 0.11643937, 0.17135193,\n",
              "         0.17650026],\n",
              "        [0.13401308, 0.16844796, 0.24327966, 0.11360762, 0.16963556,\n",
              "         0.17101611],\n",
              "        [0.12875996, 0.1939007 , 0.21304777, 0.11643937, 0.17135193,\n",
              "         0.17650026],\n",
              "        [0.12121114, 0.18069232, 0.24423955, 0.11025139, 0.17220856,\n",
              "         0.17139704],\n",
              "        [0.13401308, 0.16844796, 0.24327966, 0.11360762, 0.16963556,\n",
              "         0.17101611],\n",
              "        [0.11790247, 0.23372243, 0.17864118, 0.15006827, 0.17402683,\n",
              "         0.14563882],\n",
              "        [0.12121114, 0.18069232, 0.24423955, 0.11025139, 0.17220856,\n",
              "         0.17139704],\n",
              "        [0.10833854, 0.22853767, 0.20543545, 0.11088172, 0.17400264,\n",
              "         0.17280399],\n",
              "        [0.11790247, 0.23372243, 0.17864118, 0.15006827, 0.17402683,\n",
              "         0.14563882],\n",
              "        [0.12875996, 0.1939007 , 0.21304777, 0.11643937, 0.17135193,\n",
              "         0.17650026],\n",
              "        [0.10833854, 0.22853767, 0.20543545, 0.11088172, 0.17400264,\n",
              "         0.17280399],\n",
              "        [0.13401308, 0.16844796, 0.24327966, 0.11360762, 0.16963556,\n",
              "         0.17101611],\n",
              "        [0.12875996, 0.1939007 , 0.21304777, 0.11643937, 0.17135193,\n",
              "         0.17650026],\n",
              "        [0.12121114, 0.18069232, 0.24423955, 0.11025139, 0.17220856,\n",
              "         0.17139704],\n",
              "        [0.13401308, 0.16844796, 0.24327966, 0.11360762, 0.16963556,\n",
              "         0.17101611],\n",
              "        [0.11975196, 0.1992062 , 0.2078039 , 0.16807211, 0.17588507,\n",
              "         0.12928076],\n",
              "        [0.12121114, 0.18069232, 0.24423955, 0.11025139, 0.17220856,\n",
              "         0.17139704],\n",
              "        [0.10833854, 0.22853767, 0.20543545, 0.11088172, 0.17400264,\n",
              "         0.17280399],\n",
              "        [0.11975196, 0.1992062 , 0.2078039 , 0.16807211, 0.17588507,\n",
              "         0.12928076],\n",
              "        [0.10833854, 0.22853767, 0.20543545, 0.11088172, 0.17400264,\n",
              "         0.17280399],\n",
              "        [0.13401308, 0.16844796, 0.24327966, 0.11360762, 0.16963556,\n",
              "         0.17101611]])"
            ]
          },
          "metadata": {
            "tags": []
          },
          "execution_count": 255
        }
      ]
    },
    {
      "cell_type": "code",
      "metadata": {
        "id": "mToUBtFf-gkd",
        "colab_type": "code",
        "colab": {
          "base_uri": "https://localhost:8080/",
          "height": 35
        },
        "outputId": "44b50c36-f2dd-496f-f162-5235ddc4113c"
      },
      "source": [
        "y_data.shape"
      ],
      "execution_count": 264,
      "outputs": [
        {
          "output_type": "execute_result",
          "data": {
            "text/plain": [
              "(22, 6)"
            ]
          },
          "metadata": {
            "tags": []
          },
          "execution_count": 264
        }
      ]
    },
    {
      "cell_type": "code",
      "metadata": {
        "id": "fggA4Vbb-iO_",
        "colab_type": "code",
        "colab": {
          "base_uri": "https://localhost:8080/",
          "height": 35
        },
        "outputId": "b0e19eb9-0793-46c6-acd1-2a565dce9d25"
      },
      "source": [
        "result.shape"
      ],
      "execution_count": 266,
      "outputs": [
        {
          "output_type": "execute_result",
          "data": {
            "text/plain": [
              "(22, 6)"
            ]
          },
          "metadata": {
            "tags": []
          },
          "execution_count": 266
        }
      ]
    },
    {
      "cell_type": "code",
      "metadata": {
        "id": "5M5ZeY-JnVpH",
        "colab_type": "code",
        "colab": {}
      },
      "source": [
        "loss = -np.multiply(y_data, np.log(result)).sum()"
      ],
      "execution_count": 273,
      "outputs": []
    },
    {
      "cell_type": "code",
      "metadata": {
        "id": "t411tvUa-sKo",
        "colab_type": "code",
        "colab": {
          "base_uri": "https://localhost:8080/",
          "height": 35
        },
        "outputId": "bc73f507-607f-4ac8-9854-ebd24a88fc22"
      },
      "source": [
        "loss"
      ],
      "execution_count": 274,
      "outputs": [
        {
          "output_type": "execute_result",
          "data": {
            "text/plain": [
              "40.88144967391233"
            ]
          },
          "metadata": {
            "tags": []
          },
          "execution_count": 274
        }
      ]
    },
    {
      "cell_type": "code",
      "metadata": {
        "id": "ZNeq0CSX-vcM",
        "colab_type": "code",
        "colab": {}
      },
      "source": [
        "temp = (result-y_data).dot(h_weight.T)\n",
        "w_grad = X_data.T.dot(temp)\n",
        "h_grad = hidden.T.dot(result-y_data)"
      ],
      "execution_count": 291,
      "outputs": []
    },
    {
      "cell_type": "code",
      "metadata": {
        "id": "mWmoxzgVNc2q",
        "colab_type": "code",
        "colab": {
          "base_uri": "https://localhost:8080/",
          "height": 125
        },
        "outputId": "ab055dc7-3ed1-4cbf-fa58-c2f3885f6199"
      },
      "source": [
        "# weight 업데이트\n",
        "\n",
        "r = 0.03\n",
        "weight -= r*w_grad\n",
        "h_weight -= r*h_grad"
      ],
      "execution_count": 288,
      "outputs": [
        {
          "output_type": "execute_result",
          "data": {
            "text/plain": [
              "array([[0.02211893, 0.42630455, 0.4209864 , 0.61867277],\n",
              "       [0.54875014, 0.42546305, 0.14392968, 0.58884411],\n",
              "       [0.07324909, 0.6236108 , 0.17339457, 0.69177113],\n",
              "       [0.0609407 , 0.6476459 , 0.46624978, 0.6952509 ],\n",
              "       [0.22956236, 0.95915625, 0.15054935, 0.90198759],\n",
              "       [0.61908603, 0.0761448 , 0.62405448, 0.30307234]])"
            ]
          },
          "metadata": {
            "tags": []
          },
          "execution_count": 288
        }
      ]
    },
    {
      "cell_type": "code",
      "metadata": {
        "id": "EsSl3kKnPnJ9",
        "colab_type": "code",
        "colab": {}
      },
      "source": [
        "from collections import OrderedDict\n",
        "categories = list(OrderedDict((element, None) for element in tokens))"
      ],
      "execution_count": null,
      "outputs": []
    },
    {
      "cell_type": "code",
      "metadata": {
        "id": "VXnmbxBaNdZe",
        "colab_type": "code",
        "colab": {
          "base_uri": "https://localhost:8080/",
          "height": 125
        },
        "outputId": "bc2a0070-3ae6-4bc6-83d2-ef74c0fa5ecd"
      },
      "source": [
        "\n",
        "weight = np.random.random(size = (len(categories), H))\n",
        "h_weight = np.random.random(size = (H, len(categories)))\n",
        "\n",
        "epocks = 10000\n",
        "r = 0.03\n",
        "\n",
        "loss_history = []\n",
        "for epock in range(epocks):\n",
        "    hidden = np.dot(X_data, weight)\n",
        "    output = np.dot(hidden, h_weight)\n",
        "    result = np.matrix(list(map(softmax, output[:,].getA())))\n",
        "\n",
        "    loss_history.append(-np.multiply(y_data, np.log(result)).sum())\n",
        "\n",
        "    temp = (result-y_data).dot(h_weight.T)\n",
        "    w_grad = X_data.T.dot(temp)\n",
        "    h_grad = hidden.T.dot(result-y_data)\n",
        "\n",
        "    # weight 업데이트\n",
        "    weight -= r*w_grad\n",
        "    h_weight -= r*h_grad\n",
        "\n",
        "weight"
      ],
      "execution_count": 292,
      "outputs": [
        {
          "output_type": "execute_result",
          "data": {
            "text/plain": [
              "array([[-0.9779249 ,  1.09915553,  0.09763811, -1.60907048],\n",
              "       [-0.20796545,  1.76795426, -0.59837205,  3.35542916],\n",
              "       [ 2.8213533 ,  1.14509549, -0.28644311, -0.05722058],\n",
              "       [ 0.36728865,  0.78118192,  2.8604919 ,  0.8242549 ],\n",
              "       [-1.11893775, -0.38788495, -1.54111862,  2.1425576 ],\n",
              "       [ 2.44245287, -2.44017639,  2.07296036,  0.33897258]])"
            ]
          },
          "metadata": {
            "tags": []
          },
          "execution_count": 292
        }
      ]
    },
    {
      "cell_type": "code",
      "metadata": {
        "id": "DfBSdu-tOq2e",
        "colab_type": "code",
        "colab": {
          "base_uri": "https://localhost:8080/",
          "height": 283
        },
        "outputId": "b0337425-5934-4be4-e73a-fd21bdaff72b"
      },
      "source": [
        "import matplotlib.pyplot as plt \n",
        "\n",
        "plt.plot(loss_history)"
      ],
      "execution_count": 293,
      "outputs": [
        {
          "output_type": "execute_result",
          "data": {
            "text/plain": [
              "[<matplotlib.lines.Line2D at 0x7f79f41e65c0>]"
            ]
          },
          "metadata": {
            "tags": []
          },
          "execution_count": 293
        },
        {
          "output_type": "display_data",
          "data": {
            "image/png": "[encoded data removed]",
            "text/plain": [
              "<Figure size 432x288 with 1 Axes>"
            ]
          },
          "metadata": {
            "tags": [],
            "needs_background": "light"
          }
        }
      ]
    },
    {
      "cell_type": "code",
      "metadata": {
        "id": "jTS0Fx9zP4e6",
        "colab_type": "code",
        "colab": {}
      },
      "source": [
        "text = 'you will never know until you try'"
      ],
      "execution_count": 2,
      "outputs": []
    },
    {
      "cell_type": "code",
      "execution_count": 128,
      "metadata": {},
      "outputs": [
        {
          "output_type": "execute_result",
          "data": {
            "text/plain": "               0         1         2         3\nknow    2.418918 -3.324329  1.050579  9.610252\nnever   2.474781 -2.110297  2.785141  2.310004\ntry     6.735351 -2.399146 -2.483451 -5.587678\nuntil -17.764967 -0.434003  0.032137  1.705531\nwill    0.013303  0.156578  0.250370  0.397478\nyou    14.511025  7.695645  6.542856 -5.225214",
            "text/html": "<div>\n<style scoped>\n    .dataframe tbody tr th:only-of-type {\n        vertical-align: middle;\n    }\n\n    .dataframe tbody tr th {\n        vertical-align: top;\n    }\n\n    .dataframe thead th {\n        text-align: right;\n    }\n</style>\n<table border=\"1\" class=\"dataframe\">\n  <thead>\n    <tr style=\"text-align: right;\">\n      <th></th>\n      <th>0</th>\n      <th>1</th>\n      <th>2</th>\n      <th>3</th>\n    </tr>\n  </thead>\n  <tbody>\n    <tr>\n      <th>know</th>\n      <td>2.418918</td>\n      <td>-3.324329</td>\n      <td>1.050579</td>\n      <td>9.610252</td>\n    </tr>\n    <tr>\n      <th>never</th>\n      <td>2.474781</td>\n      <td>-2.110297</td>\n      <td>2.785141</td>\n      <td>2.310004</td>\n    </tr>\n    <tr>\n      <th>try</th>\n      <td>6.735351</td>\n      <td>-2.399146</td>\n      <td>-2.483451</td>\n      <td>-5.587678</td>\n    </tr>\n    <tr>\n      <th>until</th>\n      <td>-17.764967</td>\n      <td>-0.434003</td>\n      <td>0.032137</td>\n      <td>1.705531</td>\n    </tr>\n    <tr>\n      <th>will</th>\n      <td>0.013303</td>\n      <td>0.156578</td>\n      <td>0.250370</td>\n      <td>0.397478</td>\n    </tr>\n    <tr>\n      <th>you</th>\n      <td>14.511025</td>\n      <td>7.695645</td>\n      <td>6.542856</td>\n      <td>-5.225214</td>\n    </tr>\n  </tbody>\n</table>\n</div>"
          },
          "metadata": {},
          "execution_count": 128
        }
      ],
      "source": [
        "vectors"
      ]
    },
    {
      "cell_type": "code",
      "execution_count": 130,
      "metadata": {},
      "outputs": [
        {
          "output_type": "execute_result",
          "data": {
            "text/plain": "0.04166477318618369"
          },
          "metadata": {},
          "execution_count": 130
        }
      ],
      "source": [
        "cos_sim(vectors.loc['never'], vectors.loc['try'])"
      ]
    },
    {
      "cell_type": "code",
      "execution_count": 129,
      "metadata": {},
      "outputs": [
        {
          "output_type": "execute_result",
          "data": {
            "text/plain": "0.10503655323134331"
          },
          "metadata": {},
          "execution_count": 129
        }
      ],
      "source": [
        "cos_sim(vectors.loc['you'], vectors.loc['will'])"
      ]
    },
    {
      "cell_type": "code",
      "execution_count": 33,
      "metadata": {},
      "outputs": [],
      "source": [
        "# t = window size\n",
        "def mktraindata(x, t):\n",
        "    X_data = []\n",
        "    y_data = []\n",
        "    for i in range(len(x)):\n",
        "        temp = []\n",
        "        for j in range(i-t, i+t+1):\n",
        "            if j < 0 :\n",
        "                j = -1\n",
        "                continue\n",
        "            if j >= len(x):\n",
        "                break\n",
        "            if j != i:\n",
        "                temp.append(x[j].getA1())\n",
        "        X_data.append(sum(temp))\n",
        "        y_data.append(x[i].getA1())\n",
        "\n",
        "    return np.matrix(X_data), np.matrix(y_data)\n",
        "\n",
        "def softmax(a):\n",
        "    return np.exp(a) / np.sum(np.exp(a))\n",
        "\n",
        "# Input 원래 데이터프레임 칼럼 값들\n",
        "# Input 데이터프레임.loc[index word]\n",
        "def cos_sim(vec1, vec2):\n",
        "    a = np.sqrt((np.array(vec1)**2).sum())\n",
        "    b = np.sqrt((np.array(vec2)**2).sum())\n",
        "    return float(np.matrix(vec1).dot(np.matrix(vec2).T)/(a * b))"
      ]
    },
    {
      "cell_type": "code",
      "metadata": {
        "id": "AxUtJS2hOvzI",
        "colab_type": "code",
        "colab": {}
      },
      "source": [
        "from collections import OrderedDict\n",
        "from sklearn.preprocessing import OneHotEncoder\n",
        "import numpy as np\n",
        "import matplotlib.pyplot as plt\n",
        "import pandas as pd\n",
        "\n",
        "# t = window size\n",
        "\n",
        "\n",
        "# X_data, y_data = mktraindata(final_vec, 2)\n",
        "\n",
        "class Word2Vec():\n",
        "    def __init__(self, H = 4, r = 0.03, t = 2):\n",
        "        self.H = H\n",
        "        self.r = r\n",
        "        self.t = t\n",
        "        return\n",
        "\n",
        "    def mkdatas(self, data):\n",
        "        tokens = data.split()\n",
        "        categories = list(OrderedDict((element, None) for element in tokens))\n",
        "        X = np.array(tokens).reshape(-1,1)\n",
        "        enc = OneHotEncoder(handle_unknown='ignore') # handle_unknown='ignore'\n",
        "        word_vec = enc.fit_transform(X).toarray().T\n",
        "        df = pd.DataFrame(word_vec, index = enc.categories_)\n",
        "        final_vec = np.matrix(df.T[categories])\n",
        "        self.categories = categories\n",
        "        X_data, y_data = mktraindata(final_vec, self.t)\n",
        "        return X_data, y_data\n",
        "\n",
        "    def fit(self, X_data, y_data):\n",
        "        # Hidden Node 수 (차원 수), Learning Rate\n",
        "        H, r = self.H, self.r\n",
        "\n",
        "        # Weight (단어벡터)\n",
        "        weight = np.random.random(size = (len(self.categories), H))\n",
        "        hidden = np.dot((X_data/np.sum(X_data, axis=1)), weight)\n",
        "\n",
        "        # h_weight\n",
        "        h_weight = np.random.random(size = (H, len(self.categories)))\n",
        "\n",
        "        output = np.dot(hidden, h_weight)\n",
        "        result = np.matrix(list(map(softmax, output[:,].getA())))\n",
        "        \n",
        "        loss_history = []\n",
        "        loss_history.append(-np.multiply(y_data, np.log(result)).sum())\n",
        "\n",
        "        epocks = 10000\n",
        "        for epock in range(epocks):\n",
        "            temp = (result-y_data).dot(h_weight.T)\n",
        "            w_grad = X_data.T.dot(temp)\n",
        "            h_grad = hidden.T.dot(result-y_data)\n",
        "\n",
        "            # weight 업데이트\n",
        "            weight -= r*w_grad\n",
        "            h_weight -= r*h_grad\n",
        "            \n",
        "            hidden = np.dot((X_data/sum(X_data)), weight)\n",
        "            output = np.dot(hidden, h_weight)\n",
        "            result = np.matrix(list(map(softmax, output[:,].getA())))\n",
        "\n",
        "            loss_history.append(-np.multiply(y_data, np.log(result)).sum())\n",
        "\n",
        "        self.loss_history = loss_history\n",
        "        self.df = pd.DataFrame(weight, index = self.categories)\n",
        "        return self.df\n",
        "\n",
        "    def loss_graph(self):\n",
        "        plt.plot(self.loss_history)\n",
        "        plt.title('Loss')\n",
        "        plt.show()\n",
        "\n",
        "\n",
        "    def word_sim(self):\n",
        "        res = []\n",
        "        for c1 in self.categories:\n",
        "            for c2 in self.categories:\n",
        "                res.append(cos_sim(self.df.loc[c1], self.df.loc[c2]))\n",
        "\n",
        "        return pd.DataFrame(np.asarray(res).reshape(len(self.categories), len(self.categories)), index = self.categories, columns = self.categories)\n"
      ],
      "execution_count": 118,
      "outputs": []
    },
    {
      "cell_type": "code",
      "execution_count": null,
      "metadata": {},
      "outputs": [],
      "source": []
    },
    {
      "cell_type": "code",
      "metadata": {
        "id": "FGRsWjAwSEKf",
        "colab_type": "code",
        "colab": {}
      },
      "source": [
        "w2v = Word2Vec()"
      ],
      "execution_count": 119,
      "outputs": []
    },
    {
      "cell_type": "code",
      "metadata": {
        "id": "hkKynYJhSH-H",
        "colab_type": "code",
        "colab": {}
      },
      "source": [
        "X_data, y_data = w2v.mkdatas(text)"
      ],
      "execution_count": 120,
      "outputs": []
    },
    {
      "cell_type": "code",
      "execution_count": 121,
      "metadata": {},
      "outputs": [
        {
          "output_type": "execute_result",
          "data": {
            "text/plain": "matrix([[0., 1., 1., 0., 0., 0.],\n        [1., 0., 1., 1., 0., 0.],\n        [1., 1., 0., 1., 1., 0.],\n        [1., 1., 1., 0., 1., 0.],\n        [1., 0., 1., 1., 0., 1.],\n        [0., 0., 0., 1., 1., 1.],\n        [1., 0., 0., 0., 1., 0.]])"
          },
          "metadata": {},
          "execution_count": 121
        }
      ],
      "source": [
        "X_data"
      ]
    },
    {
      "cell_type": "code",
      "execution_count": 122,
      "metadata": {},
      "outputs": [
        {
          "output_type": "execute_result",
          "data": {
            "text/plain": "matrix([[1., 0., 0., 0., 0., 0.],\n        [0., 1., 0., 0., 0., 0.],\n        [0., 0., 1., 0., 0., 0.],\n        [0., 0., 0., 1., 0., 0.],\n        [0., 0., 0., 0., 1., 0.],\n        [1., 0., 0., 0., 0., 0.],\n        [0., 0., 0., 0., 0., 1.]])"
          },
          "metadata": {},
          "execution_count": 122
        }
      ],
      "source": [
        "y_data"
      ]
    },
    {
      "cell_type": "code",
      "metadata": {
        "id": "vJVdXM_2SKA_",
        "colab_type": "code",
        "colab": {
          "base_uri": "https://localhost:8080/",
          "height": 235
        },
        "outputId": "ab43e496-a7f3-408d-fcf8-87215cdc5616",
        "tags": []
      },
      "source": [
        "w2v.fit(X_data, y_data)"
      ],
      "execution_count": 123,
      "outputs": [
        {
          "output_type": "execute_result",
          "data": {
            "text/plain": "              0         1         2         3\nyou   -2.667002 -7.621882 -7.079957 -0.266655\nwill   1.208747  3.285929  5.923013 -2.294629\nnever  6.349671 -2.686416  1.947673  2.550951\nknow  -5.073395  0.239509  4.479902  3.714043\nuntil -1.761306 -0.666181 -0.024221 -6.868805\ntry    4.026246  4.294822 -0.212982  2.422130",
            "text/html": "<div>\n<style scoped>\n    .dataframe tbody tr th:only-of-type {\n        vertical-align: middle;\n    }\n\n    .dataframe tbody tr th {\n        vertical-align: top;\n    }\n\n    .dataframe thead th {\n        text-align: right;\n    }\n</style>\n<table border=\"1\" class=\"dataframe\">\n  <thead>\n    <tr style=\"text-align: right;\">\n      <th></th>\n      <th>0</th>\n      <th>1</th>\n      <th>2</th>\n      <th>3</th>\n    </tr>\n  </thead>\n  <tbody>\n    <tr>\n      <th>you</th>\n      <td>-2.667002</td>\n      <td>-7.621882</td>\n      <td>-7.079957</td>\n      <td>-0.266655</td>\n    </tr>\n    <tr>\n      <th>will</th>\n      <td>1.208747</td>\n      <td>3.285929</td>\n      <td>5.923013</td>\n      <td>-2.294629</td>\n    </tr>\n    <tr>\n      <th>never</th>\n      <td>6.349671</td>\n      <td>-2.686416</td>\n      <td>1.947673</td>\n      <td>2.550951</td>\n    </tr>\n    <tr>\n      <th>know</th>\n      <td>-5.073395</td>\n      <td>0.239509</td>\n      <td>4.479902</td>\n      <td>3.714043</td>\n    </tr>\n    <tr>\n      <th>until</th>\n      <td>-1.761306</td>\n      <td>-0.666181</td>\n      <td>-0.024221</td>\n      <td>-6.868805</td>\n    </tr>\n    <tr>\n      <th>try</th>\n      <td>4.026246</td>\n      <td>4.294822</td>\n      <td>-0.212982</td>\n      <td>2.422130</td>\n    </tr>\n  </tbody>\n</table>\n</div>"
          },
          "metadata": {},
          "execution_count": 123
        }
      ]
    },
    {
      "cell_type": "code",
      "metadata": {
        "id": "Yp1eetHuST_k",
        "colab_type": "code",
        "colab": {
          "base_uri": "https://localhost:8080/",
          "height": 281
        },
        "outputId": "b2d59faf-b4e9-4a88-d09b-1563af81b800"
      },
      "source": [
        "w2v.loss_graph()"
      ],
      "execution_count": 124,
      "outputs": [
        {
          "output_type": "display_data",
          "data": {
            "text/plain": "<Figure size 432x288 with 1 Axes>",
            "image/svg+xml": "<?xml version=\"1.0\" encoding=\"utf-8\" standalone=\"no\"?>\r\n<!DOCTYPE svg PUBLIC \"-//W3C//DTD SVG 1.1//EN\"\r\n  \"http://www.w3.org/Graphics/SVG/1.1/DTD/svg11.dtd\">\r\n<!-- Created with matplotlib (https://matplotlib.org/) -->\r\n<svg height=\"263.63625pt\" version=\"1.1\" viewBox=\"0 0 369.613068 263.63625\" width=\"369.613068pt\" xmlns=\"http://www.w3.org/2000/svg\" xmlns:xlink=\"http://www.w3.org/1999/xlink\">\r\n <defs>\r\n  <style type=\"text/css\">\r\n*{stroke-linecap:butt;stroke-linejoin:round;}\r\n  </style>\r\n </defs>\r\n <g id=\"figure_1\">\r\n  <g id=\"patch_1\">\r\n   <path d=\"M -0 263.63625 \r\nL 369.613068 263.63625 \r\nL 369.613068 0 \r\nL -0 0 \r\nz\r\n\" style=\"fill:none;\"/>\r\n  </g>\r\n  <g id=\"axes_1\">\r\n   <g id=\"patch_2\">\r\n    <path d=\"M 26.925 239.758125 \r\nL 361.725 239.758125 \r\nL 361.725 22.318125 \r\nL 26.925 22.318125 \r\nz\r\n\" style=\"fill:#ffffff;\"/>\r\n   </g>\r\n   <g id=\"matplotlib.axis_1\">\r\n    <g id=\"xtick_1\">\r\n     <g id=\"line2d_1\">\r\n      <defs>\r\n       <path d=\"M 0 0 \r\nL 0 3.5 \r\n\" id=\"m8b301f5aeb\" style=\"stroke:#000000;stroke-width:0.8;\"/>\r\n      </defs>\r\n      <g>\r\n       <use style=\"stroke:#000000;stroke-width:0.8;\" x=\"42.143182\" xlink:href=\"#m8b301f5aeb\" y=\"239.758125\"/>\r\n      </g>\r\n     </g>\r\n     <g id=\"text_1\">\r\n      <!-- 0 -->\r\n      <defs>\r\n       <path d=\"M 31.78125 66.40625 \r\nQ 24.171875 66.40625 20.328125 58.90625 \r\nQ 16.5 51.421875 16.5 36.375 \r\nQ 16.5 21.390625 20.328125 13.890625 \r\nQ 24.171875 6.390625 31.78125 6.390625 \r\nQ 39.453125 6.390625 43.28125 13.890625 \r\nQ 47.125 21.390625 47.125 36.375 \r\nQ 47.125 51.421875 43.28125 58.90625 \r\nQ 39.453125 66.40625 31.78125 66.40625 \r\nz\r\nM 31.78125 74.21875 \r\nQ 44.046875 74.21875 50.515625 64.515625 \r\nQ 56.984375 54.828125 56.984375 36.375 \r\nQ 56.984375 17.96875 50.515625 8.265625 \r\nQ 44.046875 -1.421875 31.78125 -1.421875 \r\nQ 19.53125 -1.421875 13.0625 8.265625 \r\nQ 6.59375 17.96875 6.59375 36.375 \r\nQ 6.59375 54.828125 13.0625 64.515625 \r\nQ 19.53125 74.21875 31.78125 74.21875 \r\nz\r\n\" id=\"DejaVuSans-48\"/>\r\n      </defs>\r\n      <g transform=\"translate(38.961932 254.356563)scale(0.1 -0.1)\">\r\n       <use xlink:href=\"#DejaVuSans-48\"/>\r\n      </g>\r\n     </g>\r\n    </g>\r\n    <g id=\"xtick_2\">\r\n     <g id=\"line2d_2\">\r\n      <g>\r\n       <use style=\"stroke:#000000;stroke-width:0.8;\" x=\"103.015909\" xlink:href=\"#m8b301f5aeb\" y=\"239.758125\"/>\r\n      </g>\r\n     </g>\r\n     <g id=\"text_2\">\r\n      <!-- 2000 -->\r\n      <defs>\r\n       <path d=\"M 19.1875 8.296875 \r\nL 53.609375 8.296875 \r\nL 53.609375 0 \r\nL 7.328125 0 \r\nL 7.328125 8.296875 \r\nQ 12.9375 14.109375 22.625 23.890625 \r\nQ 32.328125 33.6875 34.8125 36.53125 \r\nQ 39.546875 41.84375 41.421875 45.53125 \r\nQ 43.3125 49.21875 43.3125 52.78125 \r\nQ 43.3125 58.59375 39.234375 62.25 \r\nQ 35.15625 65.921875 28.609375 65.921875 \r\nQ 23.96875 65.921875 18.8125 64.3125 \r\nQ 13.671875 62.703125 7.8125 59.421875 \r\nL 7.8125 69.390625 \r\nQ 13.765625 71.78125 18.9375 73 \r\nQ 24.125 74.21875 28.421875 74.21875 \r\nQ 39.75 74.21875 46.484375 68.546875 \r\nQ 53.21875 62.890625 53.21875 53.421875 \r\nQ 53.21875 48.921875 51.53125 44.890625 \r\nQ 49.859375 40.875 45.40625 35.40625 \r\nQ 44.1875 33.984375 37.640625 27.21875 \r\nQ 31.109375 20.453125 19.1875 8.296875 \r\nz\r\n\" id=\"DejaVuSans-50\"/>\r\n      </defs>\r\n      <g transform=\"translate(90.290909 254.356563)scale(0.1 -0.1)\">\r\n       <use xlink:href=\"#DejaVuSans-50\"/>\r\n       <use x=\"63.623047\" xlink:href=\"#DejaVuSans-48\"/>\r\n       <use x=\"127.246094\" xlink:href=\"#DejaVuSans-48\"/>\r\n       <use x=\"190.869141\" xlink:href=\"#DejaVuSans-48\"/>\r\n      </g>\r\n     </g>\r\n    </g>\r\n    <g id=\"xtick_3\">\r\n     <g id=\"line2d_3\">\r\n      <g>\r\n       <use style=\"stroke:#000000;stroke-width:0.8;\" x=\"163.888636\" xlink:href=\"#m8b301f5aeb\" y=\"239.758125\"/>\r\n      </g>\r\n     </g>\r\n     <g id=\"text_3\">\r\n      <!-- 4000 -->\r\n      <defs>\r\n       <path d=\"M 37.796875 64.3125 \r\nL 12.890625 25.390625 \r\nL 37.796875 25.390625 \r\nz\r\nM 35.203125 72.90625 \r\nL 47.609375 72.90625 \r\nL 47.609375 25.390625 \r\nL 58.015625 25.390625 \r\nL 58.015625 17.1875 \r\nL 47.609375 17.1875 \r\nL 47.609375 0 \r\nL 37.796875 0 \r\nL 37.796875 17.1875 \r\nL 4.890625 17.1875 \r\nL 4.890625 26.703125 \r\nz\r\n\" id=\"DejaVuSans-52\"/>\r\n      </defs>\r\n      <g transform=\"translate(151.163636 254.356563)scale(0.1 -0.1)\">\r\n       <use xlink:href=\"#DejaVuSans-52\"/>\r\n       <use x=\"63.623047\" xlink:href=\"#DejaVuSans-48\"/>\r\n       <use x=\"127.246094\" xlink:href=\"#DejaVuSans-48\"/>\r\n       <use x=\"190.869141\" xlink:href=\"#DejaVuSans-48\"/>\r\n      </g>\r\n     </g>\r\n    </g>\r\n    <g id=\"xtick_4\">\r\n     <g id=\"line2d_4\">\r\n      <g>\r\n       <use style=\"stroke:#000000;stroke-width:0.8;\" x=\"224.761364\" xlink:href=\"#m8b301f5aeb\" y=\"239.758125\"/>\r\n      </g>\r\n     </g>\r\n     <g id=\"text_4\">\r\n      <!-- 6000 -->\r\n      <defs>\r\n       <path d=\"M 33.015625 40.375 \r\nQ 26.375 40.375 22.484375 35.828125 \r\nQ 18.609375 31.296875 18.609375 23.390625 \r\nQ 18.609375 15.53125 22.484375 10.953125 \r\nQ 26.375 6.390625 33.015625 6.390625 \r\nQ 39.65625 6.390625 43.53125 10.953125 \r\nQ 47.40625 15.53125 47.40625 23.390625 \r\nQ 47.40625 31.296875 43.53125 35.828125 \r\nQ 39.65625 40.375 33.015625 40.375 \r\nz\r\nM 52.59375 71.296875 \r\nL 52.59375 62.3125 \r\nQ 48.875 64.0625 45.09375 64.984375 \r\nQ 41.3125 65.921875 37.59375 65.921875 \r\nQ 27.828125 65.921875 22.671875 59.328125 \r\nQ 17.53125 52.734375 16.796875 39.40625 \r\nQ 19.671875 43.65625 24.015625 45.921875 \r\nQ 28.375 48.1875 33.59375 48.1875 \r\nQ 44.578125 48.1875 50.953125 41.515625 \r\nQ 57.328125 34.859375 57.328125 23.390625 \r\nQ 57.328125 12.15625 50.6875 5.359375 \r\nQ 44.046875 -1.421875 33.015625 -1.421875 \r\nQ 20.359375 -1.421875 13.671875 8.265625 \r\nQ 6.984375 17.96875 6.984375 36.375 \r\nQ 6.984375 53.65625 15.1875 63.9375 \r\nQ 23.390625 74.21875 37.203125 74.21875 \r\nQ 40.921875 74.21875 44.703125 73.484375 \r\nQ 48.484375 72.75 52.59375 71.296875 \r\nz\r\n\" id=\"DejaVuSans-54\"/>\r\n      </defs>\r\n      <g transform=\"translate(212.036364 254.356563)scale(0.1 -0.1)\">\r\n       <use xlink:href=\"#DejaVuSans-54\"/>\r\n       <use x=\"63.623047\" xlink:href=\"#DejaVuSans-48\"/>\r\n       <use x=\"127.246094\" xlink:href=\"#DejaVuSans-48\"/>\r\n       <use x=\"190.869141\" xlink:href=\"#DejaVuSans-48\"/>\r\n      </g>\r\n     </g>\r\n    </g>\r\n    <g id=\"xtick_5\">\r\n     <g id=\"line2d_5\">\r\n      <g>\r\n       <use style=\"stroke:#000000;stroke-width:0.8;\" x=\"285.634091\" xlink:href=\"#m8b301f5aeb\" y=\"239.758125\"/>\r\n      </g>\r\n     </g>\r\n     <g id=\"text_5\">\r\n      <!-- 8000 -->\r\n      <defs>\r\n       <path d=\"M 31.78125 34.625 \r\nQ 24.75 34.625 20.71875 30.859375 \r\nQ 16.703125 27.09375 16.703125 20.515625 \r\nQ 16.703125 13.921875 20.71875 10.15625 \r\nQ 24.75 6.390625 31.78125 6.390625 \r\nQ 38.8125 6.390625 42.859375 10.171875 \r\nQ 46.921875 13.96875 46.921875 20.515625 \r\nQ 46.921875 27.09375 42.890625 30.859375 \r\nQ 38.875 34.625 31.78125 34.625 \r\nz\r\nM 21.921875 38.8125 \r\nQ 15.578125 40.375 12.03125 44.71875 \r\nQ 8.5 49.078125 8.5 55.328125 \r\nQ 8.5 64.0625 14.71875 69.140625 \r\nQ 20.953125 74.21875 31.78125 74.21875 \r\nQ 42.671875 74.21875 48.875 69.140625 \r\nQ 55.078125 64.0625 55.078125 55.328125 \r\nQ 55.078125 49.078125 51.53125 44.71875 \r\nQ 48 40.375 41.703125 38.8125 \r\nQ 48.828125 37.15625 52.796875 32.3125 \r\nQ 56.78125 27.484375 56.78125 20.515625 \r\nQ 56.78125 9.90625 50.3125 4.234375 \r\nQ 43.84375 -1.421875 31.78125 -1.421875 \r\nQ 19.734375 -1.421875 13.25 4.234375 \r\nQ 6.78125 9.90625 6.78125 20.515625 \r\nQ 6.78125 27.484375 10.78125 32.3125 \r\nQ 14.796875 37.15625 21.921875 38.8125 \r\nz\r\nM 18.3125 54.390625 \r\nQ 18.3125 48.734375 21.84375 45.5625 \r\nQ 25.390625 42.390625 31.78125 42.390625 \r\nQ 38.140625 42.390625 41.71875 45.5625 \r\nQ 45.3125 48.734375 45.3125 54.390625 \r\nQ 45.3125 60.0625 41.71875 63.234375 \r\nQ 38.140625 66.40625 31.78125 66.40625 \r\nQ 25.390625 66.40625 21.84375 63.234375 \r\nQ 18.3125 60.0625 18.3125 54.390625 \r\nz\r\n\" id=\"DejaVuSans-56\"/>\r\n      </defs>\r\n      <g transform=\"translate(272.909091 254.356563)scale(0.1 -0.1)\">\r\n       <use xlink:href=\"#DejaVuSans-56\"/>\r\n       <use x=\"63.623047\" xlink:href=\"#DejaVuSans-48\"/>\r\n       <use x=\"127.246094\" xlink:href=\"#DejaVuSans-48\"/>\r\n       <use x=\"190.869141\" xlink:href=\"#DejaVuSans-48\"/>\r\n      </g>\r\n     </g>\r\n    </g>\r\n    <g id=\"xtick_6\">\r\n     <g id=\"line2d_6\">\r\n      <g>\r\n       <use style=\"stroke:#000000;stroke-width:0.8;\" x=\"346.506818\" xlink:href=\"#m8b301f5aeb\" y=\"239.758125\"/>\r\n      </g>\r\n     </g>\r\n     <g id=\"text_6\">\r\n      <!-- 10000 -->\r\n      <defs>\r\n       <path d=\"M 12.40625 8.296875 \r\nL 28.515625 8.296875 \r\nL 28.515625 63.921875 \r\nL 10.984375 60.40625 \r\nL 10.984375 69.390625 \r\nL 28.421875 72.90625 \r\nL 38.28125 72.90625 \r\nL 38.28125 8.296875 \r\nL 54.390625 8.296875 \r\nL 54.390625 0 \r\nL 12.40625 0 \r\nz\r\n\" id=\"DejaVuSans-49\"/>\r\n      </defs>\r\n      <g transform=\"translate(330.600568 254.356563)scale(0.1 -0.1)\">\r\n       <use xlink:href=\"#DejaVuSans-49\"/>\r\n       <use x=\"63.623047\" xlink:href=\"#DejaVuSans-48\"/>\r\n       <use x=\"127.246094\" xlink:href=\"#DejaVuSans-48\"/>\r\n       <use x=\"190.869141\" xlink:href=\"#DejaVuSans-48\"/>\r\n       <use x=\"254.492188\" xlink:href=\"#DejaVuSans-48\"/>\r\n      </g>\r\n     </g>\r\n    </g>\r\n   </g>\r\n   <g id=\"matplotlib.axis_2\">\r\n    <g id=\"ytick_1\">\r\n     <g id=\"line2d_7\">\r\n      <defs>\r\n       <path d=\"M 0 0 \r\nL -3.5 0 \r\n\" id=\"m7e968de92e\" style=\"stroke:#000000;stroke-width:0.8;\"/>\r\n      </defs>\r\n      <g>\r\n       <use style=\"stroke:#000000;stroke-width:0.8;\" x=\"26.925\" xlink:href=\"#m7e968de92e\" y=\"229.914501\"/>\r\n      </g>\r\n     </g>\r\n     <g id=\"text_7\">\r\n      <!-- 0 -->\r\n      <g transform=\"translate(13.5625 233.71372)scale(0.1 -0.1)\">\r\n       <use xlink:href=\"#DejaVuSans-48\"/>\r\n      </g>\r\n     </g>\r\n    </g>\r\n    <g id=\"ytick_2\">\r\n     <g id=\"line2d_8\">\r\n      <g>\r\n       <use style=\"stroke:#000000;stroke-width:0.8;\" x=\"26.925\" xlink:href=\"#m7e968de92e\" y=\"198.730894\"/>\r\n      </g>\r\n     </g>\r\n     <g id=\"text_8\">\r\n      <!-- 2 -->\r\n      <g transform=\"translate(13.5625 202.530112)scale(0.1 -0.1)\">\r\n       <use xlink:href=\"#DejaVuSans-50\"/>\r\n      </g>\r\n     </g>\r\n    </g>\r\n    <g id=\"ytick_3\">\r\n     <g id=\"line2d_9\">\r\n      <g>\r\n       <use style=\"stroke:#000000;stroke-width:0.8;\" x=\"26.925\" xlink:href=\"#m7e968de92e\" y=\"167.547286\"/>\r\n      </g>\r\n     </g>\r\n     <g id=\"text_9\">\r\n      <!-- 4 -->\r\n      <g transform=\"translate(13.5625 171.346505)scale(0.1 -0.1)\">\r\n       <use xlink:href=\"#DejaVuSans-52\"/>\r\n      </g>\r\n     </g>\r\n    </g>\r\n    <g id=\"ytick_4\">\r\n     <g id=\"line2d_10\">\r\n      <g>\r\n       <use style=\"stroke:#000000;stroke-width:0.8;\" x=\"26.925\" xlink:href=\"#m7e968de92e\" y=\"136.363679\"/>\r\n      </g>\r\n     </g>\r\n     <g id=\"text_10\">\r\n      <!-- 6 -->\r\n      <g transform=\"translate(13.5625 140.162898)scale(0.1 -0.1)\">\r\n       <use xlink:href=\"#DejaVuSans-54\"/>\r\n      </g>\r\n     </g>\r\n    </g>\r\n    <g id=\"ytick_5\">\r\n     <g id=\"line2d_11\">\r\n      <g>\r\n       <use style=\"stroke:#000000;stroke-width:0.8;\" x=\"26.925\" xlink:href=\"#m7e968de92e\" y=\"105.180072\"/>\r\n      </g>\r\n     </g>\r\n     <g id=\"text_11\">\r\n      <!-- 8 -->\r\n      <g transform=\"translate(13.5625 108.979291)scale(0.1 -0.1)\">\r\n       <use xlink:href=\"#DejaVuSans-56\"/>\r\n      </g>\r\n     </g>\r\n    </g>\r\n    <g id=\"ytick_6\">\r\n     <g id=\"line2d_12\">\r\n      <g>\r\n       <use style=\"stroke:#000000;stroke-width:0.8;\" x=\"26.925\" xlink:href=\"#m7e968de92e\" y=\"73.996465\"/>\r\n      </g>\r\n     </g>\r\n     <g id=\"text_12\">\r\n      <!-- 10 -->\r\n      <g transform=\"translate(7.2 77.795683)scale(0.1 -0.1)\">\r\n       <use xlink:href=\"#DejaVuSans-49\"/>\r\n       <use x=\"63.623047\" xlink:href=\"#DejaVuSans-48\"/>\r\n      </g>\r\n     </g>\r\n    </g>\r\n    <g id=\"ytick_7\">\r\n     <g id=\"line2d_13\">\r\n      <g>\r\n       <use style=\"stroke:#000000;stroke-width:0.8;\" x=\"26.925\" xlink:href=\"#m7e968de92e\" y=\"42.812857\"/>\r\n      </g>\r\n     </g>\r\n     <g id=\"text_13\">\r\n      <!-- 12 -->\r\n      <g transform=\"translate(7.2 46.612076)scale(0.1 -0.1)\">\r\n       <use xlink:href=\"#DejaVuSans-49\"/>\r\n       <use x=\"63.623047\" xlink:href=\"#DejaVuSans-50\"/>\r\n      </g>\r\n     </g>\r\n    </g>\r\n   </g>\r\n   <g id=\"line2d_14\">\r\n    <path clip-path=\"url(#pdb7d6c791d)\" d=\"M 42.143182 32.201761 \r\nL 42.295364 42.671274 \r\nL 43.360636 70.93724 \r\nL 43.969364 95.612036 \r\nL 46.191218 194.090768 \r\nL 46.739073 205.197196 \r\nL 47.286927 211.948495 \r\nL 47.865218 216.381446 \r\nL 48.473945 219.387887 \r\nL 49.143545 221.585054 \r\nL 49.843582 223.156527 \r\nL 50.634927 224.399316 \r\nL 51.517582 225.377575 \r\nL 52.552418 226.189204 \r\nL 53.800309 226.87517 \r\nL 55.352564 227.462588 \r\nL 57.361364 227.971378 \r\nL 60.0702 228.412303 \r\nL 63.874745 228.78949 \r\nL 69.505473 229.106571 \r\nL 78.453764 229.366965 \r\nL 94.067618 229.572631 \r\nL 125.143145 229.72544 \r\nL 201.081873 229.828574 \r\nL 346.506818 229.874489 \r\nL 346.506818 229.874489 \r\n\" style=\"fill:none;stroke:#1f77b4;stroke-linecap:square;stroke-width:1.5;\"/>\r\n   </g>\r\n   <g id=\"patch_3\">\r\n    <path d=\"M 26.925 239.758125 \r\nL 26.925 22.318125 \r\n\" style=\"fill:none;stroke:#000000;stroke-linecap:square;stroke-linejoin:miter;stroke-width:0.8;\"/>\r\n   </g>\r\n   <g id=\"patch_4\">\r\n    <path d=\"M 361.725 239.758125 \r\nL 361.725 22.318125 \r\n\" style=\"fill:none;stroke:#000000;stroke-linecap:square;stroke-linejoin:miter;stroke-width:0.8;\"/>\r\n   </g>\r\n   <g id=\"patch_5\">\r\n    <path d=\"M 26.925 239.758125 \r\nL 361.725 239.758125 \r\n\" style=\"fill:none;stroke:#000000;stroke-linecap:square;stroke-linejoin:miter;stroke-width:0.8;\"/>\r\n   </g>\r\n   <g id=\"patch_6\">\r\n    <path d=\"M 26.925 22.318125 \r\nL 361.725 22.318125 \r\n\" style=\"fill:none;stroke:#000000;stroke-linecap:square;stroke-linejoin:miter;stroke-width:0.8;\"/>\r\n   </g>\r\n   <g id=\"text_14\">\r\n    <!-- Loss -->\r\n    <defs>\r\n     <path d=\"M 9.8125 72.90625 \r\nL 19.671875 72.90625 \r\nL 19.671875 8.296875 \r\nL 55.171875 8.296875 \r\nL 55.171875 0 \r\nL 9.8125 0 \r\nz\r\n\" id=\"DejaVuSans-76\"/>\r\n     <path d=\"M 30.609375 48.390625 \r\nQ 23.390625 48.390625 19.1875 42.75 \r\nQ 14.984375 37.109375 14.984375 27.296875 \r\nQ 14.984375 17.484375 19.15625 11.84375 \r\nQ 23.34375 6.203125 30.609375 6.203125 \r\nQ 37.796875 6.203125 41.984375 11.859375 \r\nQ 46.1875 17.53125 46.1875 27.296875 \r\nQ 46.1875 37.015625 41.984375 42.703125 \r\nQ 37.796875 48.390625 30.609375 48.390625 \r\nz\r\nM 30.609375 56 \r\nQ 42.328125 56 49.015625 48.375 \r\nQ 55.71875 40.765625 55.71875 27.296875 \r\nQ 55.71875 13.875 49.015625 6.21875 \r\nQ 42.328125 -1.421875 30.609375 -1.421875 \r\nQ 18.84375 -1.421875 12.171875 6.21875 \r\nQ 5.515625 13.875 5.515625 27.296875 \r\nQ 5.515625 40.765625 12.171875 48.375 \r\nQ 18.84375 56 30.609375 56 \r\nz\r\n\" id=\"DejaVuSans-111\"/>\r\n     <path d=\"M 44.28125 53.078125 \r\nL 44.28125 44.578125 \r\nQ 40.484375 46.53125 36.375 47.5 \r\nQ 32.28125 48.484375 27.875 48.484375 \r\nQ 21.1875 48.484375 17.84375 46.4375 \r\nQ 14.5 44.390625 14.5 40.28125 \r\nQ 14.5 37.15625 16.890625 35.375 \r\nQ 19.28125 33.59375 26.515625 31.984375 \r\nL 29.59375 31.296875 \r\nQ 39.15625 29.25 43.1875 25.515625 \r\nQ 47.21875 21.78125 47.21875 15.09375 \r\nQ 47.21875 7.46875 41.1875 3.015625 \r\nQ 35.15625 -1.421875 24.609375 -1.421875 \r\nQ 20.21875 -1.421875 15.453125 -0.5625 \r\nQ 10.6875 0.296875 5.421875 2 \r\nL 5.421875 11.28125 \r\nQ 10.40625 8.6875 15.234375 7.390625 \r\nQ 20.0625 6.109375 24.8125 6.109375 \r\nQ 31.15625 6.109375 34.5625 8.28125 \r\nQ 37.984375 10.453125 37.984375 14.40625 \r\nQ 37.984375 18.0625 35.515625 20.015625 \r\nQ 33.0625 21.96875 24.703125 23.78125 \r\nL 21.578125 24.515625 \r\nQ 13.234375 26.265625 9.515625 29.90625 \r\nQ 5.8125 33.546875 5.8125 39.890625 \r\nQ 5.8125 47.609375 11.28125 51.796875 \r\nQ 16.75 56 26.8125 56 \r\nQ 31.78125 56 36.171875 55.265625 \r\nQ 40.578125 54.546875 44.28125 53.078125 \r\nz\r\n\" id=\"DejaVuSans-115\"/>\r\n    </defs>\r\n    <g transform=\"translate(181.060313 16.318125)scale(0.12 -0.12)\">\r\n     <use xlink:href=\"#DejaVuSans-76\"/>\r\n     <use x=\"55.697266\" xlink:href=\"#DejaVuSans-111\"/>\r\n     <use x=\"116.878906\" xlink:href=\"#DejaVuSans-115\"/>\r\n     <use x=\"168.978516\" xlink:href=\"#DejaVuSans-115\"/>\r\n    </g>\r\n   </g>\r\n  </g>\r\n </g>\r\n <defs>\r\n  <clipPath id=\"pdb7d6c791d\">\r\n   <rect height=\"217.44\" width=\"334.8\" x=\"26.925\" y=\"22.318125\"/>\r\n  </clipPath>\r\n </defs>\r\n</svg>\r\n",
            "image/png": "[encoded data removed]"
          },
          "metadata": {
            "needs_background": "light"
          }
        }
      ]
    },
    {
      "cell_type": "code",
      "metadata": {
        "id": "0-o8_xKjSmKH",
        "colab_type": "code",
        "colab": {}
      },
      "source": [
        "w2v.word_sim()"
      ],
      "execution_count": 125,
      "outputs": [
        {
          "output_type": "execute_result",
          "data": {
            "text/plain": "            you      will     never      know     until       try\nyou    1.000000 -0.893164 -0.133771 -0.253118  0.153938 -0.622754\nwill  -0.893164  1.000000  0.082133  0.226102  0.218745  0.263219\nnever -0.133771  0.082133  1.000000 -0.249537 -0.497798  0.408591\nknow  -0.253118  0.226102 -0.249537  1.000000 -0.306171 -0.230835\nuntil  0.153938  0.218745 -0.497798 -0.306171  1.000000 -0.586026\ntry   -0.622754  0.263219  0.408591 -0.230835 -0.586026  1.000000",
            "text/html": "<div>\n<style scoped>\n    .dataframe tbody tr th:only-of-type {\n        vertical-align: middle;\n    }\n\n    .dataframe tbody tr th {\n        vertical-align: top;\n    }\n\n    .dataframe thead th {\n        text-align: right;\n    }\n</style>\n<table border=\"1\" class=\"dataframe\">\n  <thead>\n    <tr style=\"text-align: right;\">\n      <th></th>\n      <th>you</th>\n      <th>will</th>\n      <th>never</th>\n      <th>know</th>\n      <th>until</th>\n      <th>try</th>\n    </tr>\n  </thead>\n  <tbody>\n    <tr>\n      <th>you</th>\n      <td>1.000000</td>\n      <td>-0.893164</td>\n      <td>-0.133771</td>\n      <td>-0.253118</td>\n      <td>0.153938</td>\n      <td>-0.622754</td>\n    </tr>\n    <tr>\n      <th>will</th>\n      <td>-0.893164</td>\n      <td>1.000000</td>\n      <td>0.082133</td>\n      <td>0.226102</td>\n      <td>0.218745</td>\n      <td>0.263219</td>\n    </tr>\n    <tr>\n      <th>never</th>\n      <td>-0.133771</td>\n      <td>0.082133</td>\n      <td>1.000000</td>\n      <td>-0.249537</td>\n      <td>-0.497798</td>\n      <td>0.408591</td>\n    </tr>\n    <tr>\n      <th>know</th>\n      <td>-0.253118</td>\n      <td>0.226102</td>\n      <td>-0.249537</td>\n      <td>1.000000</td>\n      <td>-0.306171</td>\n      <td>-0.230835</td>\n    </tr>\n    <tr>\n      <th>until</th>\n      <td>0.153938</td>\n      <td>0.218745</td>\n      <td>-0.497798</td>\n      <td>-0.306171</td>\n      <td>1.000000</td>\n      <td>-0.586026</td>\n    </tr>\n    <tr>\n      <th>try</th>\n      <td>-0.622754</td>\n      <td>0.263219</td>\n      <td>0.408591</td>\n      <td>-0.230835</td>\n      <td>-0.586026</td>\n      <td>1.000000</td>\n    </tr>\n  </tbody>\n</table>\n</div>"
          },
          "metadata": {},
          "execution_count": 125
        }
      ]
    },
    {
      "cell_type": "code",
      "execution_count": 68,
      "metadata": {},
      "outputs": [
        {
          "output_type": "execute_result",
          "data": {
            "text/plain": "-0.8146023415070627"
          },
          "metadata": {},
          "execution_count": 68
        }
      ],
      "source": [
        "cos_sim(w2v.df.loc['you'], w2v.df.loc['will'])"
      ]
    },
    {
      "cell_type": "code",
      "execution_count": 30,
      "metadata": {},
      "outputs": [
        {
          "output_type": "execute_result",
          "data": {
            "text/plain": "0.36650149293977824"
          },
          "metadata": {},
          "execution_count": 30
        }
      ],
      "source": [
        "cos_sim(w2v.df.loc['never'], w2v.df.loc['try'])"
      ]
    },
    {
      "cell_type": "markdown",
      "metadata": {},
      "source": [
        "## 대량 Corpus 처리"
      ]
    },
    {
      "cell_type": "code",
      "execution_count": 1,
      "metadata": {},
      "outputs": [],
      "source": [
        "def search(dirname):\n",
        "    filenames = os.listdir(dirname)\n",
        "    fl = []\n",
        "    for filename in filenames:\n",
        "        fl.append(os.path.join(dirname, filename))\n",
        "    \n",
        "    return fl"
      ]
    },
    {
      "cell_type": "code",
      "execution_count": 6,
      "metadata": {
        "tags": []
      },
      "outputs": [],
      "source": []
    },
    {
      "cell_type": "code",
      "execution_count": 2,
      "metadata": {
        "tags": []
      },
      "outputs": [],
      "source": [
        "# pip install -U nltk\n",
        "\n",
        "# import nltk\n",
        "# nltk.download('stopwords')\n",
        "# nltk.download('punkt')\n",
        "\n",
        "from nltk.corpus import stopwords\n",
        "stop_words = set(stopwords.words('english'))"
      ]
    },
    {
      "cell_type": "code",
      "execution_count": 3,
      "metadata": {},
      "outputs": [],
      "source": [
        "folders = search(r'C:\\Users\\student\\Downloads\\text')\n",
        "\n",
        "files=[]\n",
        "for f in folders:\n",
        "    files.extend(search(f))"
      ]
    },
    {
      "cell_type": "code",
      "execution_count": 5,
      "metadata": {},
      "outputs": [
        {
          "output_type": "execute_result",
          "data": {
            "text/plain": "13864"
          },
          "metadata": {},
          "execution_count": 5
        }
      ],
      "source": [
        "len(files)"
      ]
    },
    {
      "cell_type": "code",
      "execution_count": 4,
      "metadata": {},
      "outputs": [],
      "source": [
        "# Batch Size만큼 뽑아서 사용\n",
        "batch_size = 100\n",
        "batch = 0\n",
        "datas = []\n",
        "for i, fi in enumerate(files):\n",
        "    if i == batch_size:\n",
        "        break\n",
        "    with open(fi, 'rb') as f:\n",
        "        datas.append(f.readlines())\n"
      ]
    },
    {
      "cell_type": "code",
      "execution_count": 6,
      "metadata": {},
      "outputs": [
        {
          "output_type": "execute_result",
          "data": {
            "text/plain": "100"
          },
          "metadata": {},
          "execution_count": 6
        }
      ],
      "source": [
        "len(datas)"
      ]
    },
    {
      "cell_type": "code",
      "execution_count": 7,
      "metadata": {},
      "outputs": [],
      "source": [
        "import re"
      ]
    },
    {
      "cell_type": "code",
      "execution_count": 8,
      "metadata": {},
      "outputs": [],
      "source": [
        "mass_token = []"
      ]
    },
    {
      "cell_type": "code",
      "execution_count": 9,
      "metadata": {},
      "outputs": [],
      "source": [
        "for data in datas:\n",
        "    for d in data:\n",
        "        temps = re.finditer('[a-z][^ ]*[a-z]', d.decode())\n",
        "        for temp in temps:\n",
        "            mass_token.append(temp.group())"
      ]
    },
    {
      "cell_type": "code",
      "execution_count": 110,
      "metadata": {},
      "outputs": [],
      "source": [
        "# mass_token[-50:]"
      ]
    },
    {
      "cell_type": "code",
      "execution_count": 10,
      "metadata": {},
      "outputs": [
        {
          "output_type": "execute_result",
          "data": {
            "text/plain": "15203656"
          },
          "metadata": {},
          "execution_count": 10
        }
      ],
      "source": [
        "len(mass_token)"
      ]
    },
    {
      "cell_type": "code",
      "execution_count": 11,
      "metadata": {},
      "outputs": [],
      "source": [
        "def is_stopword(n):\n",
        "    return True if n not in stop_words else False\n",
        "\n",
        "mass_token = list(filter(is_stopword, mass_token))"
      ]
    },
    {
      "cell_type": "code",
      "execution_count": 12,
      "metadata": {},
      "outputs": [
        {
          "output_type": "execute_result",
          "data": {
            "text/plain": "9113725"
          },
          "metadata": {},
          "execution_count": 12
        }
      ],
      "source": [
        "len(mass_token)"
      ]
    },
    {
      "cell_type": "code",
      "execution_count": 14,
      "metadata": {},
      "outputs": [],
      "source": [
        "unique_token = list(set(mass_token))"
      ]
    },
    {
      "cell_type": "code",
      "execution_count": 15,
      "metadata": {},
      "outputs": [
        {
          "output_type": "execute_result",
          "data": {
            "text/plain": "308815"
          },
          "metadata": {},
          "execution_count": 15
        }
      ],
      "source": [
        "len(unique_token)"
      ]
    },
    {
      "cell_type": "code",
      "execution_count": 17,
      "metadata": {},
      "outputs": [
        {
          "output_type": "execute_result",
          "data": {
            "text/plain": "LabelEncoder()"
          },
          "metadata": {},
          "execution_count": 17
        }
      ],
      "source": [
        "from sklearn.preprocessing import LabelEncoder\n",
        "\n",
        "l = LabelEncoder()\n",
        "l.fit(unique_token)"
      ]
    },
    {
      "cell_type": "code",
      "execution_count": 19,
      "metadata": {},
      "outputs": [
        {
          "output_type": "execute_result",
          "data": {
            "text/plain": "array([226791,   3733,  77472, ..., 148879, 213888,  17485], dtype=int64)"
          },
          "metadata": {},
          "execution_count": 19
        }
      ],
      "source": [
        "l.transform(unique_token)"
      ]
    },
    {
      "cell_type": "code",
      "execution_count": 23,
      "metadata": {},
      "outputs": [
        {
          "output_type": "execute_result",
          "data": {
            "text/plain": "'a\"\"b'"
          },
          "metadata": {},
          "execution_count": 23
        }
      ],
      "source": [
        "l.classes_[1]"
      ]
    },
    {
      "cell_type": "code",
      "execution_count": 12,
      "metadata": {
        "tags": []
      },
      "outputs": [],
      "source": [
        "class Word2Vec():\n",
        "    def __init__(self, H = 4, r = 0.03, t = 2):\n",
        "        self.H = H\n",
        "        self.r = r\n",
        "        self.t = t\n",
        "        return\n",
        "\n",
        "    def mkdatas(self, data):\n",
        "        tokens = data.split()\n",
        "        categories = list(OrderedDict((element, None) for element in tokens))\n",
        "        X = np.array(tokens).reshape(-1,1)\n",
        "        enc = OneHotEncoder(handle_unknown='ignore') # handle_unknown='ignore'\n",
        "        word_vec = enc.fit_transform(X).toarray().T\n",
        "        df = pd.DataFrame(word_vec, index = enc.categories_)\n",
        "        final_vec = np.matrix(df.T[categories])\n",
        "        self.categories = categories\n",
        "        X_data, y_data = mktraindata(final_vec, self.t)\n",
        "        return X_data, y_data\n",
        "\n",
        "    def fit(self, X_data, y_data):\n",
        "        # Hidden Node 수 (차원 수), Learning Rate\n",
        "        H, r = self.H, self.r\n",
        "\n",
        "        # Weight (단어벡터)\n",
        "        weight = np.random.random(size = (len(self.categories), H))\n",
        "        hidden = np.dot(X_data, weight)\n",
        "\n",
        "        # h_weight\n",
        "        h_weight = np.random.random(size = (H, len(self.categories)))\n",
        "\n",
        "        output = np.dot(hidden, h_weight)\n",
        "        result = np.matrix(list(map(softmax, output[:,].getA())))\n",
        "        \n",
        "        loss_history = []\n",
        "        loss_history.append(-np.multiply(y_data, np.log(result)).sum())\n",
        "\n",
        "        epocks = 10000\n",
        "        for epock in range(epocks):\n",
        "            temp = (result-y_data).dot(h_weight.T)\n",
        "            w_grad = X_data.T.dot(temp)\n",
        "            h_grad = hidden.T.dot(result-y_data)\n",
        "\n",
        "            # weight 업데이트\n",
        "            weight -= r*w_grad\n",
        "            h_weight -= r*h_grad\n",
        "            \n",
        "            hidden = np.dot(X_data, weight)\n",
        "            output = np.dot(hidden, h_weight)\n",
        "            result = np.matrix(list(map(softmax, output[:,].getA())))\n",
        "\n",
        "            loss_history.append(-np.multiply(y_data, np.log(result)).sum())\n",
        "\n",
        "        self.loss_history = loss_history\n",
        "        self.df = pd.DataFrame(weight, index = self.categories)\n",
        "        return self.df\n",
        "\n",
        "    def loss_graph(self):\n",
        "        plt.plot(self.loss_history)\n",
        "        plt.title('Loss')\n",
        "        plt.show()\n",
        "\n",
        "\n",
        "    def word_sim(self):\n",
        "        res = []\n",
        "        for c1 in self.categories:\n",
        "            for c2 in self.categories:\n",
        "                res.append(cos_sim(self.df.loc[c1], self.df.loc[c2]))\n",
        "\n",
        "        return pd.DataFrame(np.asarray(res).reshape(len(self.categories), len(self.categories)), index = self.categories, columns = self.categories)\n"
      ]
    },
    {
      "cell_type": "code",
      "execution_count": null,
      "metadata": {},
      "outputs": [],
      "source": []
    },
    {
      "cell_type": "code",
      "execution_count": 108,
      "metadata": {
        "tags": []
      },
      "outputs": [
        {
          "output_type": "stream",
          "name": "stderr",
          "text": "[nltk_data] Downloading package averaged_perceptron_tagger to\n[nltk_data]     C:\\Users\\student\\AppData\\Roaming\\nltk_data...\n[nltk_data]   Package averaged_perceptron_tagger is already up-to-\n[nltk_data]       date!\n100%|██████████| 10000/10000 [00:03<00:00, 2595.51it/s][[ 2.41891809e+00 -3.32432869e+00  1.05057869e+00  9.61025231e+00]\n [ 2.47478075e+00 -2.11029669e+00  2.78514103e+00  2.31000418e+00]\n [ 6.73535086e+00 -2.39914591e+00 -2.48345069e+00 -5.58767786e+00]\n [-1.77649668e+01 -4.34003268e-01  3.21365106e-02  1.70553096e+00]\n [ 1.33027524e-02  1.56578370e-01  2.50370482e-01  3.97477585e-01]\n [ 1.45110248e+01  7.69564460e+00  6.54285627e+00 -5.22521418e+00]]\n\n"
        }
      ],
      "source": [
        "from nltk.tokenize import word_tokenize\n",
        "from nltk.corpus import stopwords\n",
        "from nltk.tag import pos_tag\n",
        "import nltk\n",
        "import string\n",
        "from tqdm import tqdm \n",
        "import numpy as np\n",
        "import pandas as pd\n",
        "import matplotlib.pyplot as plt\n",
        "\n",
        "class CBoW:\n",
        "    def __init__(self, doc, N_dim, N_window, alpha, epoch):\n",
        "        self.doc = doc\n",
        "        self.N_dim = N_dim\n",
        "        self.N_window = N_window\n",
        "        self.alpha = alpha\n",
        "        self.epoch = epoch\n",
        "\n",
        "    def _tokenize(self):\n",
        "        pos_unused = ['CC', 'DT']\n",
        "        stopwords = list(string.punctuation)\n",
        "        words = pos_tag(word_tokenize(self.doc))\n",
        "        words = [w[0] for w in words if w[1] not in pos_unused and w[0] not in stopwords]\n",
        "        token = np.unique(words)\n",
        "        self.token = token\n",
        "        self.words = words\n",
        "        return words, token\n",
        "\n",
        "    def _init_weight(self):\n",
        "        W1 = np.random.random_sample((len(self.token), self.N_dim))\n",
        "        W2 = np.random.random_sample((self.N_dim, len(self.token)))\n",
        "        return W1, W2\n",
        "\n",
        "    def _onehot_encoding(self):\n",
        "        one_hot = {}\n",
        "        for i, word in enumerate(self.token):\n",
        "            one_hot[word] = np.eye(len(self.token))[i]\n",
        "        return one_hot\n",
        "    \n",
        "    def _softmax(self, v):\n",
        "        return np.exp(v) / sum(np.exp(v))\n",
        "\n",
        "    def optimize(self):\n",
        "        words, token = self._tokenize()\n",
        "        one_hot = self._onehot_encoding()\n",
        "        W1, W2 = self._init_weight()\n",
        "        losses_epoch = []\n",
        "\n",
        "        for e in tqdm(range(self.epoch)):\n",
        "            losses = []\n",
        "            for i, word in enumerate(words):\n",
        "                output_vec = one_hot[word]\n",
        "                input_vec = []\n",
        "\n",
        "                for j in range(1, self.N_window+1):\n",
        "                    if i-j >= 0:\n",
        "                        input_vec.append(one_hot[words[i-j]]) # 전 단어\n",
        "                    try: input_vec.append(one_hot[words[i+j]]) # 후 단어\n",
        "                    except: pass\n",
        "                \n",
        "                H = []\n",
        "                for j in range(len(input_vec)):\n",
        "                    H.append(np.dot(input_vec[j], W1))\n",
        "                H = np.sum(H, axis=0) / len(input_vec) # 모든 window 속 단어들의 평균값\n",
        "\n",
        "                pred = self._softmax(np.dot(H, W2))\n",
        "\n",
        "                loss = -np.dot(output_vec, np.log(pred).reshape(len(pred), 1))\n",
        "                losses.extend(loss)\n",
        "                \n",
        "                gradient_W2 = np.dot(H.reshape(len(H), 1), (pred-output_vec).reshape(1, len(pred)))\n",
        "                gradient_W1 = np.dot(input_vec[j].reshape(len(input_vec[j]), 1), np.dot(W2, (pred-output_vec)).reshape(1, len(W2)))\n",
        "                \n",
        "                W2 -= self.alpha * gradient_W2\n",
        "                W1 -= self.alpha * gradient_W1\n",
        "            \n",
        "            losses_epoch.append(np.sum(losses))\n",
        "        \n",
        "        self.W1 = W1\n",
        "        self.W2 = W2\n",
        "        self.losses_epoch = losses_epoch\n",
        "\n",
        "        print(W1)\n",
        "\n",
        "    def plot(self):    \n",
        "        plt.plot(np.arange(self.epoch), self.losses_epoch)\n",
        "        plt.title(\"Loss of CBoW\", size=15)\n",
        "        plt.xlabel(\"epoch\")\n",
        "        plt.ylabel(\"Loss\")\n",
        "        plt.show()\n",
        "    \n",
        "    def similarity(self):\n",
        "        return pd.DataFrame(self.W1, index = self.token)\n",
        "    \n",
        "    def similar_tokens(self, N_similar):\n",
        "        similarity_minus = {}\n",
        "        similarity_df = {}\n",
        "\n",
        "        for i in range(len(self.token)):\n",
        "            tmp = []\n",
        "            for j in range(len(self.token)):\n",
        "                similarity = np.dot(self.W1[i], self.W1[j]) / np.linalg.norm(self.W1[i]) * np.linalg.norm(self.W1[j])\n",
        "                tmp.append(-similarity) # 순서 정렬을 위해 음수 처리\n",
        "            similarity_minus[self.token[i]] = tmp\n",
        "\n",
        "        for i, t in enumerate(self.token, N_similar):\n",
        "            tmp = np.argsort(similarity_minus[t]) # 순서대로 유사도가 높은 것\n",
        "            similarity_df[t] = self.token[np.delete(tmp, np.where(tmp == i))][:N_similar] # 같은 단어 출력 방지\n",
        "        print(pd.DataFrame(similarity_df))\n",
        "        return pd.DataFrame(similarity_df)\n",
        "\n",
        "    def accuracy(self):\n",
        "        acc = 0\n",
        "        for i in range(len(self.words)-3):\n",
        "            word_1 = np.where(self.token == self.words[i])\n",
        "            word_2 = np.where(self.token == self.words[i+1])\n",
        "            word_3 = np.where(self.token == self.words[i+2])\n",
        "            w = self.W1[word_1] - self.W1[word_2] + self.W1[word_3]\n",
        "\n",
        "            simmilar_w = []\n",
        "            for j in range(len(self.token)):\n",
        "                tmp = np.dot(w, self.W1[j]) / np.linalg.norm(w) * np.linalg.norm(self.W1[j])\n",
        "                simmilar_w.append(tmp)\n",
        "            acc += (self.token[np.argmax(simmilar_w)] == self.words[i+3]) * 1\n",
        "\n",
        "        acc = acc / (len(self.words)-3)\n",
        "        return acc\n",
        "\n",
        "\n",
        "if __name__ == \"__main__\":\n",
        "    doc = \"you will never know until you try.\"\n",
        "    nltk.download('averaged_perceptron_tagger')\n",
        "    cb = CBoW(doc, 4, 2, 0.01, 10000)\n",
        "    \n",
        "    cb.optimize()"
      ]
    },
    {
      "cell_type": "code",
      "execution_count": 109,
      "metadata": {},
      "outputs": [
        {
          "output_type": "display_data",
          "data": {
            "text/plain": "<Figure size 432x288 with 1 Axes>",
            "image/svg+xml": "<?xml version=\"1.0\" encoding=\"utf-8\" standalone=\"no\"?>\r\n<!DOCTYPE svg PUBLIC \"-//W3C//DTD SVG 1.1//EN\"\r\n  \"http://www.w3.org/Graphics/SVG/1.1/DTD/svg11.dtd\">\r\n<!-- Created with matplotlib (https://matplotlib.org/) -->\r\n<svg height=\"279.593906pt\" version=\"1.1\" viewBox=\"0 0 383.321633 279.593906\" width=\"383.321633pt\" xmlns=\"http://www.w3.org/2000/svg\" xmlns:xlink=\"http://www.w3.org/1999/xlink\">\r\n <defs>\r\n  <style type=\"text/css\">\r\n*{stroke-linecap:butt;stroke-linejoin:round;}\r\n  </style>\r\n </defs>\r\n <g id=\"figure_1\">\r\n  <g id=\"patch_1\">\r\n   <path d=\"M 0 279.593906 \r\nL 383.321633 279.593906 \r\nL 383.321633 0 \r\nL 0 0 \r\nz\r\n\" style=\"fill:none;\"/>\r\n  </g>\r\n  <g id=\"axes_1\">\r\n   <g id=\"patch_2\">\r\n    <path d=\"M 40.603125 242.037656 \r\nL 375.403125 242.037656 \r\nL 375.403125 24.597656 \r\nL 40.603125 24.597656 \r\nz\r\n\" style=\"fill:#ffffff;\"/>\r\n   </g>\r\n   <g id=\"matplotlib.axis_1\">\r\n    <g id=\"xtick_1\">\r\n     <g id=\"line2d_1\">\r\n      <defs>\r\n       <path d=\"M 0 0 \r\nL 0 3.5 \r\n\" id=\"md608ec0abb\" style=\"stroke:#000000;stroke-width:0.8;\"/>\r\n      </defs>\r\n      <g>\r\n       <use style=\"stroke:#000000;stroke-width:0.8;\" x=\"55.821307\" xlink:href=\"#md608ec0abb\" y=\"242.037656\"/>\r\n      </g>\r\n     </g>\r\n     <g id=\"text_1\">\r\n      <!-- 0 -->\r\n      <defs>\r\n       <path d=\"M 31.78125 66.40625 \r\nQ 24.171875 66.40625 20.328125 58.90625 \r\nQ 16.5 51.421875 16.5 36.375 \r\nQ 16.5 21.390625 20.328125 13.890625 \r\nQ 24.171875 6.390625 31.78125 6.390625 \r\nQ 39.453125 6.390625 43.28125 13.890625 \r\nQ 47.125 21.390625 47.125 36.375 \r\nQ 47.125 51.421875 43.28125 58.90625 \r\nQ 39.453125 66.40625 31.78125 66.40625 \r\nz\r\nM 31.78125 74.21875 \r\nQ 44.046875 74.21875 50.515625 64.515625 \r\nQ 56.984375 54.828125 56.984375 36.375 \r\nQ 56.984375 17.96875 50.515625 8.265625 \r\nQ 44.046875 -1.421875 31.78125 -1.421875 \r\nQ 19.53125 -1.421875 13.0625 8.265625 \r\nQ 6.59375 17.96875 6.59375 36.375 \r\nQ 6.59375 54.828125 13.0625 64.515625 \r\nQ 19.53125 74.21875 31.78125 74.21875 \r\nz\r\n\" id=\"DejaVuSans-48\"/>\r\n      </defs>\r\n      <g transform=\"translate(52.640057 256.636094)scale(0.1 -0.1)\">\r\n       <use xlink:href=\"#DejaVuSans-48\"/>\r\n      </g>\r\n     </g>\r\n    </g>\r\n    <g id=\"xtick_2\">\r\n     <g id=\"line2d_2\">\r\n      <g>\r\n       <use style=\"stroke:#000000;stroke-width:0.8;\" x=\"116.700122\" xlink:href=\"#md608ec0abb\" y=\"242.037656\"/>\r\n      </g>\r\n     </g>\r\n     <g id=\"text_2\">\r\n      <!-- 2000 -->\r\n      <defs>\r\n       <path d=\"M 19.1875 8.296875 \r\nL 53.609375 8.296875 \r\nL 53.609375 0 \r\nL 7.328125 0 \r\nL 7.328125 8.296875 \r\nQ 12.9375 14.109375 22.625 23.890625 \r\nQ 32.328125 33.6875 34.8125 36.53125 \r\nQ 39.546875 41.84375 41.421875 45.53125 \r\nQ 43.3125 49.21875 43.3125 52.78125 \r\nQ 43.3125 58.59375 39.234375 62.25 \r\nQ 35.15625 65.921875 28.609375 65.921875 \r\nQ 23.96875 65.921875 18.8125 64.3125 \r\nQ 13.671875 62.703125 7.8125 59.421875 \r\nL 7.8125 69.390625 \r\nQ 13.765625 71.78125 18.9375 73 \r\nQ 24.125 74.21875 28.421875 74.21875 \r\nQ 39.75 74.21875 46.484375 68.546875 \r\nQ 53.21875 62.890625 53.21875 53.421875 \r\nQ 53.21875 48.921875 51.53125 44.890625 \r\nQ 49.859375 40.875 45.40625 35.40625 \r\nQ 44.1875 33.984375 37.640625 27.21875 \r\nQ 31.109375 20.453125 19.1875 8.296875 \r\nz\r\n\" id=\"DejaVuSans-50\"/>\r\n      </defs>\r\n      <g transform=\"translate(103.975122 256.636094)scale(0.1 -0.1)\">\r\n       <use xlink:href=\"#DejaVuSans-50\"/>\r\n       <use x=\"63.623047\" xlink:href=\"#DejaVuSans-48\"/>\r\n       <use x=\"127.246094\" xlink:href=\"#DejaVuSans-48\"/>\r\n       <use x=\"190.869141\" xlink:href=\"#DejaVuSans-48\"/>\r\n      </g>\r\n     </g>\r\n    </g>\r\n    <g id=\"xtick_3\">\r\n     <g id=\"line2d_3\">\r\n      <g>\r\n       <use style=\"stroke:#000000;stroke-width:0.8;\" x=\"177.578937\" xlink:href=\"#md608ec0abb\" y=\"242.037656\"/>\r\n      </g>\r\n     </g>\r\n     <g id=\"text_3\">\r\n      <!-- 4000 -->\r\n      <defs>\r\n       <path d=\"M 37.796875 64.3125 \r\nL 12.890625 25.390625 \r\nL 37.796875 25.390625 \r\nz\r\nM 35.203125 72.90625 \r\nL 47.609375 72.90625 \r\nL 47.609375 25.390625 \r\nL 58.015625 25.390625 \r\nL 58.015625 17.1875 \r\nL 47.609375 17.1875 \r\nL 47.609375 0 \r\nL 37.796875 0 \r\nL 37.796875 17.1875 \r\nL 4.890625 17.1875 \r\nL 4.890625 26.703125 \r\nz\r\n\" id=\"DejaVuSans-52\"/>\r\n      </defs>\r\n      <g transform=\"translate(164.853937 256.636094)scale(0.1 -0.1)\">\r\n       <use xlink:href=\"#DejaVuSans-52\"/>\r\n       <use x=\"63.623047\" xlink:href=\"#DejaVuSans-48\"/>\r\n       <use x=\"127.246094\" xlink:href=\"#DejaVuSans-48\"/>\r\n       <use x=\"190.869141\" xlink:href=\"#DejaVuSans-48\"/>\r\n      </g>\r\n     </g>\r\n    </g>\r\n    <g id=\"xtick_4\">\r\n     <g id=\"line2d_4\">\r\n      <g>\r\n       <use style=\"stroke:#000000;stroke-width:0.8;\" x=\"238.457752\" xlink:href=\"#md608ec0abb\" y=\"242.037656\"/>\r\n      </g>\r\n     </g>\r\n     <g id=\"text_4\">\r\n      <!-- 6000 -->\r\n      <defs>\r\n       <path d=\"M 33.015625 40.375 \r\nQ 26.375 40.375 22.484375 35.828125 \r\nQ 18.609375 31.296875 18.609375 23.390625 \r\nQ 18.609375 15.53125 22.484375 10.953125 \r\nQ 26.375 6.390625 33.015625 6.390625 \r\nQ 39.65625 6.390625 43.53125 10.953125 \r\nQ 47.40625 15.53125 47.40625 23.390625 \r\nQ 47.40625 31.296875 43.53125 35.828125 \r\nQ 39.65625 40.375 33.015625 40.375 \r\nz\r\nM 52.59375 71.296875 \r\nL 52.59375 62.3125 \r\nQ 48.875 64.0625 45.09375 64.984375 \r\nQ 41.3125 65.921875 37.59375 65.921875 \r\nQ 27.828125 65.921875 22.671875 59.328125 \r\nQ 17.53125 52.734375 16.796875 39.40625 \r\nQ 19.671875 43.65625 24.015625 45.921875 \r\nQ 28.375 48.1875 33.59375 48.1875 \r\nQ 44.578125 48.1875 50.953125 41.515625 \r\nQ 57.328125 34.859375 57.328125 23.390625 \r\nQ 57.328125 12.15625 50.6875 5.359375 \r\nQ 44.046875 -1.421875 33.015625 -1.421875 \r\nQ 20.359375 -1.421875 13.671875 8.265625 \r\nQ 6.984375 17.96875 6.984375 36.375 \r\nQ 6.984375 53.65625 15.1875 63.9375 \r\nQ 23.390625 74.21875 37.203125 74.21875 \r\nQ 40.921875 74.21875 44.703125 73.484375 \r\nQ 48.484375 72.75 52.59375 71.296875 \r\nz\r\n\" id=\"DejaVuSans-54\"/>\r\n      </defs>\r\n      <g transform=\"translate(225.732752 256.636094)scale(0.1 -0.1)\">\r\n       <use xlink:href=\"#DejaVuSans-54\"/>\r\n       <use x=\"63.623047\" xlink:href=\"#DejaVuSans-48\"/>\r\n       <use x=\"127.246094\" xlink:href=\"#DejaVuSans-48\"/>\r\n       <use x=\"190.869141\" xlink:href=\"#DejaVuSans-48\"/>\r\n      </g>\r\n     </g>\r\n    </g>\r\n    <g id=\"xtick_5\">\r\n     <g id=\"line2d_5\">\r\n      <g>\r\n       <use style=\"stroke:#000000;stroke-width:0.8;\" x=\"299.336567\" xlink:href=\"#md608ec0abb\" y=\"242.037656\"/>\r\n      </g>\r\n     </g>\r\n     <g id=\"text_5\">\r\n      <!-- 8000 -->\r\n      <defs>\r\n       <path d=\"M 31.78125 34.625 \r\nQ 24.75 34.625 20.71875 30.859375 \r\nQ 16.703125 27.09375 16.703125 20.515625 \r\nQ 16.703125 13.921875 20.71875 10.15625 \r\nQ 24.75 6.390625 31.78125 6.390625 \r\nQ 38.8125 6.390625 42.859375 10.171875 \r\nQ 46.921875 13.96875 46.921875 20.515625 \r\nQ 46.921875 27.09375 42.890625 30.859375 \r\nQ 38.875 34.625 31.78125 34.625 \r\nz\r\nM 21.921875 38.8125 \r\nQ 15.578125 40.375 12.03125 44.71875 \r\nQ 8.5 49.078125 8.5 55.328125 \r\nQ 8.5 64.0625 14.71875 69.140625 \r\nQ 20.953125 74.21875 31.78125 74.21875 \r\nQ 42.671875 74.21875 48.875 69.140625 \r\nQ 55.078125 64.0625 55.078125 55.328125 \r\nQ 55.078125 49.078125 51.53125 44.71875 \r\nQ 48 40.375 41.703125 38.8125 \r\nQ 48.828125 37.15625 52.796875 32.3125 \r\nQ 56.78125 27.484375 56.78125 20.515625 \r\nQ 56.78125 9.90625 50.3125 4.234375 \r\nQ 43.84375 -1.421875 31.78125 -1.421875 \r\nQ 19.734375 -1.421875 13.25 4.234375 \r\nQ 6.78125 9.90625 6.78125 20.515625 \r\nQ 6.78125 27.484375 10.78125 32.3125 \r\nQ 14.796875 37.15625 21.921875 38.8125 \r\nz\r\nM 18.3125 54.390625 \r\nQ 18.3125 48.734375 21.84375 45.5625 \r\nQ 25.390625 42.390625 31.78125 42.390625 \r\nQ 38.140625 42.390625 41.71875 45.5625 \r\nQ 45.3125 48.734375 45.3125 54.390625 \r\nQ 45.3125 60.0625 41.71875 63.234375 \r\nQ 38.140625 66.40625 31.78125 66.40625 \r\nQ 25.390625 66.40625 21.84375 63.234375 \r\nQ 18.3125 60.0625 18.3125 54.390625 \r\nz\r\n\" id=\"DejaVuSans-56\"/>\r\n      </defs>\r\n      <g transform=\"translate(286.611567 256.636094)scale(0.1 -0.1)\">\r\n       <use xlink:href=\"#DejaVuSans-56\"/>\r\n       <use x=\"63.623047\" xlink:href=\"#DejaVuSans-48\"/>\r\n       <use x=\"127.246094\" xlink:href=\"#DejaVuSans-48\"/>\r\n       <use x=\"190.869141\" xlink:href=\"#DejaVuSans-48\"/>\r\n      </g>\r\n     </g>\r\n    </g>\r\n    <g id=\"xtick_6\">\r\n     <g id=\"line2d_6\">\r\n      <g>\r\n       <use style=\"stroke:#000000;stroke-width:0.8;\" x=\"360.215383\" xlink:href=\"#md608ec0abb\" y=\"242.037656\"/>\r\n      </g>\r\n     </g>\r\n     <g id=\"text_6\">\r\n      <!-- 10000 -->\r\n      <defs>\r\n       <path d=\"M 12.40625 8.296875 \r\nL 28.515625 8.296875 \r\nL 28.515625 63.921875 \r\nL 10.984375 60.40625 \r\nL 10.984375 69.390625 \r\nL 28.421875 72.90625 \r\nL 38.28125 72.90625 \r\nL 38.28125 8.296875 \r\nL 54.390625 8.296875 \r\nL 54.390625 0 \r\nL 12.40625 0 \r\nz\r\n\" id=\"DejaVuSans-49\"/>\r\n      </defs>\r\n      <g transform=\"translate(344.309133 256.636094)scale(0.1 -0.1)\">\r\n       <use xlink:href=\"#DejaVuSans-49\"/>\r\n       <use x=\"63.623047\" xlink:href=\"#DejaVuSans-48\"/>\r\n       <use x=\"127.246094\" xlink:href=\"#DejaVuSans-48\"/>\r\n       <use x=\"190.869141\" xlink:href=\"#DejaVuSans-48\"/>\r\n       <use x=\"254.492188\" xlink:href=\"#DejaVuSans-48\"/>\r\n      </g>\r\n     </g>\r\n    </g>\r\n    <g id=\"text_7\">\r\n     <!-- epoch -->\r\n     <defs>\r\n      <path d=\"M 56.203125 29.59375 \r\nL 56.203125 25.203125 \r\nL 14.890625 25.203125 \r\nQ 15.484375 15.921875 20.484375 11.0625 \r\nQ 25.484375 6.203125 34.421875 6.203125 \r\nQ 39.59375 6.203125 44.453125 7.46875 \r\nQ 49.3125 8.734375 54.109375 11.28125 \r\nL 54.109375 2.78125 \r\nQ 49.265625 0.734375 44.1875 -0.34375 \r\nQ 39.109375 -1.421875 33.890625 -1.421875 \r\nQ 20.796875 -1.421875 13.15625 6.1875 \r\nQ 5.515625 13.8125 5.515625 26.8125 \r\nQ 5.515625 40.234375 12.765625 48.109375 \r\nQ 20.015625 56 32.328125 56 \r\nQ 43.359375 56 49.78125 48.890625 \r\nQ 56.203125 41.796875 56.203125 29.59375 \r\nz\r\nM 47.21875 32.234375 \r\nQ 47.125 39.59375 43.09375 43.984375 \r\nQ 39.0625 48.390625 32.421875 48.390625 \r\nQ 24.90625 48.390625 20.390625 44.140625 \r\nQ 15.875 39.890625 15.1875 32.171875 \r\nz\r\n\" id=\"DejaVuSans-101\"/>\r\n      <path d=\"M 18.109375 8.203125 \r\nL 18.109375 -20.796875 \r\nL 9.078125 -20.796875 \r\nL 9.078125 54.6875 \r\nL 18.109375 54.6875 \r\nL 18.109375 46.390625 \r\nQ 20.953125 51.265625 25.265625 53.625 \r\nQ 29.59375 56 35.59375 56 \r\nQ 45.5625 56 51.78125 48.09375 \r\nQ 58.015625 40.1875 58.015625 27.296875 \r\nQ 58.015625 14.40625 51.78125 6.484375 \r\nQ 45.5625 -1.421875 35.59375 -1.421875 \r\nQ 29.59375 -1.421875 25.265625 0.953125 \r\nQ 20.953125 3.328125 18.109375 8.203125 \r\nz\r\nM 48.6875 27.296875 \r\nQ 48.6875 37.203125 44.609375 42.84375 \r\nQ 40.53125 48.484375 33.40625 48.484375 \r\nQ 26.265625 48.484375 22.1875 42.84375 \r\nQ 18.109375 37.203125 18.109375 27.296875 \r\nQ 18.109375 17.390625 22.1875 11.75 \r\nQ 26.265625 6.109375 33.40625 6.109375 \r\nQ 40.53125 6.109375 44.609375 11.75 \r\nQ 48.6875 17.390625 48.6875 27.296875 \r\nz\r\n\" id=\"DejaVuSans-112\"/>\r\n      <path d=\"M 30.609375 48.390625 \r\nQ 23.390625 48.390625 19.1875 42.75 \r\nQ 14.984375 37.109375 14.984375 27.296875 \r\nQ 14.984375 17.484375 19.15625 11.84375 \r\nQ 23.34375 6.203125 30.609375 6.203125 \r\nQ 37.796875 6.203125 41.984375 11.859375 \r\nQ 46.1875 17.53125 46.1875 27.296875 \r\nQ 46.1875 37.015625 41.984375 42.703125 \r\nQ 37.796875 48.390625 30.609375 48.390625 \r\nz\r\nM 30.609375 56 \r\nQ 42.328125 56 49.015625 48.375 \r\nQ 55.71875 40.765625 55.71875 27.296875 \r\nQ 55.71875 13.875 49.015625 6.21875 \r\nQ 42.328125 -1.421875 30.609375 -1.421875 \r\nQ 18.84375 -1.421875 12.171875 6.21875 \r\nQ 5.515625 13.875 5.515625 27.296875 \r\nQ 5.515625 40.765625 12.171875 48.375 \r\nQ 18.84375 56 30.609375 56 \r\nz\r\n\" id=\"DejaVuSans-111\"/>\r\n      <path d=\"M 48.78125 52.59375 \r\nL 48.78125 44.1875 \r\nQ 44.96875 46.296875 41.140625 47.34375 \r\nQ 37.3125 48.390625 33.40625 48.390625 \r\nQ 24.65625 48.390625 19.8125 42.84375 \r\nQ 14.984375 37.3125 14.984375 27.296875 \r\nQ 14.984375 17.28125 19.8125 11.734375 \r\nQ 24.65625 6.203125 33.40625 6.203125 \r\nQ 37.3125 6.203125 41.140625 7.25 \r\nQ 44.96875 8.296875 48.78125 10.40625 \r\nL 48.78125 2.09375 \r\nQ 45.015625 0.34375 40.984375 -0.53125 \r\nQ 36.96875 -1.421875 32.421875 -1.421875 \r\nQ 20.0625 -1.421875 12.78125 6.34375 \r\nQ 5.515625 14.109375 5.515625 27.296875 \r\nQ 5.515625 40.671875 12.859375 48.328125 \r\nQ 20.21875 56 33.015625 56 \r\nQ 37.15625 56 41.109375 55.140625 \r\nQ 45.0625 54.296875 48.78125 52.59375 \r\nz\r\n\" id=\"DejaVuSans-99\"/>\r\n      <path d=\"M 54.890625 33.015625 \r\nL 54.890625 0 \r\nL 45.90625 0 \r\nL 45.90625 32.71875 \r\nQ 45.90625 40.484375 42.875 44.328125 \r\nQ 39.84375 48.1875 33.796875 48.1875 \r\nQ 26.515625 48.1875 22.3125 43.546875 \r\nQ 18.109375 38.921875 18.109375 30.90625 \r\nL 18.109375 0 \r\nL 9.078125 0 \r\nL 9.078125 75.984375 \r\nL 18.109375 75.984375 \r\nL 18.109375 46.1875 \r\nQ 21.34375 51.125 25.703125 53.5625 \r\nQ 30.078125 56 35.796875 56 \r\nQ 45.21875 56 50.046875 50.171875 \r\nQ 54.890625 44.34375 54.890625 33.015625 \r\nz\r\n\" id=\"DejaVuSans-104\"/>\r\n     </defs>\r\n     <g transform=\"translate(192.775 270.314219)scale(0.1 -0.1)\">\r\n      <use xlink:href=\"#DejaVuSans-101\"/>\r\n      <use x=\"61.523438\" xlink:href=\"#DejaVuSans-112\"/>\r\n      <use x=\"125\" xlink:href=\"#DejaVuSans-111\"/>\r\n      <use x=\"186.181641\" xlink:href=\"#DejaVuSans-99\"/>\r\n      <use x=\"241.162109\" xlink:href=\"#DejaVuSans-104\"/>\r\n     </g>\r\n    </g>\r\n   </g>\r\n   <g id=\"matplotlib.axis_2\">\r\n    <g id=\"ytick_1\">\r\n     <g id=\"line2d_7\">\r\n      <defs>\r\n       <path d=\"M 0 0 \r\nL -3.5 0 \r\n\" id=\"mb3b35935e7\" style=\"stroke:#000000;stroke-width:0.8;\"/>\r\n      </defs>\r\n      <g>\r\n       <use style=\"stroke:#000000;stroke-width:0.8;\" x=\"40.603125\" xlink:href=\"#mb3b35935e7\" y=\"232.674651\"/>\r\n      </g>\r\n     </g>\r\n     <g id=\"text_8\">\r\n      <!-- 0 -->\r\n      <g transform=\"translate(27.240625 236.47387)scale(0.1 -0.1)\">\r\n       <use xlink:href=\"#DejaVuSans-48\"/>\r\n      </g>\r\n     </g>\r\n    </g>\r\n    <g id=\"ytick_2\">\r\n     <g id=\"line2d_8\">\r\n      <g>\r\n       <use style=\"stroke:#000000;stroke-width:0.8;\" x=\"40.603125\" xlink:href=\"#mb3b35935e7\" y=\"201.813041\"/>\r\n      </g>\r\n     </g>\r\n     <g id=\"text_9\">\r\n      <!-- 2 -->\r\n      <g transform=\"translate(27.240625 205.61226)scale(0.1 -0.1)\">\r\n       <use xlink:href=\"#DejaVuSans-50\"/>\r\n      </g>\r\n     </g>\r\n    </g>\r\n    <g id=\"ytick_3\">\r\n     <g id=\"line2d_9\">\r\n      <g>\r\n       <use style=\"stroke:#000000;stroke-width:0.8;\" x=\"40.603125\" xlink:href=\"#mb3b35935e7\" y=\"170.951431\"/>\r\n      </g>\r\n     </g>\r\n     <g id=\"text_10\">\r\n      <!-- 4 -->\r\n      <g transform=\"translate(27.240625 174.75065)scale(0.1 -0.1)\">\r\n       <use xlink:href=\"#DejaVuSans-52\"/>\r\n      </g>\r\n     </g>\r\n    </g>\r\n    <g id=\"ytick_4\">\r\n     <g id=\"line2d_10\">\r\n      <g>\r\n       <use style=\"stroke:#000000;stroke-width:0.8;\" x=\"40.603125\" xlink:href=\"#mb3b35935e7\" y=\"140.089821\"/>\r\n      </g>\r\n     </g>\r\n     <g id=\"text_11\">\r\n      <!-- 6 -->\r\n      <g transform=\"translate(27.240625 143.88904)scale(0.1 -0.1)\">\r\n       <use xlink:href=\"#DejaVuSans-54\"/>\r\n      </g>\r\n     </g>\r\n    </g>\r\n    <g id=\"ytick_5\">\r\n     <g id=\"line2d_11\">\r\n      <g>\r\n       <use style=\"stroke:#000000;stroke-width:0.8;\" x=\"40.603125\" xlink:href=\"#mb3b35935e7\" y=\"109.228211\"/>\r\n      </g>\r\n     </g>\r\n     <g id=\"text_12\">\r\n      <!-- 8 -->\r\n      <g transform=\"translate(27.240625 113.02743)scale(0.1 -0.1)\">\r\n       <use xlink:href=\"#DejaVuSans-56\"/>\r\n      </g>\r\n     </g>\r\n    </g>\r\n    <g id=\"ytick_6\">\r\n     <g id=\"line2d_12\">\r\n      <g>\r\n       <use style=\"stroke:#000000;stroke-width:0.8;\" x=\"40.603125\" xlink:href=\"#mb3b35935e7\" y=\"78.366601\"/>\r\n      </g>\r\n     </g>\r\n     <g id=\"text_13\">\r\n      <!-- 10 -->\r\n      <g transform=\"translate(20.878125 82.16582)scale(0.1 -0.1)\">\r\n       <use xlink:href=\"#DejaVuSans-49\"/>\r\n       <use x=\"63.623047\" xlink:href=\"#DejaVuSans-48\"/>\r\n      </g>\r\n     </g>\r\n    </g>\r\n    <g id=\"ytick_7\">\r\n     <g id=\"line2d_13\">\r\n      <g>\r\n       <use style=\"stroke:#000000;stroke-width:0.8;\" x=\"40.603125\" xlink:href=\"#mb3b35935e7\" y=\"47.504991\"/>\r\n      </g>\r\n     </g>\r\n     <g id=\"text_14\">\r\n      <!-- 12 -->\r\n      <g transform=\"translate(20.878125 51.30421)scale(0.1 -0.1)\">\r\n       <use xlink:href=\"#DejaVuSans-49\"/>\r\n       <use x=\"63.623047\" xlink:href=\"#DejaVuSans-50\"/>\r\n      </g>\r\n     </g>\r\n    </g>\r\n    <g id=\"text_15\">\r\n     <!-- Loss -->\r\n     <defs>\r\n      <path d=\"M 9.8125 72.90625 \r\nL 19.671875 72.90625 \r\nL 19.671875 8.296875 \r\nL 55.171875 8.296875 \r\nL 55.171875 0 \r\nL 9.8125 0 \r\nz\r\n\" id=\"DejaVuSans-76\"/>\r\n      <path d=\"M 44.28125 53.078125 \r\nL 44.28125 44.578125 \r\nQ 40.484375 46.53125 36.375 47.5 \r\nQ 32.28125 48.484375 27.875 48.484375 \r\nQ 21.1875 48.484375 17.84375 46.4375 \r\nQ 14.5 44.390625 14.5 40.28125 \r\nQ 14.5 37.15625 16.890625 35.375 \r\nQ 19.28125 33.59375 26.515625 31.984375 \r\nL 29.59375 31.296875 \r\nQ 39.15625 29.25 43.1875 25.515625 \r\nQ 47.21875 21.78125 47.21875 15.09375 \r\nQ 47.21875 7.46875 41.1875 3.015625 \r\nQ 35.15625 -1.421875 24.609375 -1.421875 \r\nQ 20.21875 -1.421875 15.453125 -0.5625 \r\nQ 10.6875 0.296875 5.421875 2 \r\nL 5.421875 11.28125 \r\nQ 10.40625 8.6875 15.234375 7.390625 \r\nQ 20.0625 6.109375 24.8125 6.109375 \r\nQ 31.15625 6.109375 34.5625 8.28125 \r\nQ 37.984375 10.453125 37.984375 14.40625 \r\nQ 37.984375 18.0625 35.515625 20.015625 \r\nQ 33.0625 21.96875 24.703125 23.78125 \r\nL 21.578125 24.515625 \r\nQ 13.234375 26.265625 9.515625 29.90625 \r\nQ 5.8125 33.546875 5.8125 39.890625 \r\nQ 5.8125 47.609375 11.28125 51.796875 \r\nQ 16.75 56 26.8125 56 \r\nQ 31.78125 56 36.171875 55.265625 \r\nQ 40.578125 54.546875 44.28125 53.078125 \r\nz\r\n\" id=\"DejaVuSans-115\"/>\r\n     </defs>\r\n     <g transform=\"translate(14.798438 144.371563)rotate(-90)scale(0.1 -0.1)\">\r\n      <use xlink:href=\"#DejaVuSans-76\"/>\r\n      <use x=\"55.697266\" xlink:href=\"#DejaVuSans-111\"/>\r\n      <use x=\"116.878906\" xlink:href=\"#DejaVuSans-115\"/>\r\n      <use x=\"168.978516\" xlink:href=\"#DejaVuSans-115\"/>\r\n     </g>\r\n    </g>\r\n   </g>\r\n   <g id=\"line2d_14\">\r\n    <path clip-path=\"url(#pc914d05a8d)\" d=\"M 55.821307 34.481293 \r\nL 56.399656 38.02192 \r\nL 57.038883 40.625027 \r\nL 57.830308 42.916447 \r\nL 60.113263 49.00203 \r\nL 60.904688 52.085461 \r\nL 61.696112 56.124281 \r\nL 62.548416 61.738535 \r\nL 63.552916 69.992949 \r\nL 69.03201 118.102339 \r\nL 73.780557 154.846677 \r\nL 77.007134 178.299399 \r\nL 78.529105 187.82995 \r\nL 79.746681 194.111429 \r\nL 80.903379 198.949041 \r\nL 82.060076 202.861567 \r\nL 83.277652 206.208183 \r\nL 84.556108 209.084799 \r\nL 85.925881 211.627239 \r\nL 87.386972 213.874962 \r\nL 88.939382 215.860033 \r\nL 90.61355 217.638421 \r\nL 92.409475 219.21894 \r\nL 94.357597 220.63487 \r\nL 96.518795 221.925275 \r\nL 98.923508 223.097336 \r\nL 101.663055 224.179024 \r\nL 104.798314 225.172448 \r\nL 108.451043 226.091141 \r\nL 112.773438 226.942293 \r\nL 117.948138 227.727583 \r\nL 124.249095 228.45122 \r\nL 132.041583 229.114237 \r\nL 141.873512 229.718608 \r\nL 154.566745 230.265373 \r\nL 171.338859 230.753434 \r\nL 194.229293 231.183829 \r\nL 226.708141 231.557132 \r\nL 275.167678 231.874331 \r\nL 352.240258 232.135768 \r\nL 360.184943 232.15402 \r\nL 360.184943 232.15402 \r\n\" style=\"fill:none;stroke:#1f77b4;stroke-linecap:square;stroke-width:1.5;\"/>\r\n   </g>\r\n   <g id=\"patch_3\">\r\n    <path d=\"M 40.603125 242.037656 \r\nL 40.603125 24.597656 \r\n\" style=\"fill:none;stroke:#000000;stroke-linecap:square;stroke-linejoin:miter;stroke-width:0.8;\"/>\r\n   </g>\r\n   <g id=\"patch_4\">\r\n    <path d=\"M 375.403125 242.037656 \r\nL 375.403125 24.597656 \r\n\" style=\"fill:none;stroke:#000000;stroke-linecap:square;stroke-linejoin:miter;stroke-width:0.8;\"/>\r\n   </g>\r\n   <g id=\"patch_5\">\r\n    <path d=\"M 40.603125 242.037656 \r\nL 375.403125 242.037656 \r\n\" style=\"fill:none;stroke:#000000;stroke-linecap:square;stroke-linejoin:miter;stroke-width:0.8;\"/>\r\n   </g>\r\n   <g id=\"patch_6\">\r\n    <path d=\"M 40.603125 24.597656 \r\nL 375.403125 24.597656 \r\n\" style=\"fill:none;stroke:#000000;stroke-linecap:square;stroke-linejoin:miter;stroke-width:0.8;\"/>\r\n   </g>\r\n   <g id=\"text_16\">\r\n    <!-- Loss of CBoW -->\r\n    <defs>\r\n     <path id=\"DejaVuSans-32\"/>\r\n     <path d=\"M 37.109375 75.984375 \r\nL 37.109375 68.5 \r\nL 28.515625 68.5 \r\nQ 23.6875 68.5 21.796875 66.546875 \r\nQ 19.921875 64.59375 19.921875 59.515625 \r\nL 19.921875 54.6875 \r\nL 34.71875 54.6875 \r\nL 34.71875 47.703125 \r\nL 19.921875 47.703125 \r\nL 19.921875 0 \r\nL 10.890625 0 \r\nL 10.890625 47.703125 \r\nL 2.296875 47.703125 \r\nL 2.296875 54.6875 \r\nL 10.890625 54.6875 \r\nL 10.890625 58.5 \r\nQ 10.890625 67.625 15.140625 71.796875 \r\nQ 19.390625 75.984375 28.609375 75.984375 \r\nz\r\n\" id=\"DejaVuSans-102\"/>\r\n     <path d=\"M 64.40625 67.28125 \r\nL 64.40625 56.890625 \r\nQ 59.421875 61.53125 53.78125 63.8125 \r\nQ 48.140625 66.109375 41.796875 66.109375 \r\nQ 29.296875 66.109375 22.65625 58.46875 \r\nQ 16.015625 50.828125 16.015625 36.375 \r\nQ 16.015625 21.96875 22.65625 14.328125 \r\nQ 29.296875 6.6875 41.796875 6.6875 \r\nQ 48.140625 6.6875 53.78125 8.984375 \r\nQ 59.421875 11.28125 64.40625 15.921875 \r\nL 64.40625 5.609375 \r\nQ 59.234375 2.09375 53.4375 0.328125 \r\nQ 47.65625 -1.421875 41.21875 -1.421875 \r\nQ 24.65625 -1.421875 15.125 8.703125 \r\nQ 5.609375 18.84375 5.609375 36.375 \r\nQ 5.609375 53.953125 15.125 64.078125 \r\nQ 24.65625 74.21875 41.21875 74.21875 \r\nQ 47.75 74.21875 53.53125 72.484375 \r\nQ 59.328125 70.75 64.40625 67.28125 \r\nz\r\n\" id=\"DejaVuSans-67\"/>\r\n     <path d=\"M 19.671875 34.8125 \r\nL 19.671875 8.109375 \r\nL 35.5 8.109375 \r\nQ 43.453125 8.109375 47.28125 11.40625 \r\nQ 51.125 14.703125 51.125 21.484375 \r\nQ 51.125 28.328125 47.28125 31.5625 \r\nQ 43.453125 34.8125 35.5 34.8125 \r\nz\r\nM 19.671875 64.796875 \r\nL 19.671875 42.828125 \r\nL 34.28125 42.828125 \r\nQ 41.5 42.828125 45.03125 45.53125 \r\nQ 48.578125 48.25 48.578125 53.8125 \r\nQ 48.578125 59.328125 45.03125 62.0625 \r\nQ 41.5 64.796875 34.28125 64.796875 \r\nz\r\nM 9.8125 72.90625 \r\nL 35.015625 72.90625 \r\nQ 46.296875 72.90625 52.390625 68.21875 \r\nQ 58.5 63.53125 58.5 54.890625 \r\nQ 58.5 48.1875 55.375 44.234375 \r\nQ 52.25 40.28125 46.1875 39.3125 \r\nQ 53.46875 37.75 57.5 32.78125 \r\nQ 61.53125 27.828125 61.53125 20.40625 \r\nQ 61.53125 10.640625 54.890625 5.3125 \r\nQ 48.25 0 35.984375 0 \r\nL 9.8125 0 \r\nz\r\n\" id=\"DejaVuSans-66\"/>\r\n     <path d=\"M 3.328125 72.90625 \r\nL 13.28125 72.90625 \r\nL 28.609375 11.28125 \r\nL 43.890625 72.90625 \r\nL 54.984375 72.90625 \r\nL 70.3125 11.28125 \r\nL 85.59375 72.90625 \r\nL 95.609375 72.90625 \r\nL 77.296875 0 \r\nL 64.890625 0 \r\nL 49.515625 63.28125 \r\nL 33.984375 0 \r\nL 21.578125 0 \r\nz\r\n\" id=\"DejaVuSans-87\"/>\r\n    </defs>\r\n    <g transform=\"translate(157.038281 18.597656)scale(0.15 -0.15)\">\r\n     <use xlink:href=\"#DejaVuSans-76\"/>\r\n     <use x=\"55.697266\" xlink:href=\"#DejaVuSans-111\"/>\r\n     <use x=\"116.878906\" xlink:href=\"#DejaVuSans-115\"/>\r\n     <use x=\"168.978516\" xlink:href=\"#DejaVuSans-115\"/>\r\n     <use x=\"221.078125\" xlink:href=\"#DejaVuSans-32\"/>\r\n     <use x=\"252.865234\" xlink:href=\"#DejaVuSans-111\"/>\r\n     <use x=\"314.046875\" xlink:href=\"#DejaVuSans-102\"/>\r\n     <use x=\"349.251953\" xlink:href=\"#DejaVuSans-32\"/>\r\n     <use x=\"381.039062\" xlink:href=\"#DejaVuSans-67\"/>\r\n     <use x=\"450.863281\" xlink:href=\"#DejaVuSans-66\"/>\r\n     <use x=\"519.466797\" xlink:href=\"#DejaVuSans-111\"/>\r\n     <use x=\"580.648438\" xlink:href=\"#DejaVuSans-87\"/>\r\n    </g>\r\n   </g>\r\n  </g>\r\n </g>\r\n <defs>\r\n  <clipPath id=\"pc914d05a8d\">\r\n   <rect height=\"217.44\" width=\"334.8\" x=\"40.603125\" y=\"24.597656\"/>\r\n  </clipPath>\r\n </defs>\r\n</svg>\r\n",
            "image/png": "[encoded data removed]"
          },
          "metadata": {
            "needs_background": "light"
          }
        }
      ],
      "source": [
        "cb.plot()\n"
      ]
    },
    {
      "cell_type": "code",
      "execution_count": 127,
      "metadata": {},
      "outputs": [],
      "source": [
        "vectors = cb.similarity()"
      ]
    },
    {
      "cell_type": "code",
      "execution_count": null,
      "metadata": {},
      "outputs": [],
      "source": []
    },
    {
      "cell_type": "code",
      "execution_count": 112,
      "metadata": {
        "tags": []
      },
      "outputs": [
        {
          "output_type": "stream",
          "name": "stdout",
          "text": "know  never    try  until   will    you\n0   know    you    try  until   know    you\n1  never   know  never   will    you    try\n2   will  never   will  never  until  never\n"
        },
        {
          "output_type": "execute_result",
          "data": {
            "text/plain": "    know  never    try  until   will    you\n0   know    you    try  until   know    you\n1  never   know  never   will    you    try\n2   will  never   will  never  until  never",
            "text/html": "<div>\n<style scoped>\n    .dataframe tbody tr th:only-of-type {\n        vertical-align: middle;\n    }\n\n    .dataframe tbody tr th {\n        vertical-align: top;\n    }\n\n    .dataframe thead th {\n        text-align: right;\n    }\n</style>\n<table border=\"1\" class=\"dataframe\">\n  <thead>\n    <tr style=\"text-align: right;\">\n      <th></th>\n      <th>know</th>\n      <th>never</th>\n      <th>try</th>\n      <th>until</th>\n      <th>will</th>\n      <th>you</th>\n    </tr>\n  </thead>\n  <tbody>\n    <tr>\n      <th>0</th>\n      <td>know</td>\n      <td>you</td>\n      <td>try</td>\n      <td>until</td>\n      <td>know</td>\n      <td>you</td>\n    </tr>\n    <tr>\n      <th>1</th>\n      <td>never</td>\n      <td>know</td>\n      <td>never</td>\n      <td>will</td>\n      <td>you</td>\n      <td>try</td>\n    </tr>\n    <tr>\n      <th>2</th>\n      <td>will</td>\n      <td>never</td>\n      <td>will</td>\n      <td>never</td>\n      <td>until</td>\n      <td>never</td>\n    </tr>\n  </tbody>\n</table>\n</div>"
          },
          "metadata": {},
          "execution_count": 112
        }
      ],
      "source": [
        "cb.similar_tokens(3)\n"
      ]
    },
    {
      "cell_type": "code",
      "execution_count": 113,
      "metadata": {},
      "outputs": [
        {
          "output_type": "execute_result",
          "data": {
            "text/plain": "0.0"
          },
          "metadata": {},
          "execution_count": 113
        }
      ],
      "source": [
        "cb.accuracy()"
      ]
    },
    {
      "cell_type": "code",
      "execution_count": 153,
      "metadata": {},
      "outputs": [],
      "source": [
        "from gensim.models.word2vec import Word2Vec\n",
        "\n",
        "model = Word2Vec(text)\n",
        "model.init_sims(replace=True)"
      ]
    },
    {
      "cell_type": "code",
      "execution_count": 158,
      "metadata": {},
      "outputs": [
        {
          "output_type": "execute_result",
          "data": {
            "text/plain": "(0, 270000)"
          },
          "metadata": {},
          "execution_count": 158
        }
      ],
      "source": [
        "model.train(text.split(), total_examples=1, epochs=10000)"
      ]
    },
    {
      "cell_type": "code",
      "execution_count": 165,
      "metadata": {},
      "outputs": [
        {
          "output_type": "execute_result",
          "data": {
            "text/plain": "{' ': <gensim.models.keyedvectors.Vocab at 0x238337aca48>}"
          },
          "metadata": {},
          "execution_count": 165
        }
      ],
      "source": [
        "model.wv.vocab"
      ]
    },
    {
      "cell_type": "code",
      "execution_count": 157,
      "metadata": {},
      "outputs": [
        {
          "output_type": "error",
          "ename": "KeyError",
          "evalue": "\"word 'you' not in vocabulary\"",
          "traceback": [
            "\u001b[1;31m---------------------------------------------------------------------------\u001b[0m",
            "\u001b[1;31mKeyError\u001b[0m                                  Traceback (most recent call last)",
            "\u001b[1;32m<ipython-input-157-dd2a85af7a46>\u001b[0m in \u001b[0;36m<module>\u001b[1;34m\u001b[0m\n\u001b[1;32m----> 1\u001b[1;33m \u001b[0mmodel\u001b[0m\u001b[1;33m.\u001b[0m\u001b[0mwv\u001b[0m\u001b[1;33m[\u001b[0m\u001b[1;34m'you'\u001b[0m\u001b[1;33m]\u001b[0m\u001b[1;33m\u001b[0m\u001b[1;33m\u001b[0m\u001b[0m\n\u001b[0m",
            "\u001b[1;32m~\\anaconda3\\lib\\site-packages\\gensim\\models\\keyedvectors.py\u001b[0m in \u001b[0;36m__getitem__\u001b[1;34m(self, entities)\u001b[0m\n\u001b[0;32m    351\u001b[0m         \u001b[1;32mif\u001b[0m \u001b[0misinstance\u001b[0m\u001b[1;33m(\u001b[0m\u001b[0mentities\u001b[0m\u001b[1;33m,\u001b[0m \u001b[0mstring_types\u001b[0m\u001b[1;33m)\u001b[0m\u001b[1;33m:\u001b[0m\u001b[1;33m\u001b[0m\u001b[1;33m\u001b[0m\u001b[0m\n\u001b[0;32m    352\u001b[0m             \u001b[1;31m# allow calls like trained_model['office'], as a shorthand for trained_model[['office']]\u001b[0m\u001b[1;33m\u001b[0m\u001b[1;33m\u001b[0m\u001b[1;33m\u001b[0m\u001b[0m\n\u001b[1;32m--> 353\u001b[1;33m             \u001b[1;32mreturn\u001b[0m \u001b[0mself\u001b[0m\u001b[1;33m.\u001b[0m\u001b[0mget_vector\u001b[0m\u001b[1;33m(\u001b[0m\u001b[0mentities\u001b[0m\u001b[1;33m)\u001b[0m\u001b[1;33m\u001b[0m\u001b[1;33m\u001b[0m\u001b[0m\n\u001b[0m\u001b[0;32m    354\u001b[0m \u001b[1;33m\u001b[0m\u001b[0m\n\u001b[0;32m    355\u001b[0m         \u001b[1;32mreturn\u001b[0m \u001b[0mvstack\u001b[0m\u001b[1;33m(\u001b[0m\u001b[1;33m[\u001b[0m\u001b[0mself\u001b[0m\u001b[1;33m.\u001b[0m\u001b[0mget_vector\u001b[0m\u001b[1;33m(\u001b[0m\u001b[0mentity\u001b[0m\u001b[1;33m)\u001b[0m \u001b[1;32mfor\u001b[0m \u001b[0mentity\u001b[0m \u001b[1;32min\u001b[0m \u001b[0mentities\u001b[0m\u001b[1;33m]\u001b[0m\u001b[1;33m)\u001b[0m\u001b[1;33m\u001b[0m\u001b[1;33m\u001b[0m\u001b[0m\n",
            "\u001b[1;32m~\\anaconda3\\lib\\site-packages\\gensim\\models\\keyedvectors.py\u001b[0m in \u001b[0;36mget_vector\u001b[1;34m(self, word)\u001b[0m\n\u001b[0;32m    469\u001b[0m \u001b[1;33m\u001b[0m\u001b[0m\n\u001b[0;32m    470\u001b[0m     \u001b[1;32mdef\u001b[0m \u001b[0mget_vector\u001b[0m\u001b[1;33m(\u001b[0m\u001b[0mself\u001b[0m\u001b[1;33m,\u001b[0m \u001b[0mword\u001b[0m\u001b[1;33m)\u001b[0m\u001b[1;33m:\u001b[0m\u001b[1;33m\u001b[0m\u001b[1;33m\u001b[0m\u001b[0m\n\u001b[1;32m--> 471\u001b[1;33m         \u001b[1;32mreturn\u001b[0m \u001b[0mself\u001b[0m\u001b[1;33m.\u001b[0m\u001b[0mword_vec\u001b[0m\u001b[1;33m(\u001b[0m\u001b[0mword\u001b[0m\u001b[1;33m)\u001b[0m\u001b[1;33m\u001b[0m\u001b[1;33m\u001b[0m\u001b[0m\n\u001b[0m\u001b[0;32m    472\u001b[0m \u001b[1;33m\u001b[0m\u001b[0m\n\u001b[0;32m    473\u001b[0m     \u001b[1;32mdef\u001b[0m \u001b[0mwords_closer_than\u001b[0m\u001b[1;33m(\u001b[0m\u001b[0mself\u001b[0m\u001b[1;33m,\u001b[0m \u001b[0mw1\u001b[0m\u001b[1;33m,\u001b[0m \u001b[0mw2\u001b[0m\u001b[1;33m)\u001b[0m\u001b[1;33m:\u001b[0m\u001b[1;33m\u001b[0m\u001b[1;33m\u001b[0m\u001b[0m\n",
            "\u001b[1;32m~\\anaconda3\\lib\\site-packages\\gensim\\models\\keyedvectors.py\u001b[0m in \u001b[0;36mword_vec\u001b[1;34m(self, word, use_norm)\u001b[0m\n\u001b[0;32m    466\u001b[0m             \u001b[1;32mreturn\u001b[0m \u001b[0mresult\u001b[0m\u001b[1;33m\u001b[0m\u001b[1;33m\u001b[0m\u001b[0m\n\u001b[0;32m    467\u001b[0m         \u001b[1;32melse\u001b[0m\u001b[1;33m:\u001b[0m\u001b[1;33m\u001b[0m\u001b[1;33m\u001b[0m\u001b[0m\n\u001b[1;32m--> 468\u001b[1;33m             \u001b[1;32mraise\u001b[0m \u001b[0mKeyError\u001b[0m\u001b[1;33m(\u001b[0m\u001b[1;34m\"word '%s' not in vocabulary\"\u001b[0m \u001b[1;33m%\u001b[0m \u001b[0mword\u001b[0m\u001b[1;33m)\u001b[0m\u001b[1;33m\u001b[0m\u001b[1;33m\u001b[0m\u001b[0m\n\u001b[0m\u001b[0;32m    469\u001b[0m \u001b[1;33m\u001b[0m\u001b[0m\n\u001b[0;32m    470\u001b[0m     \u001b[1;32mdef\u001b[0m \u001b[0mget_vector\u001b[0m\u001b[1;33m(\u001b[0m\u001b[0mself\u001b[0m\u001b[1;33m,\u001b[0m \u001b[0mword\u001b[0m\u001b[1;33m)\u001b[0m\u001b[1;33m:\u001b[0m\u001b[1;33m\u001b[0m\u001b[1;33m\u001b[0m\u001b[0m\n",
            "\u001b[1;31mKeyError\u001b[0m: \"word 'you' not in vocabulary\""
          ]
        }
      ],
      "source": [
        "model.wv['you']"
      ]
    },
    {
      "cell_type": "code",
      "execution_count": 147,
      "metadata": {},
      "outputs": [
        {
          "output_type": "execute_result",
          "data": {
            "text/plain": "<gensim.models.word2vec.Word2VecVocab at 0x238326febc8>"
          },
          "metadata": {},
          "execution_count": 147
        }
      ],
      "source": [
        "model.vocabulary"
      ]
    },
    {
      "cell_type": "code",
      "execution_count": 145,
      "metadata": {},
      "outputs": [
        {
          "output_type": "error",
          "ename": "KeyError",
          "evalue": "\"word 'you' not in vocabulary\"",
          "traceback": [
            "\u001b[1;31m---------------------------------------------------------------------------\u001b[0m",
            "\u001b[1;31mKeyError\u001b[0m                                  Traceback (most recent call last)",
            "\u001b[1;32m<ipython-input-145-ebde846f6a06>\u001b[0m in \u001b[0;36m<module>\u001b[1;34m\u001b[0m\n\u001b[1;32m----> 1\u001b[1;33m \u001b[0mmodel\u001b[0m\u001b[1;33m.\u001b[0m\u001b[0mwv\u001b[0m\u001b[1;33m.\u001b[0m\u001b[0msimilarity\u001b[0m\u001b[1;33m(\u001b[0m\u001b[1;34m'you'\u001b[0m\u001b[1;33m,\u001b[0m \u001b[1;34m'will'\u001b[0m\u001b[1;33m)\u001b[0m\u001b[1;33m\u001b[0m\u001b[1;33m\u001b[0m\u001b[0m\n\u001b[0m",
            "\u001b[1;32m~\\anaconda3\\lib\\site-packages\\gensim\\models\\keyedvectors.py\u001b[0m in \u001b[0;36msimilarity\u001b[1;34m(self, w1, w2)\u001b[0m\n\u001b[0;32m    972\u001b[0m \u001b[1;33m\u001b[0m\u001b[0m\n\u001b[0;32m    973\u001b[0m         \"\"\"\n\u001b[1;32m--> 974\u001b[1;33m         \u001b[1;32mreturn\u001b[0m \u001b[0mdot\u001b[0m\u001b[1;33m(\u001b[0m\u001b[0mmatutils\u001b[0m\u001b[1;33m.\u001b[0m\u001b[0munitvec\u001b[0m\u001b[1;33m(\u001b[0m\u001b[0mself\u001b[0m\u001b[1;33m[\u001b[0m\u001b[0mw1\u001b[0m\u001b[1;33m]\u001b[0m\u001b[1;33m)\u001b[0m\u001b[1;33m,\u001b[0m \u001b[0mmatutils\u001b[0m\u001b[1;33m.\u001b[0m\u001b[0munitvec\u001b[0m\u001b[1;33m(\u001b[0m\u001b[0mself\u001b[0m\u001b[1;33m[\u001b[0m\u001b[0mw2\u001b[0m\u001b[1;33m]\u001b[0m\u001b[1;33m)\u001b[0m\u001b[1;33m)\u001b[0m\u001b[1;33m\u001b[0m\u001b[1;33m\u001b[0m\u001b[0m\n\u001b[0m\u001b[0;32m    975\u001b[0m \u001b[1;33m\u001b[0m\u001b[0m\n\u001b[0;32m    976\u001b[0m     \u001b[1;32mdef\u001b[0m \u001b[0mn_similarity\u001b[0m\u001b[1;33m(\u001b[0m\u001b[0mself\u001b[0m\u001b[1;33m,\u001b[0m \u001b[0mws1\u001b[0m\u001b[1;33m,\u001b[0m \u001b[0mws2\u001b[0m\u001b[1;33m)\u001b[0m\u001b[1;33m:\u001b[0m\u001b[1;33m\u001b[0m\u001b[1;33m\u001b[0m\u001b[0m\n",
            "\u001b[1;32m~\\anaconda3\\lib\\site-packages\\gensim\\models\\keyedvectors.py\u001b[0m in \u001b[0;36m__getitem__\u001b[1;34m(self, entities)\u001b[0m\n\u001b[0;32m    351\u001b[0m         \u001b[1;32mif\u001b[0m \u001b[0misinstance\u001b[0m\u001b[1;33m(\u001b[0m\u001b[0mentities\u001b[0m\u001b[1;33m,\u001b[0m \u001b[0mstring_types\u001b[0m\u001b[1;33m)\u001b[0m\u001b[1;33m:\u001b[0m\u001b[1;33m\u001b[0m\u001b[1;33m\u001b[0m\u001b[0m\n\u001b[0;32m    352\u001b[0m             \u001b[1;31m# allow calls like trained_model['office'], as a shorthand for trained_model[['office']]\u001b[0m\u001b[1;33m\u001b[0m\u001b[1;33m\u001b[0m\u001b[1;33m\u001b[0m\u001b[0m\n\u001b[1;32m--> 353\u001b[1;33m             \u001b[1;32mreturn\u001b[0m \u001b[0mself\u001b[0m\u001b[1;33m.\u001b[0m\u001b[0mget_vector\u001b[0m\u001b[1;33m(\u001b[0m\u001b[0mentities\u001b[0m\u001b[1;33m)\u001b[0m\u001b[1;33m\u001b[0m\u001b[1;33m\u001b[0m\u001b[0m\n\u001b[0m\u001b[0;32m    354\u001b[0m \u001b[1;33m\u001b[0m\u001b[0m\n\u001b[0;32m    355\u001b[0m         \u001b[1;32mreturn\u001b[0m \u001b[0mvstack\u001b[0m\u001b[1;33m(\u001b[0m\u001b[1;33m[\u001b[0m\u001b[0mself\u001b[0m\u001b[1;33m.\u001b[0m\u001b[0mget_vector\u001b[0m\u001b[1;33m(\u001b[0m\u001b[0mentity\u001b[0m\u001b[1;33m)\u001b[0m \u001b[1;32mfor\u001b[0m \u001b[0mentity\u001b[0m \u001b[1;32min\u001b[0m \u001b[0mentities\u001b[0m\u001b[1;33m]\u001b[0m\u001b[1;33m)\u001b[0m\u001b[1;33m\u001b[0m\u001b[1;33m\u001b[0m\u001b[0m\n",
            "\u001b[1;32m~\\anaconda3\\lib\\site-packages\\gensim\\models\\keyedvectors.py\u001b[0m in \u001b[0;36mget_vector\u001b[1;34m(self, word)\u001b[0m\n\u001b[0;32m    469\u001b[0m \u001b[1;33m\u001b[0m\u001b[0m\n\u001b[0;32m    470\u001b[0m     \u001b[1;32mdef\u001b[0m \u001b[0mget_vector\u001b[0m\u001b[1;33m(\u001b[0m\u001b[0mself\u001b[0m\u001b[1;33m,\u001b[0m \u001b[0mword\u001b[0m\u001b[1;33m)\u001b[0m\u001b[1;33m:\u001b[0m\u001b[1;33m\u001b[0m\u001b[1;33m\u001b[0m\u001b[0m\n\u001b[1;32m--> 471\u001b[1;33m         \u001b[1;32mreturn\u001b[0m \u001b[0mself\u001b[0m\u001b[1;33m.\u001b[0m\u001b[0mword_vec\u001b[0m\u001b[1;33m(\u001b[0m\u001b[0mword\u001b[0m\u001b[1;33m)\u001b[0m\u001b[1;33m\u001b[0m\u001b[1;33m\u001b[0m\u001b[0m\n\u001b[0m\u001b[0;32m    472\u001b[0m \u001b[1;33m\u001b[0m\u001b[0m\n\u001b[0;32m    473\u001b[0m     \u001b[1;32mdef\u001b[0m \u001b[0mwords_closer_than\u001b[0m\u001b[1;33m(\u001b[0m\u001b[0mself\u001b[0m\u001b[1;33m,\u001b[0m \u001b[0mw1\u001b[0m\u001b[1;33m,\u001b[0m \u001b[0mw2\u001b[0m\u001b[1;33m)\u001b[0m\u001b[1;33m:\u001b[0m\u001b[1;33m\u001b[0m\u001b[1;33m\u001b[0m\u001b[0m\n",
            "\u001b[1;32m~\\anaconda3\\lib\\site-packages\\gensim\\models\\keyedvectors.py\u001b[0m in \u001b[0;36mword_vec\u001b[1;34m(self, word, use_norm)\u001b[0m\n\u001b[0;32m    466\u001b[0m             \u001b[1;32mreturn\u001b[0m \u001b[0mresult\u001b[0m\u001b[1;33m\u001b[0m\u001b[1;33m\u001b[0m\u001b[0m\n\u001b[0;32m    467\u001b[0m         \u001b[1;32melse\u001b[0m\u001b[1;33m:\u001b[0m\u001b[1;33m\u001b[0m\u001b[1;33m\u001b[0m\u001b[0m\n\u001b[1;32m--> 468\u001b[1;33m             \u001b[1;32mraise\u001b[0m \u001b[0mKeyError\u001b[0m\u001b[1;33m(\u001b[0m\u001b[1;34m\"word '%s' not in vocabulary\"\u001b[0m \u001b[1;33m%\u001b[0m \u001b[0mword\u001b[0m\u001b[1;33m)\u001b[0m\u001b[1;33m\u001b[0m\u001b[1;33m\u001b[0m\u001b[0m\n\u001b[0m\u001b[0;32m    469\u001b[0m \u001b[1;33m\u001b[0m\u001b[0m\n\u001b[0;32m    470\u001b[0m     \u001b[1;32mdef\u001b[0m \u001b[0mget_vector\u001b[0m\u001b[1;33m(\u001b[0m\u001b[0mself\u001b[0m\u001b[1;33m,\u001b[0m \u001b[0mword\u001b[0m\u001b[1;33m)\u001b[0m\u001b[1;33m:\u001b[0m\u001b[1;33m\u001b[0m\u001b[1;33m\u001b[0m\u001b[0m\n",
            "\u001b[1;31mKeyError\u001b[0m: \"word 'you' not in vocabulary\""
          ]
        }
      ],
      "source": [
        "model.wv.similarity('you', 'will')"
      ]
    },
    {
      "cell_type": "code",
      "execution_count": null,
      "metadata": {},
      "outputs": [],
      "source": []
    }
  ]
}