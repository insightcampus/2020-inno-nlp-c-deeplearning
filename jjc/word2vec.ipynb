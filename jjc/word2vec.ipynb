{
  "nbformat": 4,
  "nbformat_minor": 0,
  "metadata": {
    "colab": {
      "name": "word2vec.ipynb",
      "provenance": [],
      "collapsed_sections": []
    },
    "kernelspec": {
      "name": "python3",
      "display_name": "Python 3"
    }
  },
  "cells": [
    {
      "cell_type": "markdown",
      "metadata": {},
      "source": [
        "# Word2Vec"
      ]
    },
    {
      "cell_type": "code",
      "metadata": {
        "id": "6BULr2obgH_y",
        "colab_type": "code",
        "colab": {}
      },
      "source": [
        "text = 'you will never know until you try'"
      ],
      "execution_count": 1,
      "outputs": []
    },
    {
      "cell_type": "code",
      "metadata": {
        "id": "sP7FCRkdhBDs",
        "colab_type": "code",
        "colab": {}
      },
      "source": [
        "tokens = text.split()"
      ],
      "execution_count": 2,
      "outputs": []
    },
    {
      "cell_type": "code",
      "metadata": {
        "id": "dROCwCTjj485",
        "colab_type": "code",
        "colab": {
          "base_uri": "https://localhost:8080/",
          "height": 35
        },
        "outputId": "69d82afc-a554-40fa-9ae9-9c61f5988849"
      },
      "source": [
        "tokens"
      ],
      "execution_count": 3,
      "outputs": [
        {
          "output_type": "execute_result",
          "data": {
            "text/plain": [
              "['you', 'will', 'never', 'know', 'until', 'you', 'try']"
            ]
          },
          "metadata": {
            "tags": []
          },
          "execution_count": 3
        }
      ]
    },
    {
      "cell_type": "code",
      "metadata": {
        "id": "FbP0a-nCtj8_",
        "colab_type": "code",
        "colab": {}
      },
      "source": [
        "# 순서 유지 Unique_Token\n",
        "from collections import OrderedDict\n",
        "categories = list(OrderedDict((element, None) for element in tokens))"
      ],
      "execution_count": 87,
      "outputs": []
    },
    {
      "cell_type": "code",
      "metadata": {
        "id": "QvK1mTLYkpl4",
        "colab_type": "code",
        "colab": {}
      },
      "source": [
        "X = np.array(tokens).reshape(-1,1)"
      ],
      "execution_count": 13,
      "outputs": []
    },
    {
      "cell_type": "code",
      "metadata": {
        "id": "2tj3kkWDso3i",
        "colab_type": "code",
        "colab": {
          "base_uri": "https://localhost:8080/",
          "height": 143
        },
        "outputId": "531b7b1c-a5e6-425c-e849-0ce10262ff92"
      },
      "source": [
        "X"
      ],
      "execution_count": 132,
      "outputs": [
        {
          "output_type": "execute_result",
          "data": {
            "text/plain": [
              "array([['you'],\n",
              "       ['will'],\n",
              "       ['never'],\n",
              "       ['know'],\n",
              "       ['until'],\n",
              "       ['you'],\n",
              "       ['try']], dtype='<U5')"
            ]
          },
          "metadata": {
            "tags": []
          },
          "execution_count": 132
        }
      ]
    },
    {
      "cell_type": "code",
      "metadata": {
        "id": "rPVOUkW1j5W8",
        "colab_type": "code",
        "colab": {}
      },
      "source": [
        "from sklearn.preprocessing import OneHotEncoder\n",
        "enc = OneHotEncoder(handle_unknown='ignore') # handle_unknown='ignore'"
      ],
      "execution_count": 138,
      "outputs": []
    },
    {
      "cell_type": "code",
      "metadata": {
        "id": "xTbwDIN8kNIW",
        "colab_type": "code",
        "colab": {
          "base_uri": "https://localhost:8080/",
          "height": 35
        },
        "outputId": "5aa96ff7-dc9f-458a-ece8-69b35a46896f"
      },
      "source": [
        "enc.categories_\n",
        "word_vec = enc.transform(X).toarray().T\n",
        "word_vec\n",
        "data = pd.DataFrame(word_vec, index = enc.categories_)\n",
        "final_vec = np.matrix(data.T[categories])\n",
        "final_vec"
      ],
      "execution_count": 140,
      "outputs": [
        {
          "output_type": "execute_result",
          "data": {
            "text/plain": [
              "[array(['know', 'never', 'try', 'until', 'will', 'you'], dtype='<U5')]"
            ]
          },
          "metadata": {
            "tags": []
          },
          "execution_count": 140
        }
      ]
    },
    {
      "cell_type": "code",
      "metadata": {
        "id": "fyPI6C7LyKZ1",
        "colab_type": "code",
        "colab": {
          "base_uri": "https://localhost:8080/",
          "height": 143
        },
        "outputId": "ee189622-8568-44aa-a00a-f63c7c8311c9"
      },
      "source": [
        ""
      ],
      "execution_count": 152,
      "outputs": [
        {
          "output_type": "execute_result",
          "data": {
            "text/plain": [
              "matrix([[1., 0., 0., 0., 0., 0.],\n",
              "        [0., 1., 0., 0., 0., 0.],\n",
              "        [0., 0., 1., 0., 0., 0.],\n",
              "        [0., 0., 0., 1., 0., 0.],\n",
              "        [0., 0., 0., 0., 1., 0.],\n",
              "        [1., 0., 0., 0., 0., 0.],\n",
              "        [0., 0., 0., 0., 0., 1.]])"
            ]
          },
          "metadata": {
            "tags": []
          },
          "execution_count": 152
        }
      ]
    },
    {
      "cell_type": "code",
      "metadata": {
        "id": "sK-StIyQ4MSh",
        "colab_type": "code",
        "colab": {}
      },
      "source": [
        "# Window 사이즈에 따른 Train Data 생성\n",
        "\n",
        "# t = window size\n",
        "def mktraindata(x, t):\n",
        "    X_data = []\n",
        "    y_data = []\n",
        "    for i in range(len(x)):\n",
        "        for j in range(i-t, i+t+1):\n",
        "            if j < 0 :\n",
        "                j = -1\n",
        "                continue\n",
        "            if j >= len(x):\n",
        "                break\n",
        "            if j != i:\n",
        "                X_data.append(x[j].getA1())\n",
        "                y_data.append(x[i].getA1())\n",
        "\n",
        "    return np.matrix(X_data), np.matrix(y_data)\n",
        "\n",
        "X_data, y_data = mktraindata(final_vec, 2)"
      ],
      "execution_count": 222,
      "outputs": []
    },
    {
      "cell_type": "code",
      "metadata": {
        "id": "k-Po7jLslXol",
        "colab_type": "code",
        "colab": {}
      },
      "source": [
        "# Hidden Node 수 (차원 수)\n",
        "H = 4\n",
        "\n",
        "# Weight (단어벡터)\n",
        "weight = np.random.random(size = (len(categories), H))\n",
        "\n",
        "hidden = np.dot(X_data, weight)"
      ],
      "execution_count": 228,
      "outputs": []
    },
    {
      "cell_type": "code",
      "metadata": {
        "id": "k4DwWMxclz2S",
        "colab_type": "code",
        "colab": {
          "base_uri": "https://localhost:8080/",
          "height": 125
        },
        "outputId": "4c2d5c1a-3250-4563-8cfb-3037bdd8bacb"
      },
      "source": [
        "weight"
      ],
      "execution_count": 229,
      "outputs": [
        {
          "output_type": "execute_result",
          "data": {
            "text/plain": [
              "array([[0.02211893, 0.42630455, 0.4209864 , 0.61867277],\n",
              "       [0.54875014, 0.42546305, 0.14392968, 0.58884411],\n",
              "       [0.07324909, 0.6236108 , 0.17339457, 0.69177113],\n",
              "       [0.0609407 , 0.6476459 , 0.46624978, 0.6952509 ],\n",
              "       [0.22956236, 0.95915625, 0.15054935, 0.90198759],\n",
              "       [0.61908603, 0.0761448 , 0.62405448, 0.30307234]])"
            ]
          },
          "metadata": {
            "tags": []
          },
          "execution_count": 229
        }
      ]
    },
    {
      "cell_type": "code",
      "metadata": {
        "id": "q2IprCFZld9Y",
        "colab_type": "code",
        "colab": {
          "base_uri": "https://localhost:8080/",
          "height": 413
        },
        "outputId": "973c7035-5a11-49d2-f0d9-ce21fedb48e8"
      },
      "source": [
        "hidden"
      ],
      "execution_count": 230,
      "outputs": [
        {
          "output_type": "execute_result",
          "data": {
            "text/plain": [
              "matrix([[0.54875014, 0.42546305, 0.14392968, 0.58884411],\n",
              "        [0.07324909, 0.6236108 , 0.17339457, 0.69177113],\n",
              "        [0.02211893, 0.42630455, 0.4209864 , 0.61867277],\n",
              "        [0.07324909, 0.6236108 , 0.17339457, 0.69177113],\n",
              "        [0.0609407 , 0.6476459 , 0.46624978, 0.6952509 ],\n",
              "        [0.02211893, 0.42630455, 0.4209864 , 0.61867277],\n",
              "        [0.54875014, 0.42546305, 0.14392968, 0.58884411],\n",
              "        [0.0609407 , 0.6476459 , 0.46624978, 0.6952509 ],\n",
              "        [0.22956236, 0.95915625, 0.15054935, 0.90198759],\n",
              "        [0.54875014, 0.42546305, 0.14392968, 0.58884411],\n",
              "        [0.07324909, 0.6236108 , 0.17339457, 0.69177113],\n",
              "        [0.22956236, 0.95915625, 0.15054935, 0.90198759],\n",
              "        [0.02211893, 0.42630455, 0.4209864 , 0.61867277],\n",
              "        [0.07324909, 0.6236108 , 0.17339457, 0.69177113],\n",
              "        [0.0609407 , 0.6476459 , 0.46624978, 0.6952509 ],\n",
              "        [0.02211893, 0.42630455, 0.4209864 , 0.61867277],\n",
              "        [0.61908603, 0.0761448 , 0.62405448, 0.30307234],\n",
              "        [0.0609407 , 0.6476459 , 0.46624978, 0.6952509 ],\n",
              "        [0.22956236, 0.95915625, 0.15054935, 0.90198759],\n",
              "        [0.61908603, 0.0761448 , 0.62405448, 0.30307234],\n",
              "        [0.22956236, 0.95915625, 0.15054935, 0.90198759],\n",
              "        [0.02211893, 0.42630455, 0.4209864 , 0.61867277]])"
            ]
          },
          "metadata": {
            "tags": []
          },
          "execution_count": 230
        }
      ]
    },
    {
      "cell_type": "code",
      "metadata": {
        "id": "-l7zvgl3khKY",
        "colab_type": "code",
        "colab": {}
      },
      "source": [
        "h_weight = np.random.random(size = (H, len(categories)))"
      ],
      "execution_count": 231,
      "outputs": []
    },
    {
      "cell_type": "code",
      "metadata": {
        "id": "7HFR3yPfmeWm",
        "colab_type": "code",
        "colab": {
          "base_uri": "https://localhost:8080/",
          "height": 161
        },
        "outputId": "431387db-d02c-415b-89d4-cf5ddc0943b5"
      },
      "source": [
        "h_weight"
      ],
      "execution_count": 232,
      "outputs": [
        {
          "output_type": "execute_result",
          "data": {
            "text/plain": [
              "array([[0.06612453, 0.8997787 , 0.08803106, 0.82032854, 0.46234574,\n",
              "        0.04382569],\n",
              "       [0.01938367, 0.68271673, 0.22233605, 0.39805634, 0.45472812,\n",
              "        0.4567216 ],\n",
              "       [0.28349581, 0.23045068, 0.93611008, 0.31076321, 0.48861083,\n",
              "        0.35222468],\n",
              "       [0.60177987, 0.52063727, 0.98086305, 0.02832953, 0.52906135,\n",
              "        0.64855825]])"
            ]
          },
          "metadata": {
            "tags": []
          },
          "execution_count": 232
        }
      ]
    },
    {
      "cell_type": "code",
      "metadata": {
        "id": "ZtP18wM5me_X",
        "colab_type": "code",
        "colab": {}
      },
      "source": [
        "output = np.dot(hidden, h_weight)"
      ],
      "execution_count": 233,
      "outputs": []
    },
    {
      "cell_type": "code",
      "metadata": {
        "id": "tWbHw-VFm0Aj",
        "colab_type": "code",
        "colab": {
          "base_uri": "https://localhost:8080/",
          "height": 809
        },
        "outputId": "cffc7269-f4c4-401f-dd63-51133d8fe661"
      },
      "source": [
        "output"
      ],
      "execution_count": 234,
      "outputs": [
        {
          "output_type": "execute_result",
          "data": {
            "text/plain": [
              "matrix([[0.43969087, 1.12396731, 0.85521228, 0.6809234 , 0.82904256,\n",
              "         0.6509628 ],\n",
              "        [0.48238199, 0.89177822, 0.9859485 , 0.38180275, 0.7681516 ,\n",
              "         0.79775443],\n",
              "        [0.50137865, 0.73006809, 1.09765289, 0.33619181, 0.73709362,\n",
              "         0.745199  ],\n",
              "        [0.48238199, 0.89177822, 0.9859485 , 0.38180275, 0.7681516 ,\n",
              "         0.79775443],\n",
              "        [0.56715128, 0.96641294, 1.26776674, 0.47238036, 0.91832354,\n",
              "         0.91360002],\n",
              "        [0.50137865, 0.73006809, 1.09765289, 0.33619181, 0.73709362,\n",
              "         0.745199  ],\n",
              "        [0.43969087, 1.12396731, 0.85521228, 0.6809234 , 0.82904256,\n",
              "         0.6509628 ],\n",
              "        [0.56715128, 0.96641294, 1.26776674, 0.47238036, 0.91832354,\n",
              "         0.91360002],\n",
              "        [0.61924975, 1.36568989, 1.25912069, 0.64245287, 1.09305931,\n",
              "         1.08614679],\n",
              "        [0.43969087, 1.12396731, 0.85521228, 0.6809234 , 0.82904256,\n",
              "         0.6509628 ],\n",
              "        [0.48238199, 0.89177822, 0.9859485 , 0.38180275, 0.7681516 ,\n",
              "         0.79775443],\n",
              "        [0.61924975, 1.36568989, 1.25912069, 0.64245287, 1.09305931,\n",
              "         1.08614679],\n",
              "        [0.50137865, 0.73006809, 1.09765289, 0.33619181, 0.73709362,\n",
              "         0.745199  ],\n",
              "        [0.48238199, 0.89177822, 0.9859485 , 0.38180275, 0.7681516 ,\n",
              "         0.79775443],\n",
              "        [0.56715128, 0.96641294, 1.26776674, 0.47238036, 0.91832354,\n",
              "         0.91360002],\n",
              "        [0.50137865, 0.73006809, 1.09765289, 0.33619181, 0.73709362,\n",
              "         0.745199  ],\n",
              "        [0.4017124 , 0.91063029, 0.95288469, 0.74068293, 0.78612061,\n",
              "         0.4782763 ],\n",
              "        [0.56715128, 0.96641294, 1.26776674, 0.47238036, 0.91832354,\n",
              "         0.91360002],\n",
              "        [0.61924975, 1.36568989, 1.25912069, 0.64245287, 1.09305931,\n",
              "         1.08614679],\n",
              "        [0.4017124 , 0.91063029, 0.95288469, 0.74068293, 0.78612061,\n",
              "         0.4782763 ],\n",
              "        [0.61924975, 1.36568989, 1.25912069, 0.64245287, 1.09305931,\n",
              "         1.08614679],\n",
              "        [0.50137865, 0.73006809, 1.09765289, 0.33619181, 0.73709362,\n",
              "         0.745199  ]])"
            ]
          },
          "metadata": {
            "tags": []
          },
          "execution_count": 234
        }
      ]
    },
    {
      "cell_type": "code",
      "metadata": {
        "id": "U_A5JpG0m0em",
        "colab_type": "code",
        "colab": {}
      },
      "source": [
        "def softmax(a) :\n",
        "    return np.exp(a) / np.sum(np.exp(a))"
      ],
      "execution_count": 235,
      "outputs": []
    },
    {
      "cell_type": "code",
      "metadata": {
        "id": "_T7dFDRQntIk",
        "colab_type": "code",
        "colab": {}
      },
      "source": [
        "result = np.matrix(list(map(softmax, output[:,].getA())))"
      ],
      "execution_count": 253,
      "outputs": []
    },
    {
      "cell_type": "code",
      "metadata": {
        "id": "H-lKCA-SnUt0",
        "colab_type": "code",
        "colab": {
          "base_uri": "https://localhost:8080/",
          "height": 809
        },
        "outputId": "a9161c9e-7005-4808-a677-11665b6cd978"
      },
      "source": [
        "result"
      ],
      "execution_count": 255,
      "outputs": [
        {
          "output_type": "execute_result",
          "data": {
            "text/plain": [
              "matrix([[0.11790247, 0.23372243, 0.17864118, 0.15006827, 0.17402683,\n",
              "         0.14563882],\n",
              "        [0.12875996, 0.1939007 , 0.21304777, 0.11643937, 0.17135193,\n",
              "         0.17650026],\n",
              "        [0.13401308, 0.16844796, 0.24327966, 0.11360762, 0.16963556,\n",
              "         0.17101611],\n",
              "        [0.12875996, 0.1939007 , 0.21304777, 0.11643937, 0.17135193,\n",
              "         0.17650026],\n",
              "        [0.12121114, 0.18069232, 0.24423955, 0.11025139, 0.17220856,\n",
              "         0.17139704],\n",
              "        [0.13401308, 0.16844796, 0.24327966, 0.11360762, 0.16963556,\n",
              "         0.17101611],\n",
              "        [0.11790247, 0.23372243, 0.17864118, 0.15006827, 0.17402683,\n",
              "         0.14563882],\n",
              "        [0.12121114, 0.18069232, 0.24423955, 0.11025139, 0.17220856,\n",
              "         0.17139704],\n",
              "        [0.10833854, 0.22853767, 0.20543545, 0.11088172, 0.17400264,\n",
              "         0.17280399],\n",
              "        [0.11790247, 0.23372243, 0.17864118, 0.15006827, 0.17402683,\n",
              "         0.14563882],\n",
              "        [0.12875996, 0.1939007 , 0.21304777, 0.11643937, 0.17135193,\n",
              "         0.17650026],\n",
              "        [0.10833854, 0.22853767, 0.20543545, 0.11088172, 0.17400264,\n",
              "         0.17280399],\n",
              "        [0.13401308, 0.16844796, 0.24327966, 0.11360762, 0.16963556,\n",
              "         0.17101611],\n",
              "        [0.12875996, 0.1939007 , 0.21304777, 0.11643937, 0.17135193,\n",
              "         0.17650026],\n",
              "        [0.12121114, 0.18069232, 0.24423955, 0.11025139, 0.17220856,\n",
              "         0.17139704],\n",
              "        [0.13401308, 0.16844796, 0.24327966, 0.11360762, 0.16963556,\n",
              "         0.17101611],\n",
              "        [0.11975196, 0.1992062 , 0.2078039 , 0.16807211, 0.17588507,\n",
              "         0.12928076],\n",
              "        [0.12121114, 0.18069232, 0.24423955, 0.11025139, 0.17220856,\n",
              "         0.17139704],\n",
              "        [0.10833854, 0.22853767, 0.20543545, 0.11088172, 0.17400264,\n",
              "         0.17280399],\n",
              "        [0.11975196, 0.1992062 , 0.2078039 , 0.16807211, 0.17588507,\n",
              "         0.12928076],\n",
              "        [0.10833854, 0.22853767, 0.20543545, 0.11088172, 0.17400264,\n",
              "         0.17280399],\n",
              "        [0.13401308, 0.16844796, 0.24327966, 0.11360762, 0.16963556,\n",
              "         0.17101611]])"
            ]
          },
          "metadata": {
            "tags": []
          },
          "execution_count": 255
        }
      ]
    },
    {
      "cell_type": "code",
      "metadata": {
        "id": "mToUBtFf-gkd",
        "colab_type": "code",
        "colab": {
          "base_uri": "https://localhost:8080/",
          "height": 35
        },
        "outputId": "44b50c36-f2dd-496f-f162-5235ddc4113c"
      },
      "source": [
        "y_data.shape"
      ],
      "execution_count": 264,
      "outputs": [
        {
          "output_type": "execute_result",
          "data": {
            "text/plain": [
              "(22, 6)"
            ]
          },
          "metadata": {
            "tags": []
          },
          "execution_count": 264
        }
      ]
    },
    {
      "cell_type": "code",
      "metadata": {
        "id": "fggA4Vbb-iO_",
        "colab_type": "code",
        "colab": {
          "base_uri": "https://localhost:8080/",
          "height": 35
        },
        "outputId": "b0e19eb9-0793-46c6-acd1-2a565dce9d25"
      },
      "source": [
        "result.shape"
      ],
      "execution_count": 266,
      "outputs": [
        {
          "output_type": "execute_result",
          "data": {
            "text/plain": [
              "(22, 6)"
            ]
          },
          "metadata": {
            "tags": []
          },
          "execution_count": 266
        }
      ]
    },
    {
      "cell_type": "code",
      "metadata": {
        "id": "5M5ZeY-JnVpH",
        "colab_type": "code",
        "colab": {}
      },
      "source": [
        "loss = -np.multiply(y_data, np.log(result)).sum()"
      ],
      "execution_count": 273,
      "outputs": []
    },
    {
      "cell_type": "code",
      "metadata": {
        "id": "t411tvUa-sKo",
        "colab_type": "code",
        "colab": {
          "base_uri": "https://localhost:8080/",
          "height": 35
        },
        "outputId": "bc73f507-607f-4ac8-9854-ebd24a88fc22"
      },
      "source": [
        "loss"
      ],
      "execution_count": 274,
      "outputs": [
        {
          "output_type": "execute_result",
          "data": {
            "text/plain": [
              "40.88144967391233"
            ]
          },
          "metadata": {
            "tags": []
          },
          "execution_count": 274
        }
      ]
    },
    {
      "cell_type": "code",
      "metadata": {
        "id": "ZNeq0CSX-vcM",
        "colab_type": "code",
        "colab": {}
      },
      "source": [
        "temp = (result-y_data).dot(h_weight.T)\n",
        "w_grad = X_data.T.dot(temp)\n",
        "h_grad = hidden.T.dot(result-y_data)"
      ],
      "execution_count": 291,
      "outputs": []
    },
    {
      "cell_type": "code",
      "metadata": {
        "id": "mWmoxzgVNc2q",
        "colab_type": "code",
        "colab": {
          "base_uri": "https://localhost:8080/",
          "height": 125
        },
        "outputId": "ab055dc7-3ed1-4cbf-fa58-c2f3885f6199"
      },
      "source": [
        "# weight 업데이트\n",
        "\n",
        "r = 0.03\n",
        "weight -= r*w_grad\n",
        "h_weight -= r*h_grad"
      ],
      "execution_count": 288,
      "outputs": [
        {
          "output_type": "execute_result",
          "data": {
            "text/plain": [
              "array([[0.02211893, 0.42630455, 0.4209864 , 0.61867277],\n",
              "       [0.54875014, 0.42546305, 0.14392968, 0.58884411],\n",
              "       [0.07324909, 0.6236108 , 0.17339457, 0.69177113],\n",
              "       [0.0609407 , 0.6476459 , 0.46624978, 0.6952509 ],\n",
              "       [0.22956236, 0.95915625, 0.15054935, 0.90198759],\n",
              "       [0.61908603, 0.0761448 , 0.62405448, 0.30307234]])"
            ]
          },
          "metadata": {
            "tags": []
          },
          "execution_count": 288
        }
      ]
    },
    {
      "cell_type": "code",
      "metadata": {
        "id": "EsSl3kKnPnJ9",
        "colab_type": "code",
        "colab": {}
      },
      "source": [
        "from collections import OrderedDict\n",
        "categories = list(OrderedDict((element, None) for element in tokens))"
      ],
      "execution_count": null,
      "outputs": []
    },
    {
      "cell_type": "code",
      "metadata": {
        "id": "VXnmbxBaNdZe",
        "colab_type": "code",
        "colab": {
          "base_uri": "https://localhost:8080/",
          "height": 125
        },
        "outputId": "bc2a0070-3ae6-4bc6-83d2-ef74c0fa5ecd"
      },
      "source": [
        "\n",
        "weight = np.random.random(size = (len(categories), H))\n",
        "h_weight = np.random.random(size = (H, len(categories)))\n",
        "\n",
        "epocks = 10000\n",
        "r = 0.03\n",
        "\n",
        "loss_history = []\n",
        "for epock in range(epocks):\n",
        "    hidden = np.dot(X_data, weight)\n",
        "    output = np.dot(hidden, h_weight)\n",
        "    result = np.matrix(list(map(softmax, output[:,].getA())))\n",
        "\n",
        "    loss_history.append(-np.multiply(y_data, np.log(result)).sum())\n",
        "\n",
        "    temp = (result-y_data).dot(h_weight.T)\n",
        "    w_grad = X_data.T.dot(temp)\n",
        "    h_grad = hidden.T.dot(result-y_data)\n",
        "\n",
        "    # weight 업데이트\n",
        "    weight -= r*w_grad\n",
        "    h_weight -= r*h_grad\n",
        "\n",
        "weight"
      ],
      "execution_count": 292,
      "outputs": [
        {
          "output_type": "execute_result",
          "data": {
            "text/plain": [
              "array([[-0.9779249 ,  1.09915553,  0.09763811, -1.60907048],\n",
              "       [-0.20796545,  1.76795426, -0.59837205,  3.35542916],\n",
              "       [ 2.8213533 ,  1.14509549, -0.28644311, -0.05722058],\n",
              "       [ 0.36728865,  0.78118192,  2.8604919 ,  0.8242549 ],\n",
              "       [-1.11893775, -0.38788495, -1.54111862,  2.1425576 ],\n",
              "       [ 2.44245287, -2.44017639,  2.07296036,  0.33897258]])"
            ]
          },
          "metadata": {
            "tags": []
          },
          "execution_count": 292
        }
      ]
    },
    {
      "cell_type": "code",
      "metadata": {
        "id": "DfBSdu-tOq2e",
        "colab_type": "code",
        "colab": {
          "base_uri": "https://localhost:8080/",
          "height": 283
        },
        "outputId": "b0337425-5934-4be4-e73a-fd21bdaff72b"
      },
      "source": [
        "import matplotlib.pyplot as plt \n",
        "\n",
        "plt.plot(loss_history)"
      ],
      "execution_count": 293,
      "outputs": [
        {
          "output_type": "execute_result",
          "data": {
            "text/plain": [
              "[<matplotlib.lines.Line2D at 0x7f79f41e65c0>]"
            ]
          },
          "metadata": {
            "tags": []
          },
          "execution_count": 293
        },
        {
          "output_type": "display_data",
          "data": {
            "image/png": "[encoded data removed]",
            "text/plain": [
              "<Figure size 432x288 with 1 Axes>"
            ]
          },
          "metadata": {
            "tags": [],
            "needs_background": "light"
          }
        }
      ]
    },
    {
      "cell_type": "code",
      "metadata": {
        "id": "jTS0Fx9zP4e6",
        "colab_type": "code",
        "colab": {}
      },
      "source": [
        "text = 'you will never know until you try'"
      ],
      "execution_count": null,
      "outputs": []
    },
    {
      "cell_type": "code",
      "metadata": {
        "id": "AxUtJS2hOvzI",
        "colab_type": "code",
        "colab": {}
      },
      "source": [
        "from collections import OrderedDict\n",
        "from sklearn.preprocessing import OneHotEncoder\n",
        "import numpy as np\n",
        "import matplotlib.pyplot as plt\n",
        "\n",
        "# t = window size\n",
        "\n",
        "\n",
        "X_data, y_data = mktraindata(final_vec, 2)\n",
        "\n",
        "class Word2Vec():\n",
        "    def __init__(self, H = 4, r = 0.03, t = 2):\n",
        "        self.H = H\n",
        "        self.r = r\n",
        "        self.t = 2\n",
        "        return\n",
        "\n",
        "    def mkdatas(self, data):\n",
        "        tokens = data.split()\n",
        "        categories = list(OrderedDict((element, None) for element in tokens))\n",
        "        X = np.array(tokens).reshape(-1,1)\n",
        "        enc = OneHotEncoder(handle_unknown='ignore') # handle_unknown='ignore'\n",
        "        word_vec = enc.fit_transform(X).toarray().T\n",
        "        df = pd.DataFrame(word_vec, index = enc.categories_)\n",
        "        final_vec = np.matrix(df.T[categories])\n",
        "        self.categories = categories\n",
        "        X_data, y_data = mktraindata(final_vec, self.t)\n",
        "        return X_data, y_data\n",
        "\n",
        "    def fit(self, X_data, y_data):\n",
        "        # Hidden Node 수 (차원 수), Learning Rate\n",
        "        H, r = self.H, self.r\n",
        "\n",
        "        # Weight (단어벡터)\n",
        "        weight = np.random.random(size = (len(categories), H))\n",
        "        hidden = np.dot(X_data, weight)\n",
        "\n",
        "        # h_weight\n",
        "        h_weight = np.random.random(size = (H, len(categories)))\n",
        "\n",
        "        output = np.dot(hidden, h_weight)\n",
        "        result = np.matrix(list(map(softmax, output[:,].getA())))\n",
        "        \n",
        "        loss_history = []\n",
        "        loss_history.append(-np.multiply(y_data, np.log(result)).sum())\n",
        "\n",
        "        epocks = 10000\n",
        "        for epock in range(epocks):\n",
        "            temp = (result-y_data).dot(h_weight.T)\n",
        "            w_grad = X_data.T.dot(temp)\n",
        "            h_grad = hidden.T.dot(result-y_data)\n",
        "\n",
        "            # weight 업데이트\n",
        "            weight -= r*w_grad\n",
        "            h_weight -= r*h_grad\n",
        "            \n",
        "            hidden = np.dot(X_data, weight)\n",
        "            output = np.dot(hidden, h_weight)\n",
        "            result = np.matrix(list(map(softmax, output[:,].getA())))\n",
        "\n",
        "            loss_history.append(-np.multiply(y_data, np.log(result)).sum())\n",
        "\n",
        "        self.loss_history = loss_history\n",
        "        return pd.DataFrame(weight, index = self.categories)\n",
        "\n",
        "    def loss_graph(self):\n",
        "        plt.plot(self.loss_history)\n",
        "        plt.title('Loss')\n",
        "        plt.show()\n",
        "\n",
        "# t = window size\n",
        "def mktraindata(x, t):\n",
        "    X_data = []\n",
        "    y_data = []\n",
        "    for i in range(len(x)):\n",
        "        for j in range(i-t, i+t+1):\n",
        "            if j < 0 :\n",
        "                j = -1\n",
        "                continue\n",
        "            if j >= len(x):\n",
        "                break\n",
        "            if j != i:\n",
        "                X_data.append(x[j].getA1())\n",
        "                y_data.append(x[i].getA1())\n",
        "\n",
        "    return np.matrix(X_data), np.matrix(y_data)\n",
        "\n",
        "def softmax(a):\n",
        "    return np.exp(a) / np.sum(np.exp(a))"
      ],
      "execution_count": 311,
      "outputs": []
    },
    {
      "cell_type": "code",
      "metadata": {
        "id": "FGRsWjAwSEKf",
        "colab_type": "code",
        "colab": {}
      },
      "source": [
        "w2v = Word2Vec()"
      ],
      "execution_count": 312,
      "outputs": []
    },
    {
      "cell_type": "code",
      "metadata": {
        "id": "hkKynYJhSH-H",
        "colab_type": "code",
        "colab": {}
      },
      "source": [
        "X_data, y_data = w2v.mkdatas(text)"
      ],
      "execution_count": 313,
      "outputs": []
    },
    {
      "cell_type": "code",
      "metadata": {
        "id": "vJVdXM_2SKA_",
        "colab_type": "code",
        "colab": {
          "base_uri": "https://localhost:8080/",
          "height": 235
        },
        "outputId": "ab43e496-a7f3-408d-fcf8-87215cdc5616"
      },
      "source": [
        "w2v.fit(X_data, y_data)"
      ],
      "execution_count": 314,
      "outputs": [
        {
          "output_type": "execute_result",
          "data": {
            "text/html": [
              "<div>\n",
              "<style scoped>\n",
              "    .dataframe tbody tr th:only-of-type {\n",
              "        vertical-align: middle;\n",
              "    }\n",
              "\n",
              "    .dataframe tbody tr th {\n",
              "        vertical-align: top;\n",
              "    }\n",
              "\n",
              "    .dataframe thead th {\n",
              "        text-align: right;\n",
              "    }\n",
              "</style>\n",
              "<table border=\"1\" class=\"dataframe\">\n",
              "  <thead>\n",
              "    <tr style=\"text-align: right;\">\n",
              "      <th></th>\n",
              "      <th>0</th>\n",
              "      <th>1</th>\n",
              "      <th>2</th>\n",
              "      <th>3</th>\n",
              "    </tr>\n",
              "  </thead>\n",
              "  <tbody>\n",
              "    <tr>\n",
              "      <th>you</th>\n",
              "      <td>0.093412</td>\n",
              "      <td>0.205028</td>\n",
              "      <td>-1.196643</td>\n",
              "      <td>-1.821807</td>\n",
              "    </tr>\n",
              "    <tr>\n",
              "      <th>will</th>\n",
              "      <td>1.997284</td>\n",
              "      <td>-2.404555</td>\n",
              "      <td>1.634492</td>\n",
              "      <td>0.795594</td>\n",
              "    </tr>\n",
              "    <tr>\n",
              "      <th>never</th>\n",
              "      <td>1.004942</td>\n",
              "      <td>-0.266180</td>\n",
              "      <td>-2.053446</td>\n",
              "      <td>2.061249</td>\n",
              "    </tr>\n",
              "    <tr>\n",
              "      <th>know</th>\n",
              "      <td>2.406362</td>\n",
              "      <td>2.241948</td>\n",
              "      <td>1.274688</td>\n",
              "      <td>0.694931</td>\n",
              "    </tr>\n",
              "    <tr>\n",
              "      <th>until</th>\n",
              "      <td>-0.593653</td>\n",
              "      <td>-2.227849</td>\n",
              "      <td>1.764315</td>\n",
              "      <td>-0.039645</td>\n",
              "    </tr>\n",
              "    <tr>\n",
              "      <th>try</th>\n",
              "      <td>-1.132056</td>\n",
              "      <td>2.317210</td>\n",
              "      <td>0.524876</td>\n",
              "      <td>2.922986</td>\n",
              "    </tr>\n",
              "  </tbody>\n",
              "</table>\n",
              "</div>"
            ],
            "text/plain": [
              "              0         1         2         3\n",
              "you    0.093412  0.205028 -1.196643 -1.821807\n",
              "will   1.997284 -2.404555  1.634492  0.795594\n",
              "never  1.004942 -0.266180 -2.053446  2.061249\n",
              "know   2.406362  2.241948  1.274688  0.694931\n",
              "until -0.593653 -2.227849  1.764315 -0.039645\n",
              "try   -1.132056  2.317210  0.524876  2.922986"
            ]
          },
          "metadata": {
            "tags": []
          },
          "execution_count": 314
        }
      ]
    },
    {
      "cell_type": "code",
      "metadata": {
        "id": "Yp1eetHuST_k",
        "colab_type": "code",
        "colab": {
          "base_uri": "https://localhost:8080/",
          "height": 281
        },
        "outputId": "b2d59faf-b4e9-4a88-d09b-1563af81b800"
      },
      "source": [
        "w2v.loss_graph()"
      ],
      "execution_count": 315,
      "outputs": [
        {
          "output_type": "display_data",
          "data": {
            "image/png": "[encoded data removed]",
            "text/plain": [
              "<Figure size 432x288 with 1 Axes>"
            ]
          },
          "metadata": {
            "tags": [],
            "needs_background": "light"
          }
        }
      ]
    },
    {
      "cell_type": "code",
      "metadata": {
        "id": "0-o8_xKjSmKH",
        "colab_type": "code",
        "colab": {}
      },
      "source": [
        ""
      ],
      "execution_count": null,
      "outputs": []
    }
  ]
}