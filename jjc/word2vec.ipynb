{
  "nbformat": 4,
  "nbformat_minor": 0,
  "metadata": {
    "colab": {
      "name": "word2vec.ipynb",
      "provenance": [],
      "collapsed_sections": []
    },
    "kernelspec": {
      "name": "python3",
      "display_name": "Python 3"
    }
  },
  "cells": [
    {
      "cell_type": "markdown",
      "metadata": {},
      "source": [
        "# Word2Vec"
      ]
    },
    {
      "cell_type": "code",
      "metadata": {
        "id": "6BULr2obgH_y",
        "colab_type": "code",
        "colab": {}
      },
      "source": [
        "text = 'you will never know until you try'"
      ],
      "execution_count": 1,
      "outputs": []
    },
    {
      "cell_type": "code",
      "metadata": {
        "id": "sP7FCRkdhBDs",
        "colab_type": "code",
        "colab": {}
      },
      "source": [
        "tokens = text.split()"
      ],
      "execution_count": 2,
      "outputs": []
    },
    {
      "cell_type": "code",
      "metadata": {
        "id": "dROCwCTjj485",
        "colab_type": "code",
        "colab": {
          "base_uri": "https://localhost:8080/",
          "height": 35
        },
        "outputId": "69d82afc-a554-40fa-9ae9-9c61f5988849"
      },
      "source": [
        "tokens"
      ],
      "execution_count": 3,
      "outputs": [
        {
          "output_type": "execute_result",
          "data": {
            "text/plain": [
              "['you', 'will', 'never', 'know', 'until', 'you', 'try']"
            ]
          },
          "metadata": {
            "tags": []
          },
          "execution_count": 3
        }
      ]
    },
    {
      "cell_type": "code",
      "metadata": {
        "id": "FbP0a-nCtj8_",
        "colab_type": "code",
        "colab": {}
      },
      "source": [
        "# 순서 유지 Unique_Token\n",
        "from collections import OrderedDict\n",
        "categories = list(OrderedDict((element, None) for element in tokens))"
      ],
      "execution_count": 87,
      "outputs": []
    },
    {
      "cell_type": "code",
      "metadata": {
        "id": "QvK1mTLYkpl4",
        "colab_type": "code",
        "colab": {}
      },
      "source": [
        "X = np.array(tokens).reshape(-1,1)"
      ],
      "execution_count": 13,
      "outputs": []
    },
    {
      "cell_type": "code",
      "metadata": {
        "id": "2tj3kkWDso3i",
        "colab_type": "code",
        "colab": {
          "base_uri": "https://localhost:8080/",
          "height": 143
        },
        "outputId": "531b7b1c-a5e6-425c-e849-0ce10262ff92"
      },
      "source": [
        "X"
      ],
      "execution_count": 132,
      "outputs": [
        {
          "output_type": "execute_result",
          "data": {
            "text/plain": [
              "array([['you'],\n",
              "       ['will'],\n",
              "       ['never'],\n",
              "       ['know'],\n",
              "       ['until'],\n",
              "       ['you'],\n",
              "       ['try']], dtype='<U5')"
            ]
          },
          "metadata": {
            "tags": []
          },
          "execution_count": 132
        }
      ]
    },
    {
      "cell_type": "code",
      "metadata": {
        "id": "rPVOUkW1j5W8",
        "colab_type": "code",
        "colab": {}
      },
      "source": [
        "from sklearn.preprocessing import OneHotEncoder\n",
        "enc = OneHotEncoder(handle_unknown='ignore') # handle_unknown='ignore'"
      ],
      "execution_count": 138,
      "outputs": []
    },
    {
      "cell_type": "code",
      "metadata": {
        "id": "xTbwDIN8kNIW",
        "colab_type": "code",
        "colab": {
          "base_uri": "https://localhost:8080/",
          "height": 35
        },
        "outputId": "5aa96ff7-dc9f-458a-ece8-69b35a46896f"
      },
      "source": [
        "enc.categories_\n",
        "word_vec = enc.transform(X).toarray().T\n",
        "word_vec\n",
        "data = pd.DataFrame(word_vec, index = enc.categories_)\n",
        "final_vec = np.matrix(data.T[categories])\n",
        "final_vec"
      ],
      "execution_count": 140,
      "outputs": [
        {
          "output_type": "execute_result",
          "data": {
            "text/plain": [
              "[array(['know', 'never', 'try', 'until', 'will', 'you'], dtype='<U5')]"
            ]
          },
          "metadata": {
            "tags": []
          },
          "execution_count": 140
        }
      ]
    },
    {
      "cell_type": "code",
      "metadata": {
        "id": "fyPI6C7LyKZ1",
        "colab_type": "code",
        "colab": {
          "base_uri": "https://localhost:8080/",
          "height": 143
        },
        "outputId": "ee189622-8568-44aa-a00a-f63c7c8311c9"
      },
      "source": [
        ""
      ],
      "execution_count": 152,
      "outputs": [
        {
          "output_type": "execute_result",
          "data": {
            "text/plain": [
              "matrix([[1., 0., 0., 0., 0., 0.],\n",
              "        [0., 1., 0., 0., 0., 0.],\n",
              "        [0., 0., 1., 0., 0., 0.],\n",
              "        [0., 0., 0., 1., 0., 0.],\n",
              "        [0., 0., 0., 0., 1., 0.],\n",
              "        [1., 0., 0., 0., 0., 0.],\n",
              "        [0., 0., 0., 0., 0., 1.]])"
            ]
          },
          "metadata": {
            "tags": []
          },
          "execution_count": 152
        }
      ]
    },
    {
      "cell_type": "code",
      "metadata": {
        "id": "sK-StIyQ4MSh",
        "colab_type": "code",
        "colab": {}
      },
      "source": [
        "# Window 사이즈에 따른 Train Data 생성\n",
        "\n",
        "# t = window size\n",
        "def mktraindata(x, t):\n",
        "    X_data = []\n",
        "    y_data = []\n",
        "    for i in range(len(x)):\n",
        "        for j in range(i-t, i+t+1):\n",
        "            if j < 0 :\n",
        "                j = -1\n",
        "                continue\n",
        "            if j >= len(x):\n",
        "                break\n",
        "            if j != i:\n",
        "                X_data.append(x[j].getA1())\n",
        "                y_data.append(x[i].getA1())\n",
        "\n",
        "    return np.matrix(X_data), np.matrix(y_data)\n",
        "\n",
        "X_data, y_data = mktraindata(final_vec, 2)"
      ],
      "execution_count": 222,
      "outputs": []
    },
    {
      "cell_type": "code",
      "metadata": {
        "id": "k-Po7jLslXol",
        "colab_type": "code",
        "colab": {}
      },
      "source": [
        "# Hidden Node 수 (차원 수)\n",
        "H = 4\n",
        "\n",
        "# Weight (단어벡터)\n",
        "weight = np.random.random(size = (len(categories), H))\n",
        "\n",
        "hidden = np.dot(X_data, weight)"
      ],
      "execution_count": 228,
      "outputs": []
    },
    {
      "cell_type": "code",
      "metadata": {
        "id": "k4DwWMxclz2S",
        "colab_type": "code",
        "colab": {
          "base_uri": "https://localhost:8080/",
          "height": 125
        },
        "outputId": "4c2d5c1a-3250-4563-8cfb-3037bdd8bacb"
      },
      "source": [
        "weight"
      ],
      "execution_count": 229,
      "outputs": [
        {
          "output_type": "execute_result",
          "data": {
            "text/plain": [
              "array([[0.02211893, 0.42630455, 0.4209864 , 0.61867277],\n",
              "       [0.54875014, 0.42546305, 0.14392968, 0.58884411],\n",
              "       [0.07324909, 0.6236108 , 0.17339457, 0.69177113],\n",
              "       [0.0609407 , 0.6476459 , 0.46624978, 0.6952509 ],\n",
              "       [0.22956236, 0.95915625, 0.15054935, 0.90198759],\n",
              "       [0.61908603, 0.0761448 , 0.62405448, 0.30307234]])"
            ]
          },
          "metadata": {
            "tags": []
          },
          "execution_count": 229
        }
      ]
    },
    {
      "cell_type": "code",
      "metadata": {
        "id": "q2IprCFZld9Y",
        "colab_type": "code",
        "colab": {
          "base_uri": "https://localhost:8080/",
          "height": 413
        },
        "outputId": "973c7035-5a11-49d2-f0d9-ce21fedb48e8"
      },
      "source": [
        "hidden"
      ],
      "execution_count": 230,
      "outputs": [
        {
          "output_type": "execute_result",
          "data": {
            "text/plain": [
              "matrix([[0.54875014, 0.42546305, 0.14392968, 0.58884411],\n",
              "        [0.07324909, 0.6236108 , 0.17339457, 0.69177113],\n",
              "        [0.02211893, 0.42630455, 0.4209864 , 0.61867277],\n",
              "        [0.07324909, 0.6236108 , 0.17339457, 0.69177113],\n",
              "        [0.0609407 , 0.6476459 , 0.46624978, 0.6952509 ],\n",
              "        [0.02211893, 0.42630455, 0.4209864 , 0.61867277],\n",
              "        [0.54875014, 0.42546305, 0.14392968, 0.58884411],\n",
              "        [0.0609407 , 0.6476459 , 0.46624978, 0.6952509 ],\n",
              "        [0.22956236, 0.95915625, 0.15054935, 0.90198759],\n",
              "        [0.54875014, 0.42546305, 0.14392968, 0.58884411],\n",
              "        [0.07324909, 0.6236108 , 0.17339457, 0.69177113],\n",
              "        [0.22956236, 0.95915625, 0.15054935, 0.90198759],\n",
              "        [0.02211893, 0.42630455, 0.4209864 , 0.61867277],\n",
              "        [0.07324909, 0.6236108 , 0.17339457, 0.69177113],\n",
              "        [0.0609407 , 0.6476459 , 0.46624978, 0.6952509 ],\n",
              "        [0.02211893, 0.42630455, 0.4209864 , 0.61867277],\n",
              "        [0.61908603, 0.0761448 , 0.62405448, 0.30307234],\n",
              "        [0.0609407 , 0.6476459 , 0.46624978, 0.6952509 ],\n",
              "        [0.22956236, 0.95915625, 0.15054935, 0.90198759],\n",
              "        [0.61908603, 0.0761448 , 0.62405448, 0.30307234],\n",
              "        [0.22956236, 0.95915625, 0.15054935, 0.90198759],\n",
              "        [0.02211893, 0.42630455, 0.4209864 , 0.61867277]])"
            ]
          },
          "metadata": {
            "tags": []
          },
          "execution_count": 230
        }
      ]
    },
    {
      "cell_type": "code",
      "metadata": {
        "id": "-l7zvgl3khKY",
        "colab_type": "code",
        "colab": {}
      },
      "source": [
        "h_weight = np.random.random(size = (H, len(categories)))"
      ],
      "execution_count": 231,
      "outputs": []
    },
    {
      "cell_type": "code",
      "metadata": {
        "id": "7HFR3yPfmeWm",
        "colab_type": "code",
        "colab": {
          "base_uri": "https://localhost:8080/",
          "height": 161
        },
        "outputId": "431387db-d02c-415b-89d4-cf5ddc0943b5"
      },
      "source": [
        "h_weight"
      ],
      "execution_count": 232,
      "outputs": [
        {
          "output_type": "execute_result",
          "data": {
            "text/plain": [
              "array([[0.06612453, 0.8997787 , 0.08803106, 0.82032854, 0.46234574,\n",
              "        0.04382569],\n",
              "       [0.01938367, 0.68271673, 0.22233605, 0.39805634, 0.45472812,\n",
              "        0.4567216 ],\n",
              "       [0.28349581, 0.23045068, 0.93611008, 0.31076321, 0.48861083,\n",
              "        0.35222468],\n",
              "       [0.60177987, 0.52063727, 0.98086305, 0.02832953, 0.52906135,\n",
              "        0.64855825]])"
            ]
          },
          "metadata": {
            "tags": []
          },
          "execution_count": 232
        }
      ]
    },
    {
      "cell_type": "code",
      "metadata": {
        "id": "ZtP18wM5me_X",
        "colab_type": "code",
        "colab": {}
      },
      "source": [
        "output = np.dot(hidden, h_weight)"
      ],
      "execution_count": 233,
      "outputs": []
    },
    {
      "cell_type": "code",
      "metadata": {
        "id": "tWbHw-VFm0Aj",
        "colab_type": "code",
        "colab": {
          "base_uri": "https://localhost:8080/",
          "height": 809
        },
        "outputId": "cffc7269-f4c4-401f-dd63-51133d8fe661"
      },
      "source": [
        "output"
      ],
      "execution_count": 234,
      "outputs": [
        {
          "output_type": "execute_result",
          "data": {
            "text/plain": [
              "matrix([[0.43969087, 1.12396731, 0.85521228, 0.6809234 , 0.82904256,\n",
              "         0.6509628 ],\n",
              "        [0.48238199, 0.89177822, 0.9859485 , 0.38180275, 0.7681516 ,\n",
              "         0.79775443],\n",
              "        [0.50137865, 0.73006809, 1.09765289, 0.33619181, 0.73709362,\n",
              "         0.745199  ],\n",
              "        [0.48238199, 0.89177822, 0.9859485 , 0.38180275, 0.7681516 ,\n",
              "         0.79775443],\n",
              "        [0.56715128, 0.96641294, 1.26776674, 0.47238036, 0.91832354,\n",
              "         0.91360002],\n",
              "        [0.50137865, 0.73006809, 1.09765289, 0.33619181, 0.73709362,\n",
              "         0.745199  ],\n",
              "        [0.43969087, 1.12396731, 0.85521228, 0.6809234 , 0.82904256,\n",
              "         0.6509628 ],\n",
              "        [0.56715128, 0.96641294, 1.26776674, 0.47238036, 0.91832354,\n",
              "         0.91360002],\n",
              "        [0.61924975, 1.36568989, 1.25912069, 0.64245287, 1.09305931,\n",
              "         1.08614679],\n",
              "        [0.43969087, 1.12396731, 0.85521228, 0.6809234 , 0.82904256,\n",
              "         0.6509628 ],\n",
              "        [0.48238199, 0.89177822, 0.9859485 , 0.38180275, 0.7681516 ,\n",
              "         0.79775443],\n",
              "        [0.61924975, 1.36568989, 1.25912069, 0.64245287, 1.09305931,\n",
              "         1.08614679],\n",
              "        [0.50137865, 0.73006809, 1.09765289, 0.33619181, 0.73709362,\n",
              "         0.745199  ],\n",
              "        [0.48238199, 0.89177822, 0.9859485 , 0.38180275, 0.7681516 ,\n",
              "         0.79775443],\n",
              "        [0.56715128, 0.96641294, 1.26776674, 0.47238036, 0.91832354,\n",
              "         0.91360002],\n",
              "        [0.50137865, 0.73006809, 1.09765289, 0.33619181, 0.73709362,\n",
              "         0.745199  ],\n",
              "        [0.4017124 , 0.91063029, 0.95288469, 0.74068293, 0.78612061,\n",
              "         0.4782763 ],\n",
              "        [0.56715128, 0.96641294, 1.26776674, 0.47238036, 0.91832354,\n",
              "         0.91360002],\n",
              "        [0.61924975, 1.36568989, 1.25912069, 0.64245287, 1.09305931,\n",
              "         1.08614679],\n",
              "        [0.4017124 , 0.91063029, 0.95288469, 0.74068293, 0.78612061,\n",
              "         0.4782763 ],\n",
              "        [0.61924975, 1.36568989, 1.25912069, 0.64245287, 1.09305931,\n",
              "         1.08614679],\n",
              "        [0.50137865, 0.73006809, 1.09765289, 0.33619181, 0.73709362,\n",
              "         0.745199  ]])"
            ]
          },
          "metadata": {
            "tags": []
          },
          "execution_count": 234
        }
      ]
    },
    {
      "cell_type": "code",
      "metadata": {
        "id": "U_A5JpG0m0em",
        "colab_type": "code",
        "colab": {}
      },
      "source": [
        "def softmax(a) :\n",
        "    return np.exp(a) / np.sum(np.exp(a))"
      ],
      "execution_count": 235,
      "outputs": []
    },
    {
      "cell_type": "code",
      "metadata": {
        "id": "_T7dFDRQntIk",
        "colab_type": "code",
        "colab": {}
      },
      "source": [
        "result = np.matrix(list(map(softmax, output[:,].getA())))"
      ],
      "execution_count": 253,
      "outputs": []
    },
    {
      "cell_type": "code",
      "metadata": {
        "id": "H-lKCA-SnUt0",
        "colab_type": "code",
        "colab": {
          "base_uri": "https://localhost:8080/",
          "height": 809
        },
        "outputId": "a9161c9e-7005-4808-a677-11665b6cd978"
      },
      "source": [
        "result"
      ],
      "execution_count": 255,
      "outputs": [
        {
          "output_type": "execute_result",
          "data": {
            "text/plain": [
              "matrix([[0.11790247, 0.23372243, 0.17864118, 0.15006827, 0.17402683,\n",
              "         0.14563882],\n",
              "        [0.12875996, 0.1939007 , 0.21304777, 0.11643937, 0.17135193,\n",
              "         0.17650026],\n",
              "        [0.13401308, 0.16844796, 0.24327966, 0.11360762, 0.16963556,\n",
              "         0.17101611],\n",
              "        [0.12875996, 0.1939007 , 0.21304777, 0.11643937, 0.17135193,\n",
              "         0.17650026],\n",
              "        [0.12121114, 0.18069232, 0.24423955, 0.11025139, 0.17220856,\n",
              "         0.17139704],\n",
              "        [0.13401308, 0.16844796, 0.24327966, 0.11360762, 0.16963556,\n",
              "         0.17101611],\n",
              "        [0.11790247, 0.23372243, 0.17864118, 0.15006827, 0.17402683,\n",
              "         0.14563882],\n",
              "        [0.12121114, 0.18069232, 0.24423955, 0.11025139, 0.17220856,\n",
              "         0.17139704],\n",
              "        [0.10833854, 0.22853767, 0.20543545, 0.11088172, 0.17400264,\n",
              "         0.17280399],\n",
              "        [0.11790247, 0.23372243, 0.17864118, 0.15006827, 0.17402683,\n",
              "         0.14563882],\n",
              "        [0.12875996, 0.1939007 , 0.21304777, 0.11643937, 0.17135193,\n",
              "         0.17650026],\n",
              "        [0.10833854, 0.22853767, 0.20543545, 0.11088172, 0.17400264,\n",
              "         0.17280399],\n",
              "        [0.13401308, 0.16844796, 0.24327966, 0.11360762, 0.16963556,\n",
              "         0.17101611],\n",
              "        [0.12875996, 0.1939007 , 0.21304777, 0.11643937, 0.17135193,\n",
              "         0.17650026],\n",
              "        [0.12121114, 0.18069232, 0.24423955, 0.11025139, 0.17220856,\n",
              "         0.17139704],\n",
              "        [0.13401308, 0.16844796, 0.24327966, 0.11360762, 0.16963556,\n",
              "         0.17101611],\n",
              "        [0.11975196, 0.1992062 , 0.2078039 , 0.16807211, 0.17588507,\n",
              "         0.12928076],\n",
              "        [0.12121114, 0.18069232, 0.24423955, 0.11025139, 0.17220856,\n",
              "         0.17139704],\n",
              "        [0.10833854, 0.22853767, 0.20543545, 0.11088172, 0.17400264,\n",
              "         0.17280399],\n",
              "        [0.11975196, 0.1992062 , 0.2078039 , 0.16807211, 0.17588507,\n",
              "         0.12928076],\n",
              "        [0.10833854, 0.22853767, 0.20543545, 0.11088172, 0.17400264,\n",
              "         0.17280399],\n",
              "        [0.13401308, 0.16844796, 0.24327966, 0.11360762, 0.16963556,\n",
              "         0.17101611]])"
            ]
          },
          "metadata": {
            "tags": []
          },
          "execution_count": 255
        }
      ]
    },
    {
      "cell_type": "code",
      "metadata": {
        "id": "mToUBtFf-gkd",
        "colab_type": "code",
        "colab": {
          "base_uri": "https://localhost:8080/",
          "height": 35
        },
        "outputId": "44b50c36-f2dd-496f-f162-5235ddc4113c"
      },
      "source": [
        "y_data.shape"
      ],
      "execution_count": 264,
      "outputs": [
        {
          "output_type": "execute_result",
          "data": {
            "text/plain": [
              "(22, 6)"
            ]
          },
          "metadata": {
            "tags": []
          },
          "execution_count": 264
        }
      ]
    },
    {
      "cell_type": "code",
      "metadata": {
        "id": "fggA4Vbb-iO_",
        "colab_type": "code",
        "colab": {
          "base_uri": "https://localhost:8080/",
          "height": 35
        },
        "outputId": "b0e19eb9-0793-46c6-acd1-2a565dce9d25"
      },
      "source": [
        "result.shape"
      ],
      "execution_count": 266,
      "outputs": [
        {
          "output_type": "execute_result",
          "data": {
            "text/plain": [
              "(22, 6)"
            ]
          },
          "metadata": {
            "tags": []
          },
          "execution_count": 266
        }
      ]
    },
    {
      "cell_type": "code",
      "metadata": {
        "id": "5M5ZeY-JnVpH",
        "colab_type": "code",
        "colab": {}
      },
      "source": [
        "loss = -np.multiply(y_data, np.log(result)).sum()"
      ],
      "execution_count": 273,
      "outputs": []
    },
    {
      "cell_type": "code",
      "metadata": {
        "id": "t411tvUa-sKo",
        "colab_type": "code",
        "colab": {
          "base_uri": "https://localhost:8080/",
          "height": 35
        },
        "outputId": "bc73f507-607f-4ac8-9854-ebd24a88fc22"
      },
      "source": [
        "loss"
      ],
      "execution_count": 274,
      "outputs": [
        {
          "output_type": "execute_result",
          "data": {
            "text/plain": [
              "40.88144967391233"
            ]
          },
          "metadata": {
            "tags": []
          },
          "execution_count": 274
        }
      ]
    },
    {
      "cell_type": "code",
      "metadata": {
        "id": "ZNeq0CSX-vcM",
        "colab_type": "code",
        "colab": {}
      },
      "source": [
        "temp = (result-y_data).dot(h_weight.T)\n",
        "w_grad = X_data.T.dot(temp)\n",
        "h_grad = hidden.T.dot(result-y_data)"
      ],
      "execution_count": 291,
      "outputs": []
    },
    {
      "cell_type": "code",
      "metadata": {
        "id": "mWmoxzgVNc2q",
        "colab_type": "code",
        "colab": {
          "base_uri": "https://localhost:8080/",
          "height": 125
        },
        "outputId": "ab055dc7-3ed1-4cbf-fa58-c2f3885f6199"
      },
      "source": [
        "# weight 업데이트\n",
        "\n",
        "r = 0.03\n",
        "weight -= r*w_grad\n",
        "h_weight -= r*h_grad"
      ],
      "execution_count": 288,
      "outputs": [
        {
          "output_type": "execute_result",
          "data": {
            "text/plain": [
              "array([[0.02211893, 0.42630455, 0.4209864 , 0.61867277],\n",
              "       [0.54875014, 0.42546305, 0.14392968, 0.58884411],\n",
              "       [0.07324909, 0.6236108 , 0.17339457, 0.69177113],\n",
              "       [0.0609407 , 0.6476459 , 0.46624978, 0.6952509 ],\n",
              "       [0.22956236, 0.95915625, 0.15054935, 0.90198759],\n",
              "       [0.61908603, 0.0761448 , 0.62405448, 0.30307234]])"
            ]
          },
          "metadata": {
            "tags": []
          },
          "execution_count": 288
        }
      ]
    },
    {
      "cell_type": "code",
      "metadata": {
        "id": "EsSl3kKnPnJ9",
        "colab_type": "code",
        "colab": {}
      },
      "source": [
        "from collections import OrderedDict\n",
        "categories = list(OrderedDict((element, None) for element in tokens))"
      ],
      "execution_count": null,
      "outputs": []
    },
    {
      "cell_type": "code",
      "metadata": {
        "id": "VXnmbxBaNdZe",
        "colab_type": "code",
        "colab": {
          "base_uri": "https://localhost:8080/",
          "height": 125
        },
        "outputId": "bc2a0070-3ae6-4bc6-83d2-ef74c0fa5ecd"
      },
      "source": [
        "\n",
        "weight = np.random.random(size = (len(categories), H))\n",
        "h_weight = np.random.random(size = (H, len(categories)))\n",
        "\n",
        "epocks = 10000\n",
        "r = 0.03\n",
        "\n",
        "loss_history = []\n",
        "for epock in range(epocks):\n",
        "    hidden = np.dot(X_data, weight)\n",
        "    output = np.dot(hidden, h_weight)\n",
        "    result = np.matrix(list(map(softmax, output[:,].getA())))\n",
        "\n",
        "    loss_history.append(-np.multiply(y_data, np.log(result)).sum())\n",
        "\n",
        "    temp = (result-y_data).dot(h_weight.T)\n",
        "    w_grad = X_data.T.dot(temp)\n",
        "    h_grad = hidden.T.dot(result-y_data)\n",
        "\n",
        "    # weight 업데이트\n",
        "    weight -= r*w_grad\n",
        "    h_weight -= r*h_grad\n",
        "\n",
        "weight"
      ],
      "execution_count": 292,
      "outputs": [
        {
          "output_type": "execute_result",
          "data": {
            "text/plain": [
              "array([[-0.9779249 ,  1.09915553,  0.09763811, -1.60907048],\n",
              "       [-0.20796545,  1.76795426, -0.59837205,  3.35542916],\n",
              "       [ 2.8213533 ,  1.14509549, -0.28644311, -0.05722058],\n",
              "       [ 0.36728865,  0.78118192,  2.8604919 ,  0.8242549 ],\n",
              "       [-1.11893775, -0.38788495, -1.54111862,  2.1425576 ],\n",
              "       [ 2.44245287, -2.44017639,  2.07296036,  0.33897258]])"
            ]
          },
          "metadata": {
            "tags": []
          },
          "execution_count": 292
        }
      ]
    },
    {
      "cell_type": "code",
      "metadata": {
        "id": "DfBSdu-tOq2e",
        "colab_type": "code",
        "colab": {
          "base_uri": "https://localhost:8080/",
          "height": 283
        },
        "outputId": "b0337425-5934-4be4-e73a-fd21bdaff72b"
      },
      "source": [
        "import matplotlib.pyplot as plt \n",
        "\n",
        "plt.plot(loss_history)"
      ],
      "execution_count": 293,
      "outputs": [
        {
          "output_type": "execute_result",
          "data": {
            "text/plain": [
              "[<matplotlib.lines.Line2D at 0x7f79f41e65c0>]"
            ]
          },
          "metadata": {
            "tags": []
          },
          "execution_count": 293
        },
        {
          "output_type": "display_data",
          "data": {
            "image/png": "[encoded data removed]",
            "text/plain": [
              "<Figure size 432x288 with 1 Axes>"
            ]
          },
          "metadata": {
            "tags": [],
            "needs_background": "light"
          }
        }
      ]
    },
    {
      "cell_type": "code",
      "metadata": {
        "id": "jTS0Fx9zP4e6",
        "colab_type": "code",
        "colab": {}
      },
      "source": [
        "text = 'you will never know until you try'"
      ],
      "execution_count": 90,
      "outputs": []
    },
    {
      "cell_type": "code",
      "execution_count": 128,
      "metadata": {},
      "outputs": [
        {
          "output_type": "execute_result",
          "data": {
            "text/plain": "               0         1         2         3\nknow    2.418918 -3.324329  1.050579  9.610252\nnever   2.474781 -2.110297  2.785141  2.310004\ntry     6.735351 -2.399146 -2.483451 -5.587678\nuntil -17.764967 -0.434003  0.032137  1.705531\nwill    0.013303  0.156578  0.250370  0.397478\nyou    14.511025  7.695645  6.542856 -5.225214",
            "text/html": "<div>\n<style scoped>\n    .dataframe tbody tr th:only-of-type {\n        vertical-align: middle;\n    }\n\n    .dataframe tbody tr th {\n        vertical-align: top;\n    }\n\n    .dataframe thead th {\n        text-align: right;\n    }\n</style>\n<table border=\"1\" class=\"dataframe\">\n  <thead>\n    <tr style=\"text-align: right;\">\n      <th></th>\n      <th>0</th>\n      <th>1</th>\n      <th>2</th>\n      <th>3</th>\n    </tr>\n  </thead>\n  <tbody>\n    <tr>\n      <th>know</th>\n      <td>2.418918</td>\n      <td>-3.324329</td>\n      <td>1.050579</td>\n      <td>9.610252</td>\n    </tr>\n    <tr>\n      <th>never</th>\n      <td>2.474781</td>\n      <td>-2.110297</td>\n      <td>2.785141</td>\n      <td>2.310004</td>\n    </tr>\n    <tr>\n      <th>try</th>\n      <td>6.735351</td>\n      <td>-2.399146</td>\n      <td>-2.483451</td>\n      <td>-5.587678</td>\n    </tr>\n    <tr>\n      <th>until</th>\n      <td>-17.764967</td>\n      <td>-0.434003</td>\n      <td>0.032137</td>\n      <td>1.705531</td>\n    </tr>\n    <tr>\n      <th>will</th>\n      <td>0.013303</td>\n      <td>0.156578</td>\n      <td>0.250370</td>\n      <td>0.397478</td>\n    </tr>\n    <tr>\n      <th>you</th>\n      <td>14.511025</td>\n      <td>7.695645</td>\n      <td>6.542856</td>\n      <td>-5.225214</td>\n    </tr>\n  </tbody>\n</table>\n</div>"
          },
          "metadata": {},
          "execution_count": 128
        }
      ],
      "source": [
        "vectors"
      ]
    },
    {
      "cell_type": "code",
      "execution_count": 130,
      "metadata": {},
      "outputs": [
        {
          "output_type": "execute_result",
          "data": {
            "text/plain": "0.04166477318618369"
          },
          "metadata": {},
          "execution_count": 130
        }
      ],
      "source": [
        "cos_sim(vectors.loc['never'], vectors.loc['try'])"
      ]
    },
    {
      "cell_type": "code",
      "execution_count": 129,
      "metadata": {},
      "outputs": [
        {
          "output_type": "execute_result",
          "data": {
            "text/plain": "0.10503655323134331"
          },
          "metadata": {},
          "execution_count": 129
        }
      ],
      "source": [
        "cos_sim(vectors.loc['you'], vectors.loc['will'])"
      ]
    },
    {
      "cell_type": "code",
      "execution_count": 73,
      "metadata": {},
      "outputs": [],
      "source": [
        "# t = window size\n",
        "def mktraindata(x, t):\n",
        "    X_data = []\n",
        "    y_data = []\n",
        "    for i in range(len(x)):\n",
        "        temp = []\n",
        "        for j in range(i-t, i+t+1):\n",
        "            if j < 0 :\n",
        "                j = -1\n",
        "                continue\n",
        "            if j >= len(x):\n",
        "                break\n",
        "            if j != i:\n",
        "                temp.append(x[j].getA1())\n",
        "        X_data.append(sum(temp))\n",
        "        y_data.append(x[i].getA1())\n",
        "\n",
        "    return np.matrix(X_data), np.matrix(y_data)\n",
        "\n",
        "def softmax(a):\n",
        "    return np.exp(a) / np.sum(np.exp(a))\n",
        "\n",
        "# Input 원래 데이터프레임 칼럼 값들\n",
        "# Input 데이터프레임.loc[index word]\n",
        "def cos_sim(vec1, vec2):\n",
        "    a = np.sqrt((np.array(vec1)**2).sum())\n",
        "    b = np.sqrt((np.array(vec2)**2).sum())\n",
        "    return float(np.matrix(vec1).dot(np.matrix(vec2).T)/(a * b))"
      ]
    },
    {
      "cell_type": "code",
      "metadata": {
        "id": "AxUtJS2hOvzI",
        "colab_type": "code",
        "colab": {}
      },
      "source": [
        "from collections import OrderedDict\n",
        "from sklearn.preprocessing import OneHotEncoder\n",
        "import numpy as np\n",
        "import matplotlib.pyplot as plt\n",
        "import pandas as pd\n",
        "\n",
        "# t = window size\n",
        "\n",
        "\n",
        "# X_data, y_data = mktraindata(final_vec, 2)\n",
        "\n",
        "class Word2Vec():\n",
        "    def __init__(self, H = 4, r = 0.03, t = 2):\n",
        "        self.H, self.r, self.t = H, r, t\n",
        "        return\n",
        "\n",
        "    def mkdatas(self, data):\n",
        "        tokens = data.split()\n",
        "        categories = list(OrderedDict((element, None) for element in tokens))\n",
        "        X = np.array(tokens).reshape(-1,1)\n",
        "        enc = OneHotEncoder(handle_unknown='ignore') # handle_unknown='ignore'\n",
        "        word_vec = enc.fit_transform(X).toarray().T\n",
        "        df = pd.DataFrame(word_vec, index = enc.categories_)\n",
        "        final_vec = np.matrix(df.T[categories])\n",
        "        self.categories = categories\n",
        "        X_data, y_data = mktraindata(final_vec, self.t)\n",
        "        return X_data/np.sum(X_data, axis=1), y_data\n",
        "\n",
        "    def fit(self, X_data, y_data):\n",
        "        # Hidden Node 수 (차원 수), Learning Rate\n",
        "        H, r = self.H, self.r\n",
        "\n",
        "        # Weight (단어벡터)\n",
        "        weight = np.random.random(size = (len(self.categories), H))\n",
        "        hidden = np.dot(X_data, weight)\n",
        "\n",
        "        # h_weight\n",
        "        h_weight = np.random.random(size = (H, len(self.categories)))\n",
        "\n",
        "        output = np.dot(hidden, h_weight)\n",
        "        result = np.matrix(list(map(softmax, output[:,].getA())))\n",
        "        \n",
        "        loss_history = []\n",
        "        loss_history.append(-np.multiply(y_data, np.log(result)).sum())\n",
        "        print(result)\n",
        "\n",
        "        epocks = 10000\n",
        "        for epock in range(epocks):\n",
        "            temp = (result-y_data).dot(h_weight.T)\n",
        "            w_grad = X_data.T.dot(temp)\n",
        "            h_grad = hidden.T.dot(result-y_data)\n",
        "\n",
        "            # weight 업데이트\n",
        "            weight -= r*w_grad\n",
        "            h_weight -= r*h_grad\n",
        "            \n",
        "            hidden = np.dot(X_data, weight)\n",
        "            output = np.dot(hidden, h_weight)\n",
        "            result = np.matrix(list(map(softmax, output[:,].getA())))\n",
        "\n",
        "            loss_history.append(-np.multiply(y_data, np.log(result)).sum())\n",
        "\n",
        "        self.loss_history = loss_history\n",
        "        self.df = pd.DataFrame(weight, index = self.categories)\n",
        "        return self.df\n",
        "\n",
        "    def loss_graph(self):\n",
        "        plt.plot(self.loss_history)\n",
        "        plt.title('Loss')\n",
        "        plt.show()\n",
        "\n",
        "\n",
        "    def word_sim(self):\n",
        "        res = []\n",
        "        for c1 in self.categories:\n",
        "            for c2 in self.categories:\n",
        "                res.append(cos_sim(self.df.loc[c1], self.df.loc[c2]))\n",
        "\n",
        "        return pd.DataFrame(np.asarray(res).reshape(len(self.categories), len(self.categories)), index = self.categories, columns = self.categories)\n"
      ],
      "execution_count": 74,
      "outputs": []
    },
    {
      "cell_type": "code",
      "execution_count": null,
      "metadata": {},
      "outputs": [],
      "source": []
    },
    {
      "cell_type": "code",
      "metadata": {
        "id": "FGRsWjAwSEKf",
        "colab_type": "code",
        "colab": {}
      },
      "source": [
        "w2v = Word2Vec()"
      ],
      "execution_count": 112,
      "outputs": []
    },
    {
      "cell_type": "code",
      "metadata": {
        "id": "hkKynYJhSH-H",
        "colab_type": "code",
        "colab": {}
      },
      "source": [
        "X_data, y_data = w2v.mkdatas(text)"
      ],
      "execution_count": 113,
      "outputs": []
    },
    {
      "cell_type": "code",
      "execution_count": 93,
      "metadata": {},
      "outputs": [
        {
          "output_type": "execute_result",
          "data": {
            "text/plain": "matrix([[0.        , 0.5       , 0.5       , 0.        , 0.        ,\n         0.        ],\n        [0.33333333, 0.        , 0.33333333, 0.33333333, 0.        ,\n         0.        ],\n        [0.25      , 0.25      , 0.        , 0.25      , 0.25      ,\n         0.        ],\n        [0.25      , 0.25      , 0.25      , 0.        , 0.25      ,\n         0.        ],\n        [0.25      , 0.        , 0.25      , 0.25      , 0.        ,\n         0.25      ],\n        [0.        , 0.        , 0.        , 0.33333333, 0.33333333,\n         0.33333333],\n        [0.5       , 0.        , 0.        , 0.        , 0.5       ,\n         0.        ]])"
          },
          "metadata": {},
          "execution_count": 93
        }
      ],
      "source": [
        "X_data"
      ]
    },
    {
      "cell_type": "code",
      "execution_count": 94,
      "metadata": {},
      "outputs": [
        {
          "output_type": "execute_result",
          "data": {
            "text/plain": "matrix([[1., 0., 0., 0., 0., 0.],\n        [0., 1., 0., 0., 0., 0.],\n        [0., 0., 1., 0., 0., 0.],\n        [0., 0., 0., 1., 0., 0.],\n        [0., 0., 0., 0., 1., 0.],\n        [1., 0., 0., 0., 0., 0.],\n        [0., 0., 0., 0., 0., 1.]])"
          },
          "metadata": {},
          "execution_count": 94
        }
      ],
      "source": [
        "y_data"
      ]
    },
    {
      "cell_type": "code",
      "metadata": {
        "id": "vJVdXM_2SKA_",
        "colab_type": "code",
        "colab": {
          "base_uri": "https://localhost:8080/",
          "height": 235
        },
        "outputId": "ab43e496-a7f3-408d-fcf8-87215cdc5616",
        "tags": []
      },
      "source": [
        "w2v.fit(X_data, y_data)"
      ],
      "execution_count": 79,
      "outputs": [
        {
          "output_type": "stream",
          "name": "stdout",
          "text": "[[0.24211879 0.07506197 0.24366322 0.15412647 0.08005937 0.20497018]\n [0.21485989 0.08825022 0.24097834 0.16067752 0.08436046 0.21087357]\n [0.22707001 0.08030431 0.21998871 0.13738445 0.10017261 0.23507991]\n [0.24012492 0.07410049 0.23013271 0.14097456 0.08979447 0.22487284]\n [0.22858525 0.0817982  0.23631979 0.15329917 0.08628637 0.21371122]\n [0.21658024 0.08230079 0.21659627 0.13387062 0.10285202 0.24780006]\n [0.23695826 0.07278604 0.21626816 0.12830103 0.10021043 0.24547608]]\n"
        },
        {
          "output_type": "execute_result",
          "data": {
            "text/plain": "              0         1         2         3\nyou   -4.419213  0.451646  0.701685 -3.553528\nwill   4.048305  2.529602  1.997975  1.916659\nnever  3.058509  1.324302 -3.206648 -1.993091\nknow   1.457057 -3.296213  2.999717 -1.909309\nuntil -1.487479  3.059224  1.918262  2.912529\ntry    5.089011 -2.487771 -1.221285  3.302776",
            "text/html": "<div>\n<style scoped>\n    .dataframe tbody tr th:only-of-type {\n        vertical-align: middle;\n    }\n\n    .dataframe tbody tr th {\n        vertical-align: top;\n    }\n\n    .dataframe thead th {\n        text-align: right;\n    }\n</style>\n<table border=\"1\" class=\"dataframe\">\n  <thead>\n    <tr style=\"text-align: right;\">\n      <th></th>\n      <th>0</th>\n      <th>1</th>\n      <th>2</th>\n      <th>3</th>\n    </tr>\n  </thead>\n  <tbody>\n    <tr>\n      <th>you</th>\n      <td>-4.419213</td>\n      <td>0.451646</td>\n      <td>0.701685</td>\n      <td>-3.553528</td>\n    </tr>\n    <tr>\n      <th>will</th>\n      <td>4.048305</td>\n      <td>2.529602</td>\n      <td>1.997975</td>\n      <td>1.916659</td>\n    </tr>\n    <tr>\n      <th>never</th>\n      <td>3.058509</td>\n      <td>1.324302</td>\n      <td>-3.206648</td>\n      <td>-1.993091</td>\n    </tr>\n    <tr>\n      <th>know</th>\n      <td>1.457057</td>\n      <td>-3.296213</td>\n      <td>2.999717</td>\n      <td>-1.909309</td>\n    </tr>\n    <tr>\n      <th>until</th>\n      <td>-1.487479</td>\n      <td>3.059224</td>\n      <td>1.918262</td>\n      <td>2.912529</td>\n    </tr>\n    <tr>\n      <th>try</th>\n      <td>5.089011</td>\n      <td>-2.487771</td>\n      <td>-1.221285</td>\n      <td>3.302776</td>\n    </tr>\n  </tbody>\n</table>\n</div>"
          },
          "metadata": {},
          "execution_count": 79
        }
      ]
    },
    {
      "cell_type": "code",
      "metadata": {
        "id": "Yp1eetHuST_k",
        "colab_type": "code",
        "colab": {
          "base_uri": "https://localhost:8080/",
          "height": 281
        },
        "outputId": "b2d59faf-b4e9-4a88-d09b-1563af81b800"
      },
      "source": [
        "w2v.loss_graph()"
      ],
      "execution_count": 174,
      "outputs": [
        {
          "output_type": "display_data",
          "data": {
            "text/plain": "<Figure size 432x288 with 1 Axes>",
            "image/svg+xml": "<?xml version=\"1.0\" encoding=\"utf-8\" standalone=\"no\"?>\r\n<!DOCTYPE svg PUBLIC \"-//W3C//DTD SVG 1.1//EN\"\r\n  \"http://www.w3.org/Graphics/SVG/1.1/DTD/svg11.dtd\">\r\n<!-- Created with matplotlib (https://matplotlib.org/) -->\r\n<svg height=\"263.63625pt\" version=\"1.1\" viewBox=\"0 0 369.613068 263.63625\" width=\"369.613068pt\" xmlns=\"http://www.w3.org/2000/svg\" xmlns:xlink=\"http://www.w3.org/1999/xlink\">\r\n <defs>\r\n  <style type=\"text/css\">\r\n*{stroke-linecap:butt;stroke-linejoin:round;}\r\n  </style>\r\n </defs>\r\n <g id=\"figure_1\">\r\n  <g id=\"patch_1\">\r\n   <path d=\"M -0 263.63625 \r\nL 369.613068 263.63625 \r\nL 369.613068 0 \r\nL -0 0 \r\nz\r\n\" style=\"fill:none;\"/>\r\n  </g>\r\n  <g id=\"axes_1\">\r\n   <g id=\"patch_2\">\r\n    <path d=\"M 26.925 239.758125 \r\nL 361.725 239.758125 \r\nL 361.725 22.318125 \r\nL 26.925 22.318125 \r\nz\r\n\" style=\"fill:#ffffff;\"/>\r\n   </g>\r\n   <g id=\"matplotlib.axis_1\">\r\n    <g id=\"xtick_1\">\r\n     <g id=\"line2d_1\">\r\n      <defs>\r\n       <path d=\"M 0 0 \r\nL 0 3.5 \r\n\" id=\"m91a28dec64\" style=\"stroke:#000000;stroke-width:0.8;\"/>\r\n      </defs>\r\n      <g>\r\n       <use style=\"stroke:#000000;stroke-width:0.8;\" x=\"42.143182\" xlink:href=\"#m91a28dec64\" y=\"239.758125\"/>\r\n      </g>\r\n     </g>\r\n     <g id=\"text_1\">\r\n      <!-- 0 -->\r\n      <defs>\r\n       <path d=\"M 31.78125 66.40625 \r\nQ 24.171875 66.40625 20.328125 58.90625 \r\nQ 16.5 51.421875 16.5 36.375 \r\nQ 16.5 21.390625 20.328125 13.890625 \r\nQ 24.171875 6.390625 31.78125 6.390625 \r\nQ 39.453125 6.390625 43.28125 13.890625 \r\nQ 47.125 21.390625 47.125 36.375 \r\nQ 47.125 51.421875 43.28125 58.90625 \r\nQ 39.453125 66.40625 31.78125 66.40625 \r\nz\r\nM 31.78125 74.21875 \r\nQ 44.046875 74.21875 50.515625 64.515625 \r\nQ 56.984375 54.828125 56.984375 36.375 \r\nQ 56.984375 17.96875 50.515625 8.265625 \r\nQ 44.046875 -1.421875 31.78125 -1.421875 \r\nQ 19.53125 -1.421875 13.0625 8.265625 \r\nQ 6.59375 17.96875 6.59375 36.375 \r\nQ 6.59375 54.828125 13.0625 64.515625 \r\nQ 19.53125 74.21875 31.78125 74.21875 \r\nz\r\n\" id=\"DejaVuSans-48\"/>\r\n      </defs>\r\n      <g transform=\"translate(38.961932 254.356563)scale(0.1 -0.1)\">\r\n       <use xlink:href=\"#DejaVuSans-48\"/>\r\n      </g>\r\n     </g>\r\n    </g>\r\n    <g id=\"xtick_2\">\r\n     <g id=\"line2d_2\">\r\n      <g>\r\n       <use style=\"stroke:#000000;stroke-width:0.8;\" x=\"103.015909\" xlink:href=\"#m91a28dec64\" y=\"239.758125\"/>\r\n      </g>\r\n     </g>\r\n     <g id=\"text_2\">\r\n      <!-- 2000 -->\r\n      <defs>\r\n       <path d=\"M 19.1875 8.296875 \r\nL 53.609375 8.296875 \r\nL 53.609375 0 \r\nL 7.328125 0 \r\nL 7.328125 8.296875 \r\nQ 12.9375 14.109375 22.625 23.890625 \r\nQ 32.328125 33.6875 34.8125 36.53125 \r\nQ 39.546875 41.84375 41.421875 45.53125 \r\nQ 43.3125 49.21875 43.3125 52.78125 \r\nQ 43.3125 58.59375 39.234375 62.25 \r\nQ 35.15625 65.921875 28.609375 65.921875 \r\nQ 23.96875 65.921875 18.8125 64.3125 \r\nQ 13.671875 62.703125 7.8125 59.421875 \r\nL 7.8125 69.390625 \r\nQ 13.765625 71.78125 18.9375 73 \r\nQ 24.125 74.21875 28.421875 74.21875 \r\nQ 39.75 74.21875 46.484375 68.546875 \r\nQ 53.21875 62.890625 53.21875 53.421875 \r\nQ 53.21875 48.921875 51.53125 44.890625 \r\nQ 49.859375 40.875 45.40625 35.40625 \r\nQ 44.1875 33.984375 37.640625 27.21875 \r\nQ 31.109375 20.453125 19.1875 8.296875 \r\nz\r\n\" id=\"DejaVuSans-50\"/>\r\n      </defs>\r\n      <g transform=\"translate(90.290909 254.356563)scale(0.1 -0.1)\">\r\n       <use xlink:href=\"#DejaVuSans-50\"/>\r\n       <use x=\"63.623047\" xlink:href=\"#DejaVuSans-48\"/>\r\n       <use x=\"127.246094\" xlink:href=\"#DejaVuSans-48\"/>\r\n       <use x=\"190.869141\" xlink:href=\"#DejaVuSans-48\"/>\r\n      </g>\r\n     </g>\r\n    </g>\r\n    <g id=\"xtick_3\">\r\n     <g id=\"line2d_3\">\r\n      <g>\r\n       <use style=\"stroke:#000000;stroke-width:0.8;\" x=\"163.888636\" xlink:href=\"#m91a28dec64\" y=\"239.758125\"/>\r\n      </g>\r\n     </g>\r\n     <g id=\"text_3\">\r\n      <!-- 4000 -->\r\n      <defs>\r\n       <path d=\"M 37.796875 64.3125 \r\nL 12.890625 25.390625 \r\nL 37.796875 25.390625 \r\nz\r\nM 35.203125 72.90625 \r\nL 47.609375 72.90625 \r\nL 47.609375 25.390625 \r\nL 58.015625 25.390625 \r\nL 58.015625 17.1875 \r\nL 47.609375 17.1875 \r\nL 47.609375 0 \r\nL 37.796875 0 \r\nL 37.796875 17.1875 \r\nL 4.890625 17.1875 \r\nL 4.890625 26.703125 \r\nz\r\n\" id=\"DejaVuSans-52\"/>\r\n      </defs>\r\n      <g transform=\"translate(151.163636 254.356563)scale(0.1 -0.1)\">\r\n       <use xlink:href=\"#DejaVuSans-52\"/>\r\n       <use x=\"63.623047\" xlink:href=\"#DejaVuSans-48\"/>\r\n       <use x=\"127.246094\" xlink:href=\"#DejaVuSans-48\"/>\r\n       <use x=\"190.869141\" xlink:href=\"#DejaVuSans-48\"/>\r\n      </g>\r\n     </g>\r\n    </g>\r\n    <g id=\"xtick_4\">\r\n     <g id=\"line2d_4\">\r\n      <g>\r\n       <use style=\"stroke:#000000;stroke-width:0.8;\" x=\"224.761364\" xlink:href=\"#m91a28dec64\" y=\"239.758125\"/>\r\n      </g>\r\n     </g>\r\n     <g id=\"text_4\">\r\n      <!-- 6000 -->\r\n      <defs>\r\n       <path d=\"M 33.015625 40.375 \r\nQ 26.375 40.375 22.484375 35.828125 \r\nQ 18.609375 31.296875 18.609375 23.390625 \r\nQ 18.609375 15.53125 22.484375 10.953125 \r\nQ 26.375 6.390625 33.015625 6.390625 \r\nQ 39.65625 6.390625 43.53125 10.953125 \r\nQ 47.40625 15.53125 47.40625 23.390625 \r\nQ 47.40625 31.296875 43.53125 35.828125 \r\nQ 39.65625 40.375 33.015625 40.375 \r\nz\r\nM 52.59375 71.296875 \r\nL 52.59375 62.3125 \r\nQ 48.875 64.0625 45.09375 64.984375 \r\nQ 41.3125 65.921875 37.59375 65.921875 \r\nQ 27.828125 65.921875 22.671875 59.328125 \r\nQ 17.53125 52.734375 16.796875 39.40625 \r\nQ 19.671875 43.65625 24.015625 45.921875 \r\nQ 28.375 48.1875 33.59375 48.1875 \r\nQ 44.578125 48.1875 50.953125 41.515625 \r\nQ 57.328125 34.859375 57.328125 23.390625 \r\nQ 57.328125 12.15625 50.6875 5.359375 \r\nQ 44.046875 -1.421875 33.015625 -1.421875 \r\nQ 20.359375 -1.421875 13.671875 8.265625 \r\nQ 6.984375 17.96875 6.984375 36.375 \r\nQ 6.984375 53.65625 15.1875 63.9375 \r\nQ 23.390625 74.21875 37.203125 74.21875 \r\nQ 40.921875 74.21875 44.703125 73.484375 \r\nQ 48.484375 72.75 52.59375 71.296875 \r\nz\r\n\" id=\"DejaVuSans-54\"/>\r\n      </defs>\r\n      <g transform=\"translate(212.036364 254.356563)scale(0.1 -0.1)\">\r\n       <use xlink:href=\"#DejaVuSans-54\"/>\r\n       <use x=\"63.623047\" xlink:href=\"#DejaVuSans-48\"/>\r\n       <use x=\"127.246094\" xlink:href=\"#DejaVuSans-48\"/>\r\n       <use x=\"190.869141\" xlink:href=\"#DejaVuSans-48\"/>\r\n      </g>\r\n     </g>\r\n    </g>\r\n    <g id=\"xtick_5\">\r\n     <g id=\"line2d_5\">\r\n      <g>\r\n       <use style=\"stroke:#000000;stroke-width:0.8;\" x=\"285.634091\" xlink:href=\"#m91a28dec64\" y=\"239.758125\"/>\r\n      </g>\r\n     </g>\r\n     <g id=\"text_5\">\r\n      <!-- 8000 -->\r\n      <defs>\r\n       <path d=\"M 31.78125 34.625 \r\nQ 24.75 34.625 20.71875 30.859375 \r\nQ 16.703125 27.09375 16.703125 20.515625 \r\nQ 16.703125 13.921875 20.71875 10.15625 \r\nQ 24.75 6.390625 31.78125 6.390625 \r\nQ 38.8125 6.390625 42.859375 10.171875 \r\nQ 46.921875 13.96875 46.921875 20.515625 \r\nQ 46.921875 27.09375 42.890625 30.859375 \r\nQ 38.875 34.625 31.78125 34.625 \r\nz\r\nM 21.921875 38.8125 \r\nQ 15.578125 40.375 12.03125 44.71875 \r\nQ 8.5 49.078125 8.5 55.328125 \r\nQ 8.5 64.0625 14.71875 69.140625 \r\nQ 20.953125 74.21875 31.78125 74.21875 \r\nQ 42.671875 74.21875 48.875 69.140625 \r\nQ 55.078125 64.0625 55.078125 55.328125 \r\nQ 55.078125 49.078125 51.53125 44.71875 \r\nQ 48 40.375 41.703125 38.8125 \r\nQ 48.828125 37.15625 52.796875 32.3125 \r\nQ 56.78125 27.484375 56.78125 20.515625 \r\nQ 56.78125 9.90625 50.3125 4.234375 \r\nQ 43.84375 -1.421875 31.78125 -1.421875 \r\nQ 19.734375 -1.421875 13.25 4.234375 \r\nQ 6.78125 9.90625 6.78125 20.515625 \r\nQ 6.78125 27.484375 10.78125 32.3125 \r\nQ 14.796875 37.15625 21.921875 38.8125 \r\nz\r\nM 18.3125 54.390625 \r\nQ 18.3125 48.734375 21.84375 45.5625 \r\nQ 25.390625 42.390625 31.78125 42.390625 \r\nQ 38.140625 42.390625 41.71875 45.5625 \r\nQ 45.3125 48.734375 45.3125 54.390625 \r\nQ 45.3125 60.0625 41.71875 63.234375 \r\nQ 38.140625 66.40625 31.78125 66.40625 \r\nQ 25.390625 66.40625 21.84375 63.234375 \r\nQ 18.3125 60.0625 18.3125 54.390625 \r\nz\r\n\" id=\"DejaVuSans-56\"/>\r\n      </defs>\r\n      <g transform=\"translate(272.909091 254.356563)scale(0.1 -0.1)\">\r\n       <use xlink:href=\"#DejaVuSans-56\"/>\r\n       <use x=\"63.623047\" xlink:href=\"#DejaVuSans-48\"/>\r\n       <use x=\"127.246094\" xlink:href=\"#DejaVuSans-48\"/>\r\n       <use x=\"190.869141\" xlink:href=\"#DejaVuSans-48\"/>\r\n      </g>\r\n     </g>\r\n    </g>\r\n    <g id=\"xtick_6\">\r\n     <g id=\"line2d_6\">\r\n      <g>\r\n       <use style=\"stroke:#000000;stroke-width:0.8;\" x=\"346.506818\" xlink:href=\"#m91a28dec64\" y=\"239.758125\"/>\r\n      </g>\r\n     </g>\r\n     <g id=\"text_6\">\r\n      <!-- 10000 -->\r\n      <defs>\r\n       <path d=\"M 12.40625 8.296875 \r\nL 28.515625 8.296875 \r\nL 28.515625 63.921875 \r\nL 10.984375 60.40625 \r\nL 10.984375 69.390625 \r\nL 28.421875 72.90625 \r\nL 38.28125 72.90625 \r\nL 38.28125 8.296875 \r\nL 54.390625 8.296875 \r\nL 54.390625 0 \r\nL 12.40625 0 \r\nz\r\n\" id=\"DejaVuSans-49\"/>\r\n      </defs>\r\n      <g transform=\"translate(330.600568 254.356563)scale(0.1 -0.1)\">\r\n       <use xlink:href=\"#DejaVuSans-49\"/>\r\n       <use x=\"63.623047\" xlink:href=\"#DejaVuSans-48\"/>\r\n       <use x=\"127.246094\" xlink:href=\"#DejaVuSans-48\"/>\r\n       <use x=\"190.869141\" xlink:href=\"#DejaVuSans-48\"/>\r\n       <use x=\"254.492188\" xlink:href=\"#DejaVuSans-48\"/>\r\n      </g>\r\n     </g>\r\n    </g>\r\n   </g>\r\n   <g id=\"matplotlib.axis_2\">\r\n    <g id=\"ytick_1\">\r\n     <g id=\"line2d_7\">\r\n      <defs>\r\n       <path d=\"M 0 0 \r\nL -3.5 0 \r\n\" id=\"mf36f816a0d\" style=\"stroke:#000000;stroke-width:0.8;\"/>\r\n      </defs>\r\n      <g>\r\n       <use style=\"stroke:#000000;stroke-width:0.8;\" x=\"26.925\" xlink:href=\"#mf36f816a0d\" y=\"229.955651\"/>\r\n      </g>\r\n     </g>\r\n     <g id=\"text_7\">\r\n      <!-- 0 -->\r\n      <g transform=\"translate(13.5625 233.75487)scale(0.1 -0.1)\">\r\n       <use xlink:href=\"#DejaVuSans-48\"/>\r\n      </g>\r\n     </g>\r\n    </g>\r\n    <g id=\"ytick_2\">\r\n     <g id=\"line2d_8\">\r\n      <g>\r\n       <use style=\"stroke:#000000;stroke-width:0.8;\" x=\"26.925\" xlink:href=\"#mf36f816a0d\" y=\"199.669638\"/>\r\n      </g>\r\n     </g>\r\n     <g id=\"text_8\">\r\n      <!-- 2 -->\r\n      <g transform=\"translate(13.5625 203.468857)scale(0.1 -0.1)\">\r\n       <use xlink:href=\"#DejaVuSans-50\"/>\r\n      </g>\r\n     </g>\r\n    </g>\r\n    <g id=\"ytick_3\">\r\n     <g id=\"line2d_9\">\r\n      <g>\r\n       <use style=\"stroke:#000000;stroke-width:0.8;\" x=\"26.925\" xlink:href=\"#mf36f816a0d\" y=\"169.383625\"/>\r\n      </g>\r\n     </g>\r\n     <g id=\"text_9\">\r\n      <!-- 4 -->\r\n      <g transform=\"translate(13.5625 173.182844)scale(0.1 -0.1)\">\r\n       <use xlink:href=\"#DejaVuSans-52\"/>\r\n      </g>\r\n     </g>\r\n    </g>\r\n    <g id=\"ytick_4\">\r\n     <g id=\"line2d_10\">\r\n      <g>\r\n       <use style=\"stroke:#000000;stroke-width:0.8;\" x=\"26.925\" xlink:href=\"#mf36f816a0d\" y=\"139.097612\"/>\r\n      </g>\r\n     </g>\r\n     <g id=\"text_10\">\r\n      <!-- 6 -->\r\n      <g transform=\"translate(13.5625 142.89683)scale(0.1 -0.1)\">\r\n       <use xlink:href=\"#DejaVuSans-54\"/>\r\n      </g>\r\n     </g>\r\n    </g>\r\n    <g id=\"ytick_5\">\r\n     <g id=\"line2d_11\">\r\n      <g>\r\n       <use style=\"stroke:#000000;stroke-width:0.8;\" x=\"26.925\" xlink:href=\"#mf36f816a0d\" y=\"108.811599\"/>\r\n      </g>\r\n     </g>\r\n     <g id=\"text_11\">\r\n      <!-- 8 -->\r\n      <g transform=\"translate(13.5625 112.610817)scale(0.1 -0.1)\">\r\n       <use xlink:href=\"#DejaVuSans-56\"/>\r\n      </g>\r\n     </g>\r\n    </g>\r\n    <g id=\"ytick_6\">\r\n     <g id=\"line2d_12\">\r\n      <g>\r\n       <use style=\"stroke:#000000;stroke-width:0.8;\" x=\"26.925\" xlink:href=\"#mf36f816a0d\" y=\"78.525586\"/>\r\n      </g>\r\n     </g>\r\n     <g id=\"text_12\">\r\n      <!-- 10 -->\r\n      <g transform=\"translate(7.2 82.324804)scale(0.1 -0.1)\">\r\n       <use xlink:href=\"#DejaVuSans-49\"/>\r\n       <use x=\"63.623047\" xlink:href=\"#DejaVuSans-48\"/>\r\n      </g>\r\n     </g>\r\n    </g>\r\n    <g id=\"ytick_7\">\r\n     <g id=\"line2d_13\">\r\n      <g>\r\n       <use style=\"stroke:#000000;stroke-width:0.8;\" x=\"26.925\" xlink:href=\"#mf36f816a0d\" y=\"48.239573\"/>\r\n      </g>\r\n     </g>\r\n     <g id=\"text_13\">\r\n      <!-- 12 -->\r\n      <g transform=\"translate(7.2 52.038791)scale(0.1 -0.1)\">\r\n       <use xlink:href=\"#DejaVuSans-49\"/>\r\n       <use x=\"63.623047\" xlink:href=\"#DejaVuSans-50\"/>\r\n      </g>\r\n     </g>\r\n    </g>\r\n   </g>\r\n   <g id=\"line2d_14\">\r\n    <path clip-path=\"url(#p9db0f19b99)\" d=\"M 42.143182 32.201761 \r\nL 42.477982 43.521969 \r\nL 42.934527 50.809153 \r\nL 43.665 62.279438 \r\nL 44.3346 77.157489 \r\nL 47.408673 151.899284 \r\nL 48.291327 165.870733 \r\nL 49.143545 176.089849 \r\nL 50.0262 184.139207 \r\nL 51.000164 191.042816 \r\nL 52.187182 197.84379 \r\nL 53.709 205.241274 \r\nL 55.169945 211.322127 \r\nL 56.326527 215.245264 \r\nL 57.361364 218.010993 \r\nL 58.365764 220.087279 \r\nL 59.4006 221.723277 \r\nL 60.496309 223.038304 \r\nL 61.683327 224.115433 \r\nL 63.022527 225.028763 \r\nL 64.574782 225.815987 \r\nL 66.461836 226.515154 \r\nL 68.775 227.12717 \r\nL 71.727327 227.66972 \r\nL 75.623182 228.148651 \r\nL 80.949545 228.566421 \r\nL 88.558636 228.925057 \r\nL 100.063582 229.226405 \r\nL 118.751509 229.471432 \r\nL 152.383691 229.662157 \r\nL 222.569945 229.800724 \r\nL 346.506818 229.874489 \r\nL 346.506818 229.874489 \r\n\" style=\"fill:none;stroke:#1f77b4;stroke-linecap:square;stroke-width:1.5;\"/>\r\n   </g>\r\n   <g id=\"patch_3\">\r\n    <path d=\"M 26.925 239.758125 \r\nL 26.925 22.318125 \r\n\" style=\"fill:none;stroke:#000000;stroke-linecap:square;stroke-linejoin:miter;stroke-width:0.8;\"/>\r\n   </g>\r\n   <g id=\"patch_4\">\r\n    <path d=\"M 361.725 239.758125 \r\nL 361.725 22.318125 \r\n\" style=\"fill:none;stroke:#000000;stroke-linecap:square;stroke-linejoin:miter;stroke-width:0.8;\"/>\r\n   </g>\r\n   <g id=\"patch_5\">\r\n    <path d=\"M 26.925 239.758125 \r\nL 361.725 239.758125 \r\n\" style=\"fill:none;stroke:#000000;stroke-linecap:square;stroke-linejoin:miter;stroke-width:0.8;\"/>\r\n   </g>\r\n   <g id=\"patch_6\">\r\n    <path d=\"M 26.925 22.318125 \r\nL 361.725 22.318125 \r\n\" style=\"fill:none;stroke:#000000;stroke-linecap:square;stroke-linejoin:miter;stroke-width:0.8;\"/>\r\n   </g>\r\n   <g id=\"text_14\">\r\n    <!-- Loss -->\r\n    <defs>\r\n     <path d=\"M 9.8125 72.90625 \r\nL 19.671875 72.90625 \r\nL 19.671875 8.296875 \r\nL 55.171875 8.296875 \r\nL 55.171875 0 \r\nL 9.8125 0 \r\nz\r\n\" id=\"DejaVuSans-76\"/>\r\n     <path d=\"M 30.609375 48.390625 \r\nQ 23.390625 48.390625 19.1875 42.75 \r\nQ 14.984375 37.109375 14.984375 27.296875 \r\nQ 14.984375 17.484375 19.15625 11.84375 \r\nQ 23.34375 6.203125 30.609375 6.203125 \r\nQ 37.796875 6.203125 41.984375 11.859375 \r\nQ 46.1875 17.53125 46.1875 27.296875 \r\nQ 46.1875 37.015625 41.984375 42.703125 \r\nQ 37.796875 48.390625 30.609375 48.390625 \r\nz\r\nM 30.609375 56 \r\nQ 42.328125 56 49.015625 48.375 \r\nQ 55.71875 40.765625 55.71875 27.296875 \r\nQ 55.71875 13.875 49.015625 6.21875 \r\nQ 42.328125 -1.421875 30.609375 -1.421875 \r\nQ 18.84375 -1.421875 12.171875 6.21875 \r\nQ 5.515625 13.875 5.515625 27.296875 \r\nQ 5.515625 40.765625 12.171875 48.375 \r\nQ 18.84375 56 30.609375 56 \r\nz\r\n\" id=\"DejaVuSans-111\"/>\r\n     <path d=\"M 44.28125 53.078125 \r\nL 44.28125 44.578125 \r\nQ 40.484375 46.53125 36.375 47.5 \r\nQ 32.28125 48.484375 27.875 48.484375 \r\nQ 21.1875 48.484375 17.84375 46.4375 \r\nQ 14.5 44.390625 14.5 40.28125 \r\nQ 14.5 37.15625 16.890625 35.375 \r\nQ 19.28125 33.59375 26.515625 31.984375 \r\nL 29.59375 31.296875 \r\nQ 39.15625 29.25 43.1875 25.515625 \r\nQ 47.21875 21.78125 47.21875 15.09375 \r\nQ 47.21875 7.46875 41.1875 3.015625 \r\nQ 35.15625 -1.421875 24.609375 -1.421875 \r\nQ 20.21875 -1.421875 15.453125 -0.5625 \r\nQ 10.6875 0.296875 5.421875 2 \r\nL 5.421875 11.28125 \r\nQ 10.40625 8.6875 15.234375 7.390625 \r\nQ 20.0625 6.109375 24.8125 6.109375 \r\nQ 31.15625 6.109375 34.5625 8.28125 \r\nQ 37.984375 10.453125 37.984375 14.40625 \r\nQ 37.984375 18.0625 35.515625 20.015625 \r\nQ 33.0625 21.96875 24.703125 23.78125 \r\nL 21.578125 24.515625 \r\nQ 13.234375 26.265625 9.515625 29.90625 \r\nQ 5.8125 33.546875 5.8125 39.890625 \r\nQ 5.8125 47.609375 11.28125 51.796875 \r\nQ 16.75 56 26.8125 56 \r\nQ 31.78125 56 36.171875 55.265625 \r\nQ 40.578125 54.546875 44.28125 53.078125 \r\nz\r\n\" id=\"DejaVuSans-115\"/>\r\n    </defs>\r\n    <g transform=\"translate(181.060313 16.318125)scale(0.12 -0.12)\">\r\n     <use xlink:href=\"#DejaVuSans-76\"/>\r\n     <use x=\"55.697266\" xlink:href=\"#DejaVuSans-111\"/>\r\n     <use x=\"116.878906\" xlink:href=\"#DejaVuSans-115\"/>\r\n     <use x=\"168.978516\" xlink:href=\"#DejaVuSans-115\"/>\r\n    </g>\r\n   </g>\r\n  </g>\r\n </g>\r\n <defs>\r\n  <clipPath id=\"p9db0f19b99\">\r\n   <rect height=\"217.44\" width=\"334.8\" x=\"26.925\" y=\"22.318125\"/>\r\n  </clipPath>\r\n </defs>\r\n</svg>\r\n",
            "image/png": "[encoded data removed]"
          },
          "metadata": {
            "needs_background": "light"
          }
        }
      ]
    },
    {
      "cell_type": "code",
      "metadata": {
        "id": "0-o8_xKjSmKH",
        "colab_type": "code",
        "colab": {}
      },
      "source": [
        "w2v.word_sim()"
      ],
      "execution_count": 182,
      "outputs": [
        {
          "output_type": "execute_result",
          "data": {
            "text/plain": "            you      will     never      know     until       try\nyou    1.000000 -0.635216 -0.283437  0.001055  0.000753 -0.862616\nwill  -0.635216  1.000000  0.156083  0.020164  0.550050  0.498906\nnever -0.283437  0.156083  1.000000 -0.171850 -0.281990  0.724822\nknow   0.001055  0.020164 -0.171850  1.000000 -0.568860 -0.143462\nuntil  0.000753  0.550050 -0.281990 -0.568860  1.000000 -0.146947\ntry   -0.862616  0.498906  0.724822 -0.143462 -0.146947  1.000000",
            "text/html": "<div>\n<style scoped>\n    .dataframe tbody tr th:only-of-type {\n        vertical-align: middle;\n    }\n\n    .dataframe tbody tr th {\n        vertical-align: top;\n    }\n\n    .dataframe thead th {\n        text-align: right;\n    }\n</style>\n<table border=\"1\" class=\"dataframe\">\n  <thead>\n    <tr style=\"text-align: right;\">\n      <th></th>\n      <th>you</th>\n      <th>will</th>\n      <th>never</th>\n      <th>know</th>\n      <th>until</th>\n      <th>try</th>\n    </tr>\n  </thead>\n  <tbody>\n    <tr>\n      <th>you</th>\n      <td>1.000000</td>\n      <td>-0.635216</td>\n      <td>-0.283437</td>\n      <td>0.001055</td>\n      <td>0.000753</td>\n      <td>-0.862616</td>\n    </tr>\n    <tr>\n      <th>will</th>\n      <td>-0.635216</td>\n      <td>1.000000</td>\n      <td>0.156083</td>\n      <td>0.020164</td>\n      <td>0.550050</td>\n      <td>0.498906</td>\n    </tr>\n    <tr>\n      <th>never</th>\n      <td>-0.283437</td>\n      <td>0.156083</td>\n      <td>1.000000</td>\n      <td>-0.171850</td>\n      <td>-0.281990</td>\n      <td>0.724822</td>\n    </tr>\n    <tr>\n      <th>know</th>\n      <td>0.001055</td>\n      <td>0.020164</td>\n      <td>-0.171850</td>\n      <td>1.000000</td>\n      <td>-0.568860</td>\n      <td>-0.143462</td>\n    </tr>\n    <tr>\n      <th>until</th>\n      <td>0.000753</td>\n      <td>0.550050</td>\n      <td>-0.281990</td>\n      <td>-0.568860</td>\n      <td>1.000000</td>\n      <td>-0.146947</td>\n    </tr>\n    <tr>\n      <th>try</th>\n      <td>-0.862616</td>\n      <td>0.498906</td>\n      <td>0.724822</td>\n      <td>-0.143462</td>\n      <td>-0.146947</td>\n      <td>1.000000</td>\n    </tr>\n  </tbody>\n</table>\n</div>"
          },
          "metadata": {},
          "execution_count": 182
        }
      ]
    },
    {
      "cell_type": "code",
      "execution_count": 193,
      "metadata": {},
      "outputs": [
        {
          "output_type": "execute_result",
          "data": {
            "text/plain": "<matplotlib.axes._subplots.AxesSubplot at 0x23834b030c8>"
          },
          "metadata": {},
          "execution_count": 193
        },
        {
          "output_type": "display_data",
          "data": {
            "text/plain": "<Figure size 432x288 with 1 Axes>",
            "image/svg+xml": "<?xml version=\"1.0\" encoding=\"utf-8\" standalone=\"no\"?>\r\n<!DOCTYPE svg PUBLIC \"-//W3C//DTD SVG 1.1//EN\"\r\n  \"http://www.w3.org/Graphics/SVG/1.1/DTD/svg11.dtd\">\r\n<!-- Created with matplotlib (https://matplotlib.org/) -->\r\n<svg height=\"248.791343pt\" version=\"1.1\" viewBox=\"0 0 384.620313 248.791343\" width=\"384.620313pt\" xmlns=\"http://www.w3.org/2000/svg\" xmlns:xlink=\"http://www.w3.org/1999/xlink\">\r\n <defs>\r\n  <style type=\"text/css\">\r\n*{stroke-linecap:butt;stroke-linejoin:round;}\r\n  </style>\r\n </defs>\r\n <g id=\"figure_1\">\r\n  <g id=\"patch_1\">\r\n   <path d=\"M 0 248.791343 \r\nL 384.620313 248.791343 \r\nL 384.620313 0 \r\nL 0 0 \r\nz\r\n\" style=\"fill:none;\"/>\r\n  </g>\r\n  <g id=\"axes_1\">\r\n   <g id=\"patch_2\">\r\n    <path d=\"M 42.620313 224.913218 \r\nL 377.420313 224.913218 \r\nL 377.420313 7.473218 \r\nL 42.620313 7.473218 \r\nz\r\n\" style=\"fill:#ffffff;\"/>\r\n   </g>\r\n   <g id=\"PathCollection_1\">\r\n    <defs>\r\n     <path d=\"M 0 3 \r\nC 0.795609 3 1.55874 2.683901 2.12132 2.12132 \r\nC 2.683901 1.55874 3 0.795609 3 0 \r\nC 3 -0.795609 2.683901 -1.55874 2.12132 -2.12132 \r\nC 1.55874 -2.683901 0.795609 -3 0 -3 \r\nC -0.795609 -3 -1.55874 -2.683901 -2.12132 -2.12132 \r\nC -2.683901 -1.55874 -3 -0.795609 -3 0 \r\nC -3 0.795609 -2.683901 1.55874 -2.12132 2.12132 \r\nC -1.55874 2.683901 -0.795609 3 0 3 \r\nz\r\n\" id=\"md634db00d5\" style=\"stroke:#ffffff;stroke-width:0.75;\"/>\r\n    </defs>\r\n    <g clip-path=\"url(#paa2bfbaa0e)\">\r\n     <use style=\"fill:#1f77b4;stroke:#ffffff;stroke-width:0.75;\" x=\"60.791872\" xlink:href=\"#md634db00d5\" y=\"105.239318\"/>\r\n     <use style=\"fill:#1f77b4;stroke:#ffffff;stroke-width:0.75;\" x=\"120.483248\" xlink:href=\"#md634db00d5\" y=\"77.271865\"/>\r\n     <use style=\"fill:#1f77b4;stroke:#ffffff;stroke-width:0.75;\" x=\"180.174624\" xlink:href=\"#md634db00d5\" y=\"158.840607\"/>\r\n     <use style=\"fill:#1f77b4;stroke:#ffffff;stroke-width:0.75;\" x=\"239.866001\" xlink:href=\"#md634db00d5\" y=\"214.619627\"/>\r\n     <use style=\"fill:#1f77b4;stroke:#ffffff;stroke-width:0.75;\" x=\"299.557377\" xlink:href=\"#md634db00d5\" y=\"29.356539\"/>\r\n     <use style=\"fill:#1f77b4;stroke:#ffffff;stroke-width:0.75;\" x=\"359.248753\" xlink:href=\"#md634db00d5\" y=\"189.81836\"/>\r\n    </g>\r\n   </g>\r\n   <g id=\"PathCollection_2\">\r\n    <defs>\r\n     <path d=\"M 0 3 \r\nC 0.795609 3 1.55874 2.683901 2.12132 2.12132 \r\nC 2.683901 1.55874 3 0.795609 3 0 \r\nC 3 -0.795609 2.683901 -1.55874 2.12132 -2.12132 \r\nC 1.55874 -2.683901 0.795609 -3 0 -3 \r\nC -0.795609 -3 -1.55874 -2.683901 -2.12132 -2.12132 \r\nC -2.683901 -1.55874 -3 -0.795609 -3 0 \r\nC -3 0.795609 -2.683901 1.55874 -2.12132 2.12132 \r\nC -1.55874 2.683901 -0.795609 3 0 3 \r\nz\r\n\" id=\"maeabb3956b\" style=\"stroke:#ffffff;stroke-width:0.75;\"/>\r\n    </defs>\r\n    <g clip-path=\"url(#paa2bfbaa0e)\">\r\n     <use style=\"fill:#ff7f0e;stroke:#ffffff;stroke-width:0.75;\" x=\"60.791872\" xlink:href=\"#maeabb3956b\" y=\"190.075993\"/>\r\n     <use style=\"fill:#ff7f0e;stroke:#ffffff;stroke-width:0.75;\" x=\"120.483248\" xlink:href=\"#maeabb3956b\" y=\"120.586213\"/>\r\n     <use style=\"fill:#ff7f0e;stroke:#ffffff;stroke-width:0.75;\" x=\"180.174624\" xlink:href=\"#maeabb3956b\" y=\"20.33899\"/>\r\n     <use style=\"fill:#ff7f0e;stroke:#ffffff;stroke-width:0.75;\" x=\"239.866001\" xlink:href=\"#maeabb3956b\" y=\"193.476616\"/>\r\n     <use style=\"fill:#ff7f0e;stroke:#ffffff;stroke-width:0.75;\" x=\"299.557377\" xlink:href=\"#maeabb3956b\" y=\"166.570173\"/>\r\n     <use style=\"fill:#ff7f0e;stroke:#ffffff;stroke-width:0.75;\" x=\"359.248753\" xlink:href=\"#maeabb3956b\" y=\"20.180962\"/>\r\n    </g>\r\n   </g>\r\n   <g id=\"matplotlib.axis_1\">\r\n    <g id=\"xtick_1\">\r\n     <g id=\"line2d_1\">\r\n      <defs>\r\n       <path d=\"M 0 0 \r\nL 0 3.5 \r\n\" id=\"m9de882e719\" style=\"stroke:#000000;stroke-width:0.8;\"/>\r\n      </defs>\r\n      <g>\r\n       <use style=\"stroke:#000000;stroke-width:0.8;\" x=\"60.791872\" xlink:href=\"#m9de882e719\" y=\"224.913218\"/>\r\n      </g>\r\n     </g>\r\n     <g id=\"text_1\">\r\n      <!-- 0 -->\r\n      <defs>\r\n       <path d=\"M 31.78125 66.40625 \r\nQ 24.171875 66.40625 20.328125 58.90625 \r\nQ 16.5 51.421875 16.5 36.375 \r\nQ 16.5 21.390625 20.328125 13.890625 \r\nQ 24.171875 6.390625 31.78125 6.390625 \r\nQ 39.453125 6.390625 43.28125 13.890625 \r\nQ 47.125 21.390625 47.125 36.375 \r\nQ 47.125 51.421875 43.28125 58.90625 \r\nQ 39.453125 66.40625 31.78125 66.40625 \r\nz\r\nM 31.78125 74.21875 \r\nQ 44.046875 74.21875 50.515625 64.515625 \r\nQ 56.984375 54.828125 56.984375 36.375 \r\nQ 56.984375 17.96875 50.515625 8.265625 \r\nQ 44.046875 -1.421875 31.78125 -1.421875 \r\nQ 19.53125 -1.421875 13.0625 8.265625 \r\nQ 6.59375 17.96875 6.59375 36.375 \r\nQ 6.59375 54.828125 13.0625 64.515625 \r\nQ 19.53125 74.21875 31.78125 74.21875 \r\nz\r\n\" id=\"DejaVuSans-48\"/>\r\n      </defs>\r\n      <g transform=\"translate(57.610622 239.511656)scale(0.1 -0.1)\">\r\n       <use xlink:href=\"#DejaVuSans-48\"/>\r\n      </g>\r\n     </g>\r\n    </g>\r\n    <g id=\"xtick_2\">\r\n     <g id=\"line2d_2\">\r\n      <g>\r\n       <use style=\"stroke:#000000;stroke-width:0.8;\" x=\"120.483248\" xlink:href=\"#m9de882e719\" y=\"224.913218\"/>\r\n      </g>\r\n     </g>\r\n     <g id=\"text_2\">\r\n      <!-- 1 -->\r\n      <defs>\r\n       <path d=\"M 12.40625 8.296875 \r\nL 28.515625 8.296875 \r\nL 28.515625 63.921875 \r\nL 10.984375 60.40625 \r\nL 10.984375 69.390625 \r\nL 28.421875 72.90625 \r\nL 38.28125 72.90625 \r\nL 38.28125 8.296875 \r\nL 54.390625 8.296875 \r\nL 54.390625 0 \r\nL 12.40625 0 \r\nz\r\n\" id=\"DejaVuSans-49\"/>\r\n      </defs>\r\n      <g transform=\"translate(117.301998 239.511656)scale(0.1 -0.1)\">\r\n       <use xlink:href=\"#DejaVuSans-49\"/>\r\n      </g>\r\n     </g>\r\n    </g>\r\n    <g id=\"xtick_3\">\r\n     <g id=\"line2d_3\">\r\n      <g>\r\n       <use style=\"stroke:#000000;stroke-width:0.8;\" x=\"180.174624\" xlink:href=\"#m9de882e719\" y=\"224.913218\"/>\r\n      </g>\r\n     </g>\r\n     <g id=\"text_3\">\r\n      <!-- 2 -->\r\n      <defs>\r\n       <path d=\"M 19.1875 8.296875 \r\nL 53.609375 8.296875 \r\nL 53.609375 0 \r\nL 7.328125 0 \r\nL 7.328125 8.296875 \r\nQ 12.9375 14.109375 22.625 23.890625 \r\nQ 32.328125 33.6875 34.8125 36.53125 \r\nQ 39.546875 41.84375 41.421875 45.53125 \r\nQ 43.3125 49.21875 43.3125 52.78125 \r\nQ 43.3125 58.59375 39.234375 62.25 \r\nQ 35.15625 65.921875 28.609375 65.921875 \r\nQ 23.96875 65.921875 18.8125 64.3125 \r\nQ 13.671875 62.703125 7.8125 59.421875 \r\nL 7.8125 69.390625 \r\nQ 13.765625 71.78125 18.9375 73 \r\nQ 24.125 74.21875 28.421875 74.21875 \r\nQ 39.75 74.21875 46.484375 68.546875 \r\nQ 53.21875 62.890625 53.21875 53.421875 \r\nQ 53.21875 48.921875 51.53125 44.890625 \r\nQ 49.859375 40.875 45.40625 35.40625 \r\nQ 44.1875 33.984375 37.640625 27.21875 \r\nQ 31.109375 20.453125 19.1875 8.296875 \r\nz\r\n\" id=\"DejaVuSans-50\"/>\r\n      </defs>\r\n      <g transform=\"translate(176.993374 239.511656)scale(0.1 -0.1)\">\r\n       <use xlink:href=\"#DejaVuSans-50\"/>\r\n      </g>\r\n     </g>\r\n    </g>\r\n    <g id=\"xtick_4\">\r\n     <g id=\"line2d_4\">\r\n      <g>\r\n       <use style=\"stroke:#000000;stroke-width:0.8;\" x=\"239.866001\" xlink:href=\"#m9de882e719\" y=\"224.913218\"/>\r\n      </g>\r\n     </g>\r\n     <g id=\"text_4\">\r\n      <!-- 3 -->\r\n      <defs>\r\n       <path d=\"M 40.578125 39.3125 \r\nQ 47.65625 37.796875 51.625 33 \r\nQ 55.609375 28.21875 55.609375 21.1875 \r\nQ 55.609375 10.40625 48.1875 4.484375 \r\nQ 40.765625 -1.421875 27.09375 -1.421875 \r\nQ 22.515625 -1.421875 17.65625 -0.515625 \r\nQ 12.796875 0.390625 7.625 2.203125 \r\nL 7.625 11.71875 \r\nQ 11.71875 9.328125 16.59375 8.109375 \r\nQ 21.484375 6.890625 26.8125 6.890625 \r\nQ 36.078125 6.890625 40.9375 10.546875 \r\nQ 45.796875 14.203125 45.796875 21.1875 \r\nQ 45.796875 27.640625 41.28125 31.265625 \r\nQ 36.765625 34.90625 28.71875 34.90625 \r\nL 20.21875 34.90625 \r\nL 20.21875 43.015625 \r\nL 29.109375 43.015625 \r\nQ 36.375 43.015625 40.234375 45.921875 \r\nQ 44.09375 48.828125 44.09375 54.296875 \r\nQ 44.09375 59.90625 40.109375 62.90625 \r\nQ 36.140625 65.921875 28.71875 65.921875 \r\nQ 24.65625 65.921875 20.015625 65.03125 \r\nQ 15.375 64.15625 9.8125 62.3125 \r\nL 9.8125 71.09375 \r\nQ 15.4375 72.65625 20.34375 73.4375 \r\nQ 25.25 74.21875 29.59375 74.21875 \r\nQ 40.828125 74.21875 47.359375 69.109375 \r\nQ 53.90625 64.015625 53.90625 55.328125 \r\nQ 53.90625 49.265625 50.4375 45.09375 \r\nQ 46.96875 40.921875 40.578125 39.3125 \r\nz\r\n\" id=\"DejaVuSans-51\"/>\r\n      </defs>\r\n      <g transform=\"translate(236.684751 239.511656)scale(0.1 -0.1)\">\r\n       <use xlink:href=\"#DejaVuSans-51\"/>\r\n      </g>\r\n     </g>\r\n    </g>\r\n    <g id=\"xtick_5\">\r\n     <g id=\"line2d_5\">\r\n      <g>\r\n       <use style=\"stroke:#000000;stroke-width:0.8;\" x=\"299.557377\" xlink:href=\"#m9de882e719\" y=\"224.913218\"/>\r\n      </g>\r\n     </g>\r\n     <g id=\"text_5\">\r\n      <!-- 4 -->\r\n      <defs>\r\n       <path d=\"M 37.796875 64.3125 \r\nL 12.890625 25.390625 \r\nL 37.796875 25.390625 \r\nz\r\nM 35.203125 72.90625 \r\nL 47.609375 72.90625 \r\nL 47.609375 25.390625 \r\nL 58.015625 25.390625 \r\nL 58.015625 17.1875 \r\nL 47.609375 17.1875 \r\nL 47.609375 0 \r\nL 37.796875 0 \r\nL 37.796875 17.1875 \r\nL 4.890625 17.1875 \r\nL 4.890625 26.703125 \r\nz\r\n\" id=\"DejaVuSans-52\"/>\r\n      </defs>\r\n      <g transform=\"translate(296.376127 239.511656)scale(0.1 -0.1)\">\r\n       <use xlink:href=\"#DejaVuSans-52\"/>\r\n      </g>\r\n     </g>\r\n    </g>\r\n    <g id=\"xtick_6\">\r\n     <g id=\"line2d_6\">\r\n      <g>\r\n       <use style=\"stroke:#000000;stroke-width:0.8;\" x=\"359.248753\" xlink:href=\"#m9de882e719\" y=\"224.913218\"/>\r\n      </g>\r\n     </g>\r\n     <g id=\"text_6\">\r\n      <!-- 5 -->\r\n      <defs>\r\n       <path d=\"M 10.796875 72.90625 \r\nL 49.515625 72.90625 \r\nL 49.515625 64.59375 \r\nL 19.828125 64.59375 \r\nL 19.828125 46.734375 \r\nQ 21.96875 47.46875 24.109375 47.828125 \r\nQ 26.265625 48.1875 28.421875 48.1875 \r\nQ 40.625 48.1875 47.75 41.5 \r\nQ 54.890625 34.8125 54.890625 23.390625 \r\nQ 54.890625 11.625 47.5625 5.09375 \r\nQ 40.234375 -1.421875 26.90625 -1.421875 \r\nQ 22.3125 -1.421875 17.546875 -0.640625 \r\nQ 12.796875 0.140625 7.71875 1.703125 \r\nL 7.71875 11.625 \r\nQ 12.109375 9.234375 16.796875 8.0625 \r\nQ 21.484375 6.890625 26.703125 6.890625 \r\nQ 35.15625 6.890625 40.078125 11.328125 \r\nQ 45.015625 15.765625 45.015625 23.390625 \r\nQ 45.015625 31 40.078125 35.4375 \r\nQ 35.15625 39.890625 26.703125 39.890625 \r\nQ 22.75 39.890625 18.8125 39.015625 \r\nQ 14.890625 38.140625 10.796875 36.28125 \r\nz\r\n\" id=\"DejaVuSans-53\"/>\r\n      </defs>\r\n      <g transform=\"translate(356.067503 239.511656)scale(0.1 -0.1)\">\r\n       <use xlink:href=\"#DejaVuSans-53\"/>\r\n      </g>\r\n     </g>\r\n    </g>\r\n   </g>\r\n   <g id=\"matplotlib.axis_2\">\r\n    <g id=\"ytick_1\">\r\n     <g id=\"line2d_7\">\r\n      <defs>\r\n       <path d=\"M 0 0 \r\nL -3.5 0 \r\n\" id=\"m77c147a8e5\" style=\"stroke:#000000;stroke-width:0.8;\"/>\r\n      </defs>\r\n      <g>\r\n       <use style=\"stroke:#000000;stroke-width:0.8;\" x=\"42.620313\" xlink:href=\"#m77c147a8e5\" y=\"200.085442\"/>\r\n      </g>\r\n     </g>\r\n     <g id=\"text_7\">\r\n      <!-- −2 -->\r\n      <defs>\r\n       <path d=\"M 10.59375 35.5 \r\nL 73.1875 35.5 \r\nL 73.1875 27.203125 \r\nL 10.59375 27.203125 \r\nz\r\n\" id=\"DejaVuSans-8722\"/>\r\n      </defs>\r\n      <g transform=\"translate(20.878125 203.884661)scale(0.1 -0.1)\">\r\n       <use xlink:href=\"#DejaVuSans-8722\"/>\r\n       <use x=\"83.789062\" xlink:href=\"#DejaVuSans-50\"/>\r\n      </g>\r\n     </g>\r\n    </g>\r\n    <g id=\"ytick_2\">\r\n     <g id=\"line2d_8\">\r\n      <g>\r\n       <use style=\"stroke:#000000;stroke-width:0.8;\" x=\"42.620313\" xlink:href=\"#m77c147a8e5\" y=\"173.073124\"/>\r\n      </g>\r\n     </g>\r\n     <g id=\"text_8\">\r\n      <!-- −1 -->\r\n      <g transform=\"translate(20.878125 176.872343)scale(0.1 -0.1)\">\r\n       <use xlink:href=\"#DejaVuSans-8722\"/>\r\n       <use x=\"83.789062\" xlink:href=\"#DejaVuSans-49\"/>\r\n      </g>\r\n     </g>\r\n    </g>\r\n    <g id=\"ytick_3\">\r\n     <g id=\"line2d_9\">\r\n      <g>\r\n       <use style=\"stroke:#000000;stroke-width:0.8;\" x=\"42.620313\" xlink:href=\"#m77c147a8e5\" y=\"146.060807\"/>\r\n      </g>\r\n     </g>\r\n     <g id=\"text_9\">\r\n      <!-- 0 -->\r\n      <g transform=\"translate(29.257813 149.860025)scale(0.1 -0.1)\">\r\n       <use xlink:href=\"#DejaVuSans-48\"/>\r\n      </g>\r\n     </g>\r\n    </g>\r\n    <g id=\"ytick_4\">\r\n     <g id=\"line2d_10\">\r\n      <g>\r\n       <use style=\"stroke:#000000;stroke-width:0.8;\" x=\"42.620313\" xlink:href=\"#m77c147a8e5\" y=\"119.048489\"/>\r\n      </g>\r\n     </g>\r\n     <g id=\"text_10\">\r\n      <!-- 1 -->\r\n      <g transform=\"translate(29.257813 122.847708)scale(0.1 -0.1)\">\r\n       <use xlink:href=\"#DejaVuSans-49\"/>\r\n      </g>\r\n     </g>\r\n    </g>\r\n    <g id=\"ytick_5\">\r\n     <g id=\"line2d_11\">\r\n      <g>\r\n       <use style=\"stroke:#000000;stroke-width:0.8;\" x=\"42.620313\" xlink:href=\"#m77c147a8e5\" y=\"92.036172\"/>\r\n      </g>\r\n     </g>\r\n     <g id=\"text_11\">\r\n      <!-- 2 -->\r\n      <g transform=\"translate(29.257813 95.83539)scale(0.1 -0.1)\">\r\n       <use xlink:href=\"#DejaVuSans-50\"/>\r\n      </g>\r\n     </g>\r\n    </g>\r\n    <g id=\"ytick_6\">\r\n     <g id=\"line2d_12\">\r\n      <g>\r\n       <use style=\"stroke:#000000;stroke-width:0.8;\" x=\"42.620313\" xlink:href=\"#m77c147a8e5\" y=\"65.023854\"/>\r\n      </g>\r\n     </g>\r\n     <g id=\"text_12\">\r\n      <!-- 3 -->\r\n      <g transform=\"translate(29.257813 68.823073)scale(0.1 -0.1)\">\r\n       <use xlink:href=\"#DejaVuSans-51\"/>\r\n      </g>\r\n     </g>\r\n    </g>\r\n    <g id=\"ytick_7\">\r\n     <g id=\"line2d_13\">\r\n      <g>\r\n       <use style=\"stroke:#000000;stroke-width:0.8;\" x=\"42.620313\" xlink:href=\"#m77c147a8e5\" y=\"38.011536\"/>\r\n      </g>\r\n     </g>\r\n     <g id=\"text_13\">\r\n      <!-- 4 -->\r\n      <g transform=\"translate(29.257813 41.810755)scale(0.1 -0.1)\">\r\n       <use xlink:href=\"#DejaVuSans-52\"/>\r\n      </g>\r\n     </g>\r\n    </g>\r\n    <g id=\"ytick_8\">\r\n     <g id=\"line2d_14\">\r\n      <g>\r\n       <use style=\"stroke:#000000;stroke-width:0.8;\" x=\"42.620313\" xlink:href=\"#m77c147a8e5\" y=\"10.999219\"/>\r\n      </g>\r\n     </g>\r\n     <g id=\"text_14\">\r\n      <!-- 5 -->\r\n      <g transform=\"translate(29.257813 14.798437)scale(0.1 -0.1)\">\r\n       <use xlink:href=\"#DejaVuSans-53\"/>\r\n      </g>\r\n     </g>\r\n    </g>\r\n    <g id=\"text_15\">\r\n     <!-- 1 -->\r\n     <g transform=\"translate(14.798438 119.374468)rotate(-90)scale(0.1 -0.1)\">\r\n      <use xlink:href=\"#DejaVuSans-49\"/>\r\n     </g>\r\n    </g>\r\n   </g>\r\n   <g id=\"patch_3\">\r\n    <path d=\"M 42.620313 224.913218 \r\nL 42.620313 7.473218 \r\n\" style=\"fill:none;stroke:#000000;stroke-linecap:square;stroke-linejoin:miter;stroke-width:0.8;\"/>\r\n   </g>\r\n   <g id=\"patch_4\">\r\n    <path d=\"M 377.420313 224.913218 \r\nL 377.420313 7.473218 \r\n\" style=\"fill:none;stroke:#000000;stroke-linecap:square;stroke-linejoin:miter;stroke-width:0.8;\"/>\r\n   </g>\r\n   <g id=\"patch_5\">\r\n    <path d=\"M 42.620313 224.913218 \r\nL 377.420313 224.913218 \r\n\" style=\"fill:none;stroke:#000000;stroke-linecap:square;stroke-linejoin:miter;stroke-width:0.8;\"/>\r\n   </g>\r\n   <g id=\"patch_6\">\r\n    <path d=\"M 42.620313 7.473218 \r\nL 377.420313 7.473218 \r\n\" style=\"fill:none;stroke:#000000;stroke-linecap:square;stroke-linejoin:miter;stroke-width:0.8;\"/>\r\n   </g>\r\n  </g>\r\n </g>\r\n <defs>\r\n  <clipPath id=\"paa2bfbaa0e\">\r\n   <rect height=\"217.44\" width=\"334.8\" x=\"42.620313\" y=\"7.473218\"/>\r\n  </clipPath>\r\n </defs>\r\n</svg>\r\n",
            "image/png": "[encoded data removed]"
          },
          "metadata": {
            "needs_background": "light"
          }
        }
      ],
      "source": [
        "import seaborn as sns\n",
        "sns.scatterplot([i for i in range(len(w2v.df))], w2v.df[0])\n",
        "sns.scatterplot([i for i in range(len(w2v.df))], w2v.df[1])"
      ]
    },
    {
      "cell_type": "code",
      "execution_count": 14,
      "metadata": {},
      "outputs": [],
      "source": [
        "import matplotlib as mpl\n",
        "import matplotlib.pyplot as plt\n",
        "def visualize(word, n = 3) :\n",
        "    # 기본 글꼴 변경\n",
        "    mpl.font_manager._rebuild()\n",
        "    mpl.pyplot.rc('font', family='NanumBarunGothic')\n",
        "    words = [item.name for item in w2v.df]\n",
        "    wvs = [item[0:3] for item in w2v.df]\n",
        "    tsne = TSNE(n_components=2, random_state=0, n_iter=10000, perplexity=2)\n",
        "    np.set_printoptions(suppress=True)\n",
        "    T = tsne.fit_transform(wvs)\n",
        "    labels = words\n",
        "    plt.figure(figsize=(14, 8))\n",
        "    plt.scatter(T[:, 0], T[:, 1], c='orange', edgecolors='r')\n",
        "    for label, x, y in zip(labels, T[:, 0], T[:, 1]):\n",
        "        plt.annotate(label, xy=(x+1, y+1), xytext=(0, 0), textcoords='offset points')"
      ]
    },
    {
      "cell_type": "code",
      "execution_count": 15,
      "metadata": {},
      "outputs": [
        {
          "output_type": "error",
          "ename": "AttributeError",
          "evalue": "'int' object has no attribute 'name'",
          "traceback": [
            "\u001b[1;31m---------------------------------------------------------------------------\u001b[0m",
            "\u001b[1;31mAttributeError\u001b[0m                            Traceback (most recent call last)",
            "\u001b[1;32m<ipython-input-15-fbf2208a9fb5>\u001b[0m in \u001b[0;36m<module>\u001b[1;34m\u001b[0m\n\u001b[1;32m----> 1\u001b[1;33m \u001b[0mvisualize\u001b[0m\u001b[1;33m(\u001b[0m\u001b[0mtext\u001b[0m\u001b[1;33m.\u001b[0m\u001b[0msplit\u001b[0m\u001b[1;33m(\u001b[0m\u001b[1;33m)\u001b[0m\u001b[1;33m)\u001b[0m\u001b[1;33m\u001b[0m\u001b[1;33m\u001b[0m\u001b[0m\n\u001b[0m",
            "\u001b[1;32m<ipython-input-14-7b862f7c5212>\u001b[0m in \u001b[0;36mvisualize\u001b[1;34m(word, n)\u001b[0m\n\u001b[0;32m      5\u001b[0m     \u001b[0mmpl\u001b[0m\u001b[1;33m.\u001b[0m\u001b[0mfont_manager\u001b[0m\u001b[1;33m.\u001b[0m\u001b[0m_rebuild\u001b[0m\u001b[1;33m(\u001b[0m\u001b[1;33m)\u001b[0m\u001b[1;33m\u001b[0m\u001b[1;33m\u001b[0m\u001b[0m\n\u001b[0;32m      6\u001b[0m     \u001b[0mmpl\u001b[0m\u001b[1;33m.\u001b[0m\u001b[0mpyplot\u001b[0m\u001b[1;33m.\u001b[0m\u001b[0mrc\u001b[0m\u001b[1;33m(\u001b[0m\u001b[1;34m'font'\u001b[0m\u001b[1;33m,\u001b[0m \u001b[0mfamily\u001b[0m\u001b[1;33m=\u001b[0m\u001b[1;34m'NanumBarunGothic'\u001b[0m\u001b[1;33m)\u001b[0m\u001b[1;33m\u001b[0m\u001b[1;33m\u001b[0m\u001b[0m\n\u001b[1;32m----> 7\u001b[1;33m     \u001b[0mwords\u001b[0m \u001b[1;33m=\u001b[0m \u001b[1;33m[\u001b[0m\u001b[0mitem\u001b[0m\u001b[1;33m.\u001b[0m\u001b[0mname\u001b[0m \u001b[1;32mfor\u001b[0m \u001b[0mitem\u001b[0m \u001b[1;32min\u001b[0m \u001b[0mw2v\u001b[0m\u001b[1;33m.\u001b[0m\u001b[0mdf\u001b[0m\u001b[1;33m]\u001b[0m\u001b[1;33m\u001b[0m\u001b[1;33m\u001b[0m\u001b[0m\n\u001b[0m\u001b[0;32m      8\u001b[0m     \u001b[0mwvs\u001b[0m \u001b[1;33m=\u001b[0m \u001b[1;33m[\u001b[0m\u001b[0mitem\u001b[0m\u001b[1;33m[\u001b[0m\u001b[1;36m0\u001b[0m\u001b[1;33m:\u001b[0m\u001b[1;36m3\u001b[0m\u001b[1;33m]\u001b[0m \u001b[1;32mfor\u001b[0m \u001b[0mitem\u001b[0m \u001b[1;32min\u001b[0m \u001b[0mw2v\u001b[0m\u001b[1;33m.\u001b[0m\u001b[0mdf\u001b[0m\u001b[1;33m]\u001b[0m\u001b[1;33m\u001b[0m\u001b[1;33m\u001b[0m\u001b[0m\n\u001b[0;32m      9\u001b[0m     \u001b[0mtsne\u001b[0m \u001b[1;33m=\u001b[0m \u001b[0mTSNE\u001b[0m\u001b[1;33m(\u001b[0m\u001b[0mn_components\u001b[0m\u001b[1;33m=\u001b[0m\u001b[1;36m2\u001b[0m\u001b[1;33m,\u001b[0m \u001b[0mrandom_state\u001b[0m\u001b[1;33m=\u001b[0m\u001b[1;36m0\u001b[0m\u001b[1;33m,\u001b[0m \u001b[0mn_iter\u001b[0m\u001b[1;33m=\u001b[0m\u001b[1;36m10000\u001b[0m\u001b[1;33m,\u001b[0m \u001b[0mperplexity\u001b[0m\u001b[1;33m=\u001b[0m\u001b[1;36m2\u001b[0m\u001b[1;33m)\u001b[0m\u001b[1;33m\u001b[0m\u001b[1;33m\u001b[0m\u001b[0m\n",
            "\u001b[1;32m<ipython-input-14-7b862f7c5212>\u001b[0m in \u001b[0;36m<listcomp>\u001b[1;34m(.0)\u001b[0m\n\u001b[0;32m      5\u001b[0m     \u001b[0mmpl\u001b[0m\u001b[1;33m.\u001b[0m\u001b[0mfont_manager\u001b[0m\u001b[1;33m.\u001b[0m\u001b[0m_rebuild\u001b[0m\u001b[1;33m(\u001b[0m\u001b[1;33m)\u001b[0m\u001b[1;33m\u001b[0m\u001b[1;33m\u001b[0m\u001b[0m\n\u001b[0;32m      6\u001b[0m     \u001b[0mmpl\u001b[0m\u001b[1;33m.\u001b[0m\u001b[0mpyplot\u001b[0m\u001b[1;33m.\u001b[0m\u001b[0mrc\u001b[0m\u001b[1;33m(\u001b[0m\u001b[1;34m'font'\u001b[0m\u001b[1;33m,\u001b[0m \u001b[0mfamily\u001b[0m\u001b[1;33m=\u001b[0m\u001b[1;34m'NanumBarunGothic'\u001b[0m\u001b[1;33m)\u001b[0m\u001b[1;33m\u001b[0m\u001b[1;33m\u001b[0m\u001b[0m\n\u001b[1;32m----> 7\u001b[1;33m     \u001b[0mwords\u001b[0m \u001b[1;33m=\u001b[0m \u001b[1;33m[\u001b[0m\u001b[0mitem\u001b[0m\u001b[1;33m.\u001b[0m\u001b[0mname\u001b[0m \u001b[1;32mfor\u001b[0m \u001b[0mitem\u001b[0m \u001b[1;32min\u001b[0m \u001b[0mw2v\u001b[0m\u001b[1;33m.\u001b[0m\u001b[0mdf\u001b[0m\u001b[1;33m]\u001b[0m\u001b[1;33m\u001b[0m\u001b[1;33m\u001b[0m\u001b[0m\n\u001b[0m\u001b[0;32m      8\u001b[0m     \u001b[0mwvs\u001b[0m \u001b[1;33m=\u001b[0m \u001b[1;33m[\u001b[0m\u001b[0mitem\u001b[0m\u001b[1;33m[\u001b[0m\u001b[1;36m0\u001b[0m\u001b[1;33m:\u001b[0m\u001b[1;36m3\u001b[0m\u001b[1;33m]\u001b[0m \u001b[1;32mfor\u001b[0m \u001b[0mitem\u001b[0m \u001b[1;32min\u001b[0m \u001b[0mw2v\u001b[0m\u001b[1;33m.\u001b[0m\u001b[0mdf\u001b[0m\u001b[1;33m]\u001b[0m\u001b[1;33m\u001b[0m\u001b[1;33m\u001b[0m\u001b[0m\n\u001b[0;32m      9\u001b[0m     \u001b[0mtsne\u001b[0m \u001b[1;33m=\u001b[0m \u001b[0mTSNE\u001b[0m\u001b[1;33m(\u001b[0m\u001b[0mn_components\u001b[0m\u001b[1;33m=\u001b[0m\u001b[1;36m2\u001b[0m\u001b[1;33m,\u001b[0m \u001b[0mrandom_state\u001b[0m\u001b[1;33m=\u001b[0m\u001b[1;36m0\u001b[0m\u001b[1;33m,\u001b[0m \u001b[0mn_iter\u001b[0m\u001b[1;33m=\u001b[0m\u001b[1;36m10000\u001b[0m\u001b[1;33m,\u001b[0m \u001b[0mperplexity\u001b[0m\u001b[1;33m=\u001b[0m\u001b[1;36m2\u001b[0m\u001b[1;33m)\u001b[0m\u001b[1;33m\u001b[0m\u001b[1;33m\u001b[0m\u001b[0m\n",
            "\u001b[1;31mAttributeError\u001b[0m: 'int' object has no attribute 'name'"
          ]
        }
      ],
      "source": [
        "visualize(text.split())"
      ]
    },
    {
      "cell_type": "code",
      "execution_count": 177,
      "metadata": {},
      "outputs": [
        {
          "output_type": "execute_result",
          "data": {
            "text/plain": "-0.6352159248788394"
          },
          "metadata": {},
          "execution_count": 177
        }
      ],
      "source": [
        "cos_sim(w2v.df.loc['you'], w2v.df.loc['will'])"
      ]
    },
    {
      "cell_type": "code",
      "execution_count": 178,
      "metadata": {},
      "outputs": [
        {
          "output_type": "execute_result",
          "data": {
            "text/plain": "0.7248216473812266"
          },
          "metadata": {},
          "execution_count": 178
        }
      ],
      "source": [
        "cos_sim(w2v.df.loc['never'], w2v.df.loc['try'])"
      ]
    },
    {
      "cell_type": "markdown",
      "metadata": {},
      "source": [
        "# 대량 Corpus 처리"
      ]
    },
    {
      "cell_type": "markdown",
      "metadata": {},
      "source": [
        "## Load Data"
      ]
    },
    {
      "cell_type": "code",
      "execution_count": 1,
      "metadata": {},
      "outputs": [],
      "source": [
        "def search(dirname):\n",
        "    filenames = os.listdir(dirname)\n",
        "    fl = []\n",
        "    for filename in filenames:\n",
        "        fl.append(os.path.join(dirname, filename))\n",
        "    \n",
        "    return fl\n",
        "\n",
        "# pip install -U nltk\n",
        "\n",
        "# import nltk\n",
        "# nltk.download('stopwords')\n",
        "# nltk.download('punkt')\n",
        "\n",
        "# Stopword 설정\n",
        "from nltk.corpus import stopwords\n",
        "stop_words = set(stopwords.words('english'))\n",
        "\n",
        "# Data \n",
        "folders = search(r'C:\\Users\\student\\Downloads\\text') # 대량 Corpus 폴더\n",
        "\n",
        "files=[]\n",
        "for f in folders:\n",
        "    files.extend(search(f))\n",
        "\n",
        "# Batch Size만큼 뽑아서 사용\n",
        "batch_size = 100\n",
        "batch = 0\n",
        "datas = []\n",
        "for i, fi in enumerate(files):\n",
        "    if i == batch_size:\n",
        "        break\n",
        "    with open(fi, 'rb') as f:\n",
        "        datas.append(f.readlines())"
      ]
    },
    {
      "cell_type": "code",
      "execution_count": 4,
      "metadata": {},
      "outputs": [
        {
          "output_type": "execute_result",
          "data": {
            "text/plain": "13864"
          },
          "metadata": {},
          "execution_count": 4
        }
      ],
      "source": [
        "len(files)"
      ]
    },
    {
      "cell_type": "code",
      "execution_count": 6,
      "metadata": {},
      "outputs": [
        {
          "output_type": "execute_result",
          "data": {
            "text/plain": "100"
          },
          "metadata": {},
          "execution_count": 6
        }
      ],
      "source": [
        "len(datas)"
      ]
    },
    {
      "cell_type": "code",
      "execution_count": 18,
      "metadata": {},
      "outputs": [],
      "source": []
    },
    {
      "cell_type": "markdown",
      "metadata": {},
      "source": [
        "## Tokenizing"
      ]
    },
    {
      "cell_type": "code",
      "execution_count": 20,
      "metadata": {},
      "outputs": [],
      "source": [
        "from nltk.tokenize import word_tokenize\n",
        "import re\n",
        "import itertools\n",
        "\n",
        "mass_token = []\n",
        "\n",
        "for data in datas:\n",
        "    mass_token.extend(itertools.chain(*list(map(lambda i : word_tokenize(re.sub('\\<[^<>]*\\>','', i.decode())), data))))"
      ]
    },
    {
      "cell_type": "code",
      "execution_count": 21,
      "metadata": {},
      "outputs": [
        {
          "output_type": "execute_result",
          "data": {
            "text/plain": "18971402"
          },
          "metadata": {},
          "execution_count": 21
        }
      ],
      "source": [
        "len(mass_token)"
      ]
    },
    {
      "cell_type": "code",
      "execution_count": 22,
      "metadata": {},
      "outputs": [
        {
          "output_type": "execute_result",
          "data": {
            "text/plain": "'political'"
          },
          "metadata": {},
          "execution_count": 22
        }
      ],
      "source": [
        "mass_token[4]"
      ]
    },
    {
      "cell_type": "code",
      "execution_count": 127,
      "metadata": {},
      "outputs": [],
      "source": [
        "# "
      ]
    },
    {
      "cell_type": "code",
      "execution_count": 23,
      "metadata": {},
      "outputs": [],
      "source": [
        "def is_stopword(n):\n",
        "    return True if n not in stop_words else False\n",
        "\n",
        "mass_token = list(filter(is_stopword, mass_token))"
      ]
    },
    {
      "cell_type": "code",
      "execution_count": 24,
      "metadata": {},
      "outputs": [
        {
          "output_type": "execute_result",
          "data": {
            "text/plain": "12786442"
          },
          "metadata": {},
          "execution_count": 24
        }
      ],
      "source": [
        "len(mass_token)"
      ]
    },
    {
      "cell_type": "code",
      "execution_count": 25,
      "metadata": {},
      "outputs": [],
      "source": [
        "unique_token = list(set(mass_token))"
      ]
    },
    {
      "cell_type": "code",
      "execution_count": 26,
      "metadata": {},
      "outputs": [
        {
          "output_type": "execute_result",
          "data": {
            "text/plain": "383559"
          },
          "metadata": {},
          "execution_count": 26
        }
      ],
      "source": [
        "len(unique_token)"
      ]
    },
    {
      "cell_type": "markdown",
      "metadata": {},
      "source": [
        "## POS Tagging"
      ]
    },
    {
      "cell_type": "code",
      "execution_count": 27,
      "metadata": {},
      "outputs": [],
      "source": [
        "import nltk\n",
        "\n",
        "using_pos = [\n",
        "             'NN', 'NNS', 'NNP', 'NNPS', # 명사\n",
        "             'VB', 'VBD', 'VBG', 'VBN', 'VBP', 'VBZ',  # 동사\n",
        "             'JJ','JJR','JJS', # 형용사\n",
        "             'RB','RBR','RBS' # 부사\n",
        "             ]\n",
        "\n",
        "def pos(x):\n",
        "    return True if x[1] in using_pos else False"
      ]
    },
    {
      "cell_type": "code",
      "execution_count": 28,
      "metadata": {},
      "outputs": [],
      "source": [
        "unique_token = list(filter(pos, nltk.pos_tag(unique_token)))"
      ]
    },
    {
      "cell_type": "code",
      "execution_count": 29,
      "metadata": {},
      "outputs": [
        {
          "output_type": "execute_result",
          "data": {
            "text/plain": "352692"
          },
          "metadata": {},
          "execution_count": 29
        }
      ],
      "source": [
        "len(unique_token)"
      ]
    },
    {
      "cell_type": "code",
      "execution_count": 54,
      "metadata": {},
      "outputs": [],
      "source": [
        "unique_token = list(map(lambda i : i[0], unique_token))"
      ]
    },
    {
      "cell_type": "code",
      "execution_count": 57,
      "metadata": {},
      "outputs": [],
      "source": [
        "unique_token[:50]"
      ]
    },
    {
      "cell_type": "code",
      "execution_count": null,
      "metadata": {},
      "outputs": [],
      "source": [
        "len(mass_token)"
      ]
    },
    {
      "cell_type": "code",
      "execution_count": 30,
      "metadata": {},
      "outputs": [],
      "source": [
        "import pandas as pd"
      ]
    },
    {
      "cell_type": "code",
      "execution_count": 54,
      "metadata": {},
      "outputs": [],
      "source": [
        "token_df = pd.DataFrame(mass_token)"
      ]
    },
    {
      "cell_type": "code",
      "execution_count": 55,
      "metadata": {},
      "outputs": [],
      "source": [
        "unique_df = pd.DataFrame(unique_token)"
      ]
    },
    {
      "cell_type": "code",
      "execution_count": 56,
      "metadata": {},
      "outputs": [],
      "source": [
        "token_df.set_index(0, inplace=True)"
      ]
    },
    {
      "cell_type": "code",
      "execution_count": 57,
      "metadata": {},
      "outputs": [],
      "source": [
        "unique_df.set_index(0, inplace=True)"
      ]
    },
    {
      "cell_type": "code",
      "execution_count": 58,
      "metadata": {},
      "outputs": [],
      "source": [
        "unique_df[0] = 1"
      ]
    },
    {
      "cell_type": "code",
      "execution_count": 59,
      "metadata": {},
      "outputs": [],
      "source": [
        "token_df[0] = unique_df[0]"
      ]
    },
    {
      "cell_type": "code",
      "execution_count": 60,
      "metadata": {},
      "outputs": [
        {
          "output_type": "execute_result",
          "data": {
            "text/plain": "12786442"
          },
          "metadata": {},
          "execution_count": 60
        }
      ],
      "source": [
        "len(token_df)"
      ]
    },
    {
      "cell_type": "code",
      "execution_count": 61,
      "metadata": {},
      "outputs": [
        {
          "output_type": "execute_result",
          "data": {
            "text/plain": "              0\n0              \nAnarchism   1.0\nAnarchism   1.0\npolitical   1.0\nphilosophy  1.0\nmovement    1.0\n...         ...\nproduct     1.0\nflake       1.0\nsize        1.0\nranging     1.0\nmesh        1.0\n\n[8987646 rows x 1 columns]",
            "text/html": "<div>\n<style scoped>\n    .dataframe tbody tr th:only-of-type {\n        vertical-align: middle;\n    }\n\n    .dataframe tbody tr th {\n        vertical-align: top;\n    }\n\n    .dataframe thead th {\n        text-align: right;\n    }\n</style>\n<table border=\"1\" class=\"dataframe\">\n  <thead>\n    <tr style=\"text-align: right;\">\n      <th></th>\n      <th>0</th>\n    </tr>\n    <tr>\n      <th>0</th>\n      <th></th>\n    </tr>\n  </thead>\n  <tbody>\n    <tr>\n      <th>Anarchism</th>\n      <td>1.0</td>\n    </tr>\n    <tr>\n      <th>Anarchism</th>\n      <td>1.0</td>\n    </tr>\n    <tr>\n      <th>political</th>\n      <td>1.0</td>\n    </tr>\n    <tr>\n      <th>philosophy</th>\n      <td>1.0</td>\n    </tr>\n    <tr>\n      <th>movement</th>\n      <td>1.0</td>\n    </tr>\n    <tr>\n      <th>...</th>\n      <td>...</td>\n    </tr>\n    <tr>\n      <th>product</th>\n      <td>1.0</td>\n    </tr>\n    <tr>\n      <th>flake</th>\n      <td>1.0</td>\n    </tr>\n    <tr>\n      <th>size</th>\n      <td>1.0</td>\n    </tr>\n    <tr>\n      <th>ranging</th>\n      <td>1.0</td>\n    </tr>\n    <tr>\n      <th>mesh</th>\n      <td>1.0</td>\n    </tr>\n  </tbody>\n</table>\n<p>8987646 rows × 1 columns</p>\n</div>"
          },
          "metadata": {},
          "execution_count": 61
        }
      ],
      "source": [
        "token_df.dropna()"
      ]
    },
    {
      "cell_type": "markdown",
      "metadata": {},
      "source": [
        "## 최종 데이터셋"
      ]
    },
    {
      "cell_type": "code",
      "execution_count": 62,
      "metadata": {},
      "outputs": [],
      "source": [
        "# label X\n",
        "# index\n",
        "\n",
        "# Index 기반 탐색\n",
        "mass_token = list(token_df.dropna().index)\n",
        "unique_token = list(unique_df.index)\n",
        "# unique_token.index('Cametá')\n",
        "\n"
      ]
    },
    {
      "cell_type": "code",
      "execution_count": 63,
      "metadata": {},
      "outputs": [],
      "source": [
        "import gc\n",
        "del [[token_df,unique_df]]\n",
        "gc.collect()\n",
        "token_df=pd.DataFrame()\n",
        "unique_df=pd.DataFrame()"
      ]
    },
    {
      "cell_type": "code",
      "execution_count": 80,
      "metadata": {},
      "outputs": [
        {
          "output_type": "execute_result",
          "data": {
            "text/plain": "8987646"
          },
          "metadata": {},
          "execution_count": 80
        }
      ],
      "source": [
        "len(mass_token)"
      ]
    },
    {
      "cell_type": "code",
      "execution_count": 81,
      "metadata": {},
      "outputs": [
        {
          "output_type": "execute_result",
          "data": {
            "text/plain": "352692"
          },
          "metadata": {},
          "execution_count": 81
        }
      ],
      "source": [
        "len(unique_token)"
      ]
    },
    {
      "cell_type": "code",
      "execution_count": 67,
      "metadata": {},
      "outputs": [
        {
          "output_type": "execute_result",
          "data": {
            "text/plain": "array([[0.08887213, 0.46584621, 0.66002425, 0.82079576],\n       [0.2627228 , 0.46925037, 0.53540688, 0.17799407],\n       [0.30594653, 0.40844306, 0.16916289, 0.08722768],\n       ...,\n       [0.65256046, 0.51253452, 0.753715  , 0.40626107],\n       [0.84172719, 0.82979004, 0.27889179, 0.29624109],\n       [0.80585197, 0.50803566, 0.80344736, 0.7272878 ]])"
          },
          "metadata": {},
          "execution_count": 67
        }
      ],
      "source": [
        "import numpy as np\n",
        "H = 4\n",
        "weight = np.random.random(size=(len(unique_token), H))\n",
        "h_weight = np.random.random(size=(H, len(unique_token)))"
      ]
    },
    {
      "cell_type": "code",
      "execution_count": null,
      "metadata": {},
      "outputs": [],
      "source": [
        "# 대량 corpus weight update 방법\n",
        "\n",
        "# Train Data\n",
        "# Target에 따라 한번씩 돌기, mass_token Length 만큼 -> Hidden 쌓임\n",
        "# Weight Update 방법? Mass token에서 Unique Token 주변 데이터 찾아서 해당 weight Update\n",
        "\n",
        "# X index에 따라 weight가 곱해져서 나오는 Hidden array가 다름\n",
        "# Y index에 따라 H_weight가 곱해지는 부분이 다르다. \n",
        "# 따라서 results = softmax(Weight[X_index] * h_weight * [y_index])\n",
        "\n",
        "# array 2,4 * 1,4 = 뒤의 값이 각 행에 한번씩 곱해짐\n",
        "\n",
        "# DataFrame Index기준으로 reset index, number들 가져오고 window size만큼 앞뒤로 단어리스트들 가져오기\n",
        "\n",
        "# w_grad는 X가 곱해짐, -> 결국 해당 y값에 맞는 \n",
        "\n",
        "# temp = erorr * h_weight[y_index]\n",
        "# w_grad = X * temp\n",
        "# h_grad = hidden * error\n",
        "\n"
      ]
    },
    {
      "cell_type": "code",
      "execution_count": 111,
      "metadata": {},
      "outputs": [],
      "source": [
        "from collections import OrderedDict\n",
        "from sklearn.preprocessing import OneHotEncoder\n",
        "import numpy as np\n",
        "import matplotlib.pyplot as plt\n",
        "import pandas as pd\n",
        "\n",
        "# t = window size\n",
        "\n",
        "\n",
        "# X_data, y_data = mktraindata(final_vec, 2)\n",
        "\n",
        "class Word2Vec():\n",
        "    def __init__(self, H = 4, r = 0.03, t = 2):\n",
        "        self.H, self.r, self.t = H, r, t\n",
        "        return\n",
        "\n",
        "    def mkdatas(self, data):\n",
        "        tokens = data.split()\n",
        "        categories = list(OrderedDict((element, None) for element in tokens))\n",
        "        X = np.array(tokens).reshape(-1,1)\n",
        "        enc = OneHotEncoder(handle_unknown='ignore') # handle_unknown='ignore'\n",
        "        word_vec = enc.fit_transform(X).toarray().T\n",
        "        df = pd.DataFrame(word_vec, index = enc.categories_)\n",
        "        final_vec = np.matrix(df.T[categories])\n",
        "        self.categories = categories\n",
        "        X_data, y_data = mktraindata(final_vec, self.t)\n",
        "        return X_data/np.sum(X_data, axis=1), y_data\n",
        "\n",
        "    def fit(self, X_data, y_data):\n",
        "        # Hidden Node 수 (차원 수), Learning Rate\n",
        "        H, r = self.H, self.r\n",
        "\n",
        "        # Weight (단어벡터)\n",
        "        weight = np.random.random(size = (len(self.categories), H))\n",
        "        hidden = np.dot(X_data, weight)\n",
        "\n",
        "        # h_weight\n",
        "        h_weight = np.random.random(size = (H, len(self.categories)))\n",
        "\n",
        "        output = np.dot(hidden, h_weight)\n",
        "        result = np.matrix(list(map(softmax, output[:,].getA())))\n",
        "        \n",
        "        loss_history = []\n",
        "        loss_history.append(-np.multiply(y_data, np.log(result)).sum())\n",
        "\n",
        "        epocks = 10000\n",
        "        for epock in range(epocks):\n",
        "            temp = (result-y_data).dot(h_weight.T)\n",
        "            w_grad = X_data.T.dot(temp)\n",
        "            h_grad = hidden.T.dot(result-y_data)\n",
        "\n",
        "            # weight 업데이트\n",
        "            weight -= r*w_grad\n",
        "            h_weight -= r*h_grad\n",
        "            \n",
        "            hidden = np.dot(X_data, weight)\n",
        "            output = np.dot(hidden, h_weight)\n",
        "            result = np.matrix(list(map(softmax, output[:,].getA())))\n",
        "\n",
        "            loss_history.append(-np.multiply(y_data, np.log(result)).sum())\n",
        "\n",
        "        self.loss_history = loss_history\n",
        "        self.df = pd.DataFrame(weight, index = self.categories)\n",
        "        return self.df\n",
        "\n",
        "    def loss_graph(self):\n",
        "        plt.plot(self.loss_history)\n",
        "        plt.title('Loss')\n",
        "        plt.show()\n",
        "\n",
        "\n",
        "    def word_sim(self):\n",
        "        res = []\n",
        "        for c1 in self.categories:\n",
        "            for c2 in self.categories:\n",
        "                res.append(cos_sim(self.df.loc[c1], self.df.loc[c2]))\n",
        "\n",
        "        return pd.DataFrame(np.asarray(res).reshape(len(self.categories), len(self.categories)), index = self.categories, columns = self.categories)\n"
      ]
    },
    {
      "cell_type": "code",
      "execution_count": 114,
      "metadata": {},
      "outputs": [
        {
          "output_type": "execute_result",
          "data": {
            "text/plain": "              0         1         2         3\nyou    0.188621 -5.811262  1.945990 -0.817591\nwill   1.362378  3.398039 -0.901919  3.732264\nnever -2.081236  0.746408 -2.730229  0.338064\nknow  -2.458763  2.176786  4.969389 -0.995384\nuntil  4.395924  0.606134 -0.180078  2.506224\ntry   -3.381923  4.709233 -2.316165  1.423463",
            "text/html": "<div>\n<style scoped>\n    .dataframe tbody tr th:only-of-type {\n        vertical-align: middle;\n    }\n\n    .dataframe tbody tr th {\n        vertical-align: top;\n    }\n\n    .dataframe thead th {\n        text-align: right;\n    }\n</style>\n<table border=\"1\" class=\"dataframe\">\n  <thead>\n    <tr style=\"text-align: right;\">\n      <th></th>\n      <th>0</th>\n      <th>1</th>\n      <th>2</th>\n      <th>3</th>\n    </tr>\n  </thead>\n  <tbody>\n    <tr>\n      <th>you</th>\n      <td>0.188621</td>\n      <td>-5.811262</td>\n      <td>1.945990</td>\n      <td>-0.817591</td>\n    </tr>\n    <tr>\n      <th>will</th>\n      <td>1.362378</td>\n      <td>3.398039</td>\n      <td>-0.901919</td>\n      <td>3.732264</td>\n    </tr>\n    <tr>\n      <th>never</th>\n      <td>-2.081236</td>\n      <td>0.746408</td>\n      <td>-2.730229</td>\n      <td>0.338064</td>\n    </tr>\n    <tr>\n      <th>know</th>\n      <td>-2.458763</td>\n      <td>2.176786</td>\n      <td>4.969389</td>\n      <td>-0.995384</td>\n    </tr>\n    <tr>\n      <th>until</th>\n      <td>4.395924</td>\n      <td>0.606134</td>\n      <td>-0.180078</td>\n      <td>2.506224</td>\n    </tr>\n    <tr>\n      <th>try</th>\n      <td>-3.381923</td>\n      <td>4.709233</td>\n      <td>-2.316165</td>\n      <td>1.423463</td>\n    </tr>\n  </tbody>\n</table>\n</div>"
          },
          "metadata": {},
          "execution_count": 114
        }
      ],
      "source": [
        "w2v.fit(X_data, y_data)"
      ]
    },
    {
      "cell_type": "code",
      "execution_count": 115,
      "metadata": {},
      "outputs": [
        {
          "output_type": "execute_result",
          "data": {
            "text/plain": "            you      will     never      know     until       try\nyou    1.000000 -0.740378 -0.472682 -0.070391 -0.161451 -0.850185\nwill  -0.740378  1.000000  0.182917 -0.129531  0.649243  0.553284\nnever -0.472682  0.182917  1.000000 -0.336018 -0.408789  0.768040\nknow  -0.070391 -0.129531 -0.336018  1.000000 -0.418192  0.145834\nuntil -0.161451  0.649243 -0.408789 -0.418192  1.000000 -0.245832\ntry   -0.850185  0.553284  0.768040  0.145834 -0.245832  1.000000",
            "text/html": "<div>\n<style scoped>\n    .dataframe tbody tr th:only-of-type {\n        vertical-align: middle;\n    }\n\n    .dataframe tbody tr th {\n        vertical-align: top;\n    }\n\n    .dataframe thead th {\n        text-align: right;\n    }\n</style>\n<table border=\"1\" class=\"dataframe\">\n  <thead>\n    <tr style=\"text-align: right;\">\n      <th></th>\n      <th>you</th>\n      <th>will</th>\n      <th>never</th>\n      <th>know</th>\n      <th>until</th>\n      <th>try</th>\n    </tr>\n  </thead>\n  <tbody>\n    <tr>\n      <th>you</th>\n      <td>1.000000</td>\n      <td>-0.740378</td>\n      <td>-0.472682</td>\n      <td>-0.070391</td>\n      <td>-0.161451</td>\n      <td>-0.850185</td>\n    </tr>\n    <tr>\n      <th>will</th>\n      <td>-0.740378</td>\n      <td>1.000000</td>\n      <td>0.182917</td>\n      <td>-0.129531</td>\n      <td>0.649243</td>\n      <td>0.553284</td>\n    </tr>\n    <tr>\n      <th>never</th>\n      <td>-0.472682</td>\n      <td>0.182917</td>\n      <td>1.000000</td>\n      <td>-0.336018</td>\n      <td>-0.408789</td>\n      <td>0.768040</td>\n    </tr>\n    <tr>\n      <th>know</th>\n      <td>-0.070391</td>\n      <td>-0.129531</td>\n      <td>-0.336018</td>\n      <td>1.000000</td>\n      <td>-0.418192</td>\n      <td>0.145834</td>\n    </tr>\n    <tr>\n      <th>until</th>\n      <td>-0.161451</td>\n      <td>0.649243</td>\n      <td>-0.408789</td>\n      <td>-0.418192</td>\n      <td>1.000000</td>\n      <td>-0.245832</td>\n    </tr>\n    <tr>\n      <th>try</th>\n      <td>-0.850185</td>\n      <td>0.553284</td>\n      <td>0.768040</td>\n      <td>0.145834</td>\n      <td>-0.245832</td>\n      <td>1.000000</td>\n    </tr>\n  </tbody>\n</table>\n</div>"
          },
          "metadata": {},
          "execution_count": 115
        }
      ],
      "source": [
        "w2v.word_sim()"
      ]
    },
    {
      "cell_type": "markdown",
      "metadata": {},
      "source": [
        "# Word2Vec 패키지"
      ]
    },
    {
      "cell_type": "code",
      "execution_count": 123,
      "metadata": {},
      "outputs": [],
      "source": [
        "# Input Data = Tokenized Sents List\n",
        "\n",
        "tokenized_contents = [\n",
        "    ['발열','은','LTE','폰','의','숙명','ㅠㅠ'], \n",
        "    ['HD','촬영','기능','하나','만','으로','도','충분히','만족','하시리','라','봅','니다']\n",
        "    ]"
      ]
    },
    {
      "cell_type": "code",
      "execution_count": 124,
      "metadata": {},
      "outputs": [],
      "source": [
        "from gensim.models import Word2Vec\n",
        "embedding_model = Word2Vec(tokenized_contents, # Input Data\n",
        "                            size=4, # size = 차원 수\n",
        "                            window = 2, # window = window size\n",
        "                            min_count=0, # min_count = 0 (단어 출현 빈도 일정 수 이하 일 시 제외))\n",
        "                            workers=4, # workers = CPU 사용 수\n",
        "                            iter=100, # iter = 반복 학습 횟수\n",
        "                            sg=1 # sg = Skip-Gram\n",
        "                            )"
      ]
    },
    {
      "cell_type": "code",
      "execution_count": 125,
      "metadata": {
        "tags": []
      },
      "outputs": [
        {
          "output_type": "stream",
          "name": "stdout",
          "text": "[('충분히', 0.6511481404304504), ('니다', 0.4862560033798218), ('폰', 0.3899843096733093)]\n"
        }
      ],
      "source": [
        "# 코사인 유사도가 높은 n개 추출\n",
        "print(embedding_model.most_similar(positive=[\"LTE\"], topn=3))"
      ]
    },
    {
      "cell_type": "code",
      "execution_count": null,
      "metadata": {},
      "outputs": [],
      "source": []
    }
  ]
}