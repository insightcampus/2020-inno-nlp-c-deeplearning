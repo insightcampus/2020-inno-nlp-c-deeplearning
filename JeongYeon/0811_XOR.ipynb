{
  "nbformat": 4,
  "nbformat_minor": 0,
  "metadata": {
    "colab": {
      "name": "0811_XOR.ipynb",
      "provenance": [],
      "collapsed_sections": []
    },
    "kernelspec": {
      "name": "python3",
      "display_name": "Python 3"
    }
  },
  "cells": [
    {
      "cell_type": "code",
      "metadata": {
        "id": "tnurb1ClcpOM",
        "colab_type": "code",
        "colab": {}
      },
      "source": [
        "import numpy as np\n",
        "import random\n",
        "import math"
      ],
      "execution_count": null,
      "outputs": []
    },
    {
      "cell_type": "code",
      "metadata": {
        "id": "O-u9FbVTdEka",
        "colab_type": "code",
        "colab": {}
      },
      "source": [
        "X = np.array([[0, 0, 1, 1], [0, 1, 0, 1]])\n",
        "Y = np.array([[0, 1, 1, 0]])"
      ],
      "execution_count": null,
      "outputs": []
    },
    {
      "cell_type": "code",
      "metadata": {
        "id": "PbxEQgN6fRPS",
        "colab_type": "code",
        "colab": {}
      },
      "source": [
        "H = 3\n",
        "W_1 = np.random.rand(2, H)\n",
        "B_1 = np.random.rand(H, 1)\n",
        "W_2 = np.random.rand(H, 1)\n",
        "B_2 = np.random.rand(1, 1)"
      ],
      "execution_count": null,
      "outputs": []
    },
    {
      "cell_type": "code",
      "metadata": {
        "id": "N5_DPV5aMRI0",
        "colab_type": "code",
        "colab": {}
      },
      "source": [
        "def sigmoid(x):\n",
        "\treturn 1 / (1 + np.exp(-x))"
      ],
      "execution_count": null,
      "outputs": []
    },
    {
      "cell_type": "code",
      "metadata": {
        "id": "xLpdq4fZPFPO",
        "colab_type": "code",
        "colab": {}
      },
      "source": [
        "def loss(Y, Y_hat):\n",
        "    loss = -1 * 1/X.shape[1] * np.sum(Y * np.log(Y_hat) + (1 - Y) * np.log(1 - Y_hat))\n",
        "    return loss"
      ],
      "execution_count": null,
      "outputs": []
    },
    {
      "cell_type": "code",
      "metadata": {
        "id": "j7ww1WsaapWM",
        "colab_type": "code",
        "colab": {
          "base_uri": "https://localhost:8080/",
          "height": 603
        },
        "outputId": "bebde560-a09e-4321-9505-41775da60b45"
      },
      "source": [
        "epoch = 100000\n",
        "learning_rate = 0.01\n",
        "for epoch in range(epoch):\n",
        "\n",
        "    # Hidden Node\n",
        "    H = sigmoid(np.dot(W_1.T, X) + B_1)\n",
        "\n",
        "    # Y_hat\n",
        "    Y_hat = sigmoid(np.dot(W_2.T, H) + B_2)\n",
        "\n",
        "    # Loss 계산\n",
        "    loss = -1 * 1/X.shape[1] * np.sum(Y * np.log(Y_hat) + (1 - Y) * np.log(1 - Y_hat))\n",
        "\n",
        "    # BackPropagate: Hidden Layer\n",
        "    dW_2 = np.dot(H, (Y_hat - Y).T)\n",
        "    dB_2 = 1 / Y.shape[1] * np.sum(Y_hat - Y, axis = 1, keepdims = True)\n",
        "    dH  = np.dot(W_2, Y_hat - Y)\n",
        "\n",
        "    # BackPropagate: Input Layer\n",
        "    dZ_1 = dH * H * (1 - H)\n",
        "    dW_1 = np.dot(X, dZ_1.T)\n",
        "    dB_1 = 1 / Y.shape[1] * np.sum(dZ_1, axis = 1, keepdims = True)\n",
        "\n",
        "    # Weight 업데이트\n",
        "    W_2 += -learning_rate * dW_2\n",
        "    B_2 += -learning_rate * dB_2\n",
        "    W_1 += -learning_rate * dW_1\n",
        "    B_1 += -learning_rate * dB_1\n",
        "\n",
        "    if epoch % 10000 == 0:\n",
        "        predict = np.round(Y_hat)\n",
        "        print(predict)\n",
        "        print(loss)\n",
        "        print((predict == Y).mean())\n",
        "\n",
        "predict = np.round(Y_hat)\n",
        "print(predict)\n",
        "print(loss)\n",
        "print((predict == Y).mean())"
      ],
      "execution_count": null,
      "outputs": [
        {
          "output_type": "stream",
          "text": [
            "[[1. 1. 1. 1.]]\n",
            "0.957421152050443\n",
            "0.5\n",
            "[[0. 1. 1. 0.]]\n",
            "0.3113668312799108\n",
            "1.0\n",
            "[[0. 1. 1. 0.]]\n",
            "0.03940996415187789\n",
            "1.0\n",
            "[[0. 1. 1. 0.]]\n",
            "0.019583556582936666\n",
            "1.0\n",
            "[[0. 1. 1. 0.]]\n",
            "0.012956827996169533\n",
            "1.0\n",
            "[[0. 1. 1. 0.]]\n",
            "0.009666768415728798\n",
            "1.0\n",
            "[[0. 1. 1. 0.]]\n",
            "0.007704857330578048\n",
            "1.0\n",
            "[[0. 1. 1. 0.]]\n",
            "0.00640325642577446\n",
            "1.0\n",
            "[[0. 1. 1. 0.]]\n",
            "0.005477105181618721\n",
            "1.0\n",
            "[[0. 1. 1. 0.]]\n",
            "0.004784633119385206\n",
            "1.0\n",
            "[[0. 1. 1. 0.]]\n",
            "0.004247451158065615\n",
            "1.0\n"
          ],
          "name": "stdout"
        }
      ]
    },
    {
      "cell_type": "code",
      "metadata": {
        "id": "rNFU3NHWo66q",
        "colab_type": "code",
        "colab": {}
      },
      "source": [
        ""
      ],
      "execution_count": null,
      "outputs": []
    },
    {
      "cell_type": "code",
      "metadata": {
        "id": "MROsCX22H__h",
        "colab_type": "code",
        "colab": {}
      },
      "source": [
        ""
      ],
      "execution_count": null,
      "outputs": []
    },
    {
      "cell_type": "code",
      "metadata": {
        "id": "iKHWo5sMIAJQ",
        "colab_type": "code",
        "colab": {}
      },
      "source": [
        ""
      ],
      "execution_count": null,
      "outputs": []
    },
    {
      "cell_type": "code",
      "metadata": {
        "id": "l8TxrlOcIAU4",
        "colab_type": "code",
        "colab": {}
      },
      "source": [
        ""
      ],
      "execution_count": null,
      "outputs": []
    },
    {
      "cell_type": "code",
      "metadata": {
        "id": "DT3j1LcSIAk4",
        "colab_type": "code",
        "colab": {}
      },
      "source": [
        ""
      ],
      "execution_count": null,
      "outputs": []
    },
    {
      "cell_type": "code",
      "metadata": {
        "id": "fhO8lgQEfTsQ",
        "colab_type": "code",
        "colab": {
          "base_uri": "https://localhost:8080/",
          "height": 34
        },
        "outputId": "5c216948-6753-4fb7-a656-2f613fabd88a"
      },
      "source": [
        "len(Y_hat[0])"
      ],
      "execution_count": null,
      "outputs": [
        {
          "output_type": "execute_result",
          "data": {
            "text/plain": [
              "4"
            ]
          },
          "metadata": {
            "tags": []
          },
          "execution_count": 92
        }
      ]
    },
    {
      "cell_type": "code",
      "metadata": {
        "id": "61IkiVWXDU6n",
        "colab_type": "code",
        "colab": {
          "base_uri": "https://localhost:8080/",
          "height": 34
        },
        "outputId": "575a7500-f0d5-448a-9e86-dedbb2a37db1"
      },
      "source": [
        "X.shape[1]"
      ],
      "execution_count": null,
      "outputs": [
        {
          "output_type": "execute_result",
          "data": {
            "text/plain": [
              "4"
            ]
          },
          "metadata": {
            "tags": []
          },
          "execution_count": 51
        }
      ]
    },
    {
      "cell_type": "code",
      "metadata": {
        "id": "MTa2qQzlheCL",
        "colab_type": "code",
        "colab": {
          "base_uri": "https://localhost:8080/",
          "height": 53
        },
        "outputId": "96ab6830-cf68-4368-d38f-90c6c423c40c"
      },
      "source": [
        "W_1"
      ],
      "execution_count": null,
      "outputs": [
        {
          "output_type": "execute_result",
          "data": {
            "text/plain": [
              "array([[0.31286129, 0.47611394],\n",
              "       [0.98256874, 0.47230093]])"
            ]
          },
          "metadata": {
            "tags": []
          },
          "execution_count": 32
        }
      ]
    },
    {
      "cell_type": "code",
      "metadata": {
        "id": "TpGEogfJAp1L",
        "colab_type": "code",
        "colab": {
          "base_uri": "https://localhost:8080/",
          "height": 53
        },
        "outputId": "a65d41ba-c90a-40e3-f597-1f1ba408ee16"
      },
      "source": [
        "W_2"
      ],
      "execution_count": null,
      "outputs": [
        {
          "output_type": "execute_result",
          "data": {
            "text/plain": [
              "array([[0.10331809],\n",
              "       [0.28037995]])"
            ]
          },
          "metadata": {
            "tags": []
          },
          "execution_count": 35
        }
      ]
    },
    {
      "cell_type": "code",
      "metadata": {
        "id": "MTibfDzvN0EY",
        "colab_type": "code",
        "colab": {
          "base_uri": "https://localhost:8080/",
          "height": 53
        },
        "outputId": "6d15390a-f7a9-4311-d5dd-856828b4338d"
      },
      "source": [
        "B_1"
      ],
      "execution_count": null,
      "outputs": [
        {
          "output_type": "execute_result",
          "data": {
            "text/plain": [
              "array([[1., 1.],\n",
              "       [1., 1.]])"
            ]
          },
          "metadata": {
            "tags": []
          },
          "execution_count": 56
        }
      ]
    }
  ]
}