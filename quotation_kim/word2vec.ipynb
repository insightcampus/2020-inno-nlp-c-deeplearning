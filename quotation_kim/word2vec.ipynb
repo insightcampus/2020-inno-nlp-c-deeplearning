{
  "nbformat": 4,
  "nbformat_minor": 0,
  "metadata": {
    "colab": {
      "name": "word2vec.ipynb",
      "provenance": [],
      "collapsed_sections": [],
      "authorship_tag": "ABX9TyNK9l9zBttPso1cI2+noeuT",
      "include_colab_link": true
    },
    "kernelspec": {
      "name": "python3",
      "display_name": "Python 3"
    }
  },
  "cells": [
    {
      "cell_type": "markdown",
      "metadata": {
        "id": "view-in-github",
        "colab_type": "text"
      },
      "source": [
        "<a href=\"https://colab.research.google.com/github/2020-nlp-c/nlp-deeplearning/blob/master/quotation_kim/word2vec.ipynb\" target=\"_parent\"><img src=\"https://colab.research.google.com/assets/colab-badge.svg\" alt=\"Open In Colab\"/></a>"
      ]
    },
    {
      "cell_type": "markdown",
      "metadata": {
        "id": "A2OH-ERj9KYc",
        "colab_type": "text"
      },
      "source": [
        "word2vec 원리 이해하기"
      ]
    },
    {
      "cell_type": "code",
      "metadata": {
        "id": "loEg_a62aXZv",
        "colab_type": "code",
        "colab": {}
      },
      "source": [
        "import numpy as np\n",
        "import pandas as pd"
      ],
      "execution_count": 1,
      "outputs": []
    },
    {
      "cell_type": "code",
      "metadata": {
        "id": "tAWg-y9Pkxp9",
        "colab_type": "code",
        "colab": {
          "base_uri": "https://localhost:8080/",
          "height": 71
        },
        "outputId": "c9474b21-c289-499a-cf4a-b52cd8cc9602"
      },
      "source": [
        "from nltk.tokenize import word_tokenize\n",
        "import nltk\n",
        "nltk.download('punkt')"
      ],
      "execution_count": 2,
      "outputs": [
        {
          "output_type": "stream",
          "text": [
            "[nltk_data] Downloading package punkt to /root/nltk_data...\n",
            "[nltk_data]   Unzipping tokenizers/punkt.zip.\n"
          ],
          "name": "stdout"
        },
        {
          "output_type": "execute_result",
          "data": {
            "text/plain": [
              "True"
            ]
          },
          "metadata": {
            "tags": []
          },
          "execution_count": 2
        }
      ]
    },
    {
      "cell_type": "code",
      "metadata": {
        "id": "hr8hyqA_kysD",
        "colab_type": "code",
        "colab": {
          "base_uri": "https://localhost:8080/",
          "height": 35
        },
        "outputId": "c85fc115-b0f2-4dae-db67-0c400501e97a"
      },
      "source": [
        "doc = 'you will never know until you try'\n",
        "token_list = word_tokenize(doc)\n",
        "tokens = list(set(token_list))\n",
        "tokens"
      ],
      "execution_count": 3,
      "outputs": [
        {
          "output_type": "execute_result",
          "data": {
            "text/plain": [
              "['will', 'you', 'until', 'try', 'know', 'never']"
            ]
          },
          "metadata": {
            "tags": []
          },
          "execution_count": 3
        }
      ]
    },
    {
      "cell_type": "code",
      "metadata": {
        "id": "_g67pFYMPWaX",
        "colab_type": "code",
        "colab": {
          "base_uri": "https://localhost:8080/",
          "height": 125
        },
        "outputId": "da5175d8-166c-4959-df61-9a9d6db3d8aa"
      },
      "source": [
        "onehot=np.identity(len(tokens)).tolist()\n",
        "\n",
        "onehot_vector = []\n",
        "for vec in onehot:\n",
        "    onehot_vector.append([vec])\n",
        "onehot_vector"
      ],
      "execution_count": 4,
      "outputs": [
        {
          "output_type": "execute_result",
          "data": {
            "text/plain": [
              "[[[1.0, 0.0, 0.0, 0.0, 0.0, 0.0]],\n",
              " [[0.0, 1.0, 0.0, 0.0, 0.0, 0.0]],\n",
              " [[0.0, 0.0, 1.0, 0.0, 0.0, 0.0]],\n",
              " [[0.0, 0.0, 0.0, 1.0, 0.0, 0.0]],\n",
              " [[0.0, 0.0, 0.0, 0.0, 1.0, 0.0]],\n",
              " [[0.0, 0.0, 0.0, 0.0, 0.0, 1.0]]]"
            ]
          },
          "metadata": {
            "tags": []
          },
          "execution_count": 4
        }
      ]
    },
    {
      "cell_type": "code",
      "metadata": {
        "id": "X4hJ0i25QMtZ",
        "colab_type": "code",
        "colab": {
          "base_uri": "https://localhost:8080/",
          "height": 125
        },
        "outputId": "917b483f-b885-4492-9090-2813f96dcfc4"
      },
      "source": [
        "dic = dict(zip(tokens, onehot_vector))\n",
        "dic"
      ],
      "execution_count": 5,
      "outputs": [
        {
          "output_type": "execute_result",
          "data": {
            "text/plain": [
              "{'know': [[0.0, 0.0, 0.0, 0.0, 1.0, 0.0]],\n",
              " 'never': [[0.0, 0.0, 0.0, 0.0, 0.0, 1.0]],\n",
              " 'try': [[0.0, 0.0, 0.0, 1.0, 0.0, 0.0]],\n",
              " 'until': [[0.0, 0.0, 1.0, 0.0, 0.0, 0.0]],\n",
              " 'will': [[1.0, 0.0, 0.0, 0.0, 0.0, 0.0]],\n",
              " 'you': [[0.0, 1.0, 0.0, 0.0, 0.0, 0.0]]}"
            ]
          },
          "metadata": {
            "tags": []
          },
          "execution_count": 5
        }
      ]
    },
    {
      "cell_type": "code",
      "metadata": {
        "id": "cjdFKRxdg85G",
        "colab_type": "code",
        "colab": {
          "base_uri": "https://localhost:8080/",
          "height": 143
        },
        "outputId": "3ae2d348-e26e-4912-e9bf-5976e4e1208d"
      },
      "source": [
        "y = []\n",
        "for token in token_list:\n",
        "    for word in dic.keys(): #토큰과 단어가 일치하면 토큰의 원핫벡터를 리스트에 추가\n",
        "        if token == word:\n",
        "            y.append(dic[word])\n",
        "y"
      ],
      "execution_count": 6,
      "outputs": [
        {
          "output_type": "execute_result",
          "data": {
            "text/plain": [
              "[[[0.0, 1.0, 0.0, 0.0, 0.0, 0.0]],\n",
              " [[1.0, 0.0, 0.0, 0.0, 0.0, 0.0]],\n",
              " [[0.0, 0.0, 0.0, 0.0, 0.0, 1.0]],\n",
              " [[0.0, 0.0, 0.0, 0.0, 1.0, 0.0]],\n",
              " [[0.0, 0.0, 1.0, 0.0, 0.0, 0.0]],\n",
              " [[0.0, 1.0, 0.0, 0.0, 0.0, 0.0]],\n",
              " [[0.0, 0.0, 0.0, 1.0, 0.0, 0.0]]]"
            ]
          },
          "metadata": {
            "tags": []
          },
          "execution_count": 6
        }
      ]
    },
    {
      "cell_type": "code",
      "metadata": {
        "id": "hVOgjguMhuZd",
        "colab_type": "code",
        "colab": {
          "base_uri": "https://localhost:8080/",
          "height": 266
        },
        "outputId": "db5c30a5-d4c2-4717-e692-b080f3a8f4a6"
      },
      "source": [
        "df = pd.DataFrame(y, columns=['onehot'], index=token_list)\n",
        "df"
      ],
      "execution_count": 7,
      "outputs": [
        {
          "output_type": "execute_result",
          "data": {
            "text/html": [
              "<div>\n",
              "<style scoped>\n",
              "    .dataframe tbody tr th:only-of-type {\n",
              "        vertical-align: middle;\n",
              "    }\n",
              "\n",
              "    .dataframe tbody tr th {\n",
              "        vertical-align: top;\n",
              "    }\n",
              "\n",
              "    .dataframe thead th {\n",
              "        text-align: right;\n",
              "    }\n",
              "</style>\n",
              "<table border=\"1\" class=\"dataframe\">\n",
              "  <thead>\n",
              "    <tr style=\"text-align: right;\">\n",
              "      <th></th>\n",
              "      <th>onehot</th>\n",
              "    </tr>\n",
              "  </thead>\n",
              "  <tbody>\n",
              "    <tr>\n",
              "      <th>you</th>\n",
              "      <td>[0.0, 1.0, 0.0, 0.0, 0.0, 0.0]</td>\n",
              "    </tr>\n",
              "    <tr>\n",
              "      <th>will</th>\n",
              "      <td>[1.0, 0.0, 0.0, 0.0, 0.0, 0.0]</td>\n",
              "    </tr>\n",
              "    <tr>\n",
              "      <th>never</th>\n",
              "      <td>[0.0, 0.0, 0.0, 0.0, 0.0, 1.0]</td>\n",
              "    </tr>\n",
              "    <tr>\n",
              "      <th>know</th>\n",
              "      <td>[0.0, 0.0, 0.0, 0.0, 1.0, 0.0]</td>\n",
              "    </tr>\n",
              "    <tr>\n",
              "      <th>until</th>\n",
              "      <td>[0.0, 0.0, 1.0, 0.0, 0.0, 0.0]</td>\n",
              "    </tr>\n",
              "    <tr>\n",
              "      <th>you</th>\n",
              "      <td>[0.0, 1.0, 0.0, 0.0, 0.0, 0.0]</td>\n",
              "    </tr>\n",
              "    <tr>\n",
              "      <th>try</th>\n",
              "      <td>[0.0, 0.0, 0.0, 1.0, 0.0, 0.0]</td>\n",
              "    </tr>\n",
              "  </tbody>\n",
              "</table>\n",
              "</div>"
            ],
            "text/plain": [
              "                               onehot\n",
              "you    [0.0, 1.0, 0.0, 0.0, 0.0, 0.0]\n",
              "will   [1.0, 0.0, 0.0, 0.0, 0.0, 0.0]\n",
              "never  [0.0, 0.0, 0.0, 0.0, 0.0, 1.0]\n",
              "know   [0.0, 0.0, 0.0, 0.0, 1.0, 0.0]\n",
              "until  [0.0, 0.0, 1.0, 0.0, 0.0, 0.0]\n",
              "you    [0.0, 1.0, 0.0, 0.0, 0.0, 0.0]\n",
              "try    [0.0, 0.0, 0.0, 1.0, 0.0, 0.0]"
            ]
          },
          "metadata": {
            "tags": []
          },
          "execution_count": 7
        }
      ]
    },
    {
      "cell_type": "code",
      "metadata": {
        "id": "ErxU5OELNedd",
        "colab_type": "code",
        "colab": {
          "base_uri": "https://localhost:8080/",
          "height": 143
        },
        "outputId": "cc4acfb3-fc3b-4fbd-df76-4276b1ee11bf"
      },
      "source": [
        "y_new = []\n",
        "for i in y:\n",
        "    y_new.append(sum(i,[]))\n",
        "y_new"
      ],
      "execution_count": 8,
      "outputs": [
        {
          "output_type": "execute_result",
          "data": {
            "text/plain": [
              "[[0.0, 1.0, 0.0, 0.0, 0.0, 0.0],\n",
              " [1.0, 0.0, 0.0, 0.0, 0.0, 0.0],\n",
              " [0.0, 0.0, 0.0, 0.0, 0.0, 1.0],\n",
              " [0.0, 0.0, 0.0, 0.0, 1.0, 0.0],\n",
              " [0.0, 0.0, 1.0, 0.0, 0.0, 0.0],\n",
              " [0.0, 1.0, 0.0, 0.0, 0.0, 0.0],\n",
              " [0.0, 0.0, 0.0, 1.0, 0.0, 0.0]]"
            ]
          },
          "metadata": {
            "tags": []
          },
          "execution_count": 8
        }
      ]
    },
    {
      "cell_type": "code",
      "metadata": {
        "id": "XR34opq8k2fq",
        "colab_type": "code",
        "colab": {
          "base_uri": "https://localhost:8080/",
          "height": 143
        },
        "outputId": "474fb9d6-6f03-4cda-bf7d-43063177b644"
      },
      "source": [
        "win_size = 1\n",
        "x = []\n",
        "\n",
        "for i in range(len(y)):\n",
        "    tmp = []\n",
        "    if i-win_size < 0 : # i가 윈도우사이즈보다 작으면 작은만큼 앞이 잘림\n",
        "        tmp = y[:i]+y[(i+1):(i+win_size+1)]\n",
        "    elif i+win_size >= len(y) :    # i가 윈도우사이즈보다 크면 큰만큼 뒤가 잘림\n",
        "        tmp = y[(i-win_size):i] + y[(i+1):]\n",
        "    else:\n",
        "        tmp = y[(i-win_size):i] + y[(i+1):(i+win_size+1)]\n",
        "    x.append(tmp)\n",
        "x"
      ],
      "execution_count": 9,
      "outputs": [
        {
          "output_type": "execute_result",
          "data": {
            "text/plain": [
              "[[[[1.0, 0.0, 0.0, 0.0, 0.0, 0.0]]],\n",
              " [[[0.0, 1.0, 0.0, 0.0, 0.0, 0.0]], [[0.0, 0.0, 0.0, 0.0, 0.0, 1.0]]],\n",
              " [[[1.0, 0.0, 0.0, 0.0, 0.0, 0.0]], [[0.0, 0.0, 0.0, 0.0, 1.0, 0.0]]],\n",
              " [[[0.0, 0.0, 0.0, 0.0, 0.0, 1.0]], [[0.0, 0.0, 1.0, 0.0, 0.0, 0.0]]],\n",
              " [[[0.0, 0.0, 0.0, 0.0, 1.0, 0.0]], [[0.0, 1.0, 0.0, 0.0, 0.0, 0.0]]],\n",
              " [[[0.0, 0.0, 1.0, 0.0, 0.0, 0.0]], [[0.0, 0.0, 0.0, 1.0, 0.0, 0.0]]],\n",
              " [[[0.0, 1.0, 0.0, 0.0, 0.0, 0.0]]]]"
            ]
          },
          "metadata": {
            "tags": []
          },
          "execution_count": 9
        }
      ]
    },
    {
      "cell_type": "code",
      "metadata": {
        "id": "T_jIICkRm2m9",
        "colab_type": "code",
        "colab": {
          "base_uri": "https://localhost:8080/",
          "height": 125
        },
        "outputId": "983d6eb8-5f0e-4a20-cac5-d6bc6e192f17"
      },
      "source": [
        "# x를 np.array화\n",
        "x_new = []\n",
        "for i in x:\n",
        "    x_new.append(np.array(sum(i,[])))\n",
        "x_new"
      ],
      "execution_count": 10,
      "outputs": [
        {
          "output_type": "execute_result",
          "data": {
            "text/plain": [
              "[array([[1., 0., 0., 0., 0., 0.]]), array([[0., 1., 0., 0., 0., 0.],\n",
              "        [0., 0., 0., 0., 0., 1.]]), array([[1., 0., 0., 0., 0., 0.],\n",
              "        [0., 0., 0., 0., 1., 0.]]), array([[0., 0., 0., 0., 0., 1.],\n",
              "        [0., 0., 1., 0., 0., 0.]]), array([[0., 0., 0., 0., 1., 0.],\n",
              "        [0., 1., 0., 0., 0., 0.]]), array([[0., 0., 1., 0., 0., 0.],\n",
              "        [0., 0., 0., 1., 0., 0.]]), array([[0., 1., 0., 0., 0., 0.]])]"
            ]
          },
          "metadata": {
            "tags": []
          },
          "execution_count": 10
        }
      ]
    },
    {
      "cell_type": "code",
      "metadata": {
        "id": "MRYMTdA-mFYz",
        "colab_type": "code",
        "colab": {
          "base_uri": "https://localhost:8080/",
          "height": 233
        },
        "outputId": "35e701a5-fe40-4658-d948-6cd279112ccc"
      },
      "source": [
        "# hidden layer 계산\n",
        "vector_dim = 4\n",
        "w1 = np.random.rand(len(tokens),vector_dim)\n",
        "w2 = np.random.rand(vector_dim, len(tokens))\n",
        "\n",
        "h = []\n",
        "for x_vecs in x_new:\n",
        "    tmp = []\n",
        "    for x_vector in x_vecs:\n",
        "        tmp.append(np.dot(w1.T,x_vector.T))\n",
        "    h.append(tmp)\n",
        "h"
      ],
      "execution_count": 11,
      "outputs": [
        {
          "output_type": "execute_result",
          "data": {
            "text/plain": [
              "[[array([0.16148631, 0.27245741, 0.36638065, 0.86763207])],\n",
              " [array([0.45047292, 0.95328374, 0.77339987, 0.13493004]),\n",
              "  array([0.0853924 , 0.91643069, 0.96874   , 0.50680059])],\n",
              " [array([0.16148631, 0.27245741, 0.36638065, 0.86763207]),\n",
              "  array([0.36994143, 0.6553077 , 0.8740397 , 0.16058796])],\n",
              " [array([0.0853924 , 0.91643069, 0.96874   , 0.50680059]),\n",
              "  array([0.12128469, 0.67707309, 0.36476997, 0.3876022 ])],\n",
              " [array([0.36994143, 0.6553077 , 0.8740397 , 0.16058796]),\n",
              "  array([0.45047292, 0.95328374, 0.77339987, 0.13493004])],\n",
              " [array([0.12128469, 0.67707309, 0.36476997, 0.3876022 ]),\n",
              "  array([0.02263591, 0.13680572, 0.20744735, 0.90980475])],\n",
              " [array([0.45047292, 0.95328374, 0.77339987, 0.13493004])]]"
            ]
          },
          "metadata": {
            "tags": []
          },
          "execution_count": 11
        }
      ]
    },
    {
      "cell_type": "code",
      "metadata": {
        "id": "gCWwrnCVb4eJ",
        "colab_type": "code",
        "colab": {}
      },
      "source": [
        "def softmax(x):\n",
        "    e_x = np.exp(x - np.max(x))\n",
        "    return e_x / e_x.sum()"
      ],
      "execution_count": 12,
      "outputs": []
    },
    {
      "cell_type": "code",
      "metadata": {
        "id": "Q47rdeUPb8-o",
        "colab_type": "code",
        "colab": {
          "base_uri": "https://localhost:8080/",
          "height": 449
        },
        "outputId": "17e51c06-5a27-405e-de2a-bee0bcf75b18"
      },
      "source": [
        "# 예상치 계산\n",
        "y_hat = []\n",
        "for h_vecs in h:\n",
        "    tmp = []\n",
        "    for h_vector in h_vecs:\n",
        "        tmp.append(softmax(np.dot(w2.T,h_vector)))\n",
        "    y_hat.append(tmp)\n",
        "y_hat"
      ],
      "execution_count": 13,
      "outputs": [
        {
          "output_type": "execute_result",
          "data": {
            "text/plain": [
              "[[array([0.12381544, 0.12774951, 0.21054946, 0.15657451, 0.20014874,\n",
              "         0.18116234])],\n",
              " [array([0.1067702 , 0.14458775, 0.24998067, 0.16726497, 0.22299975,\n",
              "         0.10839667]),\n",
              "  array([0.11031891, 0.13564039, 0.25879708, 0.16067115, 0.21951398,\n",
              "         0.1150585 ])],\n",
              " [array([0.12381544, 0.12774951, 0.21054946, 0.15657451, 0.20014874,\n",
              "         0.18116234]),\n",
              "  array([0.11666135, 0.14213969, 0.23645521, 0.16958365, 0.22457079,\n",
              "         0.11058931])],\n",
              " [array([0.11031891, 0.13564039, 0.25879708, 0.16067115, 0.21951398,\n",
              "         0.1150585 ]),\n",
              "  array([0.12504292, 0.14908792, 0.22186548, 0.16199422, 0.19406787,\n",
              "         0.1479416 ])],\n",
              " [array([0.11666135, 0.14213969, 0.23645521, 0.16958365, 0.22457079,\n",
              "         0.11058931]),\n",
              "  array([0.1067702 , 0.14458775, 0.24998067, 0.16726497, 0.22299975,\n",
              "         0.10839667])],\n",
              " [array([0.12504292, 0.14908792, 0.22186548, 0.16199422, 0.19406787,\n",
              "         0.1479416 ]),\n",
              "  array([0.13312092, 0.12989879, 0.19641053, 0.15405131, 0.18660929,\n",
              "         0.19990916])],\n",
              " [array([0.1067702 , 0.14458775, 0.24998067, 0.16726497, 0.22299975,\n",
              "         0.10839667])]]"
            ]
          },
          "metadata": {
            "tags": []
          },
          "execution_count": 13
        }
      ]
    },
    {
      "cell_type": "code",
      "metadata": {
        "id": "GZXIgrZNfFzq",
        "colab_type": "code",
        "colab": {
          "base_uri": "https://localhost:8080/",
          "height": 35
        },
        "outputId": "b19537e8-b67d-4e0f-ca52-100e82a174d1"
      },
      "source": [
        "# loss 계산\n",
        "L = []\n",
        "for predict in y_hat:\n",
        "    tmp = []\n",
        "    for j in range(len(predict)):\n",
        "        tmp.append(np.log(predict[j]) * y[j])\n",
        "    L.append(np.sum(tmp))\n",
        "loss = -np.sum(L)\n",
        "loss"
      ],
      "execution_count": 14,
      "outputs": [
        {
          "output_type": "execute_result",
          "data": {
            "text/plain": [
              "24.520549355753804"
            ]
          },
          "metadata": {
            "tags": []
          },
          "execution_count": 14
        }
      ]
    },
    {
      "cell_type": "code",
      "metadata": {
        "id": "oTgL3VRwuHmU",
        "colab_type": "code",
        "colab": {
          "base_uri": "https://localhost:8080/",
          "height": 269
        },
        "outputId": "9dfca164-9fc8-4d47-da23-a45974283e72"
      },
      "source": [
        "# w 업데이트\n",
        "alpha = 0.01\n",
        "diff = []\n",
        "h_layer = []\n",
        "x_layer = []\n",
        "\n",
        "for i in range(len(y_new)):\n",
        "    for j in range(len(y_hat[i])):\n",
        "        diff.append(y_hat[i][j] - y_new[i])\n",
        "        h_layer.append(h[i][j])\n",
        "        x_layer.append(x[i][j])\n",
        "\n",
        "a = np.dot(np.array(x_layer).T, np.dot(w2, np.array(diff).T).T)\n",
        "b = []\n",
        "for i in range(len(a)):\n",
        "    b.append(a[i][0])\n",
        "\n",
        "w2 = w2 - alpha*np.dot(np.array(h_layer).T, np.array(diff))\n",
        "w1 = w1 - b\n",
        "\n",
        "np.array(w1), np.array(w2)"
      ],
      "execution_count": 15,
      "outputs": [
        {
          "output_type": "execute_result",
          "data": {
            "text/plain": [
              "(array([[-0.03916426,  0.18004872, -0.12771618,  0.88522318],\n",
              "        [ 0.21627975,  0.85054879,  0.81933688, -0.04941542],\n",
              "        [ 0.19602503,  0.7273982 ,  0.46982974,  0.18853508],\n",
              "        [-0.12270432,  0.19950764,  0.11700654,  0.63386815],\n",
              "        [ 0.36945911,  0.7183683 ,  0.58285594,  0.57739052],\n",
              "        [-0.01724845,  0.63760711,  1.0636552 ,  0.36950639]]),\n",
              " array([[0.10297117, 0.24487551, 0.46937793, 0.43707317, 0.61841554,\n",
              "         0.35390336],\n",
              "        [0.07904653, 0.36381776, 0.55475915, 0.27244602, 0.32135401,\n",
              "         0.16280042],\n",
              "        [0.69241261, 0.63783251, 0.91466916, 0.79202918, 0.97247702,\n",
              "         0.35653249],\n",
              "        [0.4420611 , 0.39185939, 0.72508402, 0.53028524, 0.69391761,\n",
              "         0.94591959]]))"
            ]
          },
          "metadata": {
            "tags": []
          },
          "execution_count": 15
        }
      ]
    },
    {
      "cell_type": "markdown",
      "metadata": {
        "id": "TKm1tjvs-XIo",
        "colab_type": "text"
      },
      "source": [
        "함수화해서 epoch 주기"
      ]
    },
    {
      "cell_type": "code",
      "metadata": {
        "id": "WlVEh69unT-b",
        "colab_type": "code",
        "colab": {}
      },
      "source": [
        "def loss(y_hat,y):\n",
        "    L = []\n",
        "    for i, predict in enumerate(y_hat):\n",
        "        tmp = []\n",
        "        for j in range(len(predict)):\n",
        "            tmp.append(np.log(predict[j]) * y[i])\n",
        "        L.append(np.sum(tmp))\n",
        "    loss_result = -np.sum(L)\n",
        "    return loss_result"
      ],
      "execution_count": 16,
      "outputs": []
    },
    {
      "cell_type": "code",
      "metadata": {
        "id": "ai1OFxoPZE_D",
        "colab_type": "code",
        "colab": {}
      },
      "source": [
        "def w_update(learning_rate,y_hat,y,w1,w2):\n",
        "\n",
        "    diff = []\n",
        "    h_layer = []\n",
        "    x_layer = []\n",
        "\n",
        "    y_new = []\n",
        "    for i in y:\n",
        "        y_new.append(sum(i,[]))\n",
        "\n",
        "    for i in range(len(y_new)):\n",
        "        for j in range(len(y_hat[i])):\n",
        "            diff.append(y_hat[i][j] - y_new[i])\n",
        "            h_layer.append(h[i][j])\n",
        "            x_layer.append(x[i][j])\n",
        "\n",
        "    a = np.dot(np.array(x_layer).T, np.dot(w2, np.array(diff).T).T)\n",
        "    b = []\n",
        "    for i in range(len(a)):\n",
        "        b.append(a[i][0])\n",
        "    c = np.dot(np.array(h_layer).T, np.array(diff))\n",
        "\n",
        "    w2 -= learning_rate * c\n",
        "    w1 -= b\n",
        "    return w1, w2"
      ],
      "execution_count": 17,
      "outputs": []
    },
    {
      "cell_type": "code",
      "metadata": {
        "id": "Qif0W5V5wGdy",
        "colab_type": "code",
        "colab": {}
      },
      "source": [
        "def softmax(x):\n",
        "    e_x = np.exp(x - np.max(x))\n",
        "    return e_x / e_x.sum()"
      ],
      "execution_count": 18,
      "outputs": []
    },
    {
      "cell_type": "code",
      "metadata": {
        "id": "E9wjiTXpxenU",
        "colab_type": "code",
        "colab": {
          "base_uri": "https://localhost:8080/",
          "height": 1000
        },
        "outputId": "d5f79165-8671-42e6-ce30-c9f7162c51b8"
      },
      "source": [
        "doc = 'you will never know until you try'\n",
        "token_list = word_tokenize(doc)\n",
        "tokens = list(set(token_list))\n",
        "\n",
        "onehot=np.identity(len(tokens)).tolist()\n",
        "onehot_vector = []\n",
        "for vec in onehot:\n",
        "    onehot_vector.append([vec])\n",
        "\n",
        "dic = dict(zip(tokens, onehot_vector))\n",
        "\n",
        "y = []\n",
        "for token in token_list:\n",
        "    for word in dic.keys(): #토큰과 단어가 일치하면 토큰의 원핫벡터를 리스트에 추가\n",
        "        if token == word:\n",
        "            y.append(dic[word])\n",
        "\n",
        "y_new = []\n",
        "for i in y:\n",
        "    y_new.append(sum(i,[]))\n",
        "\n",
        "win_size = 1\n",
        "x = []\n",
        "\n",
        "for i in range(len(y)):\n",
        "    tmp = []\n",
        "    if i-win_size < 0 : # i가 윈도우사이즈보다 작으면 작은만큼 앞이 잘림\n",
        "        tmp = y[:i]+y[(i+1):(i+win_size+1)]\n",
        "    elif i+win_size >= len(y) :    # i가 윈도우사이즈보다 크면 큰만큼 뒤가 잘림\n",
        "        tmp = y[(i-win_size):i] + y[(i+1):]\n",
        "    else:\n",
        "        tmp = y[(i-win_size):i] + y[(i+1):(i+win_size+1)]\n",
        "    x.append(tmp)\n",
        "\n",
        "x_new = []\n",
        "for i in x:\n",
        "    x_new.append(np.array(sum(i,[])))\n",
        "\n",
        "vector_dim = 4\n",
        "w1 = np.random.rand(len(tokens),vector_dim)\n",
        "w2 = np.random.rand(vector_dim, len(tokens))\n",
        "\n",
        "h = []\n",
        "for x_vecs in x_new:\n",
        "    tmp = []\n",
        "    for x_vector in x_vecs:\n",
        "        tmp.append(np.dot(w1.T,x_vector.T))\n",
        "    h.append(tmp)\n",
        "\n",
        "y_hat = []\n",
        "for h_vecs in h:\n",
        "    tmp = []\n",
        "    for h_vector in h_vecs:\n",
        "        tmp.append(softmax(np.dot(w2.T,h_vector)))\n",
        "    y_hat.append(tmp)\n",
        "\n",
        "loss_history = []\n",
        "cnt_history = []\n",
        "cnt = 0\n",
        "for i in range(10000):\n",
        "    w_update(0.01,y_hat,y,w1,w2)\n",
        "\n",
        "    h = []\n",
        "    for x_vecs in x_new:\n",
        "        tmp = []\n",
        "        for x_vector in x_vecs:\n",
        "            tmp.append(np.dot(w1.T,x_vector.T))\n",
        "        h.append(tmp)\n",
        "\n",
        "    y_hat = []\n",
        "    for h_vecs in h:\n",
        "        tmp = []\n",
        "        for h_vector in h_vecs:\n",
        "            tmp.append(softmax(np.dot(w2.T,h_vector)))\n",
        "        y_hat.append(tmp)\n",
        "    \n",
        "    loss(y_hat,y)\n",
        "    loss_history.append(loss(y_hat,y))\n",
        "\n",
        "    cnt += 1\n",
        "    cnt_history.append(cnt)\n",
        "\n",
        "\n",
        "    if i%2000 == 0:\n",
        "        print('로스:{}, 예측값:{}'.format(loss(y_hat,y), y_hat))\n",
        "        # print(w1,w2)"
      ],
      "execution_count": 19,
      "outputs": [
        {
          "output_type": "stream",
          "text": [
            "로스:19.52535592353386, 예측값:[[array([0.15583762, 0.12683363, 0.16589648, 0.09982065, 0.09239611,\n",
            "       0.3592155 ])], [array([0.19661345, 0.07993897, 0.23092626, 0.12207117, 0.13972194,\n",
            "       0.2307282 ]), array([0.20545366, 0.07082217, 0.2411746 , 0.10129752, 0.2348195 ,\n",
            "       0.14643255])], [array([0.15583762, 0.12683363, 0.16589648, 0.09982065, 0.09239611,\n",
            "       0.3592155 ]), array([0.18844154, 0.06850612, 0.24197045, 0.08051661, 0.14139557,\n",
            "       0.27916971])], [array([0.20545366, 0.07082217, 0.2411746 , 0.10129752, 0.2348195 ,\n",
            "       0.14643255]), array([0.15068415, 0.16876016, 0.18012865, 0.17460532, 0.16778667,\n",
            "       0.15803504])], [array([0.18844154, 0.06850612, 0.24197045, 0.08051661, 0.14139557,\n",
            "       0.27916971]), array([0.19661345, 0.07993897, 0.23092626, 0.12207117, 0.13972194,\n",
            "       0.2307282 ])], [array([0.15068415, 0.16876016, 0.18012865, 0.17460532, 0.16778667,\n",
            "       0.15803504]), array([0.1857124 , 0.14218391, 0.17236913, 0.14660001, 0.16484082,\n",
            "       0.18829373])], [array([0.19661345, 0.07993897, 0.23092626, 0.12207117, 0.13972194,\n",
            "       0.2307282 ])]]\n",
            "로스:8.842647634097068, 예측값:[[array([1.83530109e-06, 4.99959303e-01, 4.34664902e-05, 4.68027507e-05,\n",
            "       3.08726577e-05, 4.99917720e-01])], [array([3.33292915e-01, 5.07291347e-07, 3.33289233e-01, 3.33313951e-01,\n",
            "       5.20986342e-05, 5.12944768e-05]), array([4.99891943e-01, 1.17444304e-05, 4.66312021e-05, 8.77669019e-05,\n",
            "       4.99957819e-01, 4.09570306e-06])], [array([1.83530109e-06, 4.99959303e-01, 4.34664902e-05, 4.68027507e-05,\n",
            "       3.08726577e-05, 4.99917720e-01]), array([4.26972507e-05, 7.74806434e-06, 4.99896909e-01, 8.02618080e-05,\n",
            "       1.27290940e-05, 4.99959655e-01])], [array([4.99891943e-01, 1.17444304e-05, 4.66312021e-05, 8.77669019e-05,\n",
            "       4.99957819e-01, 4.09570306e-06]), array([4.56048663e-05, 4.99957295e-01, 3.17545567e-06, 3.89893005e-05,\n",
            "       4.99921393e-01, 3.35416337e-05])], [array([4.26972507e-05, 7.74806434e-06, 4.99896909e-01, 8.02618080e-05,\n",
            "       1.27290940e-05, 4.99959655e-01]), array([3.33292915e-01, 5.07291347e-07, 3.33289233e-01, 3.33313951e-01,\n",
            "       5.20986342e-05, 5.12944768e-05])], [array([4.56048663e-05, 4.99957295e-01, 3.17545567e-06, 3.89893005e-05,\n",
            "       4.99921393e-01, 3.35416337e-05]), array([4.61683305e-07, 9.99754436e-01, 1.59569761e-07, 4.16611721e-05,\n",
            "       1.04068761e-04, 9.92131589e-05])], [array([3.33292915e-01, 5.07291347e-07, 3.33289233e-01, 3.33313951e-01,\n",
            "       5.20986342e-05, 5.12944768e-05])]]\n",
            "로스:8.841793963020327, 예측값:[[array([6.37003066e-07, 4.98036315e-01, 2.02266862e-05, 2.10091113e-05,\n",
            "       1.52264826e-05, 5.01906586e-01])], [array([3.33304296e-01, 1.68116314e-07, 3.33315190e-01, 3.33333666e-01,\n",
            "       2.35131645e-05, 2.31668411e-05]), array([4.99453968e-01, 5.26474734e-06, 2.00943541e-05, 4.14445336e-05,\n",
            "       5.00477495e-01, 1.73372335e-06])], [array([6.37003066e-07, 4.98036315e-01, 2.02266862e-05, 2.10091113e-05,\n",
            "       1.52264826e-05, 5.01906586e-01]), array([1.81929428e-05, 3.37086294e-06, 4.99475597e-01, 3.89165948e-05,\n",
            "       5.60965566e-06, 5.00458313e-01])], [array([4.99453968e-01, 5.26474734e-06, 2.00943541e-05, 4.14445336e-05,\n",
            "       5.00477495e-01, 1.73372335e-06]), array([2.13774796e-05, 4.98224423e-01, 1.13526844e-06, 1.73585587e-05,\n",
            "       5.01718981e-01, 1.67256179e-05])], [array([1.81929428e-05, 3.37086294e-06, 4.99475597e-01, 3.89165948e-05,\n",
            "       5.60965566e-06, 5.00458313e-01]), array([3.33304296e-01, 1.68116314e-07, 3.33315190e-01, 3.33333666e-01,\n",
            "       2.35131645e-05, 2.31668411e-05])], [array([2.13774796e-05, 4.98224423e-01, 1.13526844e-06, 1.73585587e-05,\n",
            "       5.01718981e-01, 1.67256179e-05]), array([1.35840056e-07, 9.99886774e-01, 4.37040865e-08, 1.83878280e-05,\n",
            "       4.85027662e-05, 4.61557514e-05])], [array([3.33304296e-01, 1.68116314e-07, 3.33315190e-01, 3.33333666e-01,\n",
            "       2.35131645e-05, 2.31668411e-05])]]\n",
            "로스:8.842519221783043, 예측값:[[array([6.72620807e-07, 4.90226509e-01, 1.98594553e-05, 2.25959568e-05,\n",
            "       1.72224579e-05, 5.09713140e-01])], [array([3.33142759e-01, 9.31845832e-08, 3.33443298e-01, 3.33385250e-01,\n",
            "       1.45046315e-05, 1.40941240e-05]), array([4.95797685e-01, 4.77517244e-06, 1.47072368e-05, 3.00051399e-05,\n",
            "       5.04151565e-01, 1.26224739e-06])], [array([6.72620807e-07, 4.90226509e-01, 1.98594553e-05, 2.25959568e-05,\n",
            "       1.72224579e-05, 5.09713140e-01]), array([1.29757416e-05, 3.26357241e-06, 4.96591518e-01, 2.84252022e-05,\n",
            "       3.94596833e-06, 5.03359871e-01])], [array([4.95797685e-01, 4.77517244e-06, 1.47072368e-05, 3.00051399e-05,\n",
            "       5.04151565e-01, 1.26224739e-06]), array([2.12615575e-05, 4.90207260e-01, 1.15051965e-06, 1.85915994e-05,\n",
            "       5.09732588e-01, 1.91488105e-05])], [array([1.29757416e-05, 3.26357241e-06, 4.96591518e-01, 2.84252022e-05,\n",
            "       3.94596833e-06, 5.03359871e-01]), array([3.33142759e-01, 9.31845832e-08, 3.33443298e-01, 3.33385250e-01,\n",
            "       1.45046315e-05, 1.40941240e-05])], [array([2.12615575e-05, 4.90207260e-01, 1.15051965e-06, 1.85915994e-05,\n",
            "       5.09732588e-01, 1.91488105e-05]), array([8.40639157e-08, 9.99897955e-01, 2.60921910e-08, 1.45102575e-05,\n",
            "       4.46927454e-05, 4.27316780e-05])], [array([3.33142759e-01, 9.31845832e-08, 3.33443298e-01, 3.33385250e-01,\n",
            "       1.45046315e-05, 1.40941240e-05])]]\n",
            "로스:8.843899885876612, 예측값:[[array([5.66594704e-07, 4.84558406e-01, 1.69081863e-05, 1.99335602e-05,\n",
            "       1.56076545e-05, 5.15388578e-01])], [array([3.32752097e-01, 5.85665077e-08, 3.33824458e-01, 3.33403030e-01,\n",
            "       1.03472130e-05, 1.00092912e-05]), array([4.91744373e-01, 4.18683658e-06, 1.15418893e-05, 2.35075011e-05,\n",
            "       5.08215411e-01, 9.80017616e-07])], [array([5.66594704e-07, 4.84558406e-01, 1.69081863e-05, 1.99335602e-05,\n",
            "       1.56076545e-05, 5.15388578e-01]), array([9.89725571e-06, 2.87104577e-06, 4.93569658e-01, 2.20590445e-05,\n",
            "       2.94301905e-06, 5.06392571e-01])], [array([4.91744373e-01, 4.18683658e-06, 1.15418893e-05, 2.35075011e-05,\n",
            "       5.08215411e-01, 9.80017616e-07]), array([1.85714125e-05, 4.84315416e-01, 9.76153825e-07, 1.66247345e-05,\n",
            "       5.15630823e-01, 1.75881770e-05])], [array([9.89725571e-06, 2.87104577e-06, 4.93569658e-01, 2.20590445e-05,\n",
            "       2.94301905e-06, 5.06392571e-01]), array([3.32752097e-01, 5.85665077e-08, 3.33824458e-01, 3.33403030e-01,\n",
            "       1.03472130e-05, 1.00092912e-05])], [array([1.85714125e-05, 4.84315416e-01, 9.76153825e-07, 1.66247345e-05,\n",
            "       5.15630823e-01, 1.75881770e-05]), array([5.27466454e-08, 9.99915937e-01, 1.58856710e-08, 1.10313057e-05,\n",
            "       3.73893028e-05, 3.55736582e-05])], [array([3.32752097e-01, 5.85665077e-08, 3.33824458e-01, 3.33403030e-01,\n",
            "       1.03472130e-05, 1.00092912e-05])]]\n"
          ],
          "name": "stdout"
        }
      ]
    },
    {
      "cell_type": "code",
      "metadata": {
        "id": "RlyFHi3xSoob",
        "colab_type": "code",
        "colab": {
          "base_uri": "https://localhost:8080/",
          "height": 268
        },
        "outputId": "3813299a-77f3-4a50-d036-fa7a62779c7d"
      },
      "source": [
        "import matplotlib.pyplot as plt\n",
        "plt.plot(cnt_history,loss_history)\n",
        "plt.show()"
      ],
      "execution_count": 20,
      "outputs": [
        {
          "output_type": "display_data",
          "data": {
            "image/png": "[encoded data removed]",
            "text/plain": [
              "<Figure size 432x288 with 1 Axes>"
            ]
          },
          "metadata": {
            "tags": [],
            "needs_background": "light"
          }
        }
      ]
    }
  ]
}