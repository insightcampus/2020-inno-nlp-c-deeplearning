{
  "nbformat": 4,
  "nbformat_minor": 0,
  "metadata": {
    "colab": {
      "name": "word2vec.ipynb",
      "provenance": [],
      "collapsed_sections": [],
      "authorship_tag": "ABX9TyNEvN8eGqckQQDahdCht5Hj",
      "include_colab_link": true
    },
    "kernelspec": {
      "name": "python3",
      "display_name": "Python 3"
    }
  },
  "cells": [
    {
      "cell_type": "markdown",
      "metadata": {
        "id": "view-in-github",
        "colab_type": "text"
      },
      "source": [
        "<a href=\"https://colab.research.google.com/github/2020-nlp-c/nlp-deeplearning/blob/master/quotation_kim/word2vec.ipynb\" target=\"_parent\"><img src=\"https://colab.research.google.com/assets/colab-badge.svg\" alt=\"Open In Colab\"/></a>"
      ]
    },
    {
      "cell_type": "code",
      "metadata": {
        "id": "loEg_a62aXZv",
        "colab_type": "code",
        "colab": {}
      },
      "source": [
        "import numpy as np\n",
        "import pandas as pd"
      ],
      "execution_count": 1,
      "outputs": []
    },
    {
      "cell_type": "code",
      "metadata": {
        "id": "tAWg-y9Pkxp9",
        "colab_type": "code",
        "colab": {
          "base_uri": "https://localhost:8080/",
          "height": 72
        },
        "outputId": "42d348b9-f9b7-40c7-c7e3-f558eedbf376"
      },
      "source": [
        "from nltk.tokenize import word_tokenize\n",
        "import nltk\n",
        "nltk.download('punkt')"
      ],
      "execution_count": 2,
      "outputs": [
        {
          "output_type": "stream",
          "text": [
            "[nltk_data] Downloading package punkt to /root/nltk_data...\n",
            "[nltk_data]   Unzipping tokenizers/punkt.zip.\n"
          ],
          "name": "stdout"
        },
        {
          "output_type": "execute_result",
          "data": {
            "text/plain": [
              "True"
            ]
          },
          "metadata": {
            "tags": []
          },
          "execution_count": 2
        }
      ]
    },
    {
      "cell_type": "code",
      "metadata": {
        "id": "hr8hyqA_kysD",
        "colab_type": "code",
        "colab": {
          "base_uri": "https://localhost:8080/",
          "height": 35
        },
        "outputId": "9391b2d8-ef3a-4586-c739-2260adb6fe1b"
      },
      "source": [
        "doc = 'you will never know until you try'\n",
        "token_list = word_tokenize(doc)\n",
        "tokens = list(set(token_list))\n",
        "tokens"
      ],
      "execution_count": 3,
      "outputs": [
        {
          "output_type": "execute_result",
          "data": {
            "text/plain": [
              "['never', 'until', 'will', 'you', 'know', 'try']"
            ]
          },
          "metadata": {
            "tags": []
          },
          "execution_count": 3
        }
      ]
    },
    {
      "cell_type": "code",
      "metadata": {
        "id": "TF_g7UcSk0zZ",
        "colab_type": "code",
        "colab": {}
      },
      "source": [
        "from numpy import argmax\n",
        "from sklearn.preprocessing import LabelEncoder\n",
        "from sklearn.preprocessing import OneHotEncoder\n",
        "\n",
        "# 문자열 라벨링\n",
        "label_enc = LabelEncoder()\n",
        "label_docs = label_enc.fit_transform(tokens)\n",
        "# 바이너리 인코딩\n",
        "onehot_enc = OneHotEncoder(sparse=False)\n",
        "docs_label = label_docs.reshape(len(label_docs), 1) # n:1 matrix로 변환\n",
        "onehot_docs = onehot_enc.fit_transform(docs_label)"
      ],
      "execution_count": 4,
      "outputs": []
    },
    {
      "cell_type": "code",
      "metadata": {
        "id": "_g67pFYMPWaX",
        "colab_type": "code",
        "colab": {
          "base_uri": "https://localhost:8080/",
          "height": 126
        },
        "outputId": "e6620c3f-dd5d-4f7f-a3eb-12cb26ead3a2"
      },
      "source": [
        "onehot=np.identity(len(tokens)).tolist()\n",
        "\n",
        "onehot_vector = []\n",
        "for vec in onehot:\n",
        "    onehot_vector.append([vec])\n",
        "onehot_vector"
      ],
      "execution_count": 5,
      "outputs": [
        {
          "output_type": "execute_result",
          "data": {
            "text/plain": [
              "[[[1.0, 0.0, 0.0, 0.0, 0.0, 0.0]],\n",
              " [[0.0, 1.0, 0.0, 0.0, 0.0, 0.0]],\n",
              " [[0.0, 0.0, 1.0, 0.0, 0.0, 0.0]],\n",
              " [[0.0, 0.0, 0.0, 1.0, 0.0, 0.0]],\n",
              " [[0.0, 0.0, 0.0, 0.0, 1.0, 0.0]],\n",
              " [[0.0, 0.0, 0.0, 0.0, 0.0, 1.0]]]"
            ]
          },
          "metadata": {
            "tags": []
          },
          "execution_count": 5
        }
      ]
    },
    {
      "cell_type": "code",
      "metadata": {
        "id": "X4hJ0i25QMtZ",
        "colab_type": "code",
        "colab": {
          "base_uri": "https://localhost:8080/",
          "height": 126
        },
        "outputId": "92d4cf7e-b03c-40dd-c272-aacaf504095e"
      },
      "source": [
        "dic = dict(zip(tokens, onehot_vector))\n",
        "dic"
      ],
      "execution_count": 27,
      "outputs": [
        {
          "output_type": "execute_result",
          "data": {
            "text/plain": [
              "{'know': [[0.0, 0.0, 0.0, 0.0, 1.0, 0.0]],\n",
              " 'never': [[1.0, 0.0, 0.0, 0.0, 0.0, 0.0]],\n",
              " 'try': [[0.0, 0.0, 0.0, 0.0, 0.0, 1.0]],\n",
              " 'until': [[0.0, 1.0, 0.0, 0.0, 0.0, 0.0]],\n",
              " 'will': [[0.0, 0.0, 1.0, 0.0, 0.0, 0.0]],\n",
              " 'you': [[0.0, 0.0, 0.0, 1.0, 0.0, 0.0]]}"
            ]
          },
          "metadata": {
            "tags": []
          },
          "execution_count": 27
        }
      ]
    },
    {
      "cell_type": "code",
      "metadata": {
        "id": "cjdFKRxdg85G",
        "colab_type": "code",
        "colab": {
          "base_uri": "https://localhost:8080/",
          "height": 145
        },
        "outputId": "6d448ccc-0ae4-468b-86d8-0a0fd7f5cc61"
      },
      "source": [
        "onehot_lis = []\n",
        "for token in token_list:\n",
        "    for word in dic.keys():\n",
        "        if token == word:\n",
        "            onehot_lis.append(np.array(dic[word]))\n",
        "onehot_lis"
      ],
      "execution_count": 53,
      "outputs": [
        {
          "output_type": "execute_result",
          "data": {
            "text/plain": [
              "[array([[0., 0., 0., 1., 0., 0.]]),\n",
              " array([[0., 0., 1., 0., 0., 0.]]),\n",
              " array([[1., 0., 0., 0., 0., 0.]]),\n",
              " array([[0., 0., 0., 0., 1., 0.]]),\n",
              " array([[0., 1., 0., 0., 0., 0.]]),\n",
              " array([[0., 0., 0., 1., 0., 0.]]),\n",
              " array([[0., 0., 0., 0., 0., 1.]])]"
            ]
          },
          "metadata": {
            "tags": []
          },
          "execution_count": 53
        }
      ]
    },
    {
      "cell_type": "code",
      "metadata": {
        "id": "hVOgjguMhuZd",
        "colab_type": "code",
        "colab": {
          "base_uri": "https://localhost:8080/",
          "height": 258
        },
        "outputId": "cee31aeb-79a5-4454-9647-116b48a7c54e"
      },
      "source": [
        "df = pd.DataFrame(onehot_lis, columns=['onehot'], index=token_list)\n",
        "df"
      ],
      "execution_count": 42,
      "outputs": [
        {
          "output_type": "execute_result",
          "data": {
            "text/html": [
              "<div>\n",
              "<style scoped>\n",
              "    .dataframe tbody tr th:only-of-type {\n",
              "        vertical-align: middle;\n",
              "    }\n",
              "\n",
              "    .dataframe tbody tr th {\n",
              "        vertical-align: top;\n",
              "    }\n",
              "\n",
              "    .dataframe thead th {\n",
              "        text-align: right;\n",
              "    }\n",
              "</style>\n",
              "<table border=\"1\" class=\"dataframe\">\n",
              "  <thead>\n",
              "    <tr style=\"text-align: right;\">\n",
              "      <th></th>\n",
              "      <th>onehot</th>\n",
              "    </tr>\n",
              "  </thead>\n",
              "  <tbody>\n",
              "    <tr>\n",
              "      <th>you</th>\n",
              "      <td>[0.0, 0.0, 0.0, 1.0, 0.0, 0.0]</td>\n",
              "    </tr>\n",
              "    <tr>\n",
              "      <th>will</th>\n",
              "      <td>[0.0, 0.0, 1.0, 0.0, 0.0, 0.0]</td>\n",
              "    </tr>\n",
              "    <tr>\n",
              "      <th>never</th>\n",
              "      <td>[1.0, 0.0, 0.0, 0.0, 0.0, 0.0]</td>\n",
              "    </tr>\n",
              "    <tr>\n",
              "      <th>know</th>\n",
              "      <td>[0.0, 0.0, 0.0, 0.0, 1.0, 0.0]</td>\n",
              "    </tr>\n",
              "    <tr>\n",
              "      <th>until</th>\n",
              "      <td>[0.0, 1.0, 0.0, 0.0, 0.0, 0.0]</td>\n",
              "    </tr>\n",
              "    <tr>\n",
              "      <th>you</th>\n",
              "      <td>[0.0, 0.0, 0.0, 1.0, 0.0, 0.0]</td>\n",
              "    </tr>\n",
              "    <tr>\n",
              "      <th>try</th>\n",
              "      <td>[0.0, 0.0, 0.0, 0.0, 0.0, 1.0]</td>\n",
              "    </tr>\n",
              "  </tbody>\n",
              "</table>\n",
              "</div>"
            ],
            "text/plain": [
              "                               onehot\n",
              "you    [0.0, 0.0, 0.0, 1.0, 0.0, 0.0]\n",
              "will   [0.0, 0.0, 1.0, 0.0, 0.0, 0.0]\n",
              "never  [1.0, 0.0, 0.0, 0.0, 0.0, 0.0]\n",
              "know   [0.0, 0.0, 0.0, 0.0, 1.0, 0.0]\n",
              "until  [0.0, 1.0, 0.0, 0.0, 0.0, 0.0]\n",
              "you    [0.0, 0.0, 0.0, 1.0, 0.0, 0.0]\n",
              "try    [0.0, 0.0, 0.0, 0.0, 0.0, 1.0]"
            ]
          },
          "metadata": {
            "tags": []
          },
          "execution_count": 42
        }
      ]
    },
    {
      "cell_type": "code",
      "metadata": {
        "id": "XR34opq8k2fq",
        "colab_type": "code",
        "colab": {
          "base_uri": "https://localhost:8080/",
          "height": 145
        },
        "outputId": "54fba88e-5ad5-491f-88d9-5e9d7c257efb"
      },
      "source": [
        "win_size = 1\n",
        "x = []\n",
        "y = []\n",
        "\n",
        "for i in range(len(onehot_lis)):\n",
        "    tmp = []\n",
        "    if i-win_size < 0 :\n",
        "        tmp = onehot_lis[:i]+onehot_lis[(i+1):(i+win_size+1)]\n",
        "    elif i+win_size >= len(onehot_lis) :\n",
        "        tmp = onehot_lis[(i-win_size):i] + onehot_lis[(i+1):]\n",
        "    else:\n",
        "        tmp = onehot_lis[(i-win_size):i] + onehot_lis[(i+1):(i+win_size+1)]\n",
        "    x.append(tmp)\n",
        "x"
      ],
      "execution_count": 54,
      "outputs": [
        {
          "output_type": "execute_result",
          "data": {
            "text/plain": [
              "[[array([[0., 0., 1., 0., 0., 0.]])],\n",
              " [array([[0., 0., 0., 1., 0., 0.]]), array([[1., 0., 0., 0., 0., 0.]])],\n",
              " [array([[0., 0., 1., 0., 0., 0.]]), array([[0., 0., 0., 0., 1., 0.]])],\n",
              " [array([[1., 0., 0., 0., 0., 0.]]), array([[0., 1., 0., 0., 0., 0.]])],\n",
              " [array([[0., 0., 0., 0., 1., 0.]]), array([[0., 0., 0., 1., 0., 0.]])],\n",
              " [array([[0., 1., 0., 0., 0., 0.]]), array([[0., 0., 0., 0., 0., 1.]])],\n",
              " [array([[0., 0., 0., 1., 0., 0.]])]]"
            ]
          },
          "metadata": {
            "tags": []
          },
          "execution_count": 54
        }
      ]
    },
    {
      "cell_type": "code",
      "metadata": {
        "id": "iFmv7aRBhGqj",
        "colab_type": "code",
        "colab": {
          "base_uri": "https://localhost:8080/",
          "height": 227
        },
        "outputId": "c1a4a978-6fc2-4d7a-e196-ace10f03870e"
      },
      "source": [
        "x_new = []\n",
        "for i in x:\n",
        "    x_new.append(np.array(sum(i,[])))\n",
        "x_new"
      ],
      "execution_count": 55,
      "outputs": [
        {
          "output_type": "error",
          "ename": "ValueError",
          "evalue": "ignored",
          "traceback": [
            "\u001b[0;31m---------------------------------------------------------------------------\u001b[0m",
            "\u001b[0;31mValueError\u001b[0m                                Traceback (most recent call last)",
            "\u001b[0;32m<ipython-input-55-a713d44c61ca>\u001b[0m in \u001b[0;36m<module>\u001b[0;34m()\u001b[0m\n\u001b[1;32m      1\u001b[0m \u001b[0mx_new\u001b[0m \u001b[0;34m=\u001b[0m \u001b[0;34m[\u001b[0m\u001b[0;34m]\u001b[0m\u001b[0;34m\u001b[0m\u001b[0;34m\u001b[0m\u001b[0m\n\u001b[1;32m      2\u001b[0m \u001b[0;32mfor\u001b[0m \u001b[0mi\u001b[0m \u001b[0;32min\u001b[0m \u001b[0mx\u001b[0m\u001b[0;34m:\u001b[0m\u001b[0;34m\u001b[0m\u001b[0;34m\u001b[0m\u001b[0m\n\u001b[0;32m----> 3\u001b[0;31m     \u001b[0mx_new\u001b[0m\u001b[0;34m.\u001b[0m\u001b[0mappend\u001b[0m\u001b[0;34m(\u001b[0m\u001b[0mnp\u001b[0m\u001b[0;34m.\u001b[0m\u001b[0marray\u001b[0m\u001b[0;34m(\u001b[0m\u001b[0msum\u001b[0m\u001b[0;34m(\u001b[0m\u001b[0mi\u001b[0m\u001b[0;34m,\u001b[0m\u001b[0;34m[\u001b[0m\u001b[0;34m]\u001b[0m\u001b[0;34m)\u001b[0m\u001b[0;34m)\u001b[0m\u001b[0;34m)\u001b[0m\u001b[0;34m\u001b[0m\u001b[0;34m\u001b[0m\u001b[0m\n\u001b[0m\u001b[1;32m      4\u001b[0m \u001b[0mx_new\u001b[0m\u001b[0;34m\u001b[0m\u001b[0;34m\u001b[0m\u001b[0m\n",
            "\u001b[0;31mValueError\u001b[0m: operands could not be broadcast together with shapes (0,) (1,6) "
          ]
        }
      ]
    },
    {
      "cell_type": "code",
      "metadata": {
        "id": "MRYMTdA-mFYz",
        "colab_type": "code",
        "colab": {
          "base_uri": "https://localhost:8080/",
          "height": 690
        },
        "outputId": "284cf033-7f17-4881-a297-73d73ce81b49"
      },
      "source": [
        "vector_dim = 4\n",
        "w1 = np.random.rand(len(tokens),vector_dim)\n",
        "w2 = np.random.rand(vector_dim, len(tokens))\n",
        "\n",
        "h = []\n",
        "for x_vecs in x:\n",
        "    tmp = []\n",
        "    for x_vector in x_vecs:\n",
        "        tmp.append(np.dot(w1.T,x_vector.T))\n",
        "    h.append(tmp)\n",
        "h"
      ],
      "execution_count": 58,
      "outputs": [
        {
          "output_type": "execute_result",
          "data": {
            "text/plain": [
              "[[array([[0.74160249],\n",
              "         [0.4580865 ],\n",
              "         [0.60421108],\n",
              "         [0.25735334]])], [array([[0.44279025],\n",
              "         [0.84531571],\n",
              "         [0.50616838],\n",
              "         [0.10297127]]), array([[0.04236217],\n",
              "         [0.50878634],\n",
              "         [0.60179188],\n",
              "         [0.50075961]])], [array([[0.74160249],\n",
              "         [0.4580865 ],\n",
              "         [0.60421108],\n",
              "         [0.25735334]]), array([[0.29460354],\n",
              "         [0.82082632],\n",
              "         [0.81617133],\n",
              "         [0.46225117]])], [array([[0.04236217],\n",
              "         [0.50878634],\n",
              "         [0.60179188],\n",
              "         [0.50075961]]), array([[0.93511161],\n",
              "         [0.75170284],\n",
              "         [0.10719605],\n",
              "         [0.47677864]])], [array([[0.29460354],\n",
              "         [0.82082632],\n",
              "         [0.81617133],\n",
              "         [0.46225117]]), array([[0.44279025],\n",
              "         [0.84531571],\n",
              "         [0.50616838],\n",
              "         [0.10297127]])], [array([[0.93511161],\n",
              "         [0.75170284],\n",
              "         [0.10719605],\n",
              "         [0.47677864]]), array([[0.49552667],\n",
              "         [0.18686417],\n",
              "         [0.12990718],\n",
              "         [0.68826283]])], [array([[0.44279025],\n",
              "         [0.84531571],\n",
              "         [0.50616838],\n",
              "         [0.10297127]])]]"
            ]
          },
          "metadata": {
            "tags": []
          },
          "execution_count": 58
        }
      ]
    },
    {
      "cell_type": "code",
      "metadata": {
        "id": "gCWwrnCVb4eJ",
        "colab_type": "code",
        "colab": {}
      },
      "source": [
        "def softmax(x):\n",
        "    e_x = np.exp(x - np.max(x))\n",
        "    return e_x / e_x.sum()"
      ],
      "execution_count": 24,
      "outputs": []
    },
    {
      "cell_type": "code",
      "metadata": {
        "id": "Q47rdeUPb8-o",
        "colab_type": "code",
        "colab": {
          "base_uri": "https://localhost:8080/",
          "height": 1000
        },
        "outputId": "1aa88a5c-8c9f-4a8a-c8a3-cf9170c87998"
      },
      "source": [
        "y_hat = []\n",
        "for h_vecs in h:\n",
        "    tmp = []\n",
        "    for h_vector in h_vecs:\n",
        "        tmp.append(softmax(np.dot(w2.T,h_vector)))\n",
        "    y_hat.append(tmp)\n",
        "y_hat"
      ],
      "execution_count": 59,
      "outputs": [
        {
          "output_type": "execute_result",
          "data": {
            "text/plain": [
              "[[array([[0.13055067],\n",
              "         [0.20409991],\n",
              "         [0.11728703],\n",
              "         [0.22756147],\n",
              "         [0.20906162],\n",
              "         [0.11143931]])], [array([[0.12323521],\n",
              "         [0.18327635],\n",
              "         [0.11809747],\n",
              "         [0.22177426],\n",
              "         [0.20924402],\n",
              "         [0.14437269]]), array([[0.16053079],\n",
              "         [0.14246898],\n",
              "         [0.11513579],\n",
              "         [0.2556526 ],\n",
              "         [0.16492724],\n",
              "         [0.16128462]])], [array([[0.13055067],\n",
              "         [0.20409991],\n",
              "         [0.11728703],\n",
              "         [0.22756147],\n",
              "         [0.20906162],\n",
              "         [0.11143931]]), array([[0.13416774],\n",
              "         [0.15601492],\n",
              "         [0.10076231],\n",
              "         [0.27810261],\n",
              "         [0.18389212],\n",
              "         [0.14706029]])], [array([[0.16053079],\n",
              "         [0.14246898],\n",
              "         [0.11513579],\n",
              "         [0.2556526 ],\n",
              "         [0.16492724],\n",
              "         [0.16128462]]), array([[0.1628695 ],\n",
              "         [0.18789785],\n",
              "         [0.1224259 ],\n",
              "         [0.19387416],\n",
              "         [0.24138498],\n",
              "         [0.0915476 ]])], [array([[0.13416774],\n",
              "         [0.15601492],\n",
              "         [0.10076231],\n",
              "         [0.27810261],\n",
              "         [0.18389212],\n",
              "         [0.14706029]]), array([[0.12323521],\n",
              "         [0.18327635],\n",
              "         [0.11809747],\n",
              "         [0.22177426],\n",
              "         [0.20924402],\n",
              "         [0.14437269]])], [array([[0.1628695 ],\n",
              "         [0.18789785],\n",
              "         [0.1224259 ],\n",
              "         [0.19387416],\n",
              "         [0.24138498],\n",
              "         [0.0915476 ]]), array([[0.20788546],\n",
              "         [0.15804772],\n",
              "         [0.13345021],\n",
              "         [0.20584673],\n",
              "         [0.18732315],\n",
              "         [0.10744673]])], [array([[0.12323521],\n",
              "         [0.18327635],\n",
              "         [0.11809747],\n",
              "         [0.22177426],\n",
              "         [0.20924402],\n",
              "         [0.14437269]])]]"
            ]
          },
          "metadata": {
            "tags": []
          },
          "execution_count": 59
        }
      ]
    },
    {
      "cell_type": "code",
      "metadata": {
        "id": "GZXIgrZNfFzq",
        "colab_type": "code",
        "colab": {
          "base_uri": "https://localhost:8080/",
          "height": 245
        },
        "outputId": "758299f7-9e12-4fc0-da54-d1a8bb97580d"
      },
      "source": [
        "loss = []\n",
        "for predict in y_hat:\n",
        "    tmp = []\n",
        "    for j in range(len(predict)):\n",
        "        tmp.append(np.log(predict[j]) * onehot_lis[i])\n",
        "    loss.append(np.sum(tmp))\n",
        "loss = -np.sum(loss)\n",
        "loss"
      ],
      "execution_count": 60,
      "outputs": [
        {
          "output_type": "error",
          "ename": "TypeError",
          "evalue": "ignored",
          "traceback": [
            "\u001b[0;31m---------------------------------------------------------------------------\u001b[0m",
            "\u001b[0;31mTypeError\u001b[0m                                 Traceback (most recent call last)",
            "\u001b[0;32m<ipython-input-60-32f6d90bee1f>\u001b[0m in \u001b[0;36m<module>\u001b[0;34m()\u001b[0m\n\u001b[1;32m      3\u001b[0m     \u001b[0mtmp\u001b[0m \u001b[0;34m=\u001b[0m \u001b[0;34m[\u001b[0m\u001b[0;34m]\u001b[0m\u001b[0;34m\u001b[0m\u001b[0;34m\u001b[0m\u001b[0m\n\u001b[1;32m      4\u001b[0m     \u001b[0;32mfor\u001b[0m \u001b[0mj\u001b[0m \u001b[0;32min\u001b[0m \u001b[0mrange\u001b[0m\u001b[0;34m(\u001b[0m\u001b[0mlen\u001b[0m\u001b[0;34m(\u001b[0m\u001b[0mpredict\u001b[0m\u001b[0;34m)\u001b[0m\u001b[0;34m)\u001b[0m\u001b[0;34m:\u001b[0m\u001b[0;34m\u001b[0m\u001b[0;34m\u001b[0m\u001b[0m\n\u001b[0;32m----> 5\u001b[0;31m         \u001b[0mtmp\u001b[0m\u001b[0;34m.\u001b[0m\u001b[0mappend\u001b[0m\u001b[0;34m(\u001b[0m\u001b[0mnp\u001b[0m\u001b[0;34m.\u001b[0m\u001b[0mlog\u001b[0m\u001b[0;34m(\u001b[0m\u001b[0mpredict\u001b[0m\u001b[0;34m[\u001b[0m\u001b[0mj\u001b[0m\u001b[0;34m]\u001b[0m\u001b[0;34m)\u001b[0m \u001b[0;34m*\u001b[0m \u001b[0monehot_lis\u001b[0m\u001b[0;34m[\u001b[0m\u001b[0mi\u001b[0m\u001b[0;34m]\u001b[0m\u001b[0;34m)\u001b[0m\u001b[0;34m\u001b[0m\u001b[0;34m\u001b[0m\u001b[0m\n\u001b[0m\u001b[1;32m      6\u001b[0m     \u001b[0mloss\u001b[0m\u001b[0;34m.\u001b[0m\u001b[0mappend\u001b[0m\u001b[0;34m(\u001b[0m\u001b[0mnp\u001b[0m\u001b[0;34m.\u001b[0m\u001b[0msum\u001b[0m\u001b[0;34m(\u001b[0m\u001b[0mtmp\u001b[0m\u001b[0;34m)\u001b[0m\u001b[0;34m)\u001b[0m\u001b[0;34m\u001b[0m\u001b[0;34m\u001b[0m\u001b[0m\n\u001b[1;32m      7\u001b[0m \u001b[0mloss\u001b[0m \u001b[0;34m=\u001b[0m \u001b[0;34m-\u001b[0m\u001b[0mnp\u001b[0m\u001b[0;34m.\u001b[0m\u001b[0msum\u001b[0m\u001b[0;34m(\u001b[0m\u001b[0mloss\u001b[0m\u001b[0;34m)\u001b[0m\u001b[0;34m\u001b[0m\u001b[0;34m\u001b[0m\u001b[0m\n",
            "\u001b[0;31mTypeError\u001b[0m: list indices must be integers or slices, not list"
          ]
        }
      ]
    }
  ]
}