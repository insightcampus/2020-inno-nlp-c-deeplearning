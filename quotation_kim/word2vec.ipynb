{
  "nbformat": 4,
  "nbformat_minor": 0,
  "metadata": {
    "colab": {
      "name": "word2vec.ipynb",
      "provenance": [],
      "collapsed_sections": [],
      "authorship_tag": "ABX9TyMeNtPlBrMIUT95j66lYdLd",
      "include_colab_link": true
    },
    "kernelspec": {
      "name": "python3",
      "display_name": "Python 3"
    }
  },
  "cells": [
    {
      "cell_type": "markdown",
      "metadata": {
        "id": "view-in-github",
        "colab_type": "text"
      },
      "source": [
        "<a href=\"https://colab.research.google.com/github/2020-nlp-c/nlp-deeplearning/blob/master/quotation_kim/word2vec.ipynb\" target=\"_parent\"><img src=\"https://colab.research.google.com/assets/colab-badge.svg\" alt=\"Open In Colab\"/></a>"
      ]
    },
    {
      "cell_type": "markdown",
      "metadata": {
        "id": "A2OH-ERj9KYc",
        "colab_type": "text"
      },
      "source": [
        "word2vec 원리 이해하기"
      ]
    },
    {
      "cell_type": "code",
      "metadata": {
        "id": "loEg_a62aXZv",
        "colab_type": "code",
        "colab": {}
      },
      "source": [
        "import numpy as np\n",
        "import pandas as pd"
      ],
      "execution_count": 115,
      "outputs": []
    },
    {
      "cell_type": "code",
      "metadata": {
        "id": "tAWg-y9Pkxp9",
        "colab_type": "code",
        "colab": {
          "base_uri": "https://localhost:8080/",
          "height": 71
        },
        "outputId": "f47f122f-e713-47f4-fba6-35d9a9711c4e"
      },
      "source": [
        "from nltk.tokenize import word_tokenize\n",
        "import nltk\n",
        "nltk.download('punkt')"
      ],
      "execution_count": 116,
      "outputs": [
        {
          "output_type": "stream",
          "text": [
            "[nltk_data] Downloading package punkt to /root/nltk_data...\n",
            "[nltk_data]   Package punkt is already up-to-date!\n"
          ],
          "name": "stdout"
        },
        {
          "output_type": "execute_result",
          "data": {
            "text/plain": [
              "True"
            ]
          },
          "metadata": {
            "tags": []
          },
          "execution_count": 116
        }
      ]
    },
    {
      "cell_type": "code",
      "metadata": {
        "id": "hr8hyqA_kysD",
        "colab_type": "code",
        "colab": {
          "base_uri": "https://localhost:8080/",
          "height": 35
        },
        "outputId": "af32c977-df1c-4080-ed2c-3051f37689c9"
      },
      "source": [
        "doc = 'you will never know until you try'\n",
        "token_list = word_tokenize(doc)\n",
        "tokens = list(set(token_list))\n",
        "tokens"
      ],
      "execution_count": 117,
      "outputs": [
        {
          "output_type": "execute_result",
          "data": {
            "text/plain": [
              "['never', 'will', 'know', 'try', 'you', 'until']"
            ]
          },
          "metadata": {
            "tags": []
          },
          "execution_count": 117
        }
      ]
    },
    {
      "cell_type": "code",
      "metadata": {
        "id": "_g67pFYMPWaX",
        "colab_type": "code",
        "colab": {
          "base_uri": "https://localhost:8080/",
          "height": 125
        },
        "outputId": "80d966aa-e686-4b71-b095-6520916e1df7"
      },
      "source": [
        "onehot=np.identity(len(tokens)).tolist()\n",
        "\n",
        "onehot_vector = []\n",
        "for vec in onehot:\n",
        "    onehot_vector.append([vec])\n",
        "onehot_vector"
      ],
      "execution_count": 118,
      "outputs": [
        {
          "output_type": "execute_result",
          "data": {
            "text/plain": [
              "[[[1.0, 0.0, 0.0, 0.0, 0.0, 0.0]],\n",
              " [[0.0, 1.0, 0.0, 0.0, 0.0, 0.0]],\n",
              " [[0.0, 0.0, 1.0, 0.0, 0.0, 0.0]],\n",
              " [[0.0, 0.0, 0.0, 1.0, 0.0, 0.0]],\n",
              " [[0.0, 0.0, 0.0, 0.0, 1.0, 0.0]],\n",
              " [[0.0, 0.0, 0.0, 0.0, 0.0, 1.0]]]"
            ]
          },
          "metadata": {
            "tags": []
          },
          "execution_count": 118
        }
      ]
    },
    {
      "cell_type": "code",
      "metadata": {
        "id": "X4hJ0i25QMtZ",
        "colab_type": "code",
        "colab": {
          "base_uri": "https://localhost:8080/",
          "height": 125
        },
        "outputId": "fe1c9557-1726-4c02-a3db-b95bbe7a80df"
      },
      "source": [
        "dic = dict(zip(tokens, onehot_vector))\n",
        "dic"
      ],
      "execution_count": 119,
      "outputs": [
        {
          "output_type": "execute_result",
          "data": {
            "text/plain": [
              "{'know': [[0.0, 0.0, 1.0, 0.0, 0.0, 0.0]],\n",
              " 'never': [[1.0, 0.0, 0.0, 0.0, 0.0, 0.0]],\n",
              " 'try': [[0.0, 0.0, 0.0, 1.0, 0.0, 0.0]],\n",
              " 'until': [[0.0, 0.0, 0.0, 0.0, 0.0, 1.0]],\n",
              " 'will': [[0.0, 1.0, 0.0, 0.0, 0.0, 0.0]],\n",
              " 'you': [[0.0, 0.0, 0.0, 0.0, 1.0, 0.0]]}"
            ]
          },
          "metadata": {
            "tags": []
          },
          "execution_count": 119
        }
      ]
    },
    {
      "cell_type": "code",
      "metadata": {
        "id": "cjdFKRxdg85G",
        "colab_type": "code",
        "colab": {
          "base_uri": "https://localhost:8080/",
          "height": 143
        },
        "outputId": "e02a71b1-090b-4af5-f6ce-1b621bd2f0ce"
      },
      "source": [
        "y = []\n",
        "for token in token_list:\n",
        "    for word in dic.keys(): #토큰과 단어가 일치하면 토큰의 원핫벡터를 리스트에 추가\n",
        "        if token == word:\n",
        "            y.append(dic[word])\n",
        "y"
      ],
      "execution_count": 120,
      "outputs": [
        {
          "output_type": "execute_result",
          "data": {
            "text/plain": [
              "[[[0.0, 0.0, 0.0, 0.0, 1.0, 0.0]],\n",
              " [[0.0, 1.0, 0.0, 0.0, 0.0, 0.0]],\n",
              " [[1.0, 0.0, 0.0, 0.0, 0.0, 0.0]],\n",
              " [[0.0, 0.0, 1.0, 0.0, 0.0, 0.0]],\n",
              " [[0.0, 0.0, 0.0, 0.0, 0.0, 1.0]],\n",
              " [[0.0, 0.0, 0.0, 0.0, 1.0, 0.0]],\n",
              " [[0.0, 0.0, 0.0, 1.0, 0.0, 0.0]]]"
            ]
          },
          "metadata": {
            "tags": []
          },
          "execution_count": 120
        }
      ]
    },
    {
      "cell_type": "code",
      "metadata": {
        "id": "hVOgjguMhuZd",
        "colab_type": "code",
        "colab": {
          "base_uri": "https://localhost:8080/",
          "height": 266
        },
        "outputId": "b23f996a-d338-459d-bae8-869172c96fca"
      },
      "source": [
        "df = pd.DataFrame(y, columns=['onehot'], index=token_list)\n",
        "df"
      ],
      "execution_count": 121,
      "outputs": [
        {
          "output_type": "execute_result",
          "data": {
            "text/html": [
              "<div>\n",
              "<style scoped>\n",
              "    .dataframe tbody tr th:only-of-type {\n",
              "        vertical-align: middle;\n",
              "    }\n",
              "\n",
              "    .dataframe tbody tr th {\n",
              "        vertical-align: top;\n",
              "    }\n",
              "\n",
              "    .dataframe thead th {\n",
              "        text-align: right;\n",
              "    }\n",
              "</style>\n",
              "<table border=\"1\" class=\"dataframe\">\n",
              "  <thead>\n",
              "    <tr style=\"text-align: right;\">\n",
              "      <th></th>\n",
              "      <th>onehot</th>\n",
              "    </tr>\n",
              "  </thead>\n",
              "  <tbody>\n",
              "    <tr>\n",
              "      <th>you</th>\n",
              "      <td>[0.0, 0.0, 0.0, 0.0, 1.0, 0.0]</td>\n",
              "    </tr>\n",
              "    <tr>\n",
              "      <th>will</th>\n",
              "      <td>[0.0, 1.0, 0.0, 0.0, 0.0, 0.0]</td>\n",
              "    </tr>\n",
              "    <tr>\n",
              "      <th>never</th>\n",
              "      <td>[1.0, 0.0, 0.0, 0.0, 0.0, 0.0]</td>\n",
              "    </tr>\n",
              "    <tr>\n",
              "      <th>know</th>\n",
              "      <td>[0.0, 0.0, 1.0, 0.0, 0.0, 0.0]</td>\n",
              "    </tr>\n",
              "    <tr>\n",
              "      <th>until</th>\n",
              "      <td>[0.0, 0.0, 0.0, 0.0, 0.0, 1.0]</td>\n",
              "    </tr>\n",
              "    <tr>\n",
              "      <th>you</th>\n",
              "      <td>[0.0, 0.0, 0.0, 0.0, 1.0, 0.0]</td>\n",
              "    </tr>\n",
              "    <tr>\n",
              "      <th>try</th>\n",
              "      <td>[0.0, 0.0, 0.0, 1.0, 0.0, 0.0]</td>\n",
              "    </tr>\n",
              "  </tbody>\n",
              "</table>\n",
              "</div>"
            ],
            "text/plain": [
              "                               onehot\n",
              "you    [0.0, 0.0, 0.0, 0.0, 1.0, 0.0]\n",
              "will   [0.0, 1.0, 0.0, 0.0, 0.0, 0.0]\n",
              "never  [1.0, 0.0, 0.0, 0.0, 0.0, 0.0]\n",
              "know   [0.0, 0.0, 1.0, 0.0, 0.0, 0.0]\n",
              "until  [0.0, 0.0, 0.0, 0.0, 0.0, 1.0]\n",
              "you    [0.0, 0.0, 0.0, 0.0, 1.0, 0.0]\n",
              "try    [0.0, 0.0, 0.0, 1.0, 0.0, 0.0]"
            ]
          },
          "metadata": {
            "tags": []
          },
          "execution_count": 121
        }
      ]
    },
    {
      "cell_type": "code",
      "metadata": {
        "id": "ErxU5OELNedd",
        "colab_type": "code",
        "colab": {
          "base_uri": "https://localhost:8080/",
          "height": 143
        },
        "outputId": "a5b76896-aa0b-4c95-843e-d07e62112054"
      },
      "source": [
        "y_new = []\n",
        "for i in y:\n",
        "    y_new.append(sum(i,[]))\n",
        "y_new"
      ],
      "execution_count": 122,
      "outputs": [
        {
          "output_type": "execute_result",
          "data": {
            "text/plain": [
              "[[0.0, 0.0, 0.0, 0.0, 1.0, 0.0],\n",
              " [0.0, 1.0, 0.0, 0.0, 0.0, 0.0],\n",
              " [1.0, 0.0, 0.0, 0.0, 0.0, 0.0],\n",
              " [0.0, 0.0, 1.0, 0.0, 0.0, 0.0],\n",
              " [0.0, 0.0, 0.0, 0.0, 0.0, 1.0],\n",
              " [0.0, 0.0, 0.0, 0.0, 1.0, 0.0],\n",
              " [0.0, 0.0, 0.0, 1.0, 0.0, 0.0]]"
            ]
          },
          "metadata": {
            "tags": []
          },
          "execution_count": 122
        }
      ]
    },
    {
      "cell_type": "code",
      "metadata": {
        "id": "XR34opq8k2fq",
        "colab_type": "code",
        "colab": {
          "base_uri": "https://localhost:8080/",
          "height": 143
        },
        "outputId": "1076693f-c4ad-4c07-87bc-e94ec0cf6e75"
      },
      "source": [
        "win_size = 1\n",
        "x = []\n",
        "\n",
        "for i in range(len(y)):\n",
        "    tmp = []\n",
        "    if i-win_size < 0 : # i가 윈도우사이즈보다 작으면 작은만큼 앞이 잘림\n",
        "        tmp = y[:i]+y[(i+1):(i+win_size+1)]\n",
        "    elif i+win_size >= len(y) :    # i가 윈도우사이즈보다 크면 큰만큼 뒤가 잘림\n",
        "        tmp = y[(i-win_size):i] + y[(i+1):]\n",
        "    else:\n",
        "        tmp = y[(i-win_size):i] + y[(i+1):(i+win_size+1)]\n",
        "    x.append(tmp)\n",
        "x"
      ],
      "execution_count": 123,
      "outputs": [
        {
          "output_type": "execute_result",
          "data": {
            "text/plain": [
              "[[[[0.0, 1.0, 0.0, 0.0, 0.0, 0.0]]],\n",
              " [[[0.0, 0.0, 0.0, 0.0, 1.0, 0.0]], [[1.0, 0.0, 0.0, 0.0, 0.0, 0.0]]],\n",
              " [[[0.0, 1.0, 0.0, 0.0, 0.0, 0.0]], [[0.0, 0.0, 1.0, 0.0, 0.0, 0.0]]],\n",
              " [[[1.0, 0.0, 0.0, 0.0, 0.0, 0.0]], [[0.0, 0.0, 0.0, 0.0, 0.0, 1.0]]],\n",
              " [[[0.0, 0.0, 1.0, 0.0, 0.0, 0.0]], [[0.0, 0.0, 0.0, 0.0, 1.0, 0.0]]],\n",
              " [[[0.0, 0.0, 0.0, 0.0, 0.0, 1.0]], [[0.0, 0.0, 0.0, 1.0, 0.0, 0.0]]],\n",
              " [[[0.0, 0.0, 0.0, 0.0, 1.0, 0.0]]]]"
            ]
          },
          "metadata": {
            "tags": []
          },
          "execution_count": 123
        }
      ]
    },
    {
      "cell_type": "code",
      "metadata": {
        "id": "T_jIICkRm2m9",
        "colab_type": "code",
        "colab": {
          "base_uri": "https://localhost:8080/",
          "height": 125
        },
        "outputId": "9aadac4c-c679-4ff8-a246-941d6869af9c"
      },
      "source": [
        "# x를 np.array화\n",
        "x_new = []\n",
        "for i in x:\n",
        "    x_new.append(np.array(sum(i,[])))\n",
        "x_new"
      ],
      "execution_count": 124,
      "outputs": [
        {
          "output_type": "execute_result",
          "data": {
            "text/plain": [
              "[array([[0., 1., 0., 0., 0., 0.]]), array([[0., 0., 0., 0., 1., 0.],\n",
              "        [1., 0., 0., 0., 0., 0.]]), array([[0., 1., 0., 0., 0., 0.],\n",
              "        [0., 0., 1., 0., 0., 0.]]), array([[1., 0., 0., 0., 0., 0.],\n",
              "        [0., 0., 0., 0., 0., 1.]]), array([[0., 0., 1., 0., 0., 0.],\n",
              "        [0., 0., 0., 0., 1., 0.]]), array([[0., 0., 0., 0., 0., 1.],\n",
              "        [0., 0., 0., 1., 0., 0.]]), array([[0., 0., 0., 0., 1., 0.]])]"
            ]
          },
          "metadata": {
            "tags": []
          },
          "execution_count": 124
        }
      ]
    },
    {
      "cell_type": "code",
      "metadata": {
        "id": "MRYMTdA-mFYz",
        "colab_type": "code",
        "colab": {
          "base_uri": "https://localhost:8080/",
          "height": 233
        },
        "outputId": "6e4e5a66-7dab-48bc-c647-d8e40ae4210f"
      },
      "source": [
        "# hidden layer 계산\n",
        "vector_dim = 4\n",
        "w1 = np.random.rand(len(tokens),vector_dim)\n",
        "w2 = np.random.rand(vector_dim, len(tokens))\n",
        "\n",
        "h = []\n",
        "for x_vecs in x_new:\n",
        "    tmp = []\n",
        "    for x_vector in x_vecs:\n",
        "        tmp.append(np.dot(w1.T,x_vector.T))\n",
        "    h.append(tmp)\n",
        "h"
      ],
      "execution_count": 125,
      "outputs": [
        {
          "output_type": "execute_result",
          "data": {
            "text/plain": [
              "[[array([0.45274575, 0.56122419, 0.14812291, 0.23740061])],\n",
              " [array([0.33906051, 0.9010767 , 0.62909874, 0.42664358]),\n",
              "  array([0.66654539, 0.34134538, 0.39562594, 0.6381709 ])],\n",
              " [array([0.45274575, 0.56122419, 0.14812291, 0.23740061]),\n",
              "  array([0.59896968, 0.17239121, 0.54223272, 0.61761344])],\n",
              " [array([0.66654539, 0.34134538, 0.39562594, 0.6381709 ]),\n",
              "  array([0.18465778, 0.49753609, 0.50057354, 0.35342954])],\n",
              " [array([0.59896968, 0.17239121, 0.54223272, 0.61761344]),\n",
              "  array([0.33906051, 0.9010767 , 0.62909874, 0.42664358])],\n",
              " [array([0.18465778, 0.49753609, 0.50057354, 0.35342954]),\n",
              "  array([0.123453  , 0.85285804, 0.47962568, 0.67902431])],\n",
              " [array([0.33906051, 0.9010767 , 0.62909874, 0.42664358])]]"
            ]
          },
          "metadata": {
            "tags": []
          },
          "execution_count": 125
        }
      ]
    },
    {
      "cell_type": "code",
      "metadata": {
        "id": "gCWwrnCVb4eJ",
        "colab_type": "code",
        "colab": {}
      },
      "source": [
        "def softmax(x):\n",
        "    e_x = np.exp(x - np.max(x))\n",
        "    return e_x / e_x.sum()"
      ],
      "execution_count": 126,
      "outputs": []
    },
    {
      "cell_type": "code",
      "metadata": {
        "id": "Q47rdeUPb8-o",
        "colab_type": "code",
        "colab": {
          "base_uri": "https://localhost:8080/",
          "height": 449
        },
        "outputId": "8e40361c-67c7-4d63-ce6e-c2a4cbf39646"
      },
      "source": [
        "# 예상치 계산\n",
        "y_hat = []\n",
        "for h_vecs in h:\n",
        "    tmp = []\n",
        "    for h_vector in h_vecs:\n",
        "        tmp.append(softmax(np.dot(w2.T,h_vector)))\n",
        "    y_hat.append(tmp)\n",
        "y_hat"
      ],
      "execution_count": 127,
      "outputs": [
        {
          "output_type": "execute_result",
          "data": {
            "text/plain": [
              "[[array([0.15616726, 0.14174948, 0.24990151, 0.14574868, 0.1698522 ,\n",
              "         0.13658088])],\n",
              " [array([0.16904399, 0.14030577, 0.27040503, 0.1227962 , 0.18146269,\n",
              "         0.11598632]),\n",
              "  array([0.16161957, 0.15746533, 0.22102392, 0.16682636, 0.18252905,\n",
              "         0.11053576])],\n",
              " [array([0.15616726, 0.14174948, 0.24990151, 0.14574868, 0.1698522 ,\n",
              "         0.13658088]),\n",
              "  array([0.16947302, 0.17188375, 0.19513416, 0.17121485, 0.1870263 ,\n",
              "         0.10526793])],\n",
              " [array([0.16161957, 0.15746533, 0.22102392, 0.16682636, 0.18252905,\n",
              "         0.11053576]),\n",
              "  array([0.17500994, 0.15792035, 0.21403777, 0.14228385, 0.1821776 ,\n",
              "         0.12857049])],\n",
              " [array([0.16947302, 0.17188375, 0.19513416, 0.17121485, 0.1870263 ,\n",
              "         0.10526793]),\n",
              "  array([0.16904399, 0.14030577, 0.27040503, 0.1227962 , 0.18146269,\n",
              "         0.11598632])],\n",
              " [array([0.17500994, 0.15792035, 0.21403777, 0.14228385, 0.1821776 ,\n",
              "         0.12857049]),\n",
              "  array([0.1701825 , 0.13796569, 0.24421902, 0.13275209, 0.18281473,\n",
              "         0.13206597])],\n",
              " [array([0.16904399, 0.14030577, 0.27040503, 0.1227962 , 0.18146269,\n",
              "         0.11598632])]]"
            ]
          },
          "metadata": {
            "tags": []
          },
          "execution_count": 127
        }
      ]
    },
    {
      "cell_type": "code",
      "metadata": {
        "id": "GZXIgrZNfFzq",
        "colab_type": "code",
        "colab": {
          "base_uri": "https://localhost:8080/",
          "height": 35
        },
        "outputId": "50442081-4f48-4514-8d56-3804c25f9efd"
      },
      "source": [
        "# loss 계산\n",
        "L = []\n",
        "for predict in y_hat:\n",
        "    tmp = []\n",
        "    for j in range(len(predict)):\n",
        "        tmp.append(np.log(predict[j]) * y[j])\n",
        "    L.append(np.sum(tmp))\n",
        "loss = -np.sum(L)\n",
        "loss"
      ],
      "execution_count": 128,
      "outputs": [
        {
          "output_type": "execute_result",
          "data": {
            "text/plain": [
              "21.43902167640728"
            ]
          },
          "metadata": {
            "tags": []
          },
          "execution_count": 128
        }
      ]
    },
    {
      "cell_type": "code",
      "metadata": {
        "id": "oTgL3VRwuHmU",
        "colab_type": "code",
        "colab": {
          "base_uri": "https://localhost:8080/",
          "height": 269
        },
        "outputId": "a78ffd79-ebf5-41ae-e8de-6243e94b51a4"
      },
      "source": [
        "# w 업데이트\n",
        "alpha = 0.01\n",
        "diff = []\n",
        "h_layer = []\n",
        "x_layer = []\n",
        "\n",
        "for i in range(len(y_new)):\n",
        "    for j in range(len(y_hat[i])):\n",
        "        diff.append(y_hat[i][j] - y_new[i])\n",
        "        h_layer.append(h[i][j])\n",
        "        x_layer.append(x[i][j])\n",
        "\n",
        "a = np.dot(np.array(x_layer).T, np.dot(w2, np.array(diff).T).T)\n",
        "b = []\n",
        "for i in range(len(a)):\n",
        "    b.append(a[i][0])\n",
        "\n",
        "w2 = w2 - alpha*np.dot(np.array(h_layer).T, np.array(diff))\n",
        "w1 = w1 - b\n",
        "\n",
        "np.array(w1), np.array(w2)"
      ],
      "execution_count": 129,
      "outputs": [
        {
          "output_type": "execute_result",
          "data": {
            "text/plain": [
              "(array([[ 0.91478098,  0.56672172,  0.53022354,  0.4660616 ],\n",
              "        [ 0.28454385,  0.39813338,  0.51971476,  0.31037707],\n",
              "        [ 0.10454438,  0.20092734,  0.29065814,  0.53902068],\n",
              "        [ 0.10266551,  0.78650741,  0.63056671,  0.75630666],\n",
              "        [-0.02807915,  0.14282291,  0.2790181 ,  0.55061137],\n",
              "        [ 0.47292777,  0.99606874,  0.55406495,  0.30606532]]),\n",
              " array([[0.33992524, 0.44474211, 0.76847252, 0.5426279 , 0.45680017,\n",
              "         0.12278699],\n",
              "        [0.31031828, 0.06659569, 0.91662903, 0.02991251, 0.35370157,\n",
              "         0.43792978],\n",
              "        [0.79090948, 0.82422954, 0.50370991, 0.44219822, 0.74117705,\n",
              "         0.17449287],\n",
              "        [0.73297709, 0.70150824, 0.61865649, 0.92950003, 0.81670391,\n",
              "         0.69249971]]))"
            ]
          },
          "metadata": {
            "tags": []
          },
          "execution_count": 129
        }
      ]
    },
    {
      "cell_type": "markdown",
      "metadata": {
        "id": "TKm1tjvs-XIo",
        "colab_type": "text"
      },
      "source": [
        "함수화해서 epoch 주기"
      ]
    },
    {
      "cell_type": "code",
      "metadata": {
        "id": "WlVEh69unT-b",
        "colab_type": "code",
        "colab": {}
      },
      "source": [
        "def loss(y_hat,y):\n",
        "    L = []\n",
        "    for i, predict in enumerate(y_hat):\n",
        "        tmp = []\n",
        "        for j in range(len(predict)):\n",
        "            tmp.append(np.log(predict[j]) * y[i])\n",
        "        L.append(np.sum(tmp))\n",
        "    loss_result = -np.sum(L)\n",
        "    return loss_result"
      ],
      "execution_count": 153,
      "outputs": []
    },
    {
      "cell_type": "code",
      "metadata": {
        "id": "ai1OFxoPZE_D",
        "colab_type": "code",
        "colab": {}
      },
      "source": [
        "def w_update(learning_rate,y_hat,y,w1,w2):\n",
        "\n",
        "    diff = []\n",
        "    h_layer = []\n",
        "    x_layer = []\n",
        "\n",
        "    y_new = []\n",
        "    for i in y:\n",
        "        y_new.append(sum(i,[]))\n",
        "\n",
        "    for i in range(len(y_new)):\n",
        "        for j in range(len(y_hat[i])):\n",
        "            diff.append(y_hat[i][j] - y_new[i])\n",
        "            h_layer.append(h[i][j])\n",
        "            x_layer.append(x[i][j])\n",
        "\n",
        "    a = np.dot(np.array(x_layer).T, np.dot(w2, np.array(diff).T).T)\n",
        "    b = []\n",
        "    for i in range(len(a)):\n",
        "        b.append(a[i][0])\n",
        "    c = np.dot(np.array(h_layer).T, np.array(diff))\n",
        "\n",
        "    w2 -= learning_rate * c\n",
        "    w1 -= b\n",
        "    return w1, w2"
      ],
      "execution_count": 158,
      "outputs": []
    },
    {
      "cell_type": "code",
      "metadata": {
        "id": "Qif0W5V5wGdy",
        "colab_type": "code",
        "colab": {}
      },
      "source": [
        "def softmax(x):\n",
        "    e_x = np.exp(x - np.max(x))\n",
        "    return e_x / e_x.sum()"
      ],
      "execution_count": 132,
      "outputs": []
    },
    {
      "cell_type": "code",
      "metadata": {
        "id": "E9wjiTXpxenU",
        "colab_type": "code",
        "colab": {
          "base_uri": "https://localhost:8080/",
          "height": 1000
        },
        "outputId": "afa37df4-a68f-49dc-a721-d271ceed4afc"
      },
      "source": [
        "doc = 'you will never know until you try'\n",
        "token_list = word_tokenize(doc)\n",
        "tokens = list(set(token_list))\n",
        "\n",
        "onehot=np.identity(len(tokens)).tolist()\n",
        "onehot_vector = []\n",
        "for vec in onehot:\n",
        "    onehot_vector.append([vec])\n",
        "\n",
        "dic = dict(zip(tokens, onehot_vector))\n",
        "\n",
        "y = []\n",
        "for token in token_list:\n",
        "    for word in dic.keys(): #토큰과 단어가 일치하면 토큰의 원핫벡터를 리스트에 추가\n",
        "        if token == word:\n",
        "            y.append(dic[word])\n",
        "\n",
        "y_new = []\n",
        "for i in y:\n",
        "    y_new.append(sum(i,[]))\n",
        "\n",
        "win_size = 1\n",
        "x = []\n",
        "\n",
        "for i in range(len(y)):\n",
        "    tmp = []\n",
        "    if i-win_size < 0 : # i가 윈도우사이즈보다 작으면 작은만큼 앞이 잘림\n",
        "        tmp = y[:i]+y[(i+1):(i+win_size+1)]\n",
        "    elif i+win_size >= len(y) :    # i가 윈도우사이즈보다 크면 큰만큼 뒤가 잘림\n",
        "        tmp = y[(i-win_size):i] + y[(i+1):]\n",
        "    else:\n",
        "        tmp = y[(i-win_size):i] + y[(i+1):(i+win_size+1)]\n",
        "    x.append(tmp)\n",
        "\n",
        "x_new = []\n",
        "for i in x:\n",
        "    x_new.append(np.array(sum(i,[])))\n",
        "\n",
        "vector_dim = 4\n",
        "w1 = np.random.rand(len(tokens),vector_dim)\n",
        "w2 = np.random.rand(vector_dim, len(tokens))\n",
        "\n",
        "h = []\n",
        "for x_vecs in x_new:\n",
        "    tmp = []\n",
        "    for x_vector in x_vecs:\n",
        "        tmp.append(np.dot(w1.T,x_vector.T))\n",
        "    h.append(tmp)\n",
        "\n",
        "y_hat = []\n",
        "for h_vecs in h:\n",
        "    tmp = []\n",
        "    for h_vector in h_vecs:\n",
        "        tmp.append(softmax(np.dot(w2.T,h_vector)))\n",
        "    y_hat.append(tmp)\n",
        "\n",
        "loss_history = []\n",
        "cnt_history = []\n",
        "cnt = 0\n",
        "for i in range(10000):\n",
        "    w_update(0.01,y_hat,y,w1,w2)\n",
        "\n",
        "    h = []\n",
        "    for x_vecs in x_new:\n",
        "        tmp = []\n",
        "        for x_vector in x_vecs:\n",
        "            tmp.append(np.dot(w1.T,x_vector.T))\n",
        "        h.append(tmp)\n",
        "\n",
        "    y_hat = []\n",
        "    for h_vecs in h:\n",
        "        tmp = []\n",
        "        for h_vector in h_vecs:\n",
        "            tmp.append(softmax(np.dot(w2.T,h_vector)))\n",
        "        y_hat.append(tmp)\n",
        "    \n",
        "    loss(y_hat,y)\n",
        "    loss_history.append(loss(y_hat,y))\n",
        "\n",
        "    cnt += 1\n",
        "    cnt_history.append(cnt)\n",
        "\n",
        "\n",
        "    if i%1000 == 0:\n",
        "        print('로스:{}, 예측값:{}'.format(loss(y_hat,y), y_hat))\n",
        "        # print(w1,w2)"
      ],
      "execution_count": 159,
      "outputs": [
        {
          "output_type": "stream",
          "text": [
            "로스:19.47786134349927, 예측값:[[array([0.16772775, 0.19680636, 0.13636302, 0.13834051, 0.23632674,\n",
            "       0.12443562])], [array([0.15707543, 0.1794169 , 0.15871759, 0.19676646, 0.12532216,\n",
            "       0.18270147]), array([0.17862924, 0.26637684, 0.3056365 , 0.0726364 , 0.07392094,\n",
            "       0.10280008])], [array([0.16772775, 0.19680636, 0.13636302, 0.13834051, 0.23632674,\n",
            "       0.12443562]), array([0.16512442, 0.16477711, 0.28976639, 0.12245353, 0.06521839,\n",
            "       0.19266015])], [array([0.17862924, 0.26637684, 0.3056365 , 0.0726364 , 0.07392094,\n",
            "       0.10280008]), array([0.17618013, 0.24006127, 0.21339783, 0.1276579 , 0.11666635,\n",
            "       0.12603652])], [array([0.16512442, 0.16477711, 0.28976639, 0.12245353, 0.06521839,\n",
            "       0.19266015]), array([0.15707543, 0.1794169 , 0.15871759, 0.19676646, 0.12532216,\n",
            "       0.18270147])], [array([0.17618013, 0.24006127, 0.21339783, 0.1276579 , 0.11666635,\n",
            "       0.12603652]), array([0.17263753, 0.16802398, 0.16406154, 0.13105219, 0.21074514,\n",
            "       0.15347963])], [array([0.15707543, 0.1794169 , 0.15871759, 0.19676646, 0.12532216,\n",
            "       0.18270147])]]\n",
            "로스:8.851630474664525, 예측값:[[array([4.89343820e-01, 3.26748487e-06, 1.53083207e-04, 2.66873171e-05,\n",
            "       5.10285461e-01, 1.87680327e-04])], [array([1.40595347e-04, 3.33568324e-01, 5.94716244e-05, 3.33197634e-01,\n",
            "       5.78031411e-06, 3.33028195e-01]), array([4.60650699e-05, 5.04990580e-01, 4.94666340e-01, 1.77945468e-04,\n",
            "       5.82176645e-05, 6.08515801e-05])], [array([4.89343820e-01, 3.26748487e-06, 1.53083207e-04, 2.66873171e-05,\n",
            "       5.10285461e-01, 1.87680327e-04]), array([4.97757792e-01, 2.07448271e-05, 3.43369485e-05, 2.30507047e-04,\n",
            "       2.00718493e-05, 5.01936547e-01])], [array([4.60650699e-05, 5.04990580e-01, 4.94666340e-01, 1.77945468e-04,\n",
            "       5.82176645e-05, 6.08515801e-05]), array([2.68247005e-04, 1.78687218e-04, 4.61436482e-01, 2.31415997e-05,\n",
            "       5.38092914e-01, 5.28959292e-07])], [array([4.97757792e-01, 2.07448271e-05, 3.43369485e-05, 2.30507047e-04,\n",
            "       2.00718493e-05, 5.01936547e-01]), array([1.40595347e-04, 3.33568324e-01, 5.94716244e-05, 3.33197634e-01,\n",
            "       5.78031411e-06, 3.33028195e-01])], [array([2.68247005e-04, 1.78687218e-04, 4.61436482e-01, 2.31415997e-05,\n",
            "       5.38092914e-01, 5.28959292e-07]), array([3.77335214e-04, 1.06123246e-05, 5.97004321e-05, 1.05796231e-04,\n",
            "       9.99445204e-01, 1.35189011e-06])], [array([1.40595347e-04, 3.33568324e-01, 5.94716244e-05, 3.33197634e-01,\n",
            "       5.78031411e-06, 3.33028195e-01])]]\n",
            "로스:8.84915171676149, 예측값:[[array([4.83392917e-01, 1.24777343e-06, 8.20574811e-05, 1.27615504e-05,\n",
            "       5.16422823e-01, 8.81936476e-05])], [array([6.55636265e-05, 3.33862871e-01, 2.49281037e-05, 3.33216712e-01,\n",
            "       2.02334312e-06, 3.32827902e-01]), array([1.97869951e-05, 5.06361706e-01, 4.93463698e-01, 9.08506012e-05,\n",
            "       3.52602665e-05, 2.86977275e-05])], [array([4.83392917e-01, 1.24777343e-06, 8.20574811e-05, 1.27615504e-05,\n",
            "       5.16422823e-01, 8.81936476e-05]), array([4.95442930e-01, 1.06216090e-05, 1.22754137e-05, 1.09353089e-04,\n",
            "       7.66749880e-06, 5.04417152e-01])], [array([1.97869951e-05, 5.06361706e-01, 4.93463698e-01, 9.08506012e-05,\n",
            "       3.52602665e-05, 2.86977275e-05]), array([1.32454790e-04, 1.02291434e-04, 4.65515386e-01, 1.57945560e-05,\n",
            "       5.34233836e-01, 2.38133175e-07])], [array([4.95442930e-01, 1.06216090e-05, 1.22754137e-05, 1.09353089e-04,\n",
            "       7.66749880e-06, 5.04417152e-01]), array([6.55636265e-05, 3.33862871e-01, 2.49281037e-05, 3.33216712e-01,\n",
            "       2.02334312e-06, 3.32827902e-01])], [array([1.32454790e-04, 1.02291434e-04, 4.65515386e-01, 1.57945560e-05,\n",
            "       5.34233836e-01, 2.38133175e-07]), array([1.76582717e-04, 4.26165379e-06, 4.58330623e-05, 5.62933712e-05,\n",
            "       9.99716660e-01, 3.68823236e-07])], [array([6.55636265e-05, 3.33862871e-01, 2.49281037e-05, 3.33216712e-01,\n",
            "       2.02334312e-06, 3.32827902e-01])]]\n",
            "로스:8.847679344331576, 예측값:[[array([4.80016843e-01, 7.89488233e-07, 5.89609241e-05, 9.18865688e-06,\n",
            "       5.19853340e-01, 6.08779286e-05])], [array([4.16745712e-05, 3.34202393e-01, 1.51601708e-05, 3.33217117e-01,\n",
            "       1.08065763e-06, 3.32522575e-01]), array([1.20542349e-05, 5.06574097e-01, 4.93308306e-01, 6.06140395e-05,\n",
            "       2.61313493e-05, 1.87972167e-05])], [array([4.80016843e-01, 7.89488233e-07, 5.89609241e-05, 9.18865688e-06,\n",
            "       5.19853340e-01, 6.08779286e-05]), array([4.93632585e-01, 7.53187158e-06, 6.95983316e-06, 7.25359223e-05,\n",
            "       4.75437504e-06, 5.06275633e-01])], [array([1.20542349e-05, 5.06574097e-01, 4.93308306e-01, 6.06140395e-05,\n",
            "       2.61313493e-05, 1.87972167e-05]), array([8.92136320e-05, 7.43110704e-05, 4.71083852e-01, 1.29744153e-05,\n",
            "       5.28739495e-01, 1.54031847e-07])], [array([4.93632585e-01, 7.53187158e-06, 6.95983316e-06, 7.25359223e-05,\n",
            "       4.75437504e-06, 5.06275633e-01]), array([4.16745712e-05, 3.34202393e-01, 1.51601708e-05, 3.33217117e-01,\n",
            "       1.08065763e-06, 3.32522575e-01])], [array([8.92136320e-05, 7.43110704e-05, 4.71083852e-01, 1.29744153e-05,\n",
            "       5.28739495e-01, 1.54031847e-07]), array([1.16498602e-04, 2.44295111e-06, 3.96558015e-05, 3.88800438e-05,\n",
            "       9.99802352e-01, 1.70183948e-07])], [array([4.16745712e-05, 3.34202393e-01, 1.51601708e-05, 3.33217117e-01,\n",
            "       1.08065763e-06, 3.32522575e-01])]]\n",
            "로스:8.846843751926922, 예측값:[[array([4.78976501e-01, 6.19111099e-07, 4.78718498e-05, 7.82108701e-06,\n",
            "       5.20917899e-01, 4.92881354e-05])], [array([2.99738517e-05, 3.34788254e-01, 1.07787335e-05, 3.33198187e-01,\n",
            "       6.88059128e-07, 3.31972119e-01]), array([8.44706416e-06, 5.06778397e-01, 4.93132638e-01, 4.54012776e-05,\n",
            "       2.09881057e-05, 1.41281825e-05])], [array([4.78976501e-01, 6.19111099e-07, 4.78718498e-05, 7.82108701e-06,\n",
            "       5.20917899e-01, 4.92881354e-05]), array([4.92526484e-01, 6.11639135e-06, 4.81810332e-06, 5.52977523e-05,\n",
            "       3.62543224e-06, 5.07403658e-01])], [array([8.44706416e-06, 5.06778397e-01, 4.93132638e-01, 4.54012776e-05,\n",
            "       2.09881057e-05, 1.41281825e-05]), array([6.82800000e-05, 5.90829599e-05, 4.74675228e-01, 1.14389399e-05,\n",
            "       5.25185856e-01, 1.14323772e-07])], [array([4.92526484e-01, 6.11639135e-06, 4.81810332e-06, 5.52977523e-05,\n",
            "       3.62543224e-06, 5.07403658e-01]), array([2.99738517e-05, 3.34788254e-01, 1.07787335e-05, 3.33198187e-01,\n",
            "       6.88059128e-07, 3.31972119e-01])], [array([6.82800000e-05, 5.90829599e-05, 4.74675228e-01, 1.14389399e-05,\n",
            "       5.25185856e-01, 1.14323772e-07]), array([8.91480529e-05, 1.62432187e-06, 3.57208416e-05, 2.99151359e-05,\n",
            "       9.99843494e-01, 9.76109538e-08])], [array([2.99738517e-05, 3.34788254e-01, 1.07787335e-05, 3.33198187e-01,\n",
            "       6.88059128e-07, 3.31972119e-01])]]\n",
            "로스:8.84624908533122, 예측값:[[array([4.79288199e-01, 5.31018233e-07, 4.10388676e-05, 7.10851381e-06,\n",
            "       5.20620422e-01, 4.27003749e-05])], [array([2.31482905e-05, 3.35942645e-01, 8.35941347e-06, 3.33144365e-01,\n",
            "       4.84351096e-07, 3.30880998e-01]), array([6.39799578e-06, 5.07101595e-01, 4.92826579e-01, 3.63355364e-05,\n",
            "       1.76310610e-05, 1.14610931e-05])], [array([4.79288199e-01, 5.31018233e-07, 4.10388676e-05, 7.10851381e-06,\n",
            "       5.20620422e-01, 4.27003749e-05]), array([4.91948000e-01, 5.32210623e-06, 3.69354037e-06, 4.53054742e-05,\n",
            "       3.04050845e-06, 5.07994638e-01])], [array([6.39799578e-06, 5.07101595e-01, 4.92826579e-01, 3.63355364e-05,\n",
            "       1.76310610e-05, 1.14610931e-05]), array([5.57567977e-05, 4.90814524e-05, 4.77010974e-01, 1.04046046e-05,\n",
            "       5.22873692e-01, 9.09485242e-08])], [array([4.91948000e-01, 5.32210623e-06, 3.69354037e-06, 4.53054742e-05,\n",
            "       3.04050845e-06, 5.07994638e-01]), array([2.31482905e-05, 3.35942645e-01, 8.35941347e-06, 3.33144365e-01,\n",
            "       4.84351096e-07, 3.30880998e-01])], [array([5.57567977e-05, 4.90814524e-05, 4.77010974e-01, 1.04046046e-05,\n",
            "       5.22873692e-01, 9.09485242e-08]), array([7.32824557e-05, 1.16664931e-06, 3.26970897e-05, 2.43146547e-05,\n",
            "       9.99868476e-01, 6.27905124e-08])], [array([2.31482905e-05, 3.35942645e-01, 8.35941347e-06, 3.33144365e-01,\n",
            "       4.84351096e-07, 3.30880998e-01])]]\n",
            "로스:8.845965036698455, 예측값:[[array([4.79947907e-01, 4.74558771e-07, 3.62650804e-05, 6.64875684e-06,\n",
            "       5.19970481e-01, 3.82235184e-05])], [array([1.88821422e-05, 3.38434058e-01, 6.89503735e-06, 3.33015627e-01,\n",
            "       3.67339584e-07, 3.28524171e-01]), array([5.12406837e-06, 5.07620806e-01, 4.92318427e-01, 3.04711193e-05,\n",
            "       1.53434497e-05, 9.82826626e-06])], [array([4.79947907e-01, 4.74558771e-07, 3.62650804e-05, 6.64875684e-06,\n",
            "       5.19970481e-01, 3.82235184e-05]), array([4.91569292e-01, 4.85087590e-06, 3.00525906e-06, 3.88598972e-05,\n",
            "       2.67571235e-06, 5.08381316e-01])], [array([5.12406837e-06, 5.07620806e-01, 4.92318427e-01, 3.04711193e-05,\n",
            "       1.53434497e-05, 9.82826626e-06]), array([4.74660826e-05, 4.19320367e-05, 4.78548017e-01, 9.68191084e-06,\n",
            "       5.21352826e-01, 7.62861565e-08])], [array([4.91569292e-01, 4.85087590e-06, 3.00525906e-06, 3.88598972e-05,\n",
            "       2.67571235e-06, 5.08381316e-01]), array([1.88821422e-05, 3.38434058e-01, 6.89503735e-06, 3.33015627e-01,\n",
            "       3.67339584e-07, 3.28524171e-01])], [array([4.74660826e-05, 4.19320367e-05, 4.78548017e-01, 9.68191084e-06,\n",
            "       5.21352826e-01, 7.62861565e-08]), array([6.27192577e-05, 8.77937692e-07, 3.02917108e-05, 2.04574426e-05,\n",
            "       9.99885610e-01, 4.35079657e-08])], [array([1.88821422e-05, 3.38434058e-01, 6.89503735e-06, 3.33015627e-01,\n",
            "       3.67339584e-07, 3.28524171e-01])]]\n",
            "로스:8.845830761601858, 예측값:[[array([4.80874385e-01, 4.33359300e-07, 3.26593290e-05, 6.29736383e-06,\n",
            "       5.19051491e-01, 3.47342635e-05])], [array([1.63557635e-05, 3.40984094e-01, 6.02649477e-06, 3.32879505e-01,\n",
            "       3.00987163e-07, 3.26113718e-01]), array([4.29982741e-06, 5.08117700e-01, 4.91828744e-01, 2.65892170e-05,\n",
            "       1.37684883e-05, 8.89861160e-06])], [array([4.80874385e-01, 4.33359300e-07, 3.26593290e-05, 6.29736383e-06,\n",
            "       5.19051491e-01, 3.47342635e-05]), array([4.91416650e-01, 4.62944770e-06, 2.54440858e-06, 3.45717471e-05,\n",
            "       2.41462152e-06, 5.08539190e-01])], [array([4.29982741e-06, 5.08117700e-01, 4.91828744e-01, 2.65892170e-05,\n",
            "       1.37684883e-05, 8.89861160e-06]), array([4.15861750e-05, 3.64078025e-05, 4.79886780e-01, 9.16046184e-06,\n",
            "       5.20025999e-01, 6.67912201e-08])], [array([4.91416650e-01, 4.62944770e-06, 2.54440858e-06, 3.45717471e-05,\n",
            "       2.41462152e-06, 5.08539190e-01]), array([1.63557635e-05, 3.40984094e-01, 6.02649477e-06, 3.32879505e-01,\n",
            "       3.00987163e-07, 3.26113718e-01])], [array([4.15861750e-05, 3.64078025e-05, 4.79886780e-01, 9.16046184e-06,\n",
            "       5.20025999e-01, 6.67912201e-08]), array([5.50680425e-05, 6.79221118e-07, 2.83306059e-05, 1.76274328e-05,\n",
            "       9.99898263e-01, 3.17978922e-08])], [array([1.63557635e-05, 3.40984094e-01, 6.02649477e-06, 3.32879505e-01,\n",
            "       3.00987163e-07, 3.26113718e-01])]]\n",
            "로스:8.845543865655046, 예측값:[[array([4.81611256e-01, 4.00496261e-07, 2.97183986e-05, 5.99221529e-06,\n",
            "       5.18320892e-01, 3.17408274e-05])], [array([1.47467969e-05, 3.41089993e-01, 5.44738111e-06, 3.32869603e-01,\n",
            "       2.58418564e-07, 3.26019951e-01]), array([3.72140840e-06, 5.08467218e-01, 4.91484343e-01, 2.38030046e-05,\n",
            "       1.25867874e-05, 8.32811276e-06])], [array([4.81611256e-01, 4.00496261e-07, 2.97183986e-05, 5.99221529e-06,\n",
            "       5.18320892e-01, 3.17408274e-05]), array([4.91317526e-01, 4.53051178e-06, 2.20973349e-06, 3.14312273e-05,\n",
            "       2.20944023e-06, 5.08642093e-01])], [array([3.72140840e-06, 5.08467218e-01, 4.91484343e-01, 2.38030046e-05,\n",
            "       1.25867874e-05, 8.32811276e-06]), array([3.71210195e-05, 3.20903694e-05, 4.80878735e-01, 8.75072441e-06,\n",
            "       5.19043243e-01, 5.98350125e-08])], [array([4.91317526e-01, 4.53051178e-06, 2.20973349e-06, 3.14312273e-05,\n",
            "       2.20944023e-06, 5.08642093e-01]), array([1.47467969e-05, 3.41089993e-01, 5.44738111e-06, 3.32869603e-01,\n",
            "       2.58418564e-07, 3.26019951e-01])], [array([3.71210195e-05, 3.20903694e-05, 4.80878735e-01, 8.75072441e-06,\n",
            "       5.19043243e-01, 5.98350125e-08]), array([4.91226461e-05, 5.37193094e-07, 2.66112408e-05, 1.54383263e-05,\n",
            "       9.99908267e-01, 2.40717543e-08])], [array([1.47467969e-05, 3.41089993e-01, 5.44738111e-06, 3.32869603e-01,\n",
            "       2.58418564e-07, 3.26019951e-01])]]\n",
            "로스:8.84529269632959, 예측값:[[array([4.82197886e-01, 3.73872054e-07, 2.73111382e-05, 5.73988977e-06,\n",
            "       5.17739410e-01, 2.92797774e-05])], [array([1.34852846e-05, 3.40805744e-01, 4.99838918e-06, 3.32879138e-01,\n",
            "       2.25910351e-07, 3.26296408e-01]), array([3.28689555e-06, 5.08819735e-01, 4.91135787e-01, 2.16296813e-05,\n",
            "       1.16541516e-05, 7.90637608e-06])], [array([4.82197886e-01, 3.73872054e-07, 2.73111382e-05, 5.73988977e-06,\n",
            "       5.17739410e-01, 2.92797774e-05]), array([4.91206073e-01, 4.46544972e-06, 1.95431211e-06, 2.89150089e-05,\n",
            "       2.04787396e-06, 5.08756545e-01])], [array([3.28689555e-06, 5.08819735e-01, 4.91135787e-01, 2.16296813e-05,\n",
            "       1.16541516e-05, 7.90637608e-06]), array([3.36600399e-05, 2.87740836e-05, 4.81614607e-01, 8.44449194e-06,\n",
            "       5.18314460e-01, 5.46021260e-08])], [array([4.91206073e-01, 4.46544972e-06, 1.95431211e-06, 2.89150089e-05,\n",
            "       2.04787396e-06, 5.08756545e-01]), array([1.34852846e-05, 3.40805744e-01, 4.99838918e-06, 3.32879138e-01,\n",
            "       2.25910351e-07, 3.26296408e-01])], [array([3.36600399e-05, 2.87740836e-05, 4.81614607e-01, 8.44449194e-06,\n",
            "       5.18314460e-01, 5.46021260e-08]), array([4.44059577e-05, 4.34159845e-07, 2.51247660e-05, 1.37172162e-05,\n",
            "       9.99916299e-01, 1.87532021e-08])], [array([1.34852846e-05, 3.40805744e-01, 4.99838918e-06, 3.32879138e-01,\n",
            "       2.25910351e-07, 3.26296408e-01])]]\n"
          ],
          "name": "stdout"
        }
      ]
    },
    {
      "cell_type": "code",
      "metadata": {
        "id": "RlyFHi3xSoob",
        "colab_type": "code",
        "colab": {
          "base_uri": "https://localhost:8080/",
          "height": 269
        },
        "outputId": "8be93ff0-2e10-41ee-eef2-5769ee7566df"
      },
      "source": [
        "import matplotlib.pyplot as plt\n",
        "plt.plot(cnt_history,loss_history)\n",
        "plt.show()"
      ],
      "execution_count": 160,
      "outputs": [
        {
          "output_type": "display_data",
          "data": {
            "image/png": "[encoded data removed]",
            "text/plain": [
              "<Figure size 432x288 with 1 Axes>"
            ]
          },
          "metadata": {
            "tags": [],
            "needs_background": "light"
          }
        }
      ]
    },
    {
      "cell_type": "code",
      "metadata": {
        "id": "-sfqRCgHX6-N",
        "colab_type": "code",
        "colab": {
          "base_uri": "https://localhost:8080/",
          "height": 35
        },
        "outputId": "b61595af-2e0f-4c8e-b825-54b635601004"
      },
      "source": [
        "len(cnt_history)"
      ],
      "execution_count": 135,
      "outputs": [
        {
          "output_type": "execute_result",
          "data": {
            "text/plain": [
              "100"
            ]
          },
          "metadata": {
            "tags": []
          },
          "execution_count": 135
        }
      ]
    }
  ]
}