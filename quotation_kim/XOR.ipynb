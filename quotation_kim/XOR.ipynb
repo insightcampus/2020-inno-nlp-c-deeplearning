{
  "nbformat": 4,
  "nbformat_minor": 0,
  "metadata": {
    "colab": {
      "name": "XOR.ipynb",
      "provenance": [],
      "collapsed_sections": [],
      "authorship_tag": "ABX9TyMyZk0XAGg0UshCgrhO22wX",
      "include_colab_link": true
    },
    "kernelspec": {
      "name": "python3",
      "display_name": "Python 3"
    }
  },
  "cells": [
    {
      "cell_type": "markdown",
      "metadata": {
        "id": "view-in-github",
        "colab_type": "text"
      },
      "source": [
        "<a href=\"https://colab.research.google.com/github/2020-nlp-c/nlp-deeplearning/blob/master/quotation_kim/XOR.ipynb\" target=\"_parent\"><img src=\"https://colab.research.google.com/assets/colab-badge.svg\" alt=\"Open In Colab\"/></a>"
      ]
    },
    {
      "cell_type": "code",
      "metadata": {
        "id": "dVE3WZsUadEK",
        "colab_type": "code",
        "colab": {}
      },
      "source": [
        "import numpy as np\n",
        "import random"
      ],
      "execution_count": 1,
      "outputs": []
    },
    {
      "cell_type": "code",
      "metadata": {
        "id": "AUfr3ukgacB2",
        "colab_type": "code",
        "colab": {}
      },
      "source": [
        "x = np.array([[0,0,1,1],[0,1,0,1]])\n",
        "y = np.array([[0,1,1,0]])"
      ],
      "execution_count": 2,
      "outputs": []
    },
    {
      "cell_type": "code",
      "metadata": {
        "id": "ZgpDbF6nfSYR",
        "colab_type": "code",
        "colab": {}
      },
      "source": [
        "h_num = 3\n",
        "w1 = np.random.rand(2,h_num)\n",
        "b1 = np.random.rand(h_num,1)\n",
        "w2 = np.random.rand(h_num,1)\n",
        "b2 = np.random.rand(1,1)"
      ],
      "execution_count": 3,
      "outputs": []
    },
    {
      "cell_type": "code",
      "metadata": {
        "id": "ofEaJCc3amvN",
        "colab_type": "code",
        "colab": {}
      },
      "source": [
        "def sigmoid(X):\n",
        "\treturn 1 / (1 + np.exp(-X))"
      ],
      "execution_count": 4,
      "outputs": []
    },
    {
      "cell_type": "code",
      "metadata": {
        "id": "a9Y4wgzSam4p",
        "colab_type": "code",
        "colab": {}
      },
      "source": [
        "def loss(y, y_hat):\n",
        "    loss = -1 * 1/x.shape[1] * np.sum(y * np.log(y_hat) + (1 - y) * np.log(1 - y_hat))\n",
        "\n",
        "    return loss"
      ],
      "execution_count": 5,
      "outputs": []
    },
    {
      "cell_type": "code",
      "metadata": {
        "id": "3ZSggOIfanDx",
        "colab_type": "code",
        "colab": {
          "base_uri": "https://localhost:8080/",
          "height": 377
        },
        "outputId": "ec44f729-da5d-4fbb-b760-51d0b792e64a"
      },
      "source": [
        "epoch = 100000\n",
        "learning_rate = 0.01\n",
        "for epoch in range(epoch):\n",
        "\n",
        "    # Hidden Node\n",
        "    h = sigmoid(np.dot(w1.T, x) + b1)\n",
        "\n",
        "    # y_hat\n",
        "    y_hat = sigmoid(np.dot(w2.T, h) + b2)\n",
        "\n",
        "    # Loss 계산\n",
        "    loss = -1 * 1/x.shape[1] * np.sum(y * np.log(y_hat) + (1 - y) * np.log(1 - y_hat))\n",
        "\n",
        "    # BackPropagate: Hidden Layer\n",
        "    dw2 = np.dot(h, (y_hat - y).T)\n",
        "    db2 = 1 / y.shape[1] * np.sum(y_hat - y, axis = 1, keepdims = True)\n",
        "    dh  = np.dot(w2, y_hat - y)\n",
        "\n",
        "    # BackPropagate: Input Layer\n",
        "    dz1 = dh * h * (1 - h)\n",
        "    dw1 = np.dot(x, dz1.T)\n",
        "    db1 = 1 / y.shape[1] * np.sum(dz1, axis = 1, keepdims = True)\n",
        "\n",
        "    # Weight 수정\n",
        "    w2 += -learning_rate * dw2\n",
        "    b2 += -learning_rate * db2\n",
        "    w1 += -learning_rate * dw1\n",
        "    b1 += -learning_rate * db1\n",
        "\n",
        "    if epoch % 10000 == 0:\n",
        "        predict = y_hat\n",
        "        print(predict)\n",
        "        print(loss)"
      ],
      "execution_count": 6,
      "outputs": [
        {
          "output_type": "stream",
          "text": [
            "[[0.77444009 0.80115835 0.78206659 0.80596938]]\n",
            "0.8991052003797843\n",
            "[[0.49826635 0.49533194 0.50558766 0.50051022]]\n",
            "0.6921037539641803\n",
            "[[0.06547725 0.67546309 0.87145817 0.33667201]]\n",
            "0.25203729432665767\n",
            "[[0.00507972 0.95814647 0.96137168 0.05730182]]\n",
            "0.036562644897225764\n",
            "[[0.00189653 0.97841184 0.97936872 0.03025745]]\n",
            "0.01882366485140087\n",
            "[[0.00105251 0.98550289 0.98598719 0.02049438]]\n",
            "0.012618876185718905\n",
            "[[6.93295766e-04 9.89098310e-01 9.89400878e-01 1.54833796e-02]]\n",
            "0.009478819308260902\n",
            "[[5.02233031e-04 9.91268308e-01 9.91479790e-01 1.24383535e-02]]\n",
            "0.0075863668097962645\n",
            "[[3.86435365e-04 9.92719268e-01 9.92877736e-01 1.03932422e-02]]\n",
            "0.006322313369387184\n",
            "[[3.09957611e-04 9.93757381e-01 9.93881875e-01 8.92538325e-03]]\n",
            "0.005418640494304771\n"
          ],
          "name": "stdout"
        }
      ]
    },
    {
      "cell_type": "markdown",
      "metadata": {
        "id": "1xsrL42RoltD",
        "colab_type": "text"
      },
      "source": [
        "### Class화 하기"
      ]
    },
    {
      "cell_type": "code",
      "metadata": {
        "id": "PF6VSIpuam_b",
        "colab_type": "code",
        "colab": {}
      },
      "source": [
        "class XOR:\n",
        "    def __init__ (self, x, y):\n",
        "        self.x=x\n",
        "        self.y=y\n",
        "        self.w1=[]\n",
        "        self.b1=[]\n",
        "        self.w2=[]\n",
        "        self.b2=[]\n",
        "\n",
        "    def create_weight(self,h_num):\n",
        "        self.w1 = np.random.rand(2,h_num)\n",
        "        self.b1 = np.random.rand(h_num,1)\n",
        "        self.w2 = np.random.rand(h_num,1)\n",
        "        self.b2 = np.random.rand(1,1)\n",
        "    \n",
        "    def optimize(self,epoch,learning_rate):\n",
        "        for epoch in range(epoch):\n",
        "           h = sigmoid(np.dot(self.w1.T, self.x) + self.b1)\n",
        "           y_hat = sigmoid(np.dot(self.w2.T, h) + self.b2)\n",
        "           loss = -1 * 1/self.x.shape[1] * np.sum(self.y * np.log(y_hat) + (1 - self.y) * np.log(1 - y_hat))\n",
        "\n",
        "           if epoch % 10000 == 0:\n",
        "               predict = np.round(y_hat, 3)\n",
        "               print('반복횟수: {}, 예측값: {}, Loss: {}'.format(epoch,predict,loss))\n",
        "           \n",
        "           dw2 = np.dot(h, (y_hat - self.y).T)\n",
        "           db2 = 1 / self.y.shape[1] * np.sum(y_hat - self.y, axis = 1, keepdims = True)\n",
        "           dh  = np.dot(self.w2, y_hat - self.y)\n",
        "           \n",
        "           dz1 = dh * h * (1 - h)\n",
        "           dw1 = np.dot(self.x, dz1.T)\n",
        "           db1 = 1 / self.y.shape[1] * np.sum(dz1, axis = 1, keepdims = True)\n",
        "           \n",
        "           self.w2 += -learning_rate * dw2\n",
        "           self.b2 += -learning_rate * db2\n",
        "           self.w1 += -learning_rate * dw1\n",
        "           self.b1 += -learning_rate * db1"
      ],
      "execution_count": 15,
      "outputs": []
    },
    {
      "cell_type": "code",
      "metadata": {
        "id": "-lp9AAbJam9F",
        "colab_type": "code",
        "colab": {}
      },
      "source": [
        "xor=XOR(x,y)"
      ],
      "execution_count": 16,
      "outputs": []
    },
    {
      "cell_type": "code",
      "metadata": {
        "id": "CJZEAvSeuQK7",
        "colab_type": "code",
        "colab": {}
      },
      "source": [
        "xor.create_weight(3)"
      ],
      "execution_count": 17,
      "outputs": []
    },
    {
      "cell_type": "code",
      "metadata": {
        "id": "O0Nii96Vam2O",
        "colab_type": "code",
        "colab": {
          "base_uri": "https://localhost:8080/",
          "height": 197
        },
        "outputId": "5e3c4528-40fb-4dfe-a95a-00b51aaddf96"
      },
      "source": [
        "xor.optimize(100000,0.01)"
      ],
      "execution_count": 18,
      "outputs": [
        {
          "output_type": "stream",
          "text": [
            "반복횟수: 0, 예측값: [[0.823 0.848 0.839 0.857]], Loss: 1.0043252750392249\n",
            "반복횟수: 10000, 예측값: [[0.261 0.635 0.608 0.492]], Loss: 0.4826810672310794\n",
            "반복횟수: 20000, 예측값: [[0.007 0.952 0.952 0.068]], Loss: 0.04396250598951713\n",
            "반복횟수: 30000, 예측값: [[0.002 0.977 0.977 0.033]], Loss: 0.02062558528283398\n",
            "반복횟수: 40000, 예측값: [[0.001 0.985 0.985 0.022]], Loss: 0.013395213389354631\n",
            "반복횟수: 50000, 예측값: [[0.001 0.989 0.989 0.016]], Loss: 0.009904415725782548\n",
            "반복횟수: 60000, 예측값: [[0.001 0.991 0.991 0.013]], Loss: 0.00785288433277875\n",
            "반복횟수: 70000, 예측값: [[0.    0.993 0.993 0.011]], Loss: 0.006503909115524238\n",
            "반복횟수: 80000, 예측값: [[0.    0.994 0.994 0.009]], Loss: 0.005549803243054997\n",
            "반복횟수: 90000, 예측값: [[0.    0.994 0.994 0.008]], Loss: 0.00483950685388967\n"
          ],
          "name": "stdout"
        }
      ]
    }
  ]
}