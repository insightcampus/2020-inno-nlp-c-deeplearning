{
 "cells": [
  {
   "cell_type": "code",
   "execution_count": 2,
   "metadata": {},
   "outputs": [],
   "source": [
    "import numpy as np\n",
    "import random"
   ]
  },
  {
   "cell_type": "code",
   "execution_count": 31,
   "metadata": {},
   "outputs": [],
   "source": [
    "X = np.array([[0, 0, 1, 1], [0, 1, 0, 1]])\n",
    "Y = np.array([[0, 1, 1, 0]])"
   ]
  },
  {
   "cell_type": "code",
   "execution_count": 36,
   "metadata": {},
   "outputs": [
    {
     "name": "stdout",
     "output_type": "stream",
     "text": [
      "[[0.28174335 0.50690755]\n",
      " [0.086064   0.31869082]]\n",
      "[[0.15197553]\n",
      " [0.30704769]]\n",
      "[[0.34513328]\n",
      " [0.95520596]]\n",
      "[[0.01613605]]\n"
     ]
    }
   ],
   "source": [
    "# 가중치 초기화(행은 입력, 열은 출력)\n",
    "e = 2\n",
    "h = 2\n",
    "\n",
    "w1 = np.random.random(size=(e,h))\n",
    "b1 = np.random.random(size=(h,1))\n",
    "w2 = np.random.random(size=(h,1))\n",
    "b2 = np.random.random(size=(1,1))\n",
    "\n",
    "# w1 = np.array([[0.5, 0], [0.5, 0]])\n",
    "# b1 = np.array([[0.6], [0.6]])\n",
    "# w2 = np.array([[0.7], [0.7]])\n",
    "# b2 = np.array([[0.8]])\n",
    "\n",
    "print(w1)\n",
    "print(b1)\n",
    "print(w2)\n",
    "print(b2)"
   ]
  },
  {
   "cell_type": "code",
   "execution_count": 37,
   "metadata": {},
   "outputs": [
    {
     "data": {
      "text/plain": [
       "array([[0.53792092, 0.55923047, 0.60676135, 0.627097  ],\n",
       "       [0.57616447, 0.65152256, 0.6929517 , 0.75632689]])"
      ]
     },
     "execution_count": 37,
     "metadata": {},
     "output_type": "execute_result"
    }
   ],
   "source": [
    "# sum_h1 = (X[0][0] * w1[0][0]) + (X[1][0] * w1[1][0]) + (1 * b1[0][0])\n",
    "# h1 = 1 / (1 +np.exp(-sum_h1))\n",
    "# h1\n",
    "\n",
    "sum_h = np.dot(w1.T, X) + b1\n",
    "h = 1 / (1 +np.exp(-sum_h))\n",
    "h"
   ]
  },
  {
   "cell_type": "code",
   "execution_count": 38,
   "metadata": {},
   "outputs": [],
   "source": [
    "# sum_h2 = (X[0][0] * w1[0][1]) + (X[1][0] * w1[1][1]) + (1 * b1[1][0])\n",
    "# h2 = 1 / (1 +np.exp(-sum_h2))\n",
    "# h2"
   ]
  },
  {
   "cell_type": "code",
   "execution_count": 39,
   "metadata": {},
   "outputs": [
    {
     "data": {
      "text/plain": [
       "array([[0.67964617, 0.69666848, 0.70836597, 0.72212283]])"
      ]
     },
     "execution_count": 39,
     "metadata": {},
     "output_type": "execute_result"
    }
   ],
   "source": [
    "# sum_h3 = (h1 * w2[0][0]) + (h2 * w2[1][0]) + (1 * b2[0][0])\n",
    "# h3 = 1 / (1 +np.exp(-sum_h3))\n",
    "# h3\n",
    "\n",
    "sum_y_hat = np.dot(w2.T, h) + b2\n",
    "y_hat = 1 / (1 +np.exp(-sum_y_hat))\n",
    "y_hat"
   ]
  },
  {
   "cell_type": "code",
   "execution_count": 40,
   "metadata": {},
   "outputs": [
    {
     "data": {
      "text/plain": [
       "array([0.78128632])"
      ]
     },
     "execution_count": 40,
     "metadata": {},
     "output_type": "execute_result"
    }
   ],
   "source": [
    "n = 4\n",
    "L = -1 / n * sum(np.dot(Y, np.log(y_hat).T) + np.dot((1 - Y), np.log(1 - y_hat).T))\n",
    "L"
   ]
  },
  {
   "cell_type": "code",
   "execution_count": 43,
   "metadata": {},
   "outputs": [],
   "source": [
    "a = 0.01\n",
    "dif = y_hat - Y\n",
    "w2 = w2 - a*np.dot(h, dif.T)\n",
    "b2 = b2 - a*dif\n",
    "w1 = w1 - a*np.dot(X, (np.dot(w2, dif) * h * (1-h)).T)\n",
    "b1 = b1 - a*np.dot(w2, dif) * h * (1-h)"
   ]
  },
  {
   "cell_type": "code",
   "execution_count": null,
   "metadata": {},
   "outputs": [],
   "source": []
  }
 ],
 "metadata": {
  "kernelspec": {
   "display_name": "Python 3",
   "language": "python",
   "name": "python3"
  },
  "language_info": {
   "codemirror_mode": {
    "name": "ipython",
    "version": 3
   },
   "file_extension": ".py",
   "mimetype": "text/x-python",
   "name": "python",
   "nbconvert_exporter": "python",
   "pygments_lexer": "ipython3",
   "version": "3.6.8"
  }
 },
 "nbformat": 4,
 "nbformat_minor": 4
}
