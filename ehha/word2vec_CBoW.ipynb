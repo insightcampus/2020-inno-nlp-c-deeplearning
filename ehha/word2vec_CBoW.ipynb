{
 "cells": [
  {
   "cell_type": "code",
   "execution_count": 1,
   "metadata": {},
   "outputs": [],
   "source": [
    "import random\n",
    "import numpy as np\n",
    "import pandas as pd\n",
    "from sklearn.preprocessing import OneHotEncoder"
   ]
  },
  {
   "cell_type": "code",
   "execution_count": 2,
   "metadata": {},
   "outputs": [],
   "source": [
    "docs = \"you will never know until you try\""
   ]
  },
  {
   "cell_type": "code",
   "execution_count": 3,
   "metadata": {},
   "outputs": [
    {
     "data": {
      "text/plain": [
       "array([['you'],\n",
       "       ['will'],\n",
       "       ['never'],\n",
       "       ['know'],\n",
       "       ['until'],\n",
       "       ['you'],\n",
       "       ['try']], dtype='<U5')"
      ]
     },
     "execution_count": 3,
     "metadata": {},
     "output_type": "execute_result"
    }
   ],
   "source": [
    "input_list = np.asarray(docs.split()).reshape(-1,1)\n",
    "input_list"
   ]
  },
  {
   "cell_type": "code",
   "execution_count": 4,
   "metadata": {},
   "outputs": [
    {
     "name": "stdout",
     "output_type": "stream",
     "text": [
      "[array(['know', 'never', 'try', 'until', 'will', 'you'], dtype='<U5')]\n"
     ]
    },
    {
     "data": {
      "text/plain": [
       "array([[0., 0., 0., 0., 0., 1.],\n",
       "       [0., 0., 0., 0., 1., 0.],\n",
       "       [0., 1., 0., 0., 0., 0.],\n",
       "       [1., 0., 0., 0., 0., 0.],\n",
       "       [0., 0., 0., 1., 0., 0.],\n",
       "       [0., 0., 0., 0., 0., 1.],\n",
       "       [0., 0., 1., 0., 0., 0.]])"
      ]
     },
     "execution_count": 4,
     "metadata": {},
     "output_type": "execute_result"
    }
   ],
   "source": [
    "# onehot encoding\n",
    "onehot = OneHotEncoder()\n",
    "onehot.fit(input_list)\n",
    "print(onehot.categories_)\n",
    "onehot_vec = onehot.transform(input_list).toarray()\n",
    "onehot_vec"
   ]
  },
  {
   "cell_type": "code",
   "execution_count": 5,
   "metadata": {},
   "outputs": [
    {
     "data": {
      "text/html": [
       "<div>\n",
       "<style scoped>\n",
       "    .dataframe tbody tr th:only-of-type {\n",
       "        vertical-align: middle;\n",
       "    }\n",
       "\n",
       "    .dataframe tbody tr th {\n",
       "        vertical-align: top;\n",
       "    }\n",
       "\n",
       "    .dataframe thead th {\n",
       "        text-align: right;\n",
       "    }\n",
       "</style>\n",
       "<table border=\"1\" class=\"dataframe\">\n",
       "  <thead>\n",
       "    <tr style=\"text-align: right;\">\n",
       "      <th></th>\n",
       "      <th>0</th>\n",
       "      <th>1</th>\n",
       "      <th>2</th>\n",
       "      <th>3</th>\n",
       "      <th>4</th>\n",
       "      <th>5</th>\n",
       "    </tr>\n",
       "  </thead>\n",
       "  <tbody>\n",
       "    <tr>\n",
       "      <th>you</th>\n",
       "      <td>0.0</td>\n",
       "      <td>0.0</td>\n",
       "      <td>0.0</td>\n",
       "      <td>0.0</td>\n",
       "      <td>0.0</td>\n",
       "      <td>1.0</td>\n",
       "    </tr>\n",
       "    <tr>\n",
       "      <th>will</th>\n",
       "      <td>0.0</td>\n",
       "      <td>0.0</td>\n",
       "      <td>0.0</td>\n",
       "      <td>0.0</td>\n",
       "      <td>1.0</td>\n",
       "      <td>0.0</td>\n",
       "    </tr>\n",
       "    <tr>\n",
       "      <th>never</th>\n",
       "      <td>0.0</td>\n",
       "      <td>1.0</td>\n",
       "      <td>0.0</td>\n",
       "      <td>0.0</td>\n",
       "      <td>0.0</td>\n",
       "      <td>0.0</td>\n",
       "    </tr>\n",
       "    <tr>\n",
       "      <th>know</th>\n",
       "      <td>1.0</td>\n",
       "      <td>0.0</td>\n",
       "      <td>0.0</td>\n",
       "      <td>0.0</td>\n",
       "      <td>0.0</td>\n",
       "      <td>0.0</td>\n",
       "    </tr>\n",
       "    <tr>\n",
       "      <th>until</th>\n",
       "      <td>0.0</td>\n",
       "      <td>0.0</td>\n",
       "      <td>0.0</td>\n",
       "      <td>1.0</td>\n",
       "      <td>0.0</td>\n",
       "      <td>0.0</td>\n",
       "    </tr>\n",
       "    <tr>\n",
       "      <th>you</th>\n",
       "      <td>0.0</td>\n",
       "      <td>0.0</td>\n",
       "      <td>0.0</td>\n",
       "      <td>0.0</td>\n",
       "      <td>0.0</td>\n",
       "      <td>1.0</td>\n",
       "    </tr>\n",
       "    <tr>\n",
       "      <th>try</th>\n",
       "      <td>0.0</td>\n",
       "      <td>0.0</td>\n",
       "      <td>1.0</td>\n",
       "      <td>0.0</td>\n",
       "      <td>0.0</td>\n",
       "      <td>0.0</td>\n",
       "    </tr>\n",
       "  </tbody>\n",
       "</table>\n",
       "</div>"
      ],
      "text/plain": [
       "         0    1    2    3    4    5\n",
       "you    0.0  0.0  0.0  0.0  0.0  1.0\n",
       "will   0.0  0.0  0.0  0.0  1.0  0.0\n",
       "never  0.0  1.0  0.0  0.0  0.0  0.0\n",
       "know   1.0  0.0  0.0  0.0  0.0  0.0\n",
       "until  0.0  0.0  0.0  1.0  0.0  0.0\n",
       "you    0.0  0.0  0.0  0.0  0.0  1.0\n",
       "try    0.0  0.0  1.0  0.0  0.0  0.0"
      ]
     },
     "execution_count": 5,
     "metadata": {},
     "output_type": "execute_result"
    }
   ],
   "source": [
    "input_df = pd.DataFrame(onehot_vec, index=docs.split())\n",
    "input_df"
   ]
  },
  {
   "cell_type": "code",
   "execution_count": 6,
   "metadata": {},
   "outputs": [
    {
     "data": {
      "text/plain": [
       "[array([0., 0., 0., 0., 1., 0.]),\n",
       " array([0., 0., 0., 0., 0., 1.]),\n",
       " array([0., 1., 0., 0., 0., 0.]),\n",
       " array([0., 0., 0., 0., 1., 0.]),\n",
       " array([1., 0., 0., 0., 0., 0.]),\n",
       " array([0., 1., 0., 0., 0., 0.]),\n",
       " array([0., 0., 0., 1., 0., 0.]),\n",
       " array([1., 0., 0., 0., 0., 0.]),\n",
       " array([0., 0., 0., 0., 0., 1.]),\n",
       " array([0., 0., 0., 1., 0., 0.]),\n",
       " array([0., 0., 1., 0., 0., 0.]),\n",
       " array([0., 0., 0., 0., 0., 1.])]"
      ]
     },
     "execution_count": 6,
     "metadata": {},
     "output_type": "execute_result"
    }
   ],
   "source": [
    "X_vec = []\n",
    "X_vec.append(onehot_vec[1])\n",
    "for i in range(len(onehot_vec)-2):\n",
    "    X_vec.append(onehot_vec[i])\n",
    "    X_vec.append(onehot_vec[i+2])\n",
    "X_vec.append(onehot_vec[-2])\n",
    "X_vec"
   ]
  },
  {
   "cell_type": "code",
   "execution_count": 7,
   "metadata": {},
   "outputs": [
    {
     "data": {
      "text/html": [
       "<div>\n",
       "<style scoped>\n",
       "    .dataframe tbody tr th:only-of-type {\n",
       "        vertical-align: middle;\n",
       "    }\n",
       "\n",
       "    .dataframe tbody tr th {\n",
       "        vertical-align: top;\n",
       "    }\n",
       "\n",
       "    .dataframe thead th {\n",
       "        text-align: right;\n",
       "    }\n",
       "</style>\n",
       "<table border=\"1\" class=\"dataframe\">\n",
       "  <thead>\n",
       "    <tr style=\"text-align: right;\">\n",
       "      <th></th>\n",
       "      <th>0</th>\n",
       "      <th>1</th>\n",
       "      <th>2</th>\n",
       "      <th>3</th>\n",
       "      <th>4</th>\n",
       "      <th>5</th>\n",
       "    </tr>\n",
       "  </thead>\n",
       "  <tbody>\n",
       "    <tr>\n",
       "      <th>0</th>\n",
       "      <td>0.0</td>\n",
       "      <td>0.0</td>\n",
       "      <td>0.0</td>\n",
       "      <td>0.0</td>\n",
       "      <td>1.0</td>\n",
       "      <td>0.0</td>\n",
       "    </tr>\n",
       "    <tr>\n",
       "      <th>1</th>\n",
       "      <td>0.0</td>\n",
       "      <td>0.0</td>\n",
       "      <td>0.0</td>\n",
       "      <td>0.0</td>\n",
       "      <td>0.0</td>\n",
       "      <td>1.0</td>\n",
       "    </tr>\n",
       "    <tr>\n",
       "      <th>2</th>\n",
       "      <td>0.0</td>\n",
       "      <td>1.0</td>\n",
       "      <td>0.0</td>\n",
       "      <td>0.0</td>\n",
       "      <td>0.0</td>\n",
       "      <td>0.0</td>\n",
       "    </tr>\n",
       "    <tr>\n",
       "      <th>3</th>\n",
       "      <td>0.0</td>\n",
       "      <td>0.0</td>\n",
       "      <td>0.0</td>\n",
       "      <td>0.0</td>\n",
       "      <td>1.0</td>\n",
       "      <td>0.0</td>\n",
       "    </tr>\n",
       "    <tr>\n",
       "      <th>4</th>\n",
       "      <td>1.0</td>\n",
       "      <td>0.0</td>\n",
       "      <td>0.0</td>\n",
       "      <td>0.0</td>\n",
       "      <td>0.0</td>\n",
       "      <td>0.0</td>\n",
       "    </tr>\n",
       "    <tr>\n",
       "      <th>5</th>\n",
       "      <td>0.0</td>\n",
       "      <td>1.0</td>\n",
       "      <td>0.0</td>\n",
       "      <td>0.0</td>\n",
       "      <td>0.0</td>\n",
       "      <td>0.0</td>\n",
       "    </tr>\n",
       "    <tr>\n",
       "      <th>6</th>\n",
       "      <td>0.0</td>\n",
       "      <td>0.0</td>\n",
       "      <td>0.0</td>\n",
       "      <td>1.0</td>\n",
       "      <td>0.0</td>\n",
       "      <td>0.0</td>\n",
       "    </tr>\n",
       "    <tr>\n",
       "      <th>7</th>\n",
       "      <td>1.0</td>\n",
       "      <td>0.0</td>\n",
       "      <td>0.0</td>\n",
       "      <td>0.0</td>\n",
       "      <td>0.0</td>\n",
       "      <td>0.0</td>\n",
       "    </tr>\n",
       "    <tr>\n",
       "      <th>8</th>\n",
       "      <td>0.0</td>\n",
       "      <td>0.0</td>\n",
       "      <td>0.0</td>\n",
       "      <td>0.0</td>\n",
       "      <td>0.0</td>\n",
       "      <td>1.0</td>\n",
       "    </tr>\n",
       "    <tr>\n",
       "      <th>9</th>\n",
       "      <td>0.0</td>\n",
       "      <td>0.0</td>\n",
       "      <td>0.0</td>\n",
       "      <td>1.0</td>\n",
       "      <td>0.0</td>\n",
       "      <td>0.0</td>\n",
       "    </tr>\n",
       "    <tr>\n",
       "      <th>10</th>\n",
       "      <td>0.0</td>\n",
       "      <td>0.0</td>\n",
       "      <td>1.0</td>\n",
       "      <td>0.0</td>\n",
       "      <td>0.0</td>\n",
       "      <td>0.0</td>\n",
       "    </tr>\n",
       "    <tr>\n",
       "      <th>11</th>\n",
       "      <td>0.0</td>\n",
       "      <td>0.0</td>\n",
       "      <td>0.0</td>\n",
       "      <td>0.0</td>\n",
       "      <td>0.0</td>\n",
       "      <td>1.0</td>\n",
       "    </tr>\n",
       "  </tbody>\n",
       "</table>\n",
       "</div>"
      ],
      "text/plain": [
       "      0    1    2    3    4    5\n",
       "0   0.0  0.0  0.0  0.0  1.0  0.0\n",
       "1   0.0  0.0  0.0  0.0  0.0  1.0\n",
       "2   0.0  1.0  0.0  0.0  0.0  0.0\n",
       "3   0.0  0.0  0.0  0.0  1.0  0.0\n",
       "4   1.0  0.0  0.0  0.0  0.0  0.0\n",
       "5   0.0  1.0  0.0  0.0  0.0  0.0\n",
       "6   0.0  0.0  0.0  1.0  0.0  0.0\n",
       "7   1.0  0.0  0.0  0.0  0.0  0.0\n",
       "8   0.0  0.0  0.0  0.0  0.0  1.0\n",
       "9   0.0  0.0  0.0  1.0  0.0  0.0\n",
       "10  0.0  0.0  1.0  0.0  0.0  0.0\n",
       "11  0.0  0.0  0.0  0.0  0.0  1.0"
      ]
     },
     "execution_count": 7,
     "metadata": {},
     "output_type": "execute_result"
    }
   ],
   "source": [
    "X_vec_df = pd.DataFrame(X_vec)\n",
    "X_vec_df"
   ]
  },
  {
   "cell_type": "code",
   "execution_count": 8,
   "metadata": {},
   "outputs": [
    {
     "data": {
      "text/plain": [
       "matrix([[0., 0., 0., 0., 1., 0., 0., 1., 0., 0., 0., 0.],\n",
       "        [0., 0., 1., 0., 0., 1., 0., 0., 0., 0., 0., 0.],\n",
       "        [0., 0., 0., 0., 0., 0., 0., 0., 0., 0., 1., 0.],\n",
       "        [0., 0., 0., 0., 0., 0., 1., 0., 0., 1., 0., 0.],\n",
       "        [1., 0., 0., 1., 0., 0., 0., 0., 0., 0., 0., 0.],\n",
       "        [0., 1., 0., 0., 0., 0., 0., 0., 1., 0., 0., 1.]])"
      ]
     },
     "execution_count": 8,
     "metadata": {},
     "output_type": "execute_result"
    }
   ],
   "source": [
    "X = np.matrix(X_vec_df).T\n",
    "X"
   ]
  },
  {
   "cell_type": "code",
   "execution_count": 9,
   "metadata": {},
   "outputs": [
    {
     "data": {
      "text/plain": [
       "[array([0., 0., 0., 0., 0., 1.]),\n",
       " array([0., 0., 0., 0., 1., 0.]),\n",
       " array([0., 0., 0., 0., 1., 0.]),\n",
       " array([0., 1., 0., 0., 0., 0.]),\n",
       " array([0., 1., 0., 0., 0., 0.]),\n",
       " array([1., 0., 0., 0., 0., 0.]),\n",
       " array([1., 0., 0., 0., 0., 0.]),\n",
       " array([0., 0., 0., 1., 0., 0.]),\n",
       " array([0., 0., 0., 1., 0., 0.]),\n",
       " array([0., 0., 0., 0., 0., 1.]),\n",
       " array([0., 0., 0., 0., 0., 1.]),\n",
       " array([0., 0., 1., 0., 0., 0.])]"
      ]
     },
     "execution_count": 9,
     "metadata": {},
     "output_type": "execute_result"
    }
   ],
   "source": [
    "Y_vec = []\n",
    "Y_vec.append(onehot_vec[0])\n",
    "for i in range(1,len(onehot_vec)-1):\n",
    "    Y_vec.append(onehot_vec[i])\n",
    "    Y_vec.append(onehot_vec[i])\n",
    "Y_vec.append(onehot_vec[-1])\n",
    "Y_vec"
   ]
  },
  {
   "cell_type": "code",
   "execution_count": 10,
   "metadata": {},
   "outputs": [
    {
     "data": {
      "text/html": [
       "<div>\n",
       "<style scoped>\n",
       "    .dataframe tbody tr th:only-of-type {\n",
       "        vertical-align: middle;\n",
       "    }\n",
       "\n",
       "    .dataframe tbody tr th {\n",
       "        vertical-align: top;\n",
       "    }\n",
       "\n",
       "    .dataframe thead th {\n",
       "        text-align: right;\n",
       "    }\n",
       "</style>\n",
       "<table border=\"1\" class=\"dataframe\">\n",
       "  <thead>\n",
       "    <tr style=\"text-align: right;\">\n",
       "      <th></th>\n",
       "      <th>0</th>\n",
       "      <th>1</th>\n",
       "      <th>2</th>\n",
       "      <th>3</th>\n",
       "      <th>4</th>\n",
       "      <th>5</th>\n",
       "    </tr>\n",
       "  </thead>\n",
       "  <tbody>\n",
       "    <tr>\n",
       "      <th>0</th>\n",
       "      <td>0.0</td>\n",
       "      <td>0.0</td>\n",
       "      <td>0.0</td>\n",
       "      <td>0.0</td>\n",
       "      <td>0.0</td>\n",
       "      <td>1.0</td>\n",
       "    </tr>\n",
       "    <tr>\n",
       "      <th>1</th>\n",
       "      <td>0.0</td>\n",
       "      <td>0.0</td>\n",
       "      <td>0.0</td>\n",
       "      <td>0.0</td>\n",
       "      <td>1.0</td>\n",
       "      <td>0.0</td>\n",
       "    </tr>\n",
       "    <tr>\n",
       "      <th>2</th>\n",
       "      <td>0.0</td>\n",
       "      <td>0.0</td>\n",
       "      <td>0.0</td>\n",
       "      <td>0.0</td>\n",
       "      <td>1.0</td>\n",
       "      <td>0.0</td>\n",
       "    </tr>\n",
       "    <tr>\n",
       "      <th>3</th>\n",
       "      <td>0.0</td>\n",
       "      <td>1.0</td>\n",
       "      <td>0.0</td>\n",
       "      <td>0.0</td>\n",
       "      <td>0.0</td>\n",
       "      <td>0.0</td>\n",
       "    </tr>\n",
       "    <tr>\n",
       "      <th>4</th>\n",
       "      <td>0.0</td>\n",
       "      <td>1.0</td>\n",
       "      <td>0.0</td>\n",
       "      <td>0.0</td>\n",
       "      <td>0.0</td>\n",
       "      <td>0.0</td>\n",
       "    </tr>\n",
       "    <tr>\n",
       "      <th>5</th>\n",
       "      <td>1.0</td>\n",
       "      <td>0.0</td>\n",
       "      <td>0.0</td>\n",
       "      <td>0.0</td>\n",
       "      <td>0.0</td>\n",
       "      <td>0.0</td>\n",
       "    </tr>\n",
       "    <tr>\n",
       "      <th>6</th>\n",
       "      <td>1.0</td>\n",
       "      <td>0.0</td>\n",
       "      <td>0.0</td>\n",
       "      <td>0.0</td>\n",
       "      <td>0.0</td>\n",
       "      <td>0.0</td>\n",
       "    </tr>\n",
       "    <tr>\n",
       "      <th>7</th>\n",
       "      <td>0.0</td>\n",
       "      <td>0.0</td>\n",
       "      <td>0.0</td>\n",
       "      <td>1.0</td>\n",
       "      <td>0.0</td>\n",
       "      <td>0.0</td>\n",
       "    </tr>\n",
       "    <tr>\n",
       "      <th>8</th>\n",
       "      <td>0.0</td>\n",
       "      <td>0.0</td>\n",
       "      <td>0.0</td>\n",
       "      <td>1.0</td>\n",
       "      <td>0.0</td>\n",
       "      <td>0.0</td>\n",
       "    </tr>\n",
       "    <tr>\n",
       "      <th>9</th>\n",
       "      <td>0.0</td>\n",
       "      <td>0.0</td>\n",
       "      <td>0.0</td>\n",
       "      <td>0.0</td>\n",
       "      <td>0.0</td>\n",
       "      <td>1.0</td>\n",
       "    </tr>\n",
       "    <tr>\n",
       "      <th>10</th>\n",
       "      <td>0.0</td>\n",
       "      <td>0.0</td>\n",
       "      <td>0.0</td>\n",
       "      <td>0.0</td>\n",
       "      <td>0.0</td>\n",
       "      <td>1.0</td>\n",
       "    </tr>\n",
       "    <tr>\n",
       "      <th>11</th>\n",
       "      <td>0.0</td>\n",
       "      <td>0.0</td>\n",
       "      <td>1.0</td>\n",
       "      <td>0.0</td>\n",
       "      <td>0.0</td>\n",
       "      <td>0.0</td>\n",
       "    </tr>\n",
       "  </tbody>\n",
       "</table>\n",
       "</div>"
      ],
      "text/plain": [
       "      0    1    2    3    4    5\n",
       "0   0.0  0.0  0.0  0.0  0.0  1.0\n",
       "1   0.0  0.0  0.0  0.0  1.0  0.0\n",
       "2   0.0  0.0  0.0  0.0  1.0  0.0\n",
       "3   0.0  1.0  0.0  0.0  0.0  0.0\n",
       "4   0.0  1.0  0.0  0.0  0.0  0.0\n",
       "5   1.0  0.0  0.0  0.0  0.0  0.0\n",
       "6   1.0  0.0  0.0  0.0  0.0  0.0\n",
       "7   0.0  0.0  0.0  1.0  0.0  0.0\n",
       "8   0.0  0.0  0.0  1.0  0.0  0.0\n",
       "9   0.0  0.0  0.0  0.0  0.0  1.0\n",
       "10  0.0  0.0  0.0  0.0  0.0  1.0\n",
       "11  0.0  0.0  1.0  0.0  0.0  0.0"
      ]
     },
     "execution_count": 10,
     "metadata": {},
     "output_type": "execute_result"
    }
   ],
   "source": [
    "Y_vec_df = pd.DataFrame(Y_vec)\n",
    "Y_vec_df"
   ]
  },
  {
   "cell_type": "code",
   "execution_count": 11,
   "metadata": {},
   "outputs": [
    {
     "data": {
      "text/plain": [
       "matrix([[0., 0., 0., 0., 0., 1., 1., 0., 0., 0., 0., 0.],\n",
       "        [0., 0., 0., 1., 1., 0., 0., 0., 0., 0., 0., 0.],\n",
       "        [0., 0., 0., 0., 0., 0., 0., 0., 0., 0., 0., 1.],\n",
       "        [0., 0., 0., 0., 0., 0., 0., 1., 1., 0., 0., 0.],\n",
       "        [0., 1., 1., 0., 0., 0., 0., 0., 0., 0., 0., 0.],\n",
       "        [1., 0., 0., 0., 0., 0., 0., 0., 0., 1., 1., 0.]])"
      ]
     },
     "execution_count": 11,
     "metadata": {},
     "output_type": "execute_result"
    }
   ],
   "source": [
    "Y = np.matrix(Y_vec_df).T\n",
    "Y"
   ]
  },
  {
   "cell_type": "code",
   "execution_count": 12,
   "metadata": {},
   "outputs": [],
   "source": [
    "i_node = len(set(docs.split()))\n",
    "h_node = 4"
   ]
  },
  {
   "cell_type": "code",
   "execution_count": 13,
   "metadata": {},
   "outputs": [
    {
     "name": "stdout",
     "output_type": "stream",
     "text": [
      "[[0.5365147  0.88067092 0.66082953 0.01774051]\n",
      " [0.25287792 0.88156401 0.19018949 0.20351112]\n",
      " [0.92293257 0.0321786  0.31312098 0.73956728]\n",
      " [0.87132069 0.35043621 0.48798632 0.8865782 ]\n",
      " [0.26205413 0.68839593 0.04935834 0.54632096]\n",
      " [0.82722089 0.51503532 0.3698723  0.53110958]]\n",
      "[[0.30523047 0.37251139 0.82971397 0.96342064 0.33325026 0.3778721 ]\n",
      " [0.37986539 0.30650151 0.64182306 0.18092732 0.54403599 0.60519916]\n",
      " [0.00124126 0.67092369 0.35572274 0.28285135 0.71909061 0.50566167]\n",
      " [0.53144168 0.03990173 0.06778371 0.82024724 0.03519447 0.3797312 ]]\n"
     ]
    }
   ],
   "source": [
    "w1 = np.random.random(size=(i_node,h_node))\n",
    "w2 = np.random.random(size=(h_node,i_node))\n",
    "print(w1)\n",
    "print(w2)"
   ]
  },
  {
   "cell_type": "code",
   "execution_count": 14,
   "metadata": {},
   "outputs": [
    {
     "data": {
      "text/plain": [
       "matrix([[0.26205413, 0.82722089, 0.25287792, 0.26205413, 0.5365147 ,\n",
       "         0.25287792, 0.87132069, 0.5365147 , 0.82722089, 0.87132069,\n",
       "         0.92293257, 0.82722089],\n",
       "        [0.68839593, 0.51503532, 0.88156401, 0.68839593, 0.88067092,\n",
       "         0.88156401, 0.35043621, 0.88067092, 0.51503532, 0.35043621,\n",
       "         0.0321786 , 0.51503532],\n",
       "        [0.04935834, 0.3698723 , 0.19018949, 0.04935834, 0.66082953,\n",
       "         0.19018949, 0.48798632, 0.66082953, 0.3698723 , 0.48798632,\n",
       "         0.31312098, 0.3698723 ],\n",
       "        [0.54632096, 0.53110958, 0.20351112, 0.54632096, 0.01774051,\n",
       "         0.20351112, 0.8865782 , 0.01774051, 0.53110958, 0.8865782 ,\n",
       "         0.73956728, 0.53110958]])"
      ]
     },
     "execution_count": 14,
     "metadata": {},
     "output_type": "execute_result"
    }
   ],
   "source": [
    "H = np.dot(w1.T, X)\n",
    "H"
   ]
  },
  {
   "cell_type": "code",
   "execution_count": 15,
   "metadata": {},
   "outputs": [],
   "source": [
    "def softmax(wth) :\n",
    "    return np.exp(wth.T) / np.sum(np.exp(np.array(wth.T)), axis=1, keepdims=True)"
   ]
  },
  {
   "cell_type": "code",
   "execution_count": 16,
   "metadata": {},
   "outputs": [
    {
     "data": {
      "text/plain": [
       "matrix([[0.63188369, 0.73084999, 0.52045207, 0.63188369, 0.50854535,\n",
       "         0.52045207, 0.87084254, 0.50854535, 0.73084999, 0.87084254,\n",
       "         0.68735622, 0.73084999],\n",
       "        [0.36352737, 0.73535658, 0.50012368, 0.36352737, 0.91385886,\n",
       "         0.50012368, 0.79476369, 0.91385886, 0.73535658, 0.79476369,\n",
       "         0.59325598, 0.73535658],\n",
       "        [0.71384789, 1.18449083, 0.85707391, 0.71384789, 1.24666325,\n",
       "         0.85707391, 1.18154837, 1.24666325, 1.18449083, 1.18154837,\n",
       "         0.94793788, 1.18449083],\n",
       "        [0.83909732, 1.43040569, 0.62385161, 0.83909732, 0.8776949 ,\n",
       "         0.62385161, 1.76809274, 0.8776949 , 1.43040569, 1.76809274,\n",
       "         1.59018899, 1.43040569],\n",
       "        [0.51656237, 0.84053314, 0.70780012, 0.51656237, 1.13373102,\n",
       "         0.70780012, 0.86312678, 1.13373102, 0.84053314, 0.86312678,\n",
       "         0.57626487, 0.84053314],\n",
       "        [0.74805332, 1.01299176, 0.80252836, 0.74805332, 1.07660803,\n",
       "         0.80252836, 1.12474886, 1.07660803, 1.01299176, 1.12474886,\n",
       "         0.80739498, 1.01299176]])"
      ]
     },
     "execution_count": 16,
     "metadata": {},
     "output_type": "execute_result"
    }
   ],
   "source": [
    "WtH_cal = np.dot(w2.T, H)\n",
    "WtH_cal"
   ]
  },
  {
   "cell_type": "code",
   "execution_count": 17,
   "metadata": {},
   "outputs": [
    {
     "data": {
      "text/plain": [
       "matrix([[0.16408065, 0.12546186, 0.17809592, 0.20185946, 0.14620895,\n",
       "         0.18429315],\n",
       "        [0.12448187, 0.12504412, 0.19593851, 0.25056434, 0.13891236,\n",
       "         0.16505881],\n",
       "        [0.14243092, 0.13956476, 0.19943312, 0.15794654, 0.17177838,\n",
       "         0.18884629],\n",
       "        [0.16408065, 0.12546186, 0.17809592, 0.20185946, 0.14620895,\n",
       "         0.18429315],\n",
       "        [0.10339435, 0.15506801, 0.2163004 , 0.14956033, 0.19320194,\n",
       "         0.18247496],\n",
       "        [0.14243092, 0.13956476, 0.19943312, 0.15794654, 0.17177838,\n",
       "         0.18884629],\n",
       "        [0.12460524, 0.11547705, 0.17000987, 0.30563783, 0.12364751,\n",
       "         0.16062251],\n",
       "        [0.10339435, 0.15506801, 0.2163004 , 0.14956033, 0.19320194,\n",
       "         0.18247496],\n",
       "        [0.12448187, 0.12504412, 0.19593851, 0.25056434, 0.13891236,\n",
       "         0.16505881],\n",
       "        [0.12460524, 0.11547705, 0.17000987, 0.30563783, 0.12364751,\n",
       "         0.16062251],\n",
       "        [0.12992321, 0.118255  , 0.16859936, 0.32046605, 0.11626269,\n",
       "         0.14649369],\n",
       "        [0.12448187, 0.12504412, 0.19593851, 0.25056434, 0.13891236,\n",
       "         0.16505881]])"
      ]
     },
     "execution_count": 17,
     "metadata": {},
     "output_type": "execute_result"
    }
   ],
   "source": [
    "y_hat = softmax(WtH_cal)\n",
    "y_hat"
   ]
  },
  {
   "cell_type": "code",
   "execution_count": 18,
   "metadata": {},
   "outputs": [
    {
     "data": {
      "text/plain": [
       "1.8384465159092855"
      ]
     },
     "execution_count": 18,
     "metadata": {},
     "output_type": "execute_result"
    }
   ],
   "source": [
    "loss = -np.multiply(Y, np.log(y_hat).T).sum() / len(X_vec)\n",
    "loss"
   ]
  },
  {
   "cell_type": "code",
   "execution_count": 19,
   "metadata": {},
   "outputs": [],
   "source": [
    "a = 0.01\n",
    "dif = y_hat.T - Y\n",
    "w1 = w1 - a * (X * (w2 * dif).T)\n",
    "w2 = w2 - a * (H * dif.T)"
   ]
  },
  {
   "cell_type": "code",
   "execution_count": null,
   "metadata": {},
   "outputs": [],
   "source": []
  }
 ],
 "metadata": {
  "kernelspec": {
   "display_name": "Python 3",
   "language": "python",
   "name": "python3"
  },
  "language_info": {
   "codemirror_mode": {
    "name": "ipython",
    "version": 3
   },
   "file_extension": ".py",
   "mimetype": "text/x-python",
   "name": "python",
   "nbconvert_exporter": "python",
   "pygments_lexer": "ipython3",
   "version": "3.6.8"
  }
 },
 "nbformat": 4,
 "nbformat_minor": 4
}
