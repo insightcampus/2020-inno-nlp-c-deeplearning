{
 "cells": [
  {
   "cell_type": "code",
   "execution_count": 1,
   "metadata": {},
   "outputs": [],
   "source": [
    "import random\n",
    "import numpy as np\n",
    "import pandas as pd\n",
    "from sklearn.preprocessing import OneHotEncoder"
   ]
  },
  {
   "cell_type": "code",
   "execution_count": 2,
   "metadata": {},
   "outputs": [],
   "source": [
    "docs = \"you will never know until you try\""
   ]
  },
  {
   "cell_type": "code",
   "execution_count": 3,
   "metadata": {},
   "outputs": [
    {
     "data": {
      "text/plain": [
       "array([['you'],\n",
       "       ['will'],\n",
       "       ['never'],\n",
       "       ['know'],\n",
       "       ['until'],\n",
       "       ['you'],\n",
       "       ['try']], dtype='<U5')"
      ]
     },
     "execution_count": 3,
     "metadata": {},
     "output_type": "execute_result"
    }
   ],
   "source": [
    "input_list = np.asarray(docs.split()).reshape(-1,1)\n",
    "input_list"
   ]
  },
  {
   "cell_type": "code",
   "execution_count": null,
   "metadata": {},
   "outputs": [],
   "source": [
    "# onehot encoding\n",
    "onehot = OneHotEncoder()\n",
    "onehot.fit(input_list)\n",
    "print(onehot.categories_)\n",
    "onehot_vec = onehot.transform(input_list).toarray()\n",
    "onehot_vec"
   ]
  },
  {
   "cell_type": "code",
   "execution_count": 5,
   "metadata": {},
   "outputs": [
    {
     "data": {
      "text/html": [
       "<div>\n",
       "<style scoped>\n",
       "    .dataframe tbody tr th:only-of-type {\n",
       "        vertical-align: middle;\n",
       "    }\n",
       "\n",
       "    .dataframe tbody tr th {\n",
       "        vertical-align: top;\n",
       "    }\n",
       "\n",
       "    .dataframe thead th {\n",
       "        text-align: right;\n",
       "    }\n",
       "</style>\n",
       "<table border=\"1\" class=\"dataframe\">\n",
       "  <thead>\n",
       "    <tr style=\"text-align: right;\">\n",
       "      <th></th>\n",
       "      <th>0</th>\n",
       "      <th>1</th>\n",
       "      <th>2</th>\n",
       "      <th>3</th>\n",
       "      <th>4</th>\n",
       "      <th>5</th>\n",
       "    </tr>\n",
       "  </thead>\n",
       "  <tbody>\n",
       "    <tr>\n",
       "      <th>you</th>\n",
       "      <td>0.0</td>\n",
       "      <td>0.0</td>\n",
       "      <td>0.0</td>\n",
       "      <td>0.0</td>\n",
       "      <td>0.0</td>\n",
       "      <td>1.0</td>\n",
       "    </tr>\n",
       "    <tr>\n",
       "      <th>will</th>\n",
       "      <td>0.0</td>\n",
       "      <td>0.0</td>\n",
       "      <td>0.0</td>\n",
       "      <td>0.0</td>\n",
       "      <td>1.0</td>\n",
       "      <td>0.0</td>\n",
       "    </tr>\n",
       "    <tr>\n",
       "      <th>never</th>\n",
       "      <td>0.0</td>\n",
       "      <td>1.0</td>\n",
       "      <td>0.0</td>\n",
       "      <td>0.0</td>\n",
       "      <td>0.0</td>\n",
       "      <td>0.0</td>\n",
       "    </tr>\n",
       "    <tr>\n",
       "      <th>know</th>\n",
       "      <td>1.0</td>\n",
       "      <td>0.0</td>\n",
       "      <td>0.0</td>\n",
       "      <td>0.0</td>\n",
       "      <td>0.0</td>\n",
       "      <td>0.0</td>\n",
       "    </tr>\n",
       "    <tr>\n",
       "      <th>until</th>\n",
       "      <td>0.0</td>\n",
       "      <td>0.0</td>\n",
       "      <td>0.0</td>\n",
       "      <td>1.0</td>\n",
       "      <td>0.0</td>\n",
       "      <td>0.0</td>\n",
       "    </tr>\n",
       "    <tr>\n",
       "      <th>you</th>\n",
       "      <td>0.0</td>\n",
       "      <td>0.0</td>\n",
       "      <td>0.0</td>\n",
       "      <td>0.0</td>\n",
       "      <td>0.0</td>\n",
       "      <td>1.0</td>\n",
       "    </tr>\n",
       "    <tr>\n",
       "      <th>try</th>\n",
       "      <td>0.0</td>\n",
       "      <td>0.0</td>\n",
       "      <td>1.0</td>\n",
       "      <td>0.0</td>\n",
       "      <td>0.0</td>\n",
       "      <td>0.0</td>\n",
       "    </tr>\n",
       "  </tbody>\n",
       "</table>\n",
       "</div>"
      ],
      "text/plain": [
       "         0    1    2    3    4    5\n",
       "you    0.0  0.0  0.0  0.0  0.0  1.0\n",
       "will   0.0  0.0  0.0  0.0  1.0  0.0\n",
       "never  0.0  1.0  0.0  0.0  0.0  0.0\n",
       "know   1.0  0.0  0.0  0.0  0.0  0.0\n",
       "until  0.0  0.0  0.0  1.0  0.0  0.0\n",
       "you    0.0  0.0  0.0  0.0  0.0  1.0\n",
       "try    0.0  0.0  1.0  0.0  0.0  0.0"
      ]
     },
     "execution_count": 5,
     "metadata": {},
     "output_type": "execute_result"
    }
   ],
   "source": [
    "input_df = pd.DataFrame(onehot_vec, index=docs.split())\n",
    "input_df"
   ]
  },
  {
   "cell_type": "code",
   "execution_count": 6,
   "metadata": {},
   "outputs": [
    {
     "data": {
      "text/plain": [
       "[array([0., 0., 0., 0., 1., 0.]),\n",
       " array([0., 0., 0., 0., 0., 1.]),\n",
       " array([0., 0., 0., 0., 0., 1.]),\n",
       " array([0., 0., 0., 0., 1., 0.]),\n",
       " array([0., 0., 0., 0., 1., 0.]),\n",
       " array([0., 1., 0., 0., 0., 0.]),\n",
       " array([0., 1., 0., 0., 0., 0.]),\n",
       " array([1., 0., 0., 0., 0., 0.]),\n",
       " array([1., 0., 0., 0., 0., 0.]),\n",
       " array([0., 0., 0., 1., 0., 0.]),\n",
       " array([0., 0., 0., 1., 0., 0.]),\n",
       " array([0., 0., 0., 0., 0., 1.])]"
      ]
     },
     "execution_count": 6,
     "metadata": {},
     "output_type": "execute_result"
    }
   ],
   "source": [
    "X_vec = []\n",
    "X_vec.append(onehot_vec[1])\n",
    "for i in range(len(onehot_vec)-2):\n",
    "    X_vec.append(onehot_vec[i])\n",
    "    X_vec.append(onehot_vec[i])\n",
    "X_vec.append(onehot_vec[-2])\n",
    "X_vec"
   ]
  },
  {
   "cell_type": "code",
   "execution_count": 7,
   "metadata": {},
   "outputs": [
    {
     "data": {
      "text/html": [
       "<div>\n",
       "<style scoped>\n",
       "    .dataframe tbody tr th:only-of-type {\n",
       "        vertical-align: middle;\n",
       "    }\n",
       "\n",
       "    .dataframe tbody tr th {\n",
       "        vertical-align: top;\n",
       "    }\n",
       "\n",
       "    .dataframe thead th {\n",
       "        text-align: right;\n",
       "    }\n",
       "</style>\n",
       "<table border=\"1\" class=\"dataframe\">\n",
       "  <thead>\n",
       "    <tr style=\"text-align: right;\">\n",
       "      <th></th>\n",
       "      <th>0</th>\n",
       "      <th>1</th>\n",
       "      <th>2</th>\n",
       "      <th>3</th>\n",
       "      <th>4</th>\n",
       "      <th>5</th>\n",
       "    </tr>\n",
       "  </thead>\n",
       "  <tbody>\n",
       "    <tr>\n",
       "      <th>0</th>\n",
       "      <td>0.0</td>\n",
       "      <td>0.0</td>\n",
       "      <td>0.0</td>\n",
       "      <td>0.0</td>\n",
       "      <td>1.0</td>\n",
       "      <td>0.0</td>\n",
       "    </tr>\n",
       "    <tr>\n",
       "      <th>1</th>\n",
       "      <td>0.0</td>\n",
       "      <td>0.0</td>\n",
       "      <td>0.0</td>\n",
       "      <td>0.0</td>\n",
       "      <td>0.0</td>\n",
       "      <td>1.0</td>\n",
       "    </tr>\n",
       "    <tr>\n",
       "      <th>2</th>\n",
       "      <td>0.0</td>\n",
       "      <td>0.0</td>\n",
       "      <td>0.0</td>\n",
       "      <td>0.0</td>\n",
       "      <td>0.0</td>\n",
       "      <td>1.0</td>\n",
       "    </tr>\n",
       "    <tr>\n",
       "      <th>3</th>\n",
       "      <td>0.0</td>\n",
       "      <td>0.0</td>\n",
       "      <td>0.0</td>\n",
       "      <td>0.0</td>\n",
       "      <td>1.0</td>\n",
       "      <td>0.0</td>\n",
       "    </tr>\n",
       "    <tr>\n",
       "      <th>4</th>\n",
       "      <td>0.0</td>\n",
       "      <td>0.0</td>\n",
       "      <td>0.0</td>\n",
       "      <td>0.0</td>\n",
       "      <td>1.0</td>\n",
       "      <td>0.0</td>\n",
       "    </tr>\n",
       "    <tr>\n",
       "      <th>5</th>\n",
       "      <td>0.0</td>\n",
       "      <td>1.0</td>\n",
       "      <td>0.0</td>\n",
       "      <td>0.0</td>\n",
       "      <td>0.0</td>\n",
       "      <td>0.0</td>\n",
       "    </tr>\n",
       "    <tr>\n",
       "      <th>6</th>\n",
       "      <td>0.0</td>\n",
       "      <td>1.0</td>\n",
       "      <td>0.0</td>\n",
       "      <td>0.0</td>\n",
       "      <td>0.0</td>\n",
       "      <td>0.0</td>\n",
       "    </tr>\n",
       "    <tr>\n",
       "      <th>7</th>\n",
       "      <td>1.0</td>\n",
       "      <td>0.0</td>\n",
       "      <td>0.0</td>\n",
       "      <td>0.0</td>\n",
       "      <td>0.0</td>\n",
       "      <td>0.0</td>\n",
       "    </tr>\n",
       "    <tr>\n",
       "      <th>8</th>\n",
       "      <td>1.0</td>\n",
       "      <td>0.0</td>\n",
       "      <td>0.0</td>\n",
       "      <td>0.0</td>\n",
       "      <td>0.0</td>\n",
       "      <td>0.0</td>\n",
       "    </tr>\n",
       "    <tr>\n",
       "      <th>9</th>\n",
       "      <td>0.0</td>\n",
       "      <td>0.0</td>\n",
       "      <td>0.0</td>\n",
       "      <td>1.0</td>\n",
       "      <td>0.0</td>\n",
       "      <td>0.0</td>\n",
       "    </tr>\n",
       "    <tr>\n",
       "      <th>10</th>\n",
       "      <td>0.0</td>\n",
       "      <td>0.0</td>\n",
       "      <td>0.0</td>\n",
       "      <td>1.0</td>\n",
       "      <td>0.0</td>\n",
       "      <td>0.0</td>\n",
       "    </tr>\n",
       "    <tr>\n",
       "      <th>11</th>\n",
       "      <td>0.0</td>\n",
       "      <td>0.0</td>\n",
       "      <td>0.0</td>\n",
       "      <td>0.0</td>\n",
       "      <td>0.0</td>\n",
       "      <td>1.0</td>\n",
       "    </tr>\n",
       "  </tbody>\n",
       "</table>\n",
       "</div>"
      ],
      "text/plain": [
       "      0    1    2    3    4    5\n",
       "0   0.0  0.0  0.0  0.0  1.0  0.0\n",
       "1   0.0  0.0  0.0  0.0  0.0  1.0\n",
       "2   0.0  0.0  0.0  0.0  0.0  1.0\n",
       "3   0.0  0.0  0.0  0.0  1.0  0.0\n",
       "4   0.0  0.0  0.0  0.0  1.0  0.0\n",
       "5   0.0  1.0  0.0  0.0  0.0  0.0\n",
       "6   0.0  1.0  0.0  0.0  0.0  0.0\n",
       "7   1.0  0.0  0.0  0.0  0.0  0.0\n",
       "8   1.0  0.0  0.0  0.0  0.0  0.0\n",
       "9   0.0  0.0  0.0  1.0  0.0  0.0\n",
       "10  0.0  0.0  0.0  1.0  0.0  0.0\n",
       "11  0.0  0.0  0.0  0.0  0.0  1.0"
      ]
     },
     "execution_count": 7,
     "metadata": {},
     "output_type": "execute_result"
    }
   ],
   "source": [
    "X_vec_df = pd.DataFrame(X_vec)\n",
    "X_vec_df"
   ]
  },
  {
   "cell_type": "code",
   "execution_count": 8,
   "metadata": {},
   "outputs": [
    {
     "data": {
      "text/plain": [
       "matrix([[0., 0., 0., 0., 0., 0., 0., 1., 1., 0., 0., 0.],\n",
       "        [0., 0., 0., 0., 0., 1., 1., 0., 0., 0., 0., 0.],\n",
       "        [0., 0., 0., 0., 0., 0., 0., 0., 0., 0., 0., 0.],\n",
       "        [0., 0., 0., 0., 0., 0., 0., 0., 0., 1., 1., 0.],\n",
       "        [1., 0., 0., 1., 1., 0., 0., 0., 0., 0., 0., 0.],\n",
       "        [0., 1., 1., 0., 0., 0., 0., 0., 0., 0., 0., 1.]])"
      ]
     },
     "execution_count": 8,
     "metadata": {},
     "output_type": "execute_result"
    }
   ],
   "source": [
    "X = np.matrix(X_vec_df).T\n",
    "X"
   ]
  },
  {
   "cell_type": "code",
   "execution_count": 9,
   "metadata": {},
   "outputs": [
    {
     "data": {
      "text/plain": [
       "[array([0., 0., 0., 0., 0., 1.]),\n",
       " array([0., 0., 0., 0., 1., 0.]),\n",
       " array([0., 0., 0., 0., 1., 0.]),\n",
       " array([0., 1., 0., 0., 0., 0.]),\n",
       " array([0., 1., 0., 0., 0., 0.]),\n",
       " array([1., 0., 0., 0., 0., 0.]),\n",
       " array([1., 0., 0., 0., 0., 0.]),\n",
       " array([0., 0., 0., 1., 0., 0.]),\n",
       " array([0., 0., 0., 1., 0., 0.]),\n",
       " array([0., 0., 0., 0., 0., 1.]),\n",
       " array([0., 0., 0., 0., 0., 1.]),\n",
       " array([0., 0., 1., 0., 0., 0.])]"
      ]
     },
     "execution_count": 9,
     "metadata": {},
     "output_type": "execute_result"
    }
   ],
   "source": [
    "Y_vec = []\n",
    "Y_vec.append(onehot_vec[0])\n",
    "for i in range(1,len(onehot_vec)-1):\n",
    "    Y_vec.append(onehot_vec[i])\n",
    "    Y_vec.append(onehot_vec[i])\n",
    "Y_vec.append(onehot_vec[-1])\n",
    "Y_vec"
   ]
  },
  {
   "cell_type": "code",
   "execution_count": 10,
   "metadata": {},
   "outputs": [
    {
     "data": {
      "text/html": [
       "<div>\n",
       "<style scoped>\n",
       "    .dataframe tbody tr th:only-of-type {\n",
       "        vertical-align: middle;\n",
       "    }\n",
       "\n",
       "    .dataframe tbody tr th {\n",
       "        vertical-align: top;\n",
       "    }\n",
       "\n",
       "    .dataframe thead th {\n",
       "        text-align: right;\n",
       "    }\n",
       "</style>\n",
       "<table border=\"1\" class=\"dataframe\">\n",
       "  <thead>\n",
       "    <tr style=\"text-align: right;\">\n",
       "      <th></th>\n",
       "      <th>0</th>\n",
       "      <th>1</th>\n",
       "      <th>2</th>\n",
       "      <th>3</th>\n",
       "      <th>4</th>\n",
       "      <th>5</th>\n",
       "    </tr>\n",
       "  </thead>\n",
       "  <tbody>\n",
       "    <tr>\n",
       "      <th>0</th>\n",
       "      <td>0.0</td>\n",
       "      <td>0.0</td>\n",
       "      <td>0.0</td>\n",
       "      <td>0.0</td>\n",
       "      <td>0.0</td>\n",
       "      <td>1.0</td>\n",
       "    </tr>\n",
       "    <tr>\n",
       "      <th>1</th>\n",
       "      <td>0.0</td>\n",
       "      <td>0.0</td>\n",
       "      <td>0.0</td>\n",
       "      <td>0.0</td>\n",
       "      <td>1.0</td>\n",
       "      <td>0.0</td>\n",
       "    </tr>\n",
       "    <tr>\n",
       "      <th>2</th>\n",
       "      <td>0.0</td>\n",
       "      <td>0.0</td>\n",
       "      <td>0.0</td>\n",
       "      <td>0.0</td>\n",
       "      <td>1.0</td>\n",
       "      <td>0.0</td>\n",
       "    </tr>\n",
       "    <tr>\n",
       "      <th>3</th>\n",
       "      <td>0.0</td>\n",
       "      <td>1.0</td>\n",
       "      <td>0.0</td>\n",
       "      <td>0.0</td>\n",
       "      <td>0.0</td>\n",
       "      <td>0.0</td>\n",
       "    </tr>\n",
       "    <tr>\n",
       "      <th>4</th>\n",
       "      <td>0.0</td>\n",
       "      <td>1.0</td>\n",
       "      <td>0.0</td>\n",
       "      <td>0.0</td>\n",
       "      <td>0.0</td>\n",
       "      <td>0.0</td>\n",
       "    </tr>\n",
       "    <tr>\n",
       "      <th>5</th>\n",
       "      <td>1.0</td>\n",
       "      <td>0.0</td>\n",
       "      <td>0.0</td>\n",
       "      <td>0.0</td>\n",
       "      <td>0.0</td>\n",
       "      <td>0.0</td>\n",
       "    </tr>\n",
       "    <tr>\n",
       "      <th>6</th>\n",
       "      <td>1.0</td>\n",
       "      <td>0.0</td>\n",
       "      <td>0.0</td>\n",
       "      <td>0.0</td>\n",
       "      <td>0.0</td>\n",
       "      <td>0.0</td>\n",
       "    </tr>\n",
       "    <tr>\n",
       "      <th>7</th>\n",
       "      <td>0.0</td>\n",
       "      <td>0.0</td>\n",
       "      <td>0.0</td>\n",
       "      <td>1.0</td>\n",
       "      <td>0.0</td>\n",
       "      <td>0.0</td>\n",
       "    </tr>\n",
       "    <tr>\n",
       "      <th>8</th>\n",
       "      <td>0.0</td>\n",
       "      <td>0.0</td>\n",
       "      <td>0.0</td>\n",
       "      <td>1.0</td>\n",
       "      <td>0.0</td>\n",
       "      <td>0.0</td>\n",
       "    </tr>\n",
       "    <tr>\n",
       "      <th>9</th>\n",
       "      <td>0.0</td>\n",
       "      <td>0.0</td>\n",
       "      <td>0.0</td>\n",
       "      <td>0.0</td>\n",
       "      <td>0.0</td>\n",
       "      <td>1.0</td>\n",
       "    </tr>\n",
       "    <tr>\n",
       "      <th>10</th>\n",
       "      <td>0.0</td>\n",
       "      <td>0.0</td>\n",
       "      <td>0.0</td>\n",
       "      <td>0.0</td>\n",
       "      <td>0.0</td>\n",
       "      <td>1.0</td>\n",
       "    </tr>\n",
       "    <tr>\n",
       "      <th>11</th>\n",
       "      <td>0.0</td>\n",
       "      <td>0.0</td>\n",
       "      <td>1.0</td>\n",
       "      <td>0.0</td>\n",
       "      <td>0.0</td>\n",
       "      <td>0.0</td>\n",
       "    </tr>\n",
       "  </tbody>\n",
       "</table>\n",
       "</div>"
      ],
      "text/plain": [
       "      0    1    2    3    4    5\n",
       "0   0.0  0.0  0.0  0.0  0.0  1.0\n",
       "1   0.0  0.0  0.0  0.0  1.0  0.0\n",
       "2   0.0  0.0  0.0  0.0  1.0  0.0\n",
       "3   0.0  1.0  0.0  0.0  0.0  0.0\n",
       "4   0.0  1.0  0.0  0.0  0.0  0.0\n",
       "5   1.0  0.0  0.0  0.0  0.0  0.0\n",
       "6   1.0  0.0  0.0  0.0  0.0  0.0\n",
       "7   0.0  0.0  0.0  1.0  0.0  0.0\n",
       "8   0.0  0.0  0.0  1.0  0.0  0.0\n",
       "9   0.0  0.0  0.0  0.0  0.0  1.0\n",
       "10  0.0  0.0  0.0  0.0  0.0  1.0\n",
       "11  0.0  0.0  1.0  0.0  0.0  0.0"
      ]
     },
     "execution_count": 10,
     "metadata": {},
     "output_type": "execute_result"
    }
   ],
   "source": [
    "Y_vec_df = pd.DataFrame(Y_vec)\n",
    "Y_vec_df"
   ]
  },
  {
   "cell_type": "code",
   "execution_count": 11,
   "metadata": {},
   "outputs": [
    {
     "data": {
      "text/plain": [
       "matrix([[0., 0., 0., 0., 0., 1., 1., 0., 0., 0., 0., 0.],\n",
       "        [0., 0., 0., 1., 1., 0., 0., 0., 0., 0., 0., 0.],\n",
       "        [0., 0., 0., 0., 0., 0., 0., 0., 0., 0., 0., 1.],\n",
       "        [0., 0., 0., 0., 0., 0., 0., 1., 1., 0., 0., 0.],\n",
       "        [0., 1., 1., 0., 0., 0., 0., 0., 0., 0., 0., 0.],\n",
       "        [1., 0., 0., 0., 0., 0., 0., 0., 0., 1., 1., 0.]])"
      ]
     },
     "execution_count": 11,
     "metadata": {},
     "output_type": "execute_result"
    }
   ],
   "source": [
    "Y = np.matrix(Y_vec_df).T\n",
    "Y"
   ]
  },
  {
   "cell_type": "code",
   "execution_count": 12,
   "metadata": {},
   "outputs": [],
   "source": [
    "i_node = len(set(docs.split()))\n",
    "h_node = 4"
   ]
  },
  {
   "cell_type": "code",
   "execution_count": 13,
   "metadata": {},
   "outputs": [
    {
     "name": "stdout",
     "output_type": "stream",
     "text": [
      "[[0.2087556  0.0665278  0.33731466 0.6604197 ]\n",
      " [0.20010589 0.78626829 0.71535673 0.86157313]\n",
      " [0.79622257 0.47321608 0.55608135 0.29645891]\n",
      " [0.72463867 0.18213232 0.16584287 0.1452611 ]\n",
      " [0.23685927 0.23218826 0.86199159 0.62565595]\n",
      " [0.94307595 0.50521359 0.36828012 0.60508007]]\n",
      "[[0.05351784 0.60069421 0.88730431 0.58653537 0.98712803 0.63748181]\n",
      " [0.19594208 0.99906    0.93122611 0.12432708 0.6952962  0.37170138]\n",
      " [0.9859812  0.10140211 0.89417599 0.25094174 0.85133446 0.97896199]\n",
      " [0.20118209 0.41215778 0.89545801 0.45268788 0.89916459 0.23820004]]\n"
     ]
    }
   ],
   "source": [
    "w1 = np.random.random(size=(i_node,h_node))\n",
    "w2 = np.random.random(size=(h_node,i_node))\n",
    "print(w1)\n",
    "print(w2)"
   ]
  },
  {
   "cell_type": "code",
   "execution_count": 14,
   "metadata": {},
   "outputs": [
    {
     "data": {
      "text/plain": [
       "matrix([[0.23685927, 0.94307595, 0.94307595, 0.23685927, 0.23685927,\n",
       "         0.20010589, 0.20010589, 0.2087556 , 0.2087556 , 0.72463867,\n",
       "         0.72463867, 0.94307595],\n",
       "        [0.23218826, 0.50521359, 0.50521359, 0.23218826, 0.23218826,\n",
       "         0.78626829, 0.78626829, 0.0665278 , 0.0665278 , 0.18213232,\n",
       "         0.18213232, 0.50521359],\n",
       "        [0.86199159, 0.36828012, 0.36828012, 0.86199159, 0.86199159,\n",
       "         0.71535673, 0.71535673, 0.33731466, 0.33731466, 0.16584287,\n",
       "         0.16584287, 0.36828012],\n",
       "        [0.62565595, 0.60508007, 0.60508007, 0.62565595, 0.62565595,\n",
       "         0.86157313, 0.86157313, 0.6604197 , 0.6604197 , 0.1452611 ,\n",
       "         0.1452611 , 0.60508007]])"
      ]
     },
     "execution_count": 14,
     "metadata": {},
     "output_type": "execute_result"
    }
   ],
   "source": [
    "H = np.dot(w1.T, X)\n",
    "H"
   ]
  },
  {
   "cell_type": "code",
   "execution_count": 15,
   "metadata": {},
   "outputs": [],
   "source": [
    "def softmax(a) :\n",
    "    y = np.exp(a) / np.sum(np.exp(a))\n",
    "    return y"
   ]
  },
  {
   "cell_type": "code",
   "execution_count": 16,
   "metadata": {},
   "outputs": [
    {
     "data": {
      "text/plain": [
       "matrix([[1.03394992, 0.63431254, 0.63431254, 1.03394992, 1.03394992,\n",
       "         1.04343365, 1.04343365, 0.48965827, 0.48965827, 0.26721036,\n",
       "         0.26721036, 0.63431254],\n",
       "        [0.71952673, 1.35797179, 1.35797179, 0.71952673, 0.71952673,\n",
       "         1.33337439, 1.33337439, 0.49826508, 0.49826508, 0.69393467,\n",
       "         0.69393467, 1.35797179],\n",
       "        [1.75740684, 2.17839448, 2.17839448, 1.75740684, 1.75740684,\n",
       "         2.32090575, 2.32090575, 1.14017895, 1.14017895, 1.0909493 ,\n",
       "         1.0909493 , 2.17839448],\n",
       "        [0.66733016, 0.9822884 , 0.9822884 , 0.66733016, 0.66733016,\n",
       "         0.78466019, 0.78466019, 0.51432407, 0.51432407, 0.55504503,\n",
       "         0.55504503, 0.9822884 ],\n",
       "        [1.69166086, 2.13980593, 2.13980593, 1.69166086, 1.69166086,\n",
       "         2.12792337, 2.12792337, 1.13331864, 1.13331864, 1.11374843,\n",
       "         1.11374843, 2.13980593],\n",
       "        [1.23018645, 1.29364469, 1.29364469, 1.23018645, 1.23018645,\n",
       "         1.32535467, 1.32535467, 0.6453366 , 0.6453366 , 0.72659787,\n",
       "         0.72659787, 1.29364469]])"
      ]
     },
     "execution_count": 16,
     "metadata": {},
     "output_type": "execute_result"
    }
   ],
   "source": [
    "WtH_cal = np.dot(w2.T, H)\n",
    "WtH_cal"
   ]
  },
  {
   "cell_type": "code",
   "execution_count": 17,
   "metadata": {},
   "outputs": [
    {
     "data": {
      "text/plain": [
       "matrix([[0.01051465, 0.00705073, 0.00705073, 0.01051465, 0.01051465,\n",
       "         0.01061484, 0.01061484, 0.00610115, 0.00610115, 0.00488432,\n",
       "         0.00488432, 0.00705073],\n",
       "        [0.0076779 , 0.01453836, 0.01453836, 0.0076779 , 0.0076779 ,\n",
       "         0.01418512, 0.01418512, 0.00615389, 0.00615389, 0.0074839 ,\n",
       "         0.0074839 , 0.01453836],\n",
       "        [0.02167644, 0.03302331, 0.03302331, 0.02167644, 0.02167644,\n",
       "         0.03808136, 0.03808136, 0.01169309, 0.01169309, 0.01113138,\n",
       "         0.01113138, 0.03302331],\n",
       "        [0.00728742, 0.00998524, 0.00998524, 0.00728742, 0.00728742,\n",
       "         0.00819463, 0.00819463, 0.00625351, 0.00625351, 0.00651342,\n",
       "         0.00651342, 0.00998524],\n",
       "        [0.02029714, 0.03177326, 0.03177326, 0.02029714, 0.02029714,\n",
       "         0.03139795, 0.03139795, 0.01161315, 0.01161315, 0.01138808,\n",
       "         0.01138808, 0.03177326],\n",
       "        [0.01279437, 0.0136326 , 0.0136326 , 0.01279437, 0.01279437,\n",
       "         0.01407181, 0.01407181, 0.00712889, 0.00712889, 0.00773238,\n",
       "         0.00773238, 0.0136326 ]])"
      ]
     },
     "execution_count": 17,
     "metadata": {},
     "output_type": "execute_result"
    }
   ],
   "source": [
    "y_hat = softmax(WtH_cal)\n",
    "y_hat"
   ]
  },
  {
   "cell_type": "code",
   "execution_count": 19,
   "metadata": {},
   "outputs": [
    {
     "data": {
      "text/plain": [
       "4.447606347071325"
      ]
     },
     "execution_count": 19,
     "metadata": {},
     "output_type": "execute_result"
    }
   ],
   "source": [
    "L = -np.multiply(Y, np.log(y_hat)).sum()/len(X_vec)\n",
    "L"
   ]
  },
  {
   "cell_type": "code",
   "execution_count": 20,
   "metadata": {},
   "outputs": [],
   "source": [
    "a = 0.01\n",
    "dif = y_hat - Y\n",
    "w1 = w1 - a * (X * (w2 * dif).T)\n",
    "w2 = w2 - a * (H * dif.T)"
   ]
  },
  {
   "cell_type": "code",
   "execution_count": null,
   "metadata": {},
   "outputs": [],
   "source": []
  }
 ],
 "metadata": {
  "kernelspec": {
   "display_name": "Python 3",
   "language": "python",
   "name": "python3"
  },
  "language_info": {
   "codemirror_mode": {
    "name": "ipython",
    "version": 3
   },
   "file_extension": ".py",
   "mimetype": "text/x-python",
   "name": "python",
   "nbconvert_exporter": "python",
   "pygments_lexer": "ipython3",
   "version": "3.6.8"
  }
 },
 "nbformat": 4,
 "nbformat_minor": 4
}
