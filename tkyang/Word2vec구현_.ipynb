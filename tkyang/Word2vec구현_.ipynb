{
  "nbformat": 4,
  "nbformat_minor": 0,
  "metadata": {
    "colab": {
      "name": "Word2vec(CBoW)구현(정리)ipynb",
      "provenance": [],
      "collapsed_sections": [],
      "authorship_tag": "ABX9TyNhz2uNhKkkmU0jorrlrOYl",
      "include_colab_link": true
    },
    "kernelspec": {
      "name": "python3",
      "display_name": "Python 3"
    }
  },
  "cells": [
    {
      "cell_type": "markdown",
      "metadata": {
        "id": "view-in-github",
        "colab_type": "text"
      },
      "source": [
        "<a href=\"https://colab.research.google.com/github/2020-nlp-c/nlp-deeplearning/blob/master/tkyang/Word2vec%EA%B5%AC%ED%98%84_.ipynb\" target=\"_parent\"><img src=\"https://colab.research.google.com/assets/colab-badge.svg\" alt=\"Open In Colab\"/></a>"
      ]
    },
    {
      "cell_type": "markdown",
      "metadata": {
        "id": "gnGljIaBHMoF",
        "colab_type": "text"
      },
      "source": [
        "CBoW"
      ]
    },
    {
      "cell_type": "code",
      "metadata": {
        "id": "8c9wmV-THJCd",
        "colab_type": "code",
        "colab": {}
      },
      "source": [
        "from sklearn.preprocessing import OneHotEncoder\n",
        "from sklearn.preprocessing import LabelEncoder\n",
        "from collections import defaultdict\n",
        "import numpy as np\n",
        "import matplotlib.pyplot as plt"
      ],
      "execution_count": null,
      "outputs": []
    },
    {
      "cell_type": "code",
      "metadata": {
        "id": "gUfQ6cRyHTC7",
        "colab_type": "code",
        "colab": {
          "base_uri": "https://localhost:8080/",
          "height": 34
        },
        "outputId": "130925c2-25b3-47ea-c1a7-4e7220019912"
      },
      "source": [
        "text = 'you will never know until you try'\n",
        "t_tokens = text.split()\n",
        "uni_tokens = np.unique(t_tokens)\n",
        "t_tokens"
      ],
      "execution_count": null,
      "outputs": [
        {
          "output_type": "execute_result",
          "data": {
            "text/plain": [
              "['you', 'will', 'never', 'know', 'until', 'you', 'try']"
            ]
          },
          "metadata": {
            "tags": []
          },
          "execution_count": 24
        }
      ]
    },
    {
      "cell_type": "code",
      "metadata": {
        "id": "-t1cM4KtHUA6",
        "colab_type": "code",
        "colab": {
          "base_uri": "https://localhost:8080/",
          "height": 140
        },
        "outputId": "26d65f7f-8fd1-423c-fa6e-331e136b8335"
      },
      "source": [
        "# 일단 레이블 인코딩 과정을 거쳐서 문자열에 숫자 하나씩 매칭 시켜줘야 함\n",
        "encoder = LabelEncoder()\n",
        "encoder.fit(t_tokens)\n",
        "labels = encoder.transform(t_tokens)\n",
        "\n",
        "# 2차원 배열로 전환\n",
        "labels = labels.reshape(-1, 1)\n",
        "\n",
        "# OneHotEncoder 함수를 변수에 할당시켜서 데이터를 fit 시킨다.\n",
        "onehot_enc = OneHotEncoder()\n",
        "onehot_enc.fit(labels)\n",
        "onehot_enc = onehot_enc.transform(labels)\n",
        "onehot_enc = onehot_enc.toarray()\n",
        "onehot_enc"
      ],
      "execution_count": null,
      "outputs": [
        {
          "output_type": "execute_result",
          "data": {
            "text/plain": [
              "array([[0., 0., 0., 0., 0., 1.],\n",
              "       [0., 0., 0., 0., 1., 0.],\n",
              "       [0., 1., 0., 0., 0., 0.],\n",
              "       [1., 0., 0., 0., 0., 0.],\n",
              "       [0., 0., 0., 1., 0., 0.],\n",
              "       [0., 0., 0., 0., 0., 1.],\n",
              "       [0., 0., 1., 0., 0., 0.]])"
            ]
          },
          "metadata": {
            "tags": []
          },
          "execution_count": 27
        }
      ]
    },
    {
      "cell_type": "code",
      "metadata": {
        "id": "RVvjq5bnHVhA",
        "colab_type": "code",
        "colab": {}
      },
      "source": [
        "# train data X생성, Y생성\n",
        "window_size = 1\n",
        "\n",
        "X = []\n",
        "Y = []\n",
        "for i in range(len(onehot_enc)):\n",
        "    for j in range(i-window_size, i+window_size+1):\n",
        "        if j < 0:\n",
        "            continue\n",
        "        if j >= len(onehot_enc):\n",
        "            break\n",
        "        if j != i:\n",
        "            X.append(onehot_enc[j])\n",
        "            Y.append(onehot_enc[i])\n",
        "            \n",
        "Y = np.array(Y)\n",
        "X = np.array(X)"
      ],
      "execution_count": null,
      "outputs": []
    },
    {
      "cell_type": "code",
      "metadata": {
        "id": "pKjhSADEHXGM",
        "colab_type": "code",
        "colab": {}
      },
      "source": [
        "# W초기화\n",
        "Hidden_node = 4\n",
        "W1 = np.random.randn(len(uni_tokens), Hidden_node)\n",
        "W2 = np.random.randn(Hidden_node,len(uni_tokens))\n",
        "\n",
        "def Softmax(x):\n",
        "    return np.exp(x) / sum(np.exp(x))"
      ],
      "execution_count": null,
      "outputs": []
    },
    {
      "cell_type": "code",
      "metadata": {
        "id": "iQVsXKYcHYXA",
        "colab_type": "code",
        "colab": {
          "base_uri": "https://localhost:8080/",
          "height": 281
        },
        "outputId": "4593c2e7-402e-439d-c4cf-2a55ac8a5813"
      },
      "source": [
        "epoch = 10000\n",
        "loss_ls = []\n",
        "for epoch in range(epoch):\n",
        "    \n",
        "    # Feed Forward\n",
        "    H = np.dot(X, W1)\n",
        "    o1 = np.dot(H, W2)\n",
        "    o = []\n",
        "    for i,v in enumerate(o1):\n",
        "        o.append(Softmax(v))\n",
        "\n",
        "    loss_ls.append(-np.multiply(Y, np.log(o)).sum())\n",
        "    \n",
        "    dW2 = np.dot(H.T, (o-Y))\n",
        "    dW1 = np.dot(X.T, np.dot(W2, (o-Y).T).T)\n",
        "\n",
        "    # gradient descent\n",
        "    learning_rate = 0.03\n",
        "    W2 += -learning_rate * dW2\n",
        "    W1 += -learning_rate * dW1\n",
        "\n",
        "def Loss_graph(loss_ls):\n",
        "    plt.plot(loss_ls)\n",
        "    plt.title('Loss Graph')\n",
        "    plt.show()\n",
        "\n",
        "Loss_graph(loss_ls)"
      ],
      "execution_count": null,
      "outputs": [
        {
          "output_type": "display_data",
          "data": {
            "image/png": "[encoded data removed]",
            "text/plain": [
              "<Figure size 432x288 with 1 Axes>"
            ]
          },
          "metadata": {
            "tags": [],
            "needs_background": "light"
          }
        }
      ]
    },
    {
      "cell_type": "code",
      "metadata": {
        "id": "xjilTWKAHeqz",
        "colab_type": "code",
        "colab": {
          "base_uri": "https://localhost:8080/",
          "height": 122
        },
        "outputId": "8daddc8a-293a-4e6e-81ff-d035dbe2c837"
      },
      "source": [
        "W1"
      ],
      "execution_count": null,
      "outputs": [
        {
          "output_type": "execute_result",
          "data": {
            "text/plain": [
              "array([[-1.42955883,  2.15852824,  1.22652365, -0.75143155],\n",
              "       [ 2.3531322 , -0.489417  , -2.3291844 , -0.91189815],\n",
              "       [ 1.55273799, -0.54562376,  1.28962375,  1.98995152],\n",
              "       [ 1.63491124, -0.25854624, -1.06074138,  2.58286963],\n",
              "       [ 1.41703513,  1.67284402,  1.79750945,  0.98759721],\n",
              "       [-0.62934149, -1.33293949,  0.03246187, -2.66978346]])"
            ]
          },
          "metadata": {
            "tags": []
          },
          "execution_count": 14
        }
      ]
    },
    {
      "cell_type": "markdown",
      "metadata": {
        "id": "BoEk4TmwLHzb",
        "colab_type": "text"
      },
      "source": [
        "## 유사도 계산 및 시각화"
      ]
    },
    {
      "cell_type": "code",
      "metadata": {
        "id": "gq7Ce65zImYf",
        "colab_type": "code",
        "colab": {}
      },
      "source": [
        "import numpy as np\n",
        "from numpy import dot\n",
        "from numpy.linalg import norm\n",
        "\n",
        "def calc_similarity_matrix(vectors) :\n",
        "  def cosine_similarity(a, b) : \n",
        "    return dot(a, b)/(norm(a)*norm(b))\n",
        "\n",
        "  n_word = len(vectors)\n",
        "  similarity_matrix = np.zeros((n_word, n_word))\n",
        "\n",
        "  for i in range(n_word) :\n",
        "    for j in range(i, n_word) :\n",
        "      similarity_matrix[j, i] = cosine_similarity(vectors[i], vectors[j]).round(4)  \n",
        "\n",
        "  return similarity_matrix"
      ],
      "execution_count": null,
      "outputs": []
    },
    {
      "cell_type": "code",
      "metadata": {
        "id": "1cLRS5xVNr02",
        "colab_type": "code",
        "colab": {
          "base_uri": "https://localhost:8080/",
          "height": 122
        },
        "outputId": "edf74030-d92d-4ba3-d3f2-636b57370786"
      },
      "source": [
        "word2vec_simil = calc_similarity_matrix(W1)\n",
        "word2vec_simil"
      ],
      "execution_count": null,
      "outputs": [
        {
          "output_type": "execute_result",
          "data": {
            "text/plain": [
              "array([[ 1.    ,  0.    ,  0.    ,  0.    ,  0.    ,  0.    ],\n",
              "       [-0.6416,  1.    ,  0.    ,  0.    ,  0.    ,  0.    ],\n",
              "       [-0.3873, -0.0896,  1.    ,  0.    ,  0.    ,  0.    ],\n",
              "       [-0.6384,  0.3632,  0.6886,  1.    ,  0.    ,  0.    ],\n",
              "       [ 0.3428, -0.2469,  0.6429,  0.2595,  1.    ,  0.    ],\n",
              "       [ 0.0076,  0.1447, -0.6271, -0.7692, -0.6225,  1.    ]])"
            ]
          },
          "metadata": {
            "tags": []
          },
          "execution_count": 21
        }
      ]
    },
    {
      "cell_type": "code",
      "metadata": {
        "id": "-ftm2PyYN4NM",
        "colab_type": "code",
        "colab": {
          "base_uri": "https://localhost:8080/",
          "height": 72
        },
        "outputId": "a96a3fa0-7756-4945-c25f-09771919f143"
      },
      "source": [
        "import matplotlib.pyplot as plt\n",
        "import seaborn as sns\n",
        "\n",
        "def visualize_similarity(similarity_matrix) :\n",
        "  uniform_data = similarity_matrix\n",
        "  mask = np.triu(np.ones_like(similarity_matrix, dtype=np.bool))\n",
        "  plt.rcParams['figure.figsize'] = [8, 6]\n",
        "  ax = sns.heatmap(uniform_data, mask=mask, #xticklabels=features, yticklabels=features, \n",
        "                  annot=True, fmt=\".2f\",annot_kws={'size':8}, cmap='coolwarm')"
      ],
      "execution_count": null,
      "outputs": [
        {
          "output_type": "stream",
          "text": [
            "/usr/local/lib/python3.6/dist-packages/statsmodels/tools/_testing.py:19: FutureWarning: pandas.util.testing is deprecated. Use the functions in the public API at pandas.testing instead.\n",
            "  import pandas.util.testing as tm\n"
          ],
          "name": "stderr"
        }
      ]
    },
    {
      "cell_type": "code",
      "metadata": {
        "id": "IWxhYvkjN7oM",
        "colab_type": "code",
        "colab": {
          "base_uri": "https://localhost:8080/",
          "height": 374
        },
        "outputId": "0f05ce61-538d-4209-f3bc-326c2aba4269"
      },
      "source": [
        "visualize_similarity(word2vec_simil)"
      ],
      "execution_count": null,
      "outputs": [
        {
          "output_type": "display_data",
          "data": {
            "image/png": "[encoded data removed]",
            "text/plain": [
              "<Figure size 576x432 with 2 Axes>"
            ]
          },
          "metadata": {
            "tags": [],
            "needs_background": "light"
          }
        }
      ]
    },
    {
      "cell_type": "markdown",
      "metadata": {
        "id": "W7ODzYsLOfZv",
        "colab_type": "text"
      },
      "source": [
        "## never와 know의 유사도가 0.69로 가장 높은 유사도를 보인다."
      ]
    },
    {
      "cell_type": "code",
      "metadata": {
        "id": "eeMBOiETQAlP",
        "colab_type": "code",
        "colab": {}
      },
      "source": [
        "from sklearn.manifold import TSNE\n",
        "import numpy as np\n",
        "\n",
        "def visualize_vectors(vectors, labels):\n",
        "  tsne = TSNE(n_components=2, random_state=0, n_iter=10000, perplexity=2)\n",
        "  np.set_printoptions(suppress=True)\n",
        "  T = tsne.fit_transform(vectors)\n",
        "  #labels = vocab\n",
        "\n",
        "  plt.figure(figsize=(10, 6))\n",
        "  plt.scatter(T[:, 0], T[:, 1], c='yellow', edgecolors='r')\n",
        "  for label, x, y in zip(labels, T[:, 0], T[:, 1]):\n",
        "      plt.annotate(label, xy=(x+1, y+1), xytext=(0, 0), textcoords='offset points')"
      ],
      "execution_count": null,
      "outputs": []
    },
    {
      "cell_type": "code",
      "metadata": {
        "id": "0wYuMSnSQDb9",
        "colab_type": "code",
        "colab": {
          "base_uri": "https://localhost:8080/",
          "height": 374
        },
        "outputId": "5bc9328e-2791-4ad0-9075-a688c2c185a1"
      },
      "source": [
        "label_name = t_tokens\n",
        "visualize_vectors(W1, label_name)"
      ],
      "execution_count": null,
      "outputs": [
        {
          "output_type": "display_data",
          "data": {
            "image/png": "[encoded data removed]",
            "text/plain": [
              "<Figure size 720x432 with 1 Axes>"
            ]
          },
          "metadata": {
            "tags": [],
            "needs_background": "light"
          }
        }
      ]
    }
  ]
}