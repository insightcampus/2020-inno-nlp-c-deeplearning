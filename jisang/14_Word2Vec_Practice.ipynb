{
  "nbformat": 4,
  "nbformat_minor": 0,
  "metadata": {
    "colab": {
      "name": "14 Word2Vec Practice.ipynb",
      "provenance": [],
      "collapsed_sections": [],
      "toc_visible": true,
      "authorship_tag": "ABX9TyOw7BXbmEN1tBtc31isxzNC",
      "include_colab_link": true
    },
    "kernelspec": {
      "name": "python3",
      "display_name": "Python 3"
    },
    "accelerator": "GPU"
  },
  "cells": [
    {
      "cell_type": "markdown",
      "metadata": {
        "id": "view-in-github",
        "colab_type": "text"
      },
      "source": [
        "<a href=\"https://colab.research.google.com/github/2020-nlp-c/nlp-deeplearning/blob/master/jisang/14_Word2Vec_Practice.ipynb\" target=\"_parent\"><img src=\"https://colab.research.google.com/assets/colab-badge.svg\" alt=\"Open In Colab\"/></a>"
      ]
    },
    {
      "cell_type": "markdown",
      "metadata": {
        "id": "YXq_-24eqhZ9",
        "colab_type": "text"
      },
      "source": [
        "# **Word2Vec 실습**"
      ]
    },
    {
      "cell_type": "markdown",
      "metadata": {
        "id": "zMXVIvfEuZ9b",
        "colab_type": "text"
      },
      "source": [
        "## **1. Word2Vec 구현**"
      ]
    },
    {
      "cell_type": "code",
      "metadata": {
        "id": "LWGy78rWkIRb",
        "colab_type": "code",
        "colab": {}
      },
      "source": [
        "doc = 'you will never know until you try'"
      ],
      "execution_count": 3,
      "outputs": []
    },
    {
      "cell_type": "code",
      "metadata": {
        "id": "Dxwyd783kY_6",
        "colab_type": "code",
        "colab": {
          "base_uri": "https://localhost:8080/",
          "height": 122
        },
        "outputId": "dd6c54c2-91bc-4520-ed2b-64d3f237d800"
      },
      "source": [
        "import nltk\n",
        "nltk.download('averaged_perceptron_tagger')\n",
        "nltk.download('wordnet')"
      ],
      "execution_count": 4,
      "outputs": [
        {
          "output_type": "stream",
          "text": [
            "[nltk_data] Downloading package averaged_perceptron_tagger to\n",
            "[nltk_data]     /root/nltk_data...\n",
            "[nltk_data]   Unzipping taggers/averaged_perceptron_tagger.zip.\n",
            "[nltk_data] Downloading package wordnet to /root/nltk_data...\n",
            "[nltk_data]   Unzipping corpora/wordnet.zip.\n"
          ],
          "name": "stdout"
        },
        {
          "output_type": "execute_result",
          "data": {
            "text/plain": [
              "True"
            ]
          },
          "metadata": {
            "tags": []
          },
          "execution_count": 4
        }
      ]
    },
    {
      "cell_type": "markdown",
      "metadata": {
        "id": "G_Z2VLJ6qmfY",
        "colab_type": "text"
      },
      "source": [
        "### **1-1. 데이터 전처리**"
      ]
    },
    {
      "cell_type": "code",
      "metadata": {
        "id": "IMpJR-dkkdXL",
        "colab_type": "code",
        "colab": {
          "base_uri": "https://localhost:8080/",
          "height": 52
        },
        "outputId": "d7205159-7a34-4bbc-a832-cd65ed0ded2b"
      },
      "source": [
        "from nltk import pos_tag\n",
        "from nltk.stem import WordNetLemmatizer\n",
        "\n",
        "wl = WordNetLemmatizer()\n",
        "\n",
        "# 문장 전처리\n",
        "def tokenize(x):\n",
        "    return x.split()\n",
        "words = tokenize(doc)\n",
        "\n",
        "tmp_docs = []\n",
        "# Lemmatize\n",
        "for word in words:\n",
        "    tmp_docs.append(wl.lemmatize(word.lower(), pos = 'v' or 'n'))\n",
        "# Pos Tagging\n",
        "pos_docs = pos_tag(tmp_docs)\n",
        "\n",
        "# 불용어 처리(stopWord)\n",
        "stopPos = ['CC']\n",
        "stopWord = [',']\n",
        "\n",
        "docs_tokens = []\n",
        "tokens = []\n",
        "\n",
        "for pos_doc in pos_docs:\n",
        "    # 불용 품사 지정\n",
        "    if pos_doc[1] not in stopPos:\n",
        "        # 불용어 지정\n",
        "        if pos_doc[0] not in stopWord:\n",
        "            # 문서 사용 단어\n",
        "            docs_tokens.append(pos_doc[0])\n",
        "\n",
        "# 전체 사용 단어\n",
        "tokens = list(set(docs_tokens))\n",
        "\n",
        "docs_tokens, tokens"
      ],
      "execution_count": 5,
      "outputs": [
        {
          "output_type": "execute_result",
          "data": {
            "text/plain": [
              "(['you', 'will', 'never', 'know', 'until', 'you', 'try'],\n",
              " ['never', 'will', 'you', 'try', 'know', 'until'])"
            ]
          },
          "metadata": {
            "tags": []
          },
          "execution_count": 5
        }
      ]
    },
    {
      "cell_type": "code",
      "metadata": {
        "id": "aE4bWhBnk0ZZ",
        "colab_type": "code",
        "colab": {
          "base_uri": "https://localhost:8080/",
          "height": 158
        },
        "outputId": "94a83fa2-adc7-4591-d9ac-73ee9ca7007a"
      },
      "source": [
        "from numpy import argmax\n",
        "from sklearn.preprocessing import LabelEncoder\n",
        "from sklearn.preprocessing import OneHotEncoder\n",
        "\n",
        "# 문자열 라벨링\n",
        "label_enc = LabelEncoder()\n",
        "label_docs = label_enc.fit_transform(docs_tokens)\n",
        "# 바이너리 인코딩\n",
        "onehot_enc = OneHotEncoder(sparse=False)\n",
        "docs_label = label_docs.reshape(len(label_docs), 1) # n:1 matrix로 변환\n",
        "onehot_docs = onehot_enc.fit_transform(docs_label)\n",
        "    \n",
        "index_name = []\n",
        "for i in range(len(tokens)):\n",
        "    index_name.append(label_enc.inverse_transform([i])[0])\n",
        "\n",
        "onehot_docs, index_name"
      ],
      "execution_count": 6,
      "outputs": [
        {
          "output_type": "execute_result",
          "data": {
            "text/plain": [
              "(array([[0., 0., 0., 0., 0., 1.],\n",
              "        [0., 0., 0., 0., 1., 0.],\n",
              "        [0., 1., 0., 0., 0., 0.],\n",
              "        [1., 0., 0., 0., 0., 0.],\n",
              "        [0., 0., 0., 1., 0., 0.],\n",
              "        [0., 0., 0., 0., 0., 1.],\n",
              "        [0., 0., 1., 0., 0., 0.]]),\n",
              " ['know', 'never', 'try', 'until', 'will', 'you'])"
            ]
          },
          "metadata": {
            "tags": []
          },
          "execution_count": 6
        }
      ]
    },
    {
      "cell_type": "markdown",
      "metadata": {
        "id": "6bCy483eqpuA",
        "colab_type": "text"
      },
      "source": [
        "### **1-2. Window 생성**"
      ]
    },
    {
      "cell_type": "code",
      "metadata": {
        "id": "feRboHnnrIOi",
        "colab_type": "code",
        "colab": {
          "base_uri": "https://localhost:8080/",
          "height": 263
        },
        "outputId": "5958b385-9b8c-465a-9ab9-5943419569b5"
      },
      "source": [
        "window_size = 1\n",
        "x = []\n",
        "y = []\n",
        "\n",
        "for i in range(len(onehot_docs)):\n",
        "    tmp = []\n",
        "    for j in range(i-window_size, i+window_size + 1):\n",
        "        if j < 0:\n",
        "            pass\n",
        "        elif j > len(onehot_docs):\n",
        "            pass\n",
        "        elif 0 <= j < len(onehot_docs):\n",
        "            if i != j:\n",
        "                tmp.append(onehot_docs[j])\n",
        "    x.append(tmp)\n",
        "    y.append(onehot_docs[i])\n",
        "\n",
        "x, y"
      ],
      "execution_count": 7,
      "outputs": [
        {
          "output_type": "execute_result",
          "data": {
            "text/plain": [
              "([[array([0., 0., 0., 0., 1., 0.])],\n",
              "  [array([0., 0., 0., 0., 0., 1.]), array([0., 1., 0., 0., 0., 0.])],\n",
              "  [array([0., 0., 0., 0., 1., 0.]), array([1., 0., 0., 0., 0., 0.])],\n",
              "  [array([0., 1., 0., 0., 0., 0.]), array([0., 0., 0., 1., 0., 0.])],\n",
              "  [array([1., 0., 0., 0., 0., 0.]), array([0., 0., 0., 0., 0., 1.])],\n",
              "  [array([0., 0., 0., 1., 0., 0.]), array([0., 0., 1., 0., 0., 0.])],\n",
              "  [array([0., 0., 0., 0., 0., 1.])]],\n",
              " [array([0., 0., 0., 0., 0., 1.]),\n",
              "  array([0., 0., 0., 0., 1., 0.]),\n",
              "  array([0., 1., 0., 0., 0., 0.]),\n",
              "  array([1., 0., 0., 0., 0., 0.]),\n",
              "  array([0., 0., 0., 1., 0., 0.]),\n",
              "  array([0., 0., 0., 0., 0., 1.]),\n",
              "  array([0., 0., 1., 0., 0., 0.])])"
            ]
          },
          "metadata": {
            "tags": []
          },
          "execution_count": 7
        }
      ]
    },
    {
      "cell_type": "markdown",
      "metadata": {
        "id": "Y635qKuPqtsZ",
        "colab_type": "text"
      },
      "source": [
        "### **1-3. Feed Foward**"
      ]
    },
    {
      "cell_type": "code",
      "metadata": {
        "id": "0ifZKuWZ8IdO",
        "colab_type": "code",
        "colab": {
          "base_uri": "https://localhost:8080/",
          "height": 650
        },
        "outputId": "9d52726a-fbd7-4f56-f5f3-dab44fc6f64d"
      },
      "source": [
        "import numpy as np\n",
        "\n",
        "k = 4\n",
        "\n",
        "# X to Hidden Layer Weight\n",
        "x2h = np.random.rand(len(tokens), k)\n",
        "# Hidden Layer to Y Weight\n",
        "h2y = np.random.rand(k, len(tokens))\n",
        "\n",
        "hidden = []\n",
        "for words in x:\n",
        "    tmp = []\n",
        "    for word in words:\n",
        "        tmp.append(np.dot(x2h.T, word.T))\n",
        "    hidden.append(tmp)\n",
        "\n",
        "def softmax(a) :\n",
        "    exp_a = np.exp(a)\n",
        "    sum_exp_a = np.sum(exp_a)\n",
        "    y = exp_a / sum_exp_a\n",
        "        return y\n",
        "\n",
        "y_predict = []\n",
        "for words in hidden:\n",
        "    tmp = []\n",
        "    for word in words:\n",
        "        tmp.append(softmax(np.dot(h2y.T, word)))\n",
        "    y_predict.append(tmp)\n",
        "\n",
        "hidden, y_predict"
      ],
      "execution_count": 9,
      "outputs": [
        {
          "output_type": "execute_result",
          "data": {
            "text/plain": [
              "([[array([0.91531231, 0.80681487, 0.96364112, 0.02932918])],\n",
              "  [array([0.68682455, 0.87508193, 0.8079959 , 0.82206858]),\n",
              "   array([0.75889852, 0.88931172, 0.91856484, 0.71864551])],\n",
              "  [array([0.91531231, 0.80681487, 0.96364112, 0.02932918]),\n",
              "   array([0.22559999, 0.23431438, 0.3616103 , 0.14395632])],\n",
              "  [array([0.75889852, 0.88931172, 0.91856484, 0.71864551]),\n",
              "   array([0.25613346, 0.07924162, 0.18024056, 0.13702723])],\n",
              "  [array([0.22559999, 0.23431438, 0.3616103 , 0.14395632]),\n",
              "   array([0.68682455, 0.87508193, 0.8079959 , 0.82206858])],\n",
              "  [array([0.25613346, 0.07924162, 0.18024056, 0.13702723]),\n",
              "   array([0.73902041, 0.51623748, 0.98880999, 0.48948934])],\n",
              "  [array([0.68682455, 0.87508193, 0.8079959 , 0.82206858])]],\n",
              " [[array([0.12817671, 0.18628692, 0.12350101, 0.30228083, 0.13484063,\n",
              "          0.12491391])],\n",
              "  [array([0.09142906, 0.16339624, 0.11100158, 0.32544692, 0.19722163,\n",
              "          0.11150458]),\n",
              "   array([0.09274184, 0.16306951, 0.11034048, 0.33375096, 0.18828853,\n",
              "          0.11180868])],\n",
              "  [array([0.12817671, 0.18628692, 0.12350101, 0.30228083, 0.13484063,\n",
              "          0.12491391]),\n",
              "   array([0.14318637, 0.16402173, 0.15056267, 0.21104602, 0.17696168,\n",
              "          0.15422153])],\n",
              "  [array([0.09274184, 0.16306951, 0.11034048, 0.33375096, 0.18828853,\n",
              "          0.11180868]),\n",
              "   array([0.15377273, 0.16957399, 0.16503685, 0.1896533 , 0.16643291,\n",
              "          0.15553021])],\n",
              "  [array([0.14318637, 0.16402173, 0.15056267, 0.21104602, 0.17696168,\n",
              "          0.15422153]),\n",
              "   array([0.09142906, 0.16339624, 0.11100158, 0.32544692, 0.19722163,\n",
              "          0.11150458])],\n",
              "  [array([0.15377273, 0.16957399, 0.16503685, 0.1896533 , 0.16643291,\n",
              "          0.15553021]),\n",
              "   array([0.10343795, 0.15115199, 0.12908162, 0.30110865, 0.18844113,\n",
              "          0.12677866])],\n",
              "  [array([0.09142906, 0.16339624, 0.11100158, 0.32544692, 0.19722163,\n",
              "          0.11150458])]])"
            ]
          },
          "metadata": {
            "tags": []
          },
          "execution_count": 9
        }
      ]
    },
    {
      "cell_type": "markdown",
      "metadata": {
        "id": "rOaVTBYkq2Rx",
        "colab_type": "text"
      },
      "source": [
        "### **1-4. Loss 계산**"
      ]
    },
    {
      "cell_type": "code",
      "metadata": {
        "id": "Aud9KmXpiIBz",
        "colab_type": "code",
        "colab": {
          "base_uri": "https://localhost:8080/",
          "height": 34
        },
        "outputId": "b4587e70-ad6f-42e9-86bf-c868775b5c46"
      },
      "source": [
        "loss = []\n",
        "for i, predict in enumerate(y_predict):\n",
        "    tmp = []\n",
        "    for j in range(len(predict)):\n",
        "        tmp.append(np.log(predict[j]) * y[i])\n",
        "    loss.append(np.sum(tmp))\n",
        "loss = -np.sum(loss)\n",
        "loss"
      ],
      "execution_count": 10,
      "outputs": [
        {
          "output_type": "execute_result",
          "data": {
            "text/plain": [
              "21.914449587056303"
            ]
          },
          "metadata": {
            "tags": []
          },
          "execution_count": 10
        }
      ]
    },
    {
      "cell_type": "markdown",
      "metadata": {
        "id": "Yk_q2SZQq5JJ",
        "colab_type": "text"
      },
      "source": [
        "### **1-5. Back Propagation**"
      ]
    },
    {
      "cell_type": "code",
      "metadata": {
        "id": "AhBQIZVflD73",
        "colab_type": "code",
        "colab": {
          "base_uri": "https://localhost:8080/",
          "height": 158
        },
        "outputId": "e08b8064-93f1-483e-80a6-8c853936d760"
      },
      "source": [
        "alpha = 0.01\n",
        "diff = []\n",
        "h_layer = []\n",
        "x_layer = []\n",
        "\n",
        "for i in range(len(y)):\n",
        "    for j in range(len(y_predict[i])):\n",
        "        diff.append(y_predict[i][j] - y[i])\n",
        "        h_layer.append(hidden[i][j])\n",
        "        x_layer.append(x[i][j])\n",
        "\n",
        "gradient_h2y = np.dot(np.matrix(h_layer).T, np.matrix(diff))\n",
        "gradient_x2h = np.dot(np.matrix(x_layer).T, np.dot(h2y, np.matrix(diff).T).T)\n",
        "\n",
        "h2y -= alpha * gradient_h2y\n",
        "x2h -= alpha * gradient_x2h\n",
        "\n",
        "# np.array(h2y), np.array(x2h)\n",
        "h2y"
      ],
      "execution_count": 15,
      "outputs": [
        {
          "output_type": "execute_result",
          "data": {
            "text/plain": [
              "array([[0.61747515, 0.79238669, 0.69368524, 0.58830524, 0.01589807,\n",
              "        0.25922802],\n",
              "       [0.36739575, 0.68990587, 0.04507633, 0.7358636 , 0.2727203 ,\n",
              "        0.23582402],\n",
              "       [0.17623235, 0.14498293, 0.35227882, 0.88838851, 0.8447902 ,\n",
              "        0.53244101],\n",
              "       [0.02549304, 0.32968146, 0.39965593, 0.65471874, 0.8898419 ,\n",
              "        0.30674924]])"
            ]
          },
          "metadata": {
            "tags": []
          },
          "execution_count": 15
        }
      ]
    },
    {
      "cell_type": "markdown",
      "metadata": {
        "id": "VdSoHXc01VOT",
        "colab_type": "text"
      },
      "source": [
        "### **1-6. 예측 결과값 출력**"
      ]
    },
    {
      "cell_type": "code",
      "metadata": {
        "id": "VZGkWL2P0YtZ",
        "colab_type": "code",
        "colab": {
          "base_uri": "https://localhost:8080/",
          "height": 225
        },
        "outputId": "5f4a8543-0011-4d0e-e0bb-45b66f97898d"
      },
      "source": [
        "import pandas as pd\n",
        "\n",
        "index_name = []\n",
        "for i in range(len(tokens)):\n",
        "    index_name.append(label_enc.inverse_transform([i])[0])\n",
        "\n",
        "pd.DataFrame(x2h, index_name)"
      ],
      "execution_count": 31,
      "outputs": [
        {
          "output_type": "execute_result",
          "data": {
            "text/html": [
              "<div>\n",
              "<style scoped>\n",
              "    .dataframe tbody tr th:only-of-type {\n",
              "        vertical-align: middle;\n",
              "    }\n",
              "\n",
              "    .dataframe tbody tr th {\n",
              "        vertical-align: top;\n",
              "    }\n",
              "\n",
              "    .dataframe thead th {\n",
              "        text-align: right;\n",
              "    }\n",
              "</style>\n",
              "<table border=\"1\" class=\"dataframe\">\n",
              "  <thead>\n",
              "    <tr style=\"text-align: right;\">\n",
              "      <th></th>\n",
              "      <th>0</th>\n",
              "      <th>1</th>\n",
              "      <th>2</th>\n",
              "      <th>3</th>\n",
              "    </tr>\n",
              "  </thead>\n",
              "  <tbody>\n",
              "    <tr>\n",
              "      <th>know</th>\n",
              "      <td>0.446892</td>\n",
              "      <td>0.198421</td>\n",
              "      <td>0.294093</td>\n",
              "      <td>0.630864</td>\n",
              "    </tr>\n",
              "    <tr>\n",
              "      <th>never</th>\n",
              "      <td>0.018422</td>\n",
              "      <td>0.501943</td>\n",
              "      <td>0.278398</td>\n",
              "      <td>0.539384</td>\n",
              "    </tr>\n",
              "    <tr>\n",
              "      <th>try</th>\n",
              "      <td>0.948455</td>\n",
              "      <td>0.870309</td>\n",
              "      <td>0.397729</td>\n",
              "      <td>0.185688</td>\n",
              "    </tr>\n",
              "    <tr>\n",
              "      <th>until</th>\n",
              "      <td>0.958821</td>\n",
              "      <td>0.173427</td>\n",
              "      <td>0.474111</td>\n",
              "      <td>0.485726</td>\n",
              "    </tr>\n",
              "    <tr>\n",
              "      <th>will</th>\n",
              "      <td>0.056313</td>\n",
              "      <td>0.100421</td>\n",
              "      <td>0.450238</td>\n",
              "      <td>0.549898</td>\n",
              "    </tr>\n",
              "    <tr>\n",
              "      <th>you</th>\n",
              "      <td>0.151399</td>\n",
              "      <td>0.960580</td>\n",
              "      <td>0.412304</td>\n",
              "      <td>0.950751</td>\n",
              "    </tr>\n",
              "  </tbody>\n",
              "</table>\n",
              "</div>"
            ],
            "text/plain": [
              "              0         1         2         3\n",
              "know   0.446892  0.198421  0.294093  0.630864\n",
              "never  0.018422  0.501943  0.278398  0.539384\n",
              "try    0.948455  0.870309  0.397729  0.185688\n",
              "until  0.958821  0.173427  0.474111  0.485726\n",
              "will   0.056313  0.100421  0.450238  0.549898\n",
              "you    0.151399  0.960580  0.412304  0.950751"
            ]
          },
          "metadata": {
            "tags": []
          },
          "execution_count": 31
        }
      ]
    },
    {
      "cell_type": "markdown",
      "metadata": {
        "id": "gjIQoZ01LX7-",
        "colab_type": "text"
      },
      "source": [
        "### **1-7. 예측 결과 유사도 계산**"
      ]
    },
    {
      "cell_type": "code",
      "metadata": {
        "id": "ZZT49XZdLdcv",
        "colab_type": "code",
        "colab": {
          "base_uri": "https://localhost:8080/",
          "height": 225
        },
        "outputId": "8cf32d47-2d49-4c39-88be-53003d3ecdee"
      },
      "source": [
        "from numpy import dot\n",
        "from numpy.linalg import norm\n",
        "\n",
        "def calc_similarity_matrix(vectors) :\n",
        "    def cosine_similarity(a, b) : \n",
        "        return dot(a, b.T)/(norm(a)*norm(b.T))\n",
        "\n",
        "    n_word = len(vectors)\n",
        "    similarity_matrix = np.zeros((n_word, n_word))\n",
        "\n",
        "    for i in range(n_word) :\n",
        "        for j in range(i, n_word) :\n",
        "            similarity_matrix[j, i] = cosine_similarity(vectors[i], vectors[j]).round(4)  \n",
        "            #similarity_matrix[i, j] = similarity_matrix[j, i]\n",
        "\n",
        "    return similarity_matrix\n",
        "\n",
        "pd.DataFrame(calc_similarity_matrix(x2h), index=index_name, columns=index_name)"
      ],
      "execution_count": 33,
      "outputs": [
        {
          "output_type": "execute_result",
          "data": {
            "text/html": [
              "<div>\n",
              "<style scoped>\n",
              "    .dataframe tbody tr th:only-of-type {\n",
              "        vertical-align: middle;\n",
              "    }\n",
              "\n",
              "    .dataframe tbody tr th {\n",
              "        vertical-align: top;\n",
              "    }\n",
              "\n",
              "    .dataframe thead th {\n",
              "        text-align: right;\n",
              "    }\n",
              "</style>\n",
              "<table border=\"1\" class=\"dataframe\">\n",
              "  <thead>\n",
              "    <tr style=\"text-align: right;\">\n",
              "      <th></th>\n",
              "      <th>know</th>\n",
              "      <th>never</th>\n",
              "      <th>try</th>\n",
              "      <th>until</th>\n",
              "      <th>will</th>\n",
              "      <th>you</th>\n",
              "    </tr>\n",
              "  </thead>\n",
              "  <tbody>\n",
              "    <tr>\n",
              "      <th>know</th>\n",
              "      <td>1.0000</td>\n",
              "      <td>0.7908</td>\n",
              "      <td>0.7180</td>\n",
              "      <td>0.8997</td>\n",
              "      <td>0.8563</td>\n",
              "      <td>0.8101</td>\n",
              "    </tr>\n",
              "    <tr>\n",
              "      <th>never</th>\n",
              "      <td>0.7908</td>\n",
              "      <td>1.0000</td>\n",
              "      <td>0.6208</td>\n",
              "      <td>0.5330</td>\n",
              "      <td>0.8346</td>\n",
              "      <td>0.9937</td>\n",
              "    </tr>\n",
              "    <tr>\n",
              "      <th>try</th>\n",
              "      <td>0.7180</td>\n",
              "      <td>0.6208</td>\n",
              "      <td>1.0000</td>\n",
              "      <td>0.8292</td>\n",
              "      <td>0.4310</td>\n",
              "      <td>0.6830</td>\n",
              "    </tr>\n",
              "    <tr>\n",
              "      <th>until</th>\n",
              "      <td>0.8997</td>\n",
              "      <td>0.5330</td>\n",
              "      <td>0.8292</td>\n",
              "      <td>1.0000</td>\n",
              "      <td>0.6456</td>\n",
              "      <td>0.5742</td>\n",
              "    </tr>\n",
              "    <tr>\n",
              "      <th>will</th>\n",
              "      <td>0.8563</td>\n",
              "      <td>0.8346</td>\n",
              "      <td>0.4310</td>\n",
              "      <td>0.6456</td>\n",
              "      <td>1.0000</td>\n",
              "      <td>0.7950</td>\n",
              "    </tr>\n",
              "    <tr>\n",
              "      <th>you</th>\n",
              "      <td>0.8101</td>\n",
              "      <td>0.9937</td>\n",
              "      <td>0.6830</td>\n",
              "      <td>0.5742</td>\n",
              "      <td>0.7950</td>\n",
              "      <td>1.0000</td>\n",
              "    </tr>\n",
              "  </tbody>\n",
              "</table>\n",
              "</div>"
            ],
            "text/plain": [
              "         know   never     try   until    will     you\n",
              "know   1.0000  0.7908  0.7180  0.8997  0.8563  0.8101\n",
              "never  0.7908  1.0000  0.6208  0.5330  0.8346  0.9937\n",
              "try    0.7180  0.6208  1.0000  0.8292  0.4310  0.6830\n",
              "until  0.8997  0.5330  0.8292  1.0000  0.6456  0.5742\n",
              "will   0.8563  0.8346  0.4310  0.6456  1.0000  0.7950\n",
              "you    0.8101  0.9937  0.6830  0.5742  0.7950  1.0000"
            ]
          },
          "metadata": {
            "tags": []
          },
          "execution_count": 33
        }
      ]
    },
    {
      "cell_type": "markdown",
      "metadata": {
        "id": "gnFhCVA8LRVt",
        "colab_type": "text"
      },
      "source": [
        "### **1-8. 예측 결과 시각화**"
      ]
    },
    {
      "cell_type": "code",
      "metadata": {
        "id": "apV3WLmDIWHL",
        "colab_type": "code",
        "colab": {
          "base_uri": "https://localhost:8080/",
          "height": 483
        },
        "outputId": "3a120cd7-2c6c-4186-be85-667dd6841a40"
      },
      "source": [
        "from sklearn.manifold import TSNE\n",
        "\n",
        "tsne = TSNE(n_components=2, random_state=0, n_iter=10000, perplexity=2)\n",
        "np.set_printoptions(suppress=True)\n",
        "T = tsne.fit_transform(x2h)\n",
        "labels = index_name\n",
        "plt.figure(figsize=(14,8))\n",
        "plt.scatter(T[:, 0], T[:, 1], c='orange', edgecolors='r')\n",
        "for label, x, y in zip(labels, T[:, 0], T[:, 1]):\n",
        "    plt.annotate(label, xy=(x+1, y+1), xytext=(0, 0), textcoords='offset points')"
      ],
      "execution_count": 55,
      "outputs": [
        {
          "output_type": "display_data",
          "data": {
            "image/png": "[encoded data removed]",
            "text/plain": [
              "<Figure size 1008x576 with 1 Axes>"
            ]
          },
          "metadata": {
            "tags": [],
            "needs_background": "light"
          }
        }
      ]
    },
    {
      "cell_type": "markdown",
      "metadata": {
        "id": "MJJrirQGuTbV",
        "colab_type": "text"
      },
      "source": [
        "## **2. Word2Vec 클래스화**"
      ]
    },
    {
      "cell_type": "code",
      "metadata": {
        "id": "p2BOMahBuv14",
        "colab_type": "code",
        "colab": {
          "base_uri": "https://localhost:8080/",
          "height": 122
        },
        "outputId": "113de6cc-313c-48b5-c567-6caf2e4c424c"
      },
      "source": [
        "import nltk\n",
        "nltk.download('averaged_perceptron_tagger')\n",
        "nltk.download('wordnet')"
      ],
      "execution_count": 1,
      "outputs": [
        {
          "output_type": "stream",
          "text": [
            "[nltk_data] Downloading package averaged_perceptron_tagger to\n",
            "[nltk_data]     /root/nltk_data...\n",
            "[nltk_data]   Unzipping taggers/averaged_perceptron_tagger.zip.\n",
            "[nltk_data] Downloading package wordnet to /root/nltk_data...\n",
            "[nltk_data]   Unzipping corpora/wordnet.zip.\n"
          ],
          "name": "stdout"
        },
        {
          "output_type": "execute_result",
          "data": {
            "text/plain": [
              "True"
            ]
          },
          "metadata": {
            "tags": []
          },
          "execution_count": 1
        }
      ]
    },
    {
      "cell_type": "markdown",
      "metadata": {
        "id": "Piea1pkDuq-2",
        "colab_type": "text"
      },
      "source": [
        "### **2-1. Word2Vec 클래스**"
      ]
    },
    {
      "cell_type": "code",
      "metadata": {
        "id": "Hok5rOysuTMU",
        "colab_type": "code",
        "colab": {}
      },
      "source": [
        "import numpy as np\n",
        "import pandas as pd\n",
        "import matplotlib.pyplot as plt\n",
        "\n",
        "from numpy import argmax\n",
        "from numpy import dot\n",
        "from numpy.linalg import norm\n",
        "from nltk import pos_tag\n",
        "from nltk.stem import WordNetLemmatizer\n",
        "from sklearn.preprocessing import LabelEncoder\n",
        "from sklearn.preprocessing import OneHotEncoder\n",
        "from sklearn.manifold import TSNE\n",
        "\n",
        "class Word2Vec():\n",
        "    def __init__(self):\n",
        "        self.stopPos = ['CC']\n",
        "        self.stopWord = [',']\n",
        "        self.docs_tokens = []\n",
        "        self.tokens = []\n",
        "        self.index_name = []\n",
        "        self.onehot_docs = []\n",
        "        self.x = []\n",
        "        self.y = []\n",
        "        self.x2h = []\n",
        "        self.h2y = []\n",
        "        self.hidden = []\n",
        "        self.y_predict = []\n",
        "        self.loss = []\n",
        "\n",
        "    # 문장 전처리\n",
        "    def wrod_preprocessing(self, doc):\n",
        "        wl = WordNetLemmatizer()\n",
        "        # 띄어쓰기 기준으로 토큰화\n",
        "        def tokenize(x):\n",
        "            return x.split()\n",
        "        words = tokenize(doc)\n",
        "        # Lemmatize\n",
        "        tmp_docs = []\n",
        "        for word in words:\n",
        "            tmp_docs.append(wl.lemmatize(word.lower(), pos = 'v' or 'n'))\n",
        "        # Pos Tagging\n",
        "        pos_docs = pos_tag(tmp_docs)\n",
        "        # 불용어 처리(stopWord)\n",
        "        for pos_doc in pos_docs:\n",
        "            # 불용 품사 지정\n",
        "            if pos_doc[1] not in self.stopPos:\n",
        "                # 불용어 지정\n",
        "                if pos_doc[0] not in self.stopWord:\n",
        "                    # 문서 사용 단어\n",
        "                    self.docs_tokens.append(pos_doc[0])\n",
        "        # 전체 사용 단어\n",
        "        self.tokens = list(set(self.docs_tokens))\n",
        "        \n",
        "        return self.docs_tokens, self.tokens\n",
        "\n",
        "    # 라벨링\n",
        "    def labeling_word(self):\n",
        "        # 문자열 라벨링\n",
        "        label_enc = LabelEncoder()\n",
        "        label_docs = label_enc.fit_transform(self.docs_tokens)\n",
        "        # 바이너리 인코딩\n",
        "        onehot_enc = OneHotEncoder(sparse=False)\n",
        "        docs_label = label_docs.reshape(len(label_docs), 1) # n:1 matrix로 변환\n",
        "        self.onehot_docs = onehot_enc.fit_transform(docs_label)\n",
        "        # 문자 라벨 순서 저장\n",
        "        for i in range(len(self.tokens)):\n",
        "            self.index_name.append(label_enc.inverse_transform([i])[0])\n",
        "\n",
        "        return self.onehot_docs, self.index_name\n",
        "\n",
        "    # window 생성\n",
        "    def make_window(self, window_size):\n",
        "        for i in range(len(self.onehot_docs)):\n",
        "            tmp = []\n",
        "            for j in range(i-window_size, i+window_size + 1):\n",
        "                if j < 0:\n",
        "                    pass\n",
        "                elif j > len(self.onehot_docs):\n",
        "                    pass\n",
        "                elif 0 <= j < len(self.onehot_docs):\n",
        "                    if i != j:\n",
        "                        tmp.append(self.onehot_docs[j])\n",
        "            self.x.append(tmp)\n",
        "            self.y.append(self.onehot_docs[i])\n",
        "\n",
        "        return self.x, self.y\n",
        "\n",
        "    # Weight 생성\n",
        "    def make_weight(self, k):\n",
        "        # X to Hidden Layer Weight\n",
        "        self.x2h = np.random.rand(len(self.tokens), k)\n",
        "        # Hidden Layer to Y Weight\n",
        "        self.h2y = np.random.rand(k, len(self.tokens))\n",
        "\n",
        "        return self.x2h, self.h2y\n",
        "\n",
        "    # Feed Foward\n",
        "    def predict_Y(self):\n",
        "        # X to Hidden Layer 과정\n",
        "        tmp_hidden = []\n",
        "        for words in self.x:\n",
        "            tmp = []\n",
        "            for word in words:\n",
        "                tmp.append(np.dot(self.x2h.T, word.T))\n",
        "            tmp_hidden.append(tmp)\n",
        "        self.hidden = tmp_hidden\n",
        "\n",
        "        # SoftMax 함수\n",
        "        def softmax(a) :\n",
        "            return np.exp(a) / np.sum(np.exp(a))\n",
        "\n",
        "        # Hidden Layer to Y\n",
        "        tmp_predict = []\n",
        "        for words in self.hidden:\n",
        "            tmp = []\n",
        "            for word in words:\n",
        "                tmp.append(softmax(np.dot(self.h2y.T, word.T)))\n",
        "            tmp_predict.append(tmp)\n",
        "        self.y_predict = tmp_predict\n",
        "\n",
        "        # Loss 값\n",
        "        loss_tmp = []\n",
        "        for i, predict in enumerate(self.y_predict):\n",
        "            tmp = []\n",
        "            for j in range(len(predict)):\n",
        "                tmp.append(np.log(predict[j]) * self.y[i])\n",
        "            loss_tmp.append(np.sum(tmp))\n",
        "        self.loss = loss_tmp\n",
        "        self.loss = -np.sum(self.loss)\n",
        "        \n",
        "        return self.hidden, self.y_predict, self.loss\n",
        "\n",
        "    # Back Propagation 구현\n",
        "    def back_propagation(self, alpha):\n",
        "        diff = []\n",
        "        h_layer = []\n",
        "        x_layer = []\n",
        "        for i in range(len(self.y)):\n",
        "            for j in range(len(self.y_predict[i])):\n",
        "                diff.append(self.y_predict[i][j] - self.y[i])\n",
        "                h_layer.append(self.hidden[i][j])\n",
        "                x_layer.append(self.x[i][j])\n",
        "\n",
        "        # Weight 갱신\n",
        "        gradient_h2y = np.dot(np.matrix(h_layer).T, np.matrix(diff))\n",
        "        gradient_x2h = np.dot(np.matrix(x_layer).T, np.dot(self.h2y, np.matrix(diff).T).T)\n",
        "        self.h2y -= alpha * gradient_h2y\n",
        "        self.x2h -= alpha * gradient_x2h\n",
        "\n",
        "        return self.h2y, self.x2h\n",
        "\n",
        "    # 단어 벡터 시각화\n",
        "    def visualize(self):\n",
        "        tsne = TSNE(n_components=2, random_state=0, n_iter=10000, perplexity=2)\n",
        "        np.set_printoptions(suppress=True)\n",
        "        T = tsne.fit_transform(self.x2h)\n",
        "        labels = self.index_name\n",
        "        plt.figure(figsize=(14,8))\n",
        "        plt.scatter(T[:, 0], T[:, 1], c='orange', edgecolors='r')\n",
        "        for label, x, y in zip(labels, T[:, 0], T[:, 1]):\n",
        "            plt.annotate(label, xy=(x+1, y+1), xytext=(0, 0), textcoords='offset points')\n",
        "        # 코사인 유사도 계산\n",
        "        def calc_similarity_matrix(vectors) :\n",
        "            def cosine_similarity(a, b) : \n",
        "                return dot(a, b.T)/(norm(a)*norm(b.T))\n",
        "            n_word = len(vectors)\n",
        "            similarity_matrix = np.zeros((n_word, n_word))\n",
        "            for i in range(n_word) :\n",
        "                for j in range(i, n_word) :\n",
        "                    similarity_matrix[j, i] = cosine_similarity(vectors[i], vectors[j]).round(4) \n",
        "                    similarity_matrix[i, j] = similarity_matrix[j, i]\n",
        "            return similarity_matrix\n",
        "\n",
        "        print(pd.DataFrame(calc_similarity_matrix(self.x2h), index=self.index_name, columns=self.index_name))\n",
        "\n",
        "    # 자동 실행\n",
        "    def run(self, doc, window_size, k, alpha, epochs):\n",
        "        self.wrod_preprocessing(doc)\n",
        "        self.labeling_word()\n",
        "        self.make_window(window_size)\n",
        "        self.make_weight(k)\n",
        "        count_epoch = 0\n",
        "        loss_history = []\n",
        "        count_history = []\n",
        "        for i in range(epochs):\n",
        "            self.predict_Y()\n",
        "            self.back_propagation(alpha)\n",
        "            count_epoch += 1\n",
        "            count_history.append(count_epoch)\n",
        "            loss_history.append(self.loss)\n",
        "            # if epochs % 100 == 0:\n",
        "            #     self.visualize()        \n",
        "        print(\"반복횟수 : {}\".format(count_epoch))\n",
        "        print(\"Loss : {}\".format(self.loss))\n",
        "        print(\"예측 결과 :\")\n",
        "        plt.plot(count_history, loss_history)\n",
        "        plt.title(\"Loss History\")\n",
        "        plt.show()\n",
        "        print(pd.DataFrame(self.x2h, self.index_name))\n",
        "        self.visualize()"
      ],
      "execution_count": 34,
      "outputs": []
    },
    {
      "cell_type": "markdown",
      "metadata": {
        "id": "fcLepSxOunYQ",
        "colab_type": "text"
      },
      "source": [
        "### **2-2. 클래스 결과 확인**"
      ]
    },
    {
      "cell_type": "code",
      "metadata": {
        "id": "X8wbYbylynan",
        "colab_type": "code",
        "colab": {}
      },
      "source": [
        "w2v = Word2Vec()"
      ],
      "execution_count": 39,
      "outputs": []
    },
    {
      "cell_type": "code",
      "metadata": {
        "id": "m2AhybJ0unDv",
        "colab_type": "code",
        "colab": {}
      },
      "source": [
        "doc = 'you will never know until you try'"
      ],
      "execution_count": 40,
      "outputs": []
    },
    {
      "cell_type": "code",
      "metadata": {
        "id": "_Q4YsUCIwsKN",
        "colab_type": "code",
        "colab": {
          "base_uri": "https://localhost:8080/",
          "height": 1000
        },
        "outputId": "22b12398-1b88-46b7-d39b-3c4f415696a4"
      },
      "source": [
        "w2v.run(doc, 1, 4, 0.1, 10000) # 결과가 좋지 못한것으로 보아 Loss를 계산하는 과정에 문제가 있는 것 같습니다."
      ],
      "execution_count": 41,
      "outputs": [
        {
          "output_type": "stream",
          "text": [
            "반복횟수 : 10000\n",
            "Loss : 8.845982622202225\n",
            "예측 결과 :\n"
          ],
          "name": "stdout"
        },
        {
          "output_type": "display_data",
          "data": {
            "image/png": "[encoded data removed]",
            "text/plain": [
              "<Figure size 432x288 with 1 Axes>"
            ]
          },
          "metadata": {
            "tags": [],
            "needs_background": "light"
          }
        },
        {
          "output_type": "stream",
          "text": [
            "              0         1         2         3\n",
            "know   0.146042  2.564897 -1.641249  1.359021\n",
            "never -0.213886  0.925807  1.791020 -2.555439\n",
            "try    2.718913 -0.506630  1.361121  1.601598\n",
            "until  2.265799 -0.834381  1.291815 -1.070838\n",
            "will   2.290933 -0.256469 -1.357707  1.212824\n",
            "you   -2.294772  1.166491  1.484921  1.159966\n",
            "         know   never     try   until    will     you\n",
            "know   1.0000 -0.3737 -0.0828 -0.5487  0.3624  0.1687\n",
            "never -0.3737  1.0000 -0.2388  0.3955 -0.6531  0.1217\n",
            "try   -0.0828 -0.2388  1.0000  0.6488  0.6324 -0.2663\n",
            "until -0.5487  0.3955  0.6488  1.0000  0.2723 -0.5860\n",
            "will   0.3624 -0.6531  0.6324  0.2723  1.0000 -0.6580\n",
            "you    0.1687  0.1217 -0.2663 -0.5860 -0.6580  1.0000\n"
          ],
          "name": "stdout"
        },
        {
          "output_type": "display_data",
          "data": {
            "image/png": "[encoded data removed]",
            "text/plain": [
              "<Figure size 1008x576 with 1 Axes>"
            ]
          },
          "metadata": {
            "tags": [],
            "needs_background": "light"
          }
        }
      ]
    },
    {
      "cell_type": "code",
      "metadata": {
        "id": "BgJZ22GkY_bW",
        "colab_type": "code",
        "colab": {}
      },
      "source": [
        ""
      ],
      "execution_count": null,
      "outputs": []
    }
  ]
}